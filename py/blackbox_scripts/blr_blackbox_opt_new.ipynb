{
 "cells": [
  {
   "cell_type": "markdown",
   "metadata": {},
   "source": [
    "Code is based on https://github.com/jhuggins/viabel"
   ]
  },
  {
   "cell_type": "code",
   "execution_count": 1,
   "metadata": {},
   "outputs": [
    {
     "name": "stderr",
     "output_type": "stream",
     "text": [
      "C:\\ProgramData\\Anaconda3\\lib\\site-packages\\statsmodels\\tools\\_testing.py:19: FutureWarning: pandas.util.testing is deprecated. Use the functions in the public API at pandas.testing instead.\n",
      "  import pandas.util.testing as tm\n"
     ]
    }
   ],
   "source": [
    "import pickle\n",
    "import pystan\n",
    "import autograd.numpy as np\n",
    "\n",
    "from viabel.objectives import (black_box_klvi,\n",
    "                               black_box_chivi)\n",
    "\n",
    "from viabel.family import (mean_field_gaussian_variational_family,\n",
    "                           mean_field_t_variational_family,\n",
    "                           t_variational_family)\n",
    "\n",
    "from viabel.models import make_stan_log_density\n",
    "from viabel.optimization import adagrad_optimize\n",
    "from experiments import (plot_dist_to_opt_param,\n",
    "                         check_approx_accuracy,\n",
    "                         psis_correction)\n",
    "\n",
    "import pandas as pd\n",
    "import time\n",
    "from autograd.scipy.stats import norm\n",
    "\n",
    "import matplotlib.pyplot as plt"
   ]
  },
  {
   "cell_type": "markdown",
   "metadata": {},
   "source": [
    "Define the model"
   ]
  },
  {
   "cell_type": "code",
   "execution_count": 2,
   "metadata": {},
   "outputs": [],
   "source": [
    "test_model = \"\"\"data {\n",
    "  int<lower=0> N;   // number of observations\n",
    "  int <lower=0> D;  // number of predictors\n",
    "  matrix[N, D] x;   // predictor matrix\n",
    "  vector[N] y;      // outcome vector\n",
    "}\n",
    "\n",
    "parameters {\n",
    "  vector[D] beta;        // coefficients for predictors\n",
    "  real <lower=0> sigma;  // variance\n",
    "}\n",
    "\n",
    "model {\n",
    "   beta ~ normal(0,1);\n",
    "   sigma ~ cauchy(0, 1);\n",
    "   y ~ normal(x * beta, sigma);\n",
    "}\"\"\""
   ]
  },
  {
   "cell_type": "markdown",
   "metadata": {},
   "source": [
    "Generate or open existing a pkl file of the model"
   ]
  },
  {
   "cell_type": "code",
   "execution_count": 3,
   "metadata": {},
   "outputs": [
    {
     "name": "stderr",
     "output_type": "stream",
     "text": [
      "INFO:pystan:COMPILING THE C++ CODE FOR MODEL regression_model_588ad05027db0a7e52c4dc6b5a415695 NOW.\n"
     ]
    }
   ],
   "source": [
    "compiled_model_file = 'blr_reg_model2.pkl'\n",
    "\n",
    "try:\n",
    "    with open(compiled_model_file, 'rb') as f:\n",
    "        regression_model = pickle.load(f)\n",
    "except:\n",
    "    regression_model = pystan.StanModel(model_code=test_model,\n",
    "                                        model_name='regression_model')\n",
    "    with open('blr_reg_model2.pkl', 'wb') as f:\n",
    "        pickle.dump(regression_model, f)"
   ]
  },
  {
   "cell_type": "markdown",
   "metadata": {},
   "source": [
    "Get data"
   ]
  },
  {
   "cell_type": "code",
   "execution_count": 4,
   "metadata": {},
   "outputs": [],
   "source": [
    "# SYNTHETIC\n",
    "# np.random.seed(1234)\n",
    "\n",
    "# N = 1000\n",
    "# D = 10\n",
    "# beta_gen = np.random.randn(D, 1)\n",
    "# sigma_gen = np.random.gamma(1, 1, 1)\n",
    "\n",
    "# x = np.random.randn(N, D)\n",
    "# y_raw = x.dot(beta_gen) + np.random.randn(N, 1)*np.sqrt(sigma_gen)\n",
    "# y = y_raw - np.mean(y_raw)\n",
    "# # convert from Nx1 matrix to Nx1 vector\n",
    "# y = y.flatten()"
   ]
  },
  {
   "cell_type": "code",
   "execution_count": 5,
   "metadata": {},
   "outputs": [],
   "source": [
    "#print(beta_gen)"
   ]
  },
  {
   "cell_type": "code",
   "execution_count": 6,
   "metadata": {},
   "outputs": [],
   "source": [
    "#print(sigma_gen)"
   ]
  },
  {
   "cell_type": "markdown",
   "metadata": {},
   "source": [
    "Import the dataset"
   ]
  },
  {
   "cell_type": "code",
   "execution_count": 7,
   "metadata": {},
   "outputs": [
    {
     "data": {
      "text/html": [
       "<div>\n",
       "<style scoped>\n",
       "    .dataframe tbody tr th:only-of-type {\n",
       "        vertical-align: middle;\n",
       "    }\n",
       "\n",
       "    .dataframe tbody tr th {\n",
       "        vertical-align: top;\n",
       "    }\n",
       "\n",
       "    .dataframe thead th {\n",
       "        text-align: right;\n",
       "    }\n",
       "</style>\n",
       "<table border=\"1\" class=\"dataframe\">\n",
       "  <thead>\n",
       "    <tr style=\"text-align: right;\">\n",
       "      <th></th>\n",
       "      <th>Bodyfat</th>\n",
       "      <th>Age</th>\n",
       "      <th>Weight</th>\n",
       "      <th>Height</th>\n",
       "      <th>Neck</th>\n",
       "      <th>Chest</th>\n",
       "      <th>Abdomen</th>\n",
       "      <th>Hip</th>\n",
       "      <th>Thigh</th>\n",
       "      <th>Knee</th>\n",
       "      <th>Ankle</th>\n",
       "      <th>Biceps</th>\n",
       "      <th>Forearm</th>\n",
       "      <th>Wrist</th>\n",
       "    </tr>\n",
       "  </thead>\n",
       "  <tbody>\n",
       "    <tr>\n",
       "      <th>0</th>\n",
       "      <td>-6.850794</td>\n",
       "      <td>-21.884921</td>\n",
       "      <td>-24.674405</td>\n",
       "      <td>-2.39881</td>\n",
       "      <td>-1.792063</td>\n",
       "      <td>-7.724206</td>\n",
       "      <td>-7.355952</td>\n",
       "      <td>-5.404762</td>\n",
       "      <td>-0.405952</td>\n",
       "      <td>-1.290476</td>\n",
       "      <td>-1.202381</td>\n",
       "      <td>-0.273413</td>\n",
       "      <td>-1.263889</td>\n",
       "      <td>-1.129762</td>\n",
       "    </tr>\n",
       "    <tr>\n",
       "      <th>1</th>\n",
       "      <td>-13.050794</td>\n",
       "      <td>-22.884921</td>\n",
       "      <td>-5.674405</td>\n",
       "      <td>2.10119</td>\n",
       "      <td>0.507937</td>\n",
       "      <td>-7.224206</td>\n",
       "      <td>-9.555952</td>\n",
       "      <td>-1.204762</td>\n",
       "      <td>-0.705952</td>\n",
       "      <td>-1.290476</td>\n",
       "      <td>0.297619</td>\n",
       "      <td>-1.773413</td>\n",
       "      <td>0.236111</td>\n",
       "      <td>-0.029762</td>\n",
       "    </tr>\n",
       "    <tr>\n",
       "      <th>2</th>\n",
       "      <td>6.149206</td>\n",
       "      <td>-22.884921</td>\n",
       "      <td>-24.924405</td>\n",
       "      <td>-3.89881</td>\n",
       "      <td>-3.992063</td>\n",
       "      <td>-5.024206</td>\n",
       "      <td>-4.655952</td>\n",
       "      <td>-0.704762</td>\n",
       "      <td>0.194048</td>\n",
       "      <td>0.309524</td>\n",
       "      <td>0.897619</td>\n",
       "      <td>-3.473413</td>\n",
       "      <td>-3.463889</td>\n",
       "      <td>-1.629762</td>\n",
       "    </tr>\n",
       "  </tbody>\n",
       "</table>\n",
       "</div>"
      ],
      "text/plain": [
       "     Bodyfat        Age     Weight   Height      Neck     Chest   Abdomen  \\\n",
       "0  -6.850794 -21.884921 -24.674405 -2.39881 -1.792063 -7.724206 -7.355952   \n",
       "1 -13.050794 -22.884921  -5.674405  2.10119  0.507937 -7.224206 -9.555952   \n",
       "2   6.149206 -22.884921 -24.924405 -3.89881 -3.992063 -5.024206 -4.655952   \n",
       "\n",
       "        Hip     Thigh      Knee     Ankle    Biceps   Forearm     Wrist  \n",
       "0 -5.404762 -0.405952 -1.290476 -1.202381 -0.273413 -1.263889 -1.129762  \n",
       "1 -1.204762 -0.705952 -1.290476  0.297619 -1.773413  0.236111 -0.029762  \n",
       "2 -0.704762  0.194048  0.309524  0.897619 -3.473413 -3.463889 -1.629762  "
      ]
     },
     "execution_count": 7,
     "metadata": {},
     "output_type": "execute_result"
    }
   ],
   "source": [
    "data = pd.read_csv(\"bodyfat.csv\").drop(\"Density\", axis=1)\n",
    "data = data - data.mean()\n",
    "data.head(3)"
   ]
  },
  {
   "cell_type": "code",
   "execution_count": 8,
   "metadata": {},
   "outputs": [],
   "source": [
    "y = data[\"Bodyfat\"].values\n",
    "y = y - np.mean(y)\n",
    "\n",
    "x = data.drop(\"Bodyfat\", axis=1)\n",
    "x['Intercept'] = 1\n",
    "\n",
    "N = x.shape[0]\n",
    "D = x.shape[1]"
   ]
  },
  {
   "cell_type": "markdown",
   "metadata": {},
   "source": [
    "First, generate ground-truth posterior samples using Stan's dynamic HMC implementation:"
   ]
  },
  {
   "cell_type": "code",
   "execution_count": 9,
   "metadata": {},
   "outputs": [],
   "source": [
    "data = dict(N=N, D=D, x=x, y=y)\n",
    "fit = regression_model.sampling(data=data, iter=50000, thin=50, chains=10)"
   ]
  },
  {
   "cell_type": "code",
   "execution_count": 10,
   "metadata": {},
   "outputs": [
    {
     "name": "stdout",
     "output_type": "stream",
     "text": [
      "true beta mean = [ 5.49234800e-02 -9.38161254e-02 -7.58169243e-02 -4.87358793e-01\n",
      " -1.79721999e-02  9.52791313e-01 -1.97752365e-01  2.36509892e-01\n",
      "  4.50868288e-03  1.29724765e-01  1.74314432e-01  4.09046242e-01\n",
      " -1.25943477e+00 -1.30756352e-04]\n",
      "true beta cov = [[ 9.93058964e-04  3.43484304e-04  2.92780413e-04 -7.56217660e-04\n",
      "  -1.44549517e-04 -1.20316798e-03  3.23265362e-04  1.65019644e-03\n",
      "  -1.82355278e-03  5.41325530e-04 -5.62409241e-04  1.00330733e-03\n",
      "  -4.19296965e-03 -1.78939964e-05]\n",
      " [ 3.43484304e-04  2.73246468e-03 -2.40549489e-03 -3.44617507e-03\n",
      "  -2.14496822e-03 -9.05288593e-04 -3.95739845e-03 -6.11679326e-04\n",
      "  -2.98354856e-03 -2.02318016e-03 -1.36191927e-03 -1.56906938e-04\n",
      "  -3.37585935e-03  2.07569996e-04]\n",
      " [ 2.92780413e-04 -2.40549489e-03  9.38781463e-03  4.39847904e-04\n",
      "   2.27474974e-03  1.06033216e-03  3.11299580e-03  2.90325874e-03\n",
      "  -1.63573379e-03  8.59862335e-04  8.05097449e-04 -1.92601417e-05\n",
      "  -3.11406929e-03  1.97957286e-05]\n",
      " [-7.56217660e-04 -3.44617507e-03  4.39847904e-04  5.00792905e-02\n",
      "  -8.93806972e-04 -5.49745245e-04  6.01893001e-03 -3.29160826e-03\n",
      "   7.44708636e-03  5.21511046e-03 -3.70895739e-03 -5.34121465e-03\n",
      "  -2.68904121e-02  3.39708433e-04]\n",
      " [-1.44549517e-04 -2.14496822e-03  2.27474974e-03 -8.93806972e-04\n",
      "   9.45545325e-03 -3.70152581e-03  2.65641920e-03  2.26509209e-03\n",
      "   1.72918202e-03  4.75123882e-04 -1.30850147e-03 -2.47856150e-03\n",
      "   1.29510793e-03 -1.04498711e-04]\n",
      " [-1.20316798e-03 -9.05288593e-04  1.06033216e-03 -5.49745245e-04\n",
      "  -3.70152581e-03  7.37716357e-03 -3.18221001e-03 -1.71762336e-03\n",
      "   1.32331457e-03  1.81781912e-03  1.82236789e-03  1.03691565e-03\n",
      "   4.07488805e-03  1.69673481e-04]\n",
      " [ 3.23265362e-04 -3.95739845e-03  3.11299580e-03  6.01893001e-03\n",
      "   2.65641920e-03 -3.18221001e-03  2.01970461e-02 -6.15408784e-03\n",
      "  -1.47719987e-03  7.50818109e-04  1.14879735e-03  2.02454242e-03\n",
      "   7.17714360e-05 -7.25115523e-04]\n",
      " [ 1.65019644e-03 -6.11679326e-04  2.90325874e-03 -3.29160826e-03\n",
      "   2.26509209e-03 -1.71762336e-03 -6.15408784e-03  1.99606165e-02\n",
      "  -8.61686579e-03  6.19195925e-04 -6.56524872e-03  6.60783078e-04\n",
      "   4.43984741e-03 -3.62985398e-04]\n",
      " [-1.82355278e-03 -2.98354856e-03 -1.63573379e-03  7.44708636e-03\n",
      "   1.72918202e-03  1.32331457e-03 -1.47719987e-03 -8.61686579e-03\n",
      "   5.41267143e-02 -8.25167801e-03  2.48189543e-03 -4.11052588e-03\n",
      "  -6.82945380e-03 -1.47248718e-04]\n",
      " [ 5.41325530e-04 -2.02318016e-03  8.59862335e-04  5.21511046e-03\n",
      "   4.75123882e-04  1.81781912e-03  7.50818109e-04  6.19195925e-04\n",
      "  -8.25167801e-03  4.60425556e-02  1.22517076e-03 -6.69775911e-04\n",
      "  -2.17760477e-02 -1.16354976e-04]\n",
      " [-5.62409241e-04 -1.36191927e-03  8.05097449e-04 -3.70895739e-03\n",
      "  -1.30850147e-03  1.82236789e-03  1.14879735e-03 -6.56524872e-03\n",
      "   2.48189543e-03  1.22517076e-03  2.83396041e-02 -9.88577126e-03\n",
      "  -2.24859038e-03 -4.91931885e-04]\n",
      " [ 1.00330733e-03 -1.56906938e-04 -1.92601417e-05 -5.34121465e-03\n",
      "  -2.47856150e-03  1.03691565e-03  2.02454242e-03  6.60783078e-04\n",
      "  -4.11052588e-03 -6.69775911e-04 -9.88577126e-03  3.92565814e-02\n",
      "  -1.47805221e-02 -4.96482629e-05]\n",
      " [-4.19296965e-03 -3.37585935e-03 -3.11406929e-03 -2.68904121e-02\n",
      "   1.29510793e-03  4.07488805e-03  7.17714360e-05  4.43984741e-03\n",
      "  -6.82945380e-03 -2.17760477e-02 -2.24859038e-03 -1.47805221e-02\n",
      "   2.20133221e-01 -1.80117727e-03]\n",
      " [-1.78939964e-05  2.07569996e-04  1.97957286e-05  3.39708433e-04\n",
      "  -1.04498711e-04  1.69673481e-04 -7.25115523e-04 -3.62985398e-04\n",
      "  -1.47248718e-04 -1.16354976e-04 -4.91931885e-04 -4.96482629e-05\n",
      "  -1.80117727e-03  6.94795380e-02]]\n"
     ]
    }
   ],
   "source": [
    "true_beta_mean = np.mean(fit['beta'], axis=0)\n",
    "true_beta_cov = np.cov(fit['beta'].T)\n",
    "print('true beta mean =', true_beta_mean)\n",
    "print('true beta cov =', true_beta_cov)"
   ]
  },
  {
   "cell_type": "code",
   "execution_count": 11,
   "metadata": {},
   "outputs": [
    {
     "name": "stdout",
     "output_type": "stream",
     "text": [
      "true sigma mean = 4.306562890387677\n",
      "true sigma cov = 0.03811002655066638\n"
     ]
    }
   ],
   "source": [
    "true_sigma_mean = np.mean(fit['sigma'], axis=0)\n",
    "true_sigma_cov = np.cov(fit['sigma'].T)\n",
    "print('true sigma mean =', true_sigma_mean)\n",
    "print('true sigma cov =', true_sigma_cov)"
   ]
  },
  {
   "cell_type": "code",
   "execution_count": 12,
   "metadata": {},
   "outputs": [],
   "source": [
    "vec1 = fit['beta']\n",
    "vec2 = np.array(fit['sigma'])\n",
    "vec = []\n",
    "for i in range(len(vec1)):\n",
    "    temp = list(np.append(vec1[i], vec2[i]))\n",
    "    vec.append(temp)\n",
    "vec = np.array(vec)"
   ]
  },
  {
   "cell_type": "code",
   "execution_count": 13,
   "metadata": {},
   "outputs": [],
   "source": [
    "true_mean = np.mean(vec, axis=0)\n",
    "true_cov = np.cov(vec.T)"
   ]
  },
  {
   "cell_type": "code",
   "execution_count": 14,
   "metadata": {},
   "outputs": [],
   "source": [
    "#print('true mean =', true_mean)\n",
    "#print('true cov =', true_cov)"
   ]
  },
  {
   "cell_type": "code",
   "execution_count": 15,
   "metadata": {},
   "outputs": [
    {
     "data": {
      "text/plain": [
       "Inference for Stan model: regression_model_588ad05027db0a7e52c4dc6b5a415695.\n",
       "10 chains, each with iter=50000; warmup=25000; thin=50; \n",
       "post-warmup draws per chain=500, total post-warmup draws=5000.\n",
       "\n",
       "            mean se_mean     sd    2.5%    25%    50%    75%  97.5%  n_eff   Rhat\n",
       "beta[1]     0.05  4.6e-4   0.03 -6.1e-3   0.03   0.06   0.08   0.12   4763    1.0\n",
       "beta[2]    -0.09  7.5e-4   0.05    -0.2  -0.13  -0.09  -0.06 6.7e-3   4805    1.0\n",
       "beta[3]    -0.08  1.4e-3    0.1   -0.27  -0.14  -0.07  -0.01   0.11   4930    1.0\n",
       "beta[4]    -0.49  3.3e-3   0.22   -0.92  -0.64  -0.49  -0.33  -0.04   4701    1.0\n",
       "beta[5]    -0.02  1.4e-3    0.1   -0.21  -0.08  -0.02   0.05   0.18   4798    1.0\n",
       "beta[6]     0.95  1.2e-3   0.09    0.78    0.9   0.95   1.01   1.12   4916    1.0\n",
       "beta[7]     -0.2  2.0e-3   0.14   -0.47  -0.29   -0.2   -0.1   0.08   5062    1.0\n",
       "beta[8]     0.24  2.1e-3   0.14   -0.04   0.14   0.23   0.33   0.51   4684    1.0\n",
       "beta[9]   4.5e-3  3.3e-3   0.23   -0.45  -0.15 6.9e-3   0.16   0.46   4926    1.0\n",
       "beta[10]    0.13  3.1e-3   0.21   -0.29  -0.01   0.13   0.28   0.54   4847    1.0\n",
       "beta[11]    0.17  2.4e-3   0.17   -0.16   0.06   0.18   0.29    0.5   4897    1.0\n",
       "beta[12]    0.41  2.9e-3    0.2  8.8e-3   0.28   0.41   0.54    0.8   4573    1.0\n",
       "beta[13]   -1.26  6.8e-3   0.47   -2.19  -1.57  -1.26  -0.95  -0.34   4693    1.0\n",
       "beta[14] -1.3e-4  3.8e-3   0.26   -0.53  -0.18 2.1e-3   0.18   0.51   4879    1.0\n",
       "sigma       4.31  2.7e-3    0.2    3.94   4.18    4.3   4.43   4.71   5072    1.0\n",
       "lp__      -497.6    0.04   2.79  -503.9 -499.2 -497.3 -495.6 -493.1   4955    1.0\n",
       "\n",
       "Samples were drawn using NUTS at Mon Nov  2 13:43:11 2020.\n",
       "For each parameter, n_eff is a crude measure of effective sample size,\n",
       "and Rhat is the potential scale reduction factor on split chains (at \n",
       "convergence, Rhat=1)."
      ]
     },
     "execution_count": 15,
     "metadata": {},
     "output_type": "execute_result"
    }
   ],
   "source": [
    "fit"
   ]
  },
  {
   "cell_type": "markdown",
   "metadata": {},
   "source": [
    "# KLVI"
   ]
  },
  {
   "cell_type": "markdown",
   "metadata": {},
   "source": [
    "## Mean field with Gaussian"
   ]
  },
  {
   "cell_type": "code",
   "execution_count": 16,
   "metadata": {},
   "outputs": [],
   "source": [
    "# def logjointpdf(samples, x=x, y=y, D=D):\n",
    "#     beta, log_sigma = samples[:, 0:D], samples[:, D]\n",
    "#     mu = np.dot(x, np.transpose(beta))\n",
    "    \n",
    "#     lpdf = np.zeros(len(samples))\n",
    "\n",
    "#     print(\"I'm here\")\n",
    "#     print(norm.logpdf(0,1,np.exp(log_sigma[0])))\n",
    "#     for i in range(len(samples)):\n",
    "#         p1 = sum(norm.logpdf(y, mu[:,i], np.exp(log_sigma[i])))\n",
    "#         p2 = gamma.logpdf(np.exp(log_sigma[i]), .5, loc=0, scale=.5)\n",
    "#         p3 = sum(norm.logpdf(beta[i,:], 0, 1))\n",
    "                 \n",
    "#         lpdf[i] = p1 + p2 + p3\n",
    "     \n",
    "#     return lpdf"
   ]
  },
  {
   "cell_type": "code",
   "execution_count": 17,
   "metadata": {},
   "outputs": [],
   "source": [
    "# def logjointpdf(samples, x=x, y=y, D=D):\n",
    "#     beta, log_sigma = samples[:, 0:D], samples[:, D]\n",
    "#     mu = np.dot(x, np.transpose(beta))    \n",
    "#     lpdf = []\n",
    "    \n",
    "#     a = .5\n",
    "#     b = .5\n",
    "#     for i in range(len(samples)):\n",
    "#         p1 = sum(norm.logpdf(y, mu[:,i], np.exp(log_sigma[i])))\n",
    "#         z = np.exp(log_sigma[i])\n",
    "#         p2 = -np.log(gamma(a)) - a*np.log(b) + (a-1)*np.log(z) - z/b\n",
    "#         p3 = sum(norm.logpdf(beta[i,:], 0, 1))\n",
    "                 \n",
    "#         lpdf.append(p1 + p2 + p3)\n",
    "\n",
    "#     return np.array(lpdf)"
   ]
  },
  {
   "cell_type": "code",
   "execution_count": 18,
   "metadata": {},
   "outputs": [],
   "source": [
    "np.random.seed(123)"
   ]
  },
  {
   "cell_type": "code",
   "execution_count": 19,
   "metadata": {},
   "outputs": [],
   "source": [
    "mf_gaussian_var_family = mean_field_gaussian_variational_family(D+1)\n",
    "\n",
    "init_mean = np.zeros(D+1)\n",
    "init_log_std = np.ones(D+1)\n",
    "init_var_param = np.concatenate([init_mean, init_log_std])\n",
    "n_iters = 2000"
   ]
  },
  {
   "cell_type": "code",
   "execution_count": 20,
   "metadata": {},
   "outputs": [],
   "source": [
    "stan_log_density = make_stan_log_density(fit)"
   ]
  },
  {
   "cell_type": "code",
   "execution_count": 21,
   "metadata": {},
   "outputs": [
    {
     "name": "stderr",
     "output_type": "stream",
     "text": [
      "Average Loss = 597.07: 100%|██████████████████████████████████████████████████████| 2000/2000 [00:09<00:00, 219.47it/s]\n"
     ]
    }
   ],
   "source": [
    "klvi_objective_and_grad = black_box_klvi(mf_gaussian_var_family, stan_log_density, 100)\n",
    "\n",
    "klvi_var_param, klvi_param_history, klvi_history, _ = \\\n",
    "    adagrad_optimize(n_iters, klvi_objective_and_grad, init_var_param, learning_rate=1e-2)"
   ]
  },
  {
   "cell_type": "code",
   "execution_count": 22,
   "metadata": {},
   "outputs": [],
   "source": [
    "#plot_dist_to_opt_param(klvi_param_history, klvi_var_param)"
   ]
  },
  {
   "cell_type": "code",
   "execution_count": 23,
   "metadata": {},
   "outputs": [
    {
     "name": "stdout",
     "output_type": "stream",
     "text": [
      "mean   = [ 5.49885564e-02 -1.02264738e-01 -7.40595410e-02 -4.85292817e-01\n",
      "  3.94523353e-03  9.35786148e-01 -1.62870161e-01  2.36412756e-01\n",
      "  3.24393886e-04  1.12507892e-01  1.66274496e-01  3.97409199e-01\n",
      " -1.15731850e+00 -7.34844287e-04  1.51766602e+00]\n",
      "stdevs = [0.0307599  0.0292248  0.08104072 0.13991899 0.05411232 0.04641417\n",
      " 0.06427653 0.07800063 0.14069466 0.17977007 0.11482459 0.15467341\n",
      " 0.31408842 0.27872975 0.05055093]\n",
      "\n",
      "mean error             = 2.79\n",
      "stdev error            = 0.284\n",
      "||cov error||_2^{1/2}  = 0.368\n",
      "||true cov||_2^{1/2}   = 0.478\n"
     ]
    }
   ],
   "source": [
    "check_approx_accuracy(mf_gaussian_var_family, klvi_var_param, true_mean, true_cov, verbose=True);"
   ]
  },
  {
   "cell_type": "code",
   "execution_count": 24,
   "metadata": {},
   "outputs": [],
   "source": [
    "mc_samples = 100000"
   ]
  },
  {
   "cell_type": "markdown",
   "metadata": {},
   "source": [
    "samples, smoothed log weights, khat"
   ]
  },
  {
   "cell_type": "code",
   "execution_count": 25,
   "metadata": {},
   "outputs": [],
   "source": [
    "klvi_samples, klvi_slw, klvi_lw, klvi_khat = \\\n",
    "    psis_correction(stan_log_density, mf_gaussian_var_family, klvi_var_param, mc_samples)"
   ]
  },
  {
   "cell_type": "code",
   "execution_count": 26,
   "metadata": {},
   "outputs": [
    {
     "name": "stdout",
     "output_type": "stream",
     "text": [
      "0.9580331201310913\n"
     ]
    }
   ],
   "source": [
    "print(klvi_khat)"
   ]
  },
  {
   "cell_type": "code",
   "execution_count": 27,
   "metadata": {},
   "outputs": [
    {
     "data": {
      "text/plain": [
       "array([-79.59263778, -14.21826852, -18.04099178, ..., -19.87293674,\n",
       "       -33.44803907, -12.97650058])"
      ]
     },
     "execution_count": 27,
     "metadata": {},
     "output_type": "execute_result"
    }
   ],
   "source": [
    "klvi_slw"
   ]
  },
  {
   "cell_type": "code",
   "execution_count": 28,
   "metadata": {},
   "outputs": [
    {
     "data": {
      "text/plain": [
       "array([-578.43897911, -513.06460985, -516.88733311, ..., -518.71927807,\n",
       "       -532.2943804 , -511.82284191])"
      ]
     },
     "execution_count": 28,
     "metadata": {},
     "output_type": "execute_result"
    }
   ],
   "source": [
    "klvi_lw"
   ]
  },
  {
   "cell_type": "markdown",
   "metadata": {},
   "source": [
    "### VSBC diagnostics"
   ]
  },
  {
   "cell_type": "code",
   "execution_count": 29,
   "metadata": {},
   "outputs": [],
   "source": [
    "# with open(\"./data/klvi_psis_\"+str(99)+\".pkl\", 'rb') as f:\n",
    "#     [btemp, stemp, klvi_samples_temp, klvi_slw_temp, klvi_lw_temp, klvi_khat_temp, klvi_var_param] = pickle.load(f)"
   ]
  },
  {
   "cell_type": "code",
   "execution_count": 30,
   "metadata": {},
   "outputs": [],
   "source": [
    "#     def logjointpdf(samples, x=xtemp, y=y, D=D):\n",
    "#         beta, log_sigma = samples[:, 0:D], samples[:, D]\n",
    "#         mu = np.dot(x, np.transpose(beta))\n",
    "\n",
    "#         lpdf = np.zeros(len(samples))\n",
    "#         for i in range(len(samples)):\n",
    "#             p1 = sum(norm.logpdf(y, mu[:,i], np.exp(log_sigma[i])))\n",
    "#             p2 = gamma.logpdf(np.exp(log_sigma[i]), .5, 0, .5)\n",
    "#             p3 = sum(norm.logpdf(beta[i,:], 0, 1))\n",
    "\n",
    "#             lpdf[i] = p1 + p2 + p3\n",
    "\n",
    "#         return lpdf\n",
    "    \n",
    "    # initialise klvi\n",
    "#     def logjointpdf(x, data=xtemp, y=ytemp, D=D):\n",
    "#         beta, log_sigma = x[:, 0:D], x[:, D]\n",
    "#         mu = np.dot(x.values, np.transpose(beta))\n",
    "        \n",
    "#         obs_density = norm.logpdf(y, mu, np.exp(log_sigma))\n",
    "#         sigma_density = gamma.logpdf(np.exp(log_sigma), .5, 0, .5)\n",
    "#         beta_density = norm.logpdf(beta, 0, 1)\n",
    "        \n",
    "#         return sum(obs_density)+sum(beta_density)+sigma_density"
   ]
  },
  {
   "cell_type": "code",
   "execution_count": 31,
   "metadata": {},
   "outputs": [],
   "source": [
    "M = 100\n",
    "klvi_probs = np.zeros(shape=(D+1, M))\n",
    "\n",
    "#np.random.seed(12345)\n",
    "np.random.seed(100)"
   ]
  },
  {
   "cell_type": "code",
   "execution_count": 32,
   "metadata": {},
   "outputs": [
    {
     "name": "stderr",
     "output_type": "stream",
     "text": [
      "Average Loss = 600.05: 100%|██████████████████████████████████████████████████████| 2000/2000 [00:09<00:00, 213.18it/s]\n"
     ]
    },
    {
     "name": "stdout",
     "output_type": "stream",
     "text": [
      "Iteration = 0, loop time = 27.819793, time elapsed = 27.819793\n"
     ]
    },
    {
     "name": "stderr",
     "output_type": "stream",
     "text": [
      "Average Loss = 590.97: 100%|██████████████████████████████████████████████████████| 2000/2000 [00:09<00:00, 209.80it/s]\n"
     ]
    },
    {
     "name": "stdout",
     "output_type": "stream",
     "text": [
      "Iteration = 1, loop time = 29.246843, time elapsed = 57.072642\n"
     ]
    },
    {
     "name": "stderr",
     "output_type": "stream",
     "text": [
      "Average Loss = 604.61: 100%|██████████████████████████████████████████████████████| 2000/2000 [00:09<00:00, 204.48it/s]\n"
     ]
    },
    {
     "name": "stdout",
     "output_type": "stream",
     "text": [
      "Iteration = 2, loop time = 31.237393, time elapsed = 88.316040\n"
     ]
    },
    {
     "name": "stderr",
     "output_type": "stream",
     "text": [
      "Average Loss = 593.39: 100%|██████████████████████████████████████████████████████| 2000/2000 [00:09<00:00, 203.77it/s]\n"
     ]
    },
    {
     "name": "stdout",
     "output_type": "stream",
     "text": [
      "Iteration = 3, loop time = 29.327678, time elapsed = 117.648723\n"
     ]
    },
    {
     "name": "stderr",
     "output_type": "stream",
     "text": [
      "Average Loss = 601.95: 100%|██████████████████████████████████████████████████████| 2000/2000 [00:09<00:00, 208.69it/s]\n"
     ]
    },
    {
     "name": "stdout",
     "output_type": "stream",
     "text": [
      "Iteration = 4, loop time = 29.313717, time elapsed = 146.969425\n"
     ]
    },
    {
     "name": "stderr",
     "output_type": "stream",
     "text": [
      "Average Loss = 601.87: 100%|██████████████████████████████████████████████████████| 2000/2000 [00:09<00:00, 205.56it/s]\n"
     ]
    },
    {
     "name": "stdout",
     "output_type": "stream",
     "text": [
      "Iteration = 5, loop time = 30.091425, time elapsed = 177.065855\n"
     ]
    },
    {
     "name": "stderr",
     "output_type": "stream",
     "text": [
      "Average Loss = 591.29: 100%|██████████████████████████████████████████████████████| 2000/2000 [00:09<00:00, 209.89it/s]\n"
     ]
    },
    {
     "name": "stdout",
     "output_type": "stream",
     "text": [
      "Iteration = 6, loop time = 29.394718, time elapsed = 206.466578\n"
     ]
    },
    {
     "name": "stderr",
     "output_type": "stream",
     "text": [
      "Average Loss = 591.9: 100%|███████████████████████████████████████████████████████| 2000/2000 [00:10<00:00, 191.75it/s]\n"
     ]
    },
    {
     "name": "stdout",
     "output_type": "stream",
     "text": [
      "Iteration = 7, loop time = 29.747037, time elapsed = 236.218620\n"
     ]
    },
    {
     "name": "stderr",
     "output_type": "stream",
     "text": [
      "Average Loss = 588.89: 100%|██████████████████████████████████████████████████████| 2000/2000 [00:09<00:00, 211.07it/s]\n"
     ]
    },
    {
     "name": "stdout",
     "output_type": "stream",
     "text": [
      "Iteration = 8, loop time = 29.255591, time elapsed = 265.480217\n"
     ]
    },
    {
     "name": "stderr",
     "output_type": "stream",
     "text": [
      "Average Loss = 597.21: 100%|██████████████████████████████████████████████████████| 2000/2000 [00:09<00:00, 210.69it/s]\n"
     ]
    },
    {
     "name": "stdout",
     "output_type": "stream",
     "text": [
      "Iteration = 9, loop time = 28.693080, time elapsed = 294.178302\n"
     ]
    },
    {
     "name": "stderr",
     "output_type": "stream",
     "text": [
      "Average Loss = 594.23: 100%|██████████████████████████████████████████████████████| 2000/2000 [00:09<00:00, 210.67it/s]\n"
     ]
    },
    {
     "name": "stdout",
     "output_type": "stream",
     "text": [
      "Iteration = 10, loop time = 29.129476, time elapsed = 323.312783\n"
     ]
    },
    {
     "name": "stderr",
     "output_type": "stream",
     "text": [
      "Average Loss = 584.72: 100%|██████████████████████████████████████████████████████| 2000/2000 [00:09<00:00, 209.89it/s]\n"
     ]
    },
    {
     "name": "stdout",
     "output_type": "stream",
     "text": [
      "Iteration = 11, loop time = 29.142489, time elapsed = 352.459275\n"
     ]
    },
    {
     "name": "stderr",
     "output_type": "stream",
     "text": [
      "Average Loss = 596.71: 100%|██████████████████████████████████████████████████████| 2000/2000 [00:09<00:00, 209.63it/s]\n"
     ]
    },
    {
     "name": "stdout",
     "output_type": "stream",
     "text": [
      "Iteration = 12, loop time = 28.813437, time elapsed = 381.277716\n"
     ]
    },
    {
     "name": "stderr",
     "output_type": "stream",
     "text": [
      "Average Loss = 595.27: 100%|██████████████████████████████████████████████████████| 2000/2000 [00:09<00:00, 208.06it/s]\n"
     ]
    },
    {
     "name": "stdout",
     "output_type": "stream",
     "text": [
      "Iteration = 13, loop time = 30.012786, time elapsed = 411.296508\n"
     ]
    },
    {
     "name": "stderr",
     "output_type": "stream",
     "text": [
      "Average Loss = 603.86: 100%|██████████████████████████████████████████████████████| 2000/2000 [00:09<00:00, 211.43it/s]\n"
     ]
    },
    {
     "name": "stdout",
     "output_type": "stream",
     "text": [
      "Iteration = 14, loop time = 28.973335, time elapsed = 440.273846\n"
     ]
    },
    {
     "name": "stderr",
     "output_type": "stream",
     "text": [
      "Average Loss = 595.35: 100%|██████████████████████████████████████████████████████| 2000/2000 [00:09<00:00, 211.05it/s]\n"
     ]
    },
    {
     "name": "stdout",
     "output_type": "stream",
     "text": [
      "Iteration = 15, loop time = 29.192534, time elapsed = 469.471385\n"
     ]
    },
    {
     "name": "stderr",
     "output_type": "stream",
     "text": [
      "Average Loss = 600.45: 100%|██████████████████████████████████████████████████████| 2000/2000 [00:09<00:00, 211.29it/s]\n"
     ]
    },
    {
     "name": "stdout",
     "output_type": "stream",
     "text": [
      "Iteration = 16, loop time = 28.122562, time elapsed = 497.598951\n"
     ]
    },
    {
     "name": "stderr",
     "output_type": "stream",
     "text": [
      "Average Loss = 595.3: 100%|███████████████████████████████████████████████████████| 2000/2000 [00:09<00:00, 211.94it/s]\n"
     ]
    },
    {
     "name": "stdout",
     "output_type": "stream",
     "text": [
      "Iteration = 17, loop time = 28.554188, time elapsed = 526.157143\n"
     ]
    },
    {
     "name": "stderr",
     "output_type": "stream",
     "text": [
      "Average Loss = 603.89: 100%|██████████████████████████████████████████████████████| 2000/2000 [00:09<00:00, 209.41it/s]\n"
     ]
    },
    {
     "name": "stdout",
     "output_type": "stream",
     "text": [
      "Iteration = 18, loop time = 30.126383, time elapsed = 556.288530\n"
     ]
    },
    {
     "name": "stderr",
     "output_type": "stream",
     "text": [
      "Average Loss = 597: 100%|█████████████████████████████████████████████████████████| 2000/2000 [00:09<00:00, 208.17it/s]\n"
     ]
    },
    {
     "name": "stdout",
     "output_type": "stream",
     "text": [
      "Iteration = 19, loop time = 29.297403, time elapsed = 585.590937\n"
     ]
    },
    {
     "name": "stderr",
     "output_type": "stream",
     "text": [
      "Average Loss = 604.79: 100%|██████████████████████████████████████████████████████| 2000/2000 [00:10<00:00, 197.44it/s]\n"
     ]
    },
    {
     "name": "stdout",
     "output_type": "stream",
     "text": [
      "Iteration = 20, loop time = 30.773027, time elapsed = 616.368968\n"
     ]
    },
    {
     "name": "stderr",
     "output_type": "stream",
     "text": [
      "Average Loss = 595: 100%|█████████████████████████████████████████████████████████| 2000/2000 [00:09<00:00, 220.19it/s]\n"
     ]
    },
    {
     "name": "stdout",
     "output_type": "stream",
     "text": [
      "Iteration = 21, loop time = 30.112463, time elapsed = 646.487437\n"
     ]
    },
    {
     "name": "stderr",
     "output_type": "stream",
     "text": [
      "Average Loss = 600.61: 100%|██████████████████████████████████████████████████████| 2000/2000 [00:09<00:00, 213.44it/s]\n"
     ]
    },
    {
     "name": "stdout",
     "output_type": "stream",
     "text": [
      "Iteration = 22, loop time = 28.565965, time elapsed = 675.058406\n"
     ]
    },
    {
     "name": "stderr",
     "output_type": "stream",
     "text": [
      "Average Loss = 596.69: 100%|██████████████████████████████████████████████████████| 2000/2000 [00:08<00:00, 223.04it/s]\n"
     ]
    },
    {
     "name": "stdout",
     "output_type": "stream",
     "text": [
      "Iteration = 23, loop time = 28.666055, time elapsed = 703.729466\n"
     ]
    },
    {
     "name": "stderr",
     "output_type": "stream",
     "text": [
      "Average Loss = 590.23: 100%|██████████████████████████████████████████████████████| 2000/2000 [00:08<00:00, 222.49it/s]\n"
     ]
    },
    {
     "name": "stdout",
     "output_type": "stream",
     "text": [
      "Iteration = 24, loop time = 28.344764, time elapsed = 732.079234\n"
     ]
    },
    {
     "name": "stderr",
     "output_type": "stream",
     "text": [
      "Average Loss = 595.65: 100%|██████████████████████████████████████████████████████| 2000/2000 [00:09<00:00, 221.55it/s]\n"
     ]
    },
    {
     "name": "stdout",
     "output_type": "stream",
     "text": [
      "Iteration = 25, loop time = 28.918285, time elapsed = 761.003524\n"
     ]
    },
    {
     "name": "stderr",
     "output_type": "stream",
     "text": [
      "Average Loss = 591.61: 100%|██████████████████████████████████████████████████████| 2000/2000 [00:09<00:00, 221.14it/s]\n"
     ]
    },
    {
     "name": "stdout",
     "output_type": "stream",
     "text": [
      "Iteration = 26, loop time = 28.330750, time elapsed = 789.340280\n"
     ]
    },
    {
     "name": "stderr",
     "output_type": "stream",
     "text": [
      "Average Loss = 604.74: 100%|██████████████████████████████████████████████████████| 2000/2000 [00:09<00:00, 221.36it/s]\n"
     ]
    },
    {
     "name": "stdout",
     "output_type": "stream",
     "text": [
      "Iteration = 27, loop time = 28.016971, time elapsed = 817.362256\n"
     ]
    },
    {
     "name": "stderr",
     "output_type": "stream",
     "text": [
      "Average Loss = 595.06: 100%|██████████████████████████████████████████████████████| 2000/2000 [00:09<00:00, 222.04it/s]\n"
     ]
    },
    {
     "name": "stdout",
     "output_type": "stream",
     "text": [
      "Iteration = 28, loop time = 28.361778, time elapsed = 845.729039\n"
     ]
    },
    {
     "name": "stderr",
     "output_type": "stream",
     "text": [
      "Average Loss = 594.01: 100%|██████████████████████████████████████████████████████| 2000/2000 [00:09<00:00, 220.45it/s]\n"
     ]
    },
    {
     "name": "stdout",
     "output_type": "stream",
     "text": [
      "Iteration = 29, loop time = 28.085528, time elapsed = 873.819572\n"
     ]
    },
    {
     "name": "stderr",
     "output_type": "stream",
     "text": [
      "Average Loss = 609.17: 100%|██████████████████████████████████████████████████████| 2000/2000 [00:09<00:00, 218.91it/s]\n"
     ]
    },
    {
     "name": "stdout",
     "output_type": "stream",
     "text": [
      "Iteration = 30, loop time = 29.421746, time elapsed = 903.246323\n"
     ]
    },
    {
     "name": "stderr",
     "output_type": "stream",
     "text": [
      "Average Loss = 587.55: 100%|██████████████████████████████████████████████████████| 2000/2000 [00:09<00:00, 219.17it/s]\n"
     ]
    },
    {
     "name": "stdout",
     "output_type": "stream",
     "text": [
      "Iteration = 31, loop time = 28.996356, time elapsed = 932.246683\n"
     ]
    },
    {
     "name": "stderr",
     "output_type": "stream",
     "text": [
      "Average Loss = 593.15: 100%|██████████████████████████████████████████████████████| 2000/2000 [00:09<00:00, 220.67it/s]\n"
     ]
    },
    {
     "name": "stdout",
     "output_type": "stream",
     "text": [
      "Iteration = 32, loop time = 28.461869, time elapsed = 960.713557\n"
     ]
    },
    {
     "name": "stderr",
     "output_type": "stream",
     "text": [
      "Average Loss = 600.62: 100%|██████████████████████████████████████████████████████| 2000/2000 [00:09<00:00, 220.72it/s]\n"
     ]
    },
    {
     "name": "stdout",
     "output_type": "stream",
     "text": [
      "Iteration = 33, loop time = 28.982343, time elapsed = 989.700904\n"
     ]
    },
    {
     "name": "stderr",
     "output_type": "stream",
     "text": [
      "Average Loss = 594.35: 100%|██████████████████████████████████████████████████████| 2000/2000 [00:09<00:00, 219.80it/s]\n"
     ]
    },
    {
     "name": "stdout",
     "output_type": "stream",
     "text": [
      "Iteration = 34, loop time = 28.377794, time elapsed = 1018.083702\n"
     ]
    },
    {
     "name": "stderr",
     "output_type": "stream",
     "text": [
      "Average Loss = 607.46: 100%|██████████████████████████████████████████████████████| 2000/2000 [00:09<00:00, 218.24it/s]\n"
     ]
    },
    {
     "name": "stdout",
     "output_type": "stream",
     "text": [
      "Iteration = 35, loop time = 28.542943, time elapsed = 1046.631650\n"
     ]
    },
    {
     "name": "stderr",
     "output_type": "stream",
     "text": [
      "Average Loss = 594.81: 100%|██████████████████████████████████████████████████████| 2000/2000 [00:10<00:00, 197.49it/s]\n"
     ]
    },
    {
     "name": "stdout",
     "output_type": "stream",
     "text": [
      "Iteration = 36, loop time = 29.574764, time elapsed = 1076.211419\n"
     ]
    },
    {
     "name": "stderr",
     "output_type": "stream",
     "text": [
      "Average Loss = 580.94: 100%|██████████████████████████████████████████████████████| 2000/2000 [00:09<00:00, 218.52it/s]\n"
     ]
    },
    {
     "name": "stdout",
     "output_type": "stream",
     "text": [
      "Iteration = 37, loop time = 29.154499, time elapsed = 1105.370921\n"
     ]
    },
    {
     "name": "stderr",
     "output_type": "stream",
     "text": [
      "Average Loss = 599.92: 100%|██████████████████████████████████████████████████████| 2000/2000 [00:09<00:00, 221.21it/s]\n"
     ]
    },
    {
     "name": "stdout",
     "output_type": "stream",
     "text": [
      "Iteration = 38, loop time = 28.303726, time elapsed = 1133.679651\n"
     ]
    },
    {
     "name": "stderr",
     "output_type": "stream",
     "text": [
      "Average Loss = 601.31: 100%|██████████████████████████████████████████████████████| 2000/2000 [00:09<00:00, 219.63it/s]\n"
     ]
    },
    {
     "name": "stdout",
     "output_type": "stream",
     "text": [
      "Iteration = 39, loop time = 28.466875, time elapsed = 1162.151530\n"
     ]
    },
    {
     "name": "stderr",
     "output_type": "stream",
     "text": [
      "Average Loss = 606.91: 100%|██████████████████████████████████████████████████████| 2000/2000 [00:09<00:00, 221.77it/s]\n"
     ]
    },
    {
     "name": "stdout",
     "output_type": "stream",
     "text": [
      "Iteration = 40, loop time = 28.948437, time elapsed = 1191.105973\n"
     ]
    },
    {
     "name": "stderr",
     "output_type": "stream",
     "text": [
      "Average Loss = 592.74: 100%|██████████████████████████████████████████████████████| 2000/2000 [00:09<00:00, 222.12it/s]\n"
     ]
    },
    {
     "name": "stdout",
     "output_type": "stream",
     "text": [
      "Iteration = 41, loop time = 28.328253, time elapsed = 1219.439231\n"
     ]
    },
    {
     "name": "stderr",
     "output_type": "stream",
     "text": [
      "Average Loss = 589.18: 100%|██████████████████████████████████████████████████████| 2000/2000 [00:09<00:00, 219.39it/s]\n"
     ]
    },
    {
     "name": "stdout",
     "output_type": "stream",
     "text": [
      "Iteration = 42, loop time = 28.446574, time elapsed = 1247.890809\n"
     ]
    },
    {
     "name": "stderr",
     "output_type": "stream",
     "text": [
      "Average Loss = 589.85: 100%|██████████████████████████████████████████████████████| 2000/2000 [00:09<00:00, 216.65it/s]\n"
     ]
    },
    {
     "name": "stdout",
     "output_type": "stream",
     "text": [
      "Iteration = 43, loop time = 28.266693, time elapsed = 1276.162506\n"
     ]
    },
    {
     "name": "stderr",
     "output_type": "stream",
     "text": [
      "Average Loss = 595.86: 100%|██████████████████████████████████████████████████████| 2000/2000 [00:09<00:00, 220.96it/s]\n"
     ]
    },
    {
     "name": "stdout",
     "output_type": "stream",
     "text": [
      "Iteration = 44, loop time = 29.055409, time elapsed = 1305.223921\n"
     ]
    },
    {
     "name": "stderr",
     "output_type": "stream",
     "text": [
      "Average Loss = 593.55: 100%|██████████████████████████████████████████████████████| 2000/2000 [00:09<00:00, 212.78it/s]\n"
     ]
    },
    {
     "name": "stdout",
     "output_type": "stream",
     "text": [
      "Iteration = 45, loop time = 30.117633, time elapsed = 1335.347560\n"
     ]
    },
    {
     "name": "stderr",
     "output_type": "stream",
     "text": [
      "Average Loss = 586.18: 100%|██████████████████████████████████████████████████████| 2000/2000 [00:09<00:00, 201.63it/s]\n"
     ]
    },
    {
     "name": "stdout",
     "output_type": "stream",
     "text": [
      "Iteration = 46, loop time = 29.410732, time elapsed = 1364.763296\n"
     ]
    },
    {
     "name": "stderr",
     "output_type": "stream",
     "text": [
      "Average Loss = 595.88: 100%|██████████████████████████████████████████████████████| 2000/2000 [00:09<00:00, 221.87it/s]\n"
     ]
    },
    {
     "name": "stdout",
     "output_type": "stream",
     "text": [
      "Iteration = 47, loop time = 28.948312, time elapsed = 1393.716613\n"
     ]
    },
    {
     "name": "stderr",
     "output_type": "stream",
     "text": [
      "Average Loss = 596.96: 100%|██████████████████████████████████████████████████████| 2000/2000 [00:09<00:00, 220.33it/s]\n"
     ]
    },
    {
     "name": "stdout",
     "output_type": "stream",
     "text": [
      "Iteration = 48, loop time = 27.559049, time elapsed = 1421.280667\n"
     ]
    },
    {
     "name": "stderr",
     "output_type": "stream",
     "text": [
      "Average Loss = 599.55: 100%|██████████████████████████████████████████████████████| 2000/2000 [00:09<00:00, 221.43it/s]\n"
     ]
    },
    {
     "name": "stdout",
     "output_type": "stream",
     "text": [
      "Iteration = 49, loop time = 28.861234, time elapsed = 1450.147907\n"
     ]
    },
    {
     "name": "stderr",
     "output_type": "stream",
     "text": [
      "Average Loss = 606.7: 100%|███████████████████████████████████████████████████████| 2000/2000 [00:09<00:00, 219.32it/s]\n"
     ]
    },
    {
     "name": "stdout",
     "output_type": "stream",
     "text": [
      "Iteration = 50, loop time = 28.891259, time elapsed = 1479.044172\n"
     ]
    },
    {
     "name": "stderr",
     "output_type": "stream",
     "text": [
      "Average Loss = 581.17: 100%|██████████████████████████████████████████████████████| 2000/2000 [00:09<00:00, 218.43it/s]\n"
     ]
    },
    {
     "name": "stdout",
     "output_type": "stream",
     "text": [
      "Iteration = 51, loop time = 28.117557, time elapsed = 1507.166733\n"
     ]
    },
    {
     "name": "stderr",
     "output_type": "stream",
     "text": [
      "Average Loss = 604.32: 100%|██████████████████████████████████████████████████████| 2000/2000 [00:09<00:00, 205.66it/s]\n"
     ]
    },
    {
     "name": "stdout",
     "output_type": "stream",
     "text": [
      "Iteration = 52, loop time = 29.106454, time elapsed = 1536.278193\n"
     ]
    },
    {
     "name": "stderr",
     "output_type": "stream",
     "text": [
      "Average Loss = 594.33: 100%|██████████████████████████████████████████████████████| 2000/2000 [00:09<00:00, 216.91it/s]\n"
     ]
    },
    {
     "name": "stdout",
     "output_type": "stream",
     "text": [
      "Iteration = 53, loop time = 28.237665, time elapsed = 1564.520864\n"
     ]
    },
    {
     "name": "stderr",
     "output_type": "stream",
     "text": [
      "Average Loss = 590.47: 100%|██████████████████████████████████████████████████████| 2000/2000 [00:09<00:00, 219.94it/s]\n"
     ]
    },
    {
     "name": "stdout",
     "output_type": "stream",
     "text": [
      "Iteration = 54, loop time = 28.779157, time elapsed = 1593.306028\n"
     ]
    },
    {
     "name": "stderr",
     "output_type": "stream",
     "text": [
      "Average Loss = 605.85: 100%|██████████████████████████████████████████████████████| 2000/2000 [00:09<00:00, 220.16it/s]\n"
     ]
    },
    {
     "name": "stdout",
     "output_type": "stream",
     "text": [
      "Iteration = 55, loop time = 28.637030, time elapsed = 1621.950063\n"
     ]
    },
    {
     "name": "stderr",
     "output_type": "stream",
     "text": [
      "Average Loss = 591.04: 100%|██████████████████████████████████████████████████████| 2000/2000 [00:09<00:00, 220.11it/s]\n"
     ]
    },
    {
     "name": "stdout",
     "output_type": "stream",
     "text": [
      "Iteration = 56, loop time = 28.173608, time elapsed = 1650.128676\n"
     ]
    },
    {
     "name": "stderr",
     "output_type": "stream",
     "text": [
      "Average Loss = 600.81: 100%|██████████████████████████████████████████████████████| 2000/2000 [00:09<00:00, 218.64it/s]\n"
     ]
    },
    {
     "name": "stdout",
     "output_type": "stream",
     "text": [
      "Iteration = 57, loop time = 28.053499, time elapsed = 1678.187179\n"
     ]
    },
    {
     "name": "stderr",
     "output_type": "stream",
     "text": [
      "Average Loss = 612.25: 100%|██████████████████████████████████████████████████████| 2000/2000 [00:09<00:00, 221.01it/s]\n"
     ]
    },
    {
     "name": "stdout",
     "output_type": "stream",
     "text": [
      "Iteration = 58, loop time = 29.005965, time elapsed = 1707.199149\n"
     ]
    },
    {
     "name": "stderr",
     "output_type": "stream",
     "text": [
      "Average Loss = 620.29: 100%|██████████████████████████████████████████████████████| 2000/2000 [00:09<00:00, 220.56it/s]\n"
     ]
    },
    {
     "name": "stdout",
     "output_type": "stream",
     "text": [
      "Iteration = 59, loop time = 27.762967, time elapsed = 1734.967122\n"
     ]
    },
    {
     "name": "stderr",
     "output_type": "stream",
     "text": [
      "Average Loss = 600.06: 100%|██████████████████████████████████████████████████████| 2000/2000 [00:09<00:00, 215.53it/s]\n"
     ]
    },
    {
     "name": "stdout",
     "output_type": "stream",
     "text": [
      "Iteration = 60, loop time = 29.843949, time elapsed = 1764.816075\n"
     ]
    },
    {
     "name": "stderr",
     "output_type": "stream",
     "text": [
      "Average Loss = 587.92: 100%|██████████████████████████████████████████████████████| 2000/2000 [00:09<00:00, 218.95it/s]\n"
     ]
    },
    {
     "name": "stdout",
     "output_type": "stream",
     "text": [
      "Iteration = 61, loop time = 28.325746, time elapsed = 1793.146826\n"
     ]
    },
    {
     "name": "stderr",
     "output_type": "stream",
     "text": [
      "Average Loss = 602.29: 100%|██████████████████████████████████████████████████████| 2000/2000 [00:09<00:00, 220.21it/s]\n"
     ]
    },
    {
     "name": "stdout",
     "output_type": "stream",
     "text": [
      "Iteration = 62, loop time = 27.398908, time elapsed = 1820.550739\n"
     ]
    },
    {
     "name": "stderr",
     "output_type": "stream",
     "text": [
      "Average Loss = 595.72: 100%|██████████████████████████████████████████████████████| 2000/2000 [00:09<00:00, 219.24it/s]\n"
     ]
    },
    {
     "name": "stdout",
     "output_type": "stream",
     "text": [
      "Iteration = 63, loop time = 27.928385, time elapsed = 1848.484123\n"
     ]
    },
    {
     "name": "stderr",
     "output_type": "stream",
     "text": [
      "Average Loss = 607.52: 100%|██████████████████████████████████████████████████████| 2000/2000 [00:09<00:00, 220.45it/s]\n"
     ]
    },
    {
     "name": "stdout",
     "output_type": "stream",
     "text": [
      "Iteration = 64, loop time = 27.768240, time elapsed = 1876.256366\n"
     ]
    },
    {
     "name": "stderr",
     "output_type": "stream",
     "text": [
      "Average Loss = 601.05: 100%|██████████████████████████████████████████████████████| 2000/2000 [00:09<00:00, 219.80it/s]\n"
     ]
    },
    {
     "name": "stdout",
     "output_type": "stream",
     "text": [
      "Iteration = 65, loop time = 28.276703, time elapsed = 1904.538073\n"
     ]
    },
    {
     "name": "stderr",
     "output_type": "stream",
     "text": [
      "Average Loss = 593.89: 100%|██████████████████████████████████████████████████████| 2000/2000 [00:09<00:00, 221.01it/s]\n"
     ]
    },
    {
     "name": "stdout",
     "output_type": "stream",
     "text": [
      "Iteration = 66, loop time = 28.407821, time elapsed = 1932.951899\n"
     ]
    },
    {
     "name": "stderr",
     "output_type": "stream",
     "text": [
      "Average Loss = 594.17: 100%|██████████████████████████████████████████████████████| 2000/2000 [00:09<00:00, 217.74it/s]\n"
     ]
    },
    {
     "name": "stdout",
     "output_type": "stream",
     "text": [
      "Iteration = 67, loop time = 27.619104, time elapsed = 1960.576008\n"
     ]
    },
    {
     "name": "stderr",
     "output_type": "stream",
     "text": [
      "Average Loss = 598.46: 100%|██████████████████████████████████████████████████████| 2000/2000 [00:09<00:00, 219.24it/s]\n"
     ]
    },
    {
     "name": "stdout",
     "output_type": "stream",
     "text": [
      "Iteration = 68, loop time = 27.702180, time elapsed = 1988.282191\n"
     ]
    },
    {
     "name": "stderr",
     "output_type": "stream",
     "text": [
      "Average Loss = 589.58: 100%|██████████████████████████████████████████████████████| 2000/2000 [00:09<00:00, 201.55it/s]\n"
     ]
    },
    {
     "name": "stdout",
     "output_type": "stream",
     "text": [
      "Iteration = 69, loop time = 28.034482, time elapsed = 2016.321677\n"
     ]
    },
    {
     "name": "stderr",
     "output_type": "stream",
     "text": [
      "Average Loss = 594.85: 100%|██████████████████████████████████████████████████████| 2000/2000 [00:09<00:00, 221.06it/s]\n"
     ]
    },
    {
     "name": "stdout",
     "output_type": "stream",
     "text": [
      "Iteration = 70, loop time = 29.257593, time elapsed = 2045.584275\n"
     ]
    },
    {
     "name": "stderr",
     "output_type": "stream",
     "text": [
      "Average Loss = 591.11: 100%|██████████████████████████████████████████████████████| 2000/2000 [00:09<00:00, 219.41it/s]\n"
     ]
    },
    {
     "name": "stdout",
     "output_type": "stream",
     "text": [
      "Iteration = 71, loop time = 27.587075, time elapsed = 2073.176353\n"
     ]
    },
    {
     "name": "stderr",
     "output_type": "stream",
     "text": [
      "Average Loss = 598.15: 100%|██████████████████████████████████████████████████████| 2000/2000 [00:09<00:00, 219.44it/s]\n"
     ]
    },
    {
     "name": "stdout",
     "output_type": "stream",
     "text": [
      "Iteration = 72, loop time = 28.154591, time elapsed = 2101.334948\n"
     ]
    },
    {
     "name": "stderr",
     "output_type": "stream",
     "text": [
      "Average Loss = 595.14: 100%|██████████████████████████████████████████████████████| 2000/2000 [00:09<00:00, 220.48it/s]\n"
     ]
    },
    {
     "name": "stdout",
     "output_type": "stream",
     "text": [
      "Iteration = 73, loop time = 27.734209, time elapsed = 2129.074161\n"
     ]
    },
    {
     "name": "stderr",
     "output_type": "stream",
     "text": [
      "Average Loss = 602.2: 100%|███████████████████████████████████████████████████████| 2000/2000 [00:09<00:00, 218.69it/s]\n"
     ]
    },
    {
     "name": "stdout",
     "output_type": "stream",
     "text": [
      "Iteration = 74, loop time = 27.532025, time elapsed = 2156.611190\n"
     ]
    },
    {
     "name": "stderr",
     "output_type": "stream",
     "text": [
      "Average Loss = 590.89: 100%|██████████████████████████████████████████████████████| 2000/2000 [00:09<00:00, 203.36it/s]\n"
     ]
    },
    {
     "name": "stdout",
     "output_type": "stream",
     "text": [
      "Iteration = 75, loop time = 29.098450, time elapsed = 2185.714645\n"
     ]
    },
    {
     "name": "stderr",
     "output_type": "stream",
     "text": [
      "Average Loss = 593.57: 100%|██████████████████████████████████████████████████████| 2000/2000 [00:09<00:00, 218.86it/s]\n"
     ]
    },
    {
     "name": "stdout",
     "output_type": "stream",
     "text": [
      "Iteration = 76, loop time = 27.980432, time elapsed = 2213.700080\n"
     ]
    },
    {
     "name": "stderr",
     "output_type": "stream",
     "text": [
      "Average Loss = 607.12: 100%|██████████████████████████████████████████████████████| 2000/2000 [00:09<00:00, 221.21it/s]\n"
     ]
    },
    {
     "name": "stdout",
     "output_type": "stream",
     "text": [
      "Iteration = 77, loop time = 27.825292, time elapsed = 2241.530376\n"
     ]
    },
    {
     "name": "stderr",
     "output_type": "stream",
     "text": [
      "Average Loss = 600.01: 100%|██████████████████████████████████████████████████████| 2000/2000 [00:09<00:00, 219.97it/s]\n"
     ]
    },
    {
     "name": "stdout",
     "output_type": "stream",
     "text": [
      "Iteration = 78, loop time = 28.841214, time elapsed = 2270.376595\n"
     ]
    },
    {
     "name": "stderr",
     "output_type": "stream",
     "text": [
      "Average Loss = 594.46: 100%|██████████████████████████████████████████████████████| 2000/2000 [00:09<00:00, 220.19it/s]\n"
     ]
    },
    {
     "name": "stdout",
     "output_type": "stream",
     "text": [
      "Iteration = 79, loop time = 27.646130, time elapsed = 2298.027729\n"
     ]
    },
    {
     "name": "stderr",
     "output_type": "stream",
     "text": [
      "Average Loss = 583.71: 100%|██████████████████████████████████████████████████████| 2000/2000 [00:09<00:00, 219.75it/s]\n"
     ]
    },
    {
     "name": "stdout",
     "output_type": "stream",
     "text": [
      "Iteration = 80, loop time = 28.388803, time elapsed = 2326.421537\n"
     ]
    },
    {
     "name": "stderr",
     "output_type": "stream",
     "text": [
      "Average Loss = 599.66: 100%|██████████████████████████████████████████████████████| 2000/2000 [00:09<00:00, 221.04it/s]\n"
     ]
    },
    {
     "name": "stdout",
     "output_type": "stream",
     "text": [
      "Iteration = 81, loop time = 28.418831, time elapsed = 2354.847374\n"
     ]
    },
    {
     "name": "stderr",
     "output_type": "stream",
     "text": [
      "Average Loss = 586.68: 100%|██████████████████████████████████████████████████████| 2000/2000 [00:09<00:00, 219.53it/s]\n"
     ]
    },
    {
     "name": "stdout",
     "output_type": "stream",
     "text": [
      "Iteration = 82, loop time = 27.928385, time elapsed = 2382.782765\n"
     ]
    },
    {
     "name": "stderr",
     "output_type": "stream",
     "text": [
      "Average Loss = 593.86: 100%|██████████████████████████████████████████████████████| 2000/2000 [00:09<00:00, 220.11it/s]\n"
     ]
    },
    {
     "name": "stdout",
     "output_type": "stream",
     "text": [
      "Iteration = 83, loop time = 27.893355, time elapsed = 2410.682125\n"
     ]
    },
    {
     "name": "stderr",
     "output_type": "stream",
     "text": [
      "Average Loss = 603.03: 100%|██████████████████████████████████████████████████████| 2000/2000 [00:09<00:00, 218.29it/s]\n"
     ]
    },
    {
     "name": "stdout",
     "output_type": "stream",
     "text": [
      "Iteration = 84, loop time = 28.374789, time elapsed = 2439.061919\n"
     ]
    },
    {
     "name": "stderr",
     "output_type": "stream",
     "text": [
      "Average Loss = 610.42: 100%|██████████████████████████████████████████████████████| 2000/2000 [00:09<00:00, 219.12it/s]\n"
     ]
    },
    {
     "name": "stdout",
     "output_type": "stream",
     "text": [
      "Iteration = 85, loop time = 27.724200, time elapsed = 2466.791123\n"
     ]
    },
    {
     "name": "stderr",
     "output_type": "stream",
     "text": [
      "Average Loss = 594.01: 100%|██████████████████████████████████████████████████████| 2000/2000 [00:09<00:00, 220.02it/s]\n"
     ]
    },
    {
     "name": "stdout",
     "output_type": "stream",
     "text": [
      "Iteration = 86, loop time = 27.554045, time elapsed = 2494.350173\n"
     ]
    },
    {
     "name": "stderr",
     "output_type": "stream",
     "text": [
      "Average Loss = 606.21: 100%|██████████████████████████████████████████████████████| 2000/2000 [00:09<00:00, 219.89it/s]\n"
     ]
    },
    {
     "name": "stdout",
     "output_type": "stream",
     "text": [
      "Iteration = 87, loop time = 27.675154, time elapsed = 2522.030332\n"
     ]
    },
    {
     "name": "stderr",
     "output_type": "stream",
     "text": [
      "Average Loss = 606.37: 100%|██████████████████████████████████████████████████████| 2000/2000 [00:09<00:00, 220.23it/s]\n"
     ]
    },
    {
     "name": "stdout",
     "output_type": "stream",
     "text": [
      "Iteration = 88, loop time = 27.874336, time elapsed = 2549.909672\n"
     ]
    },
    {
     "name": "stderr",
     "output_type": "stream",
     "text": [
      "Average Loss = 588.99: 100%|██████████████████████████████████████████████████████| 2000/2000 [00:09<00:00, 220.74it/s]\n"
     ]
    },
    {
     "name": "stdout",
     "output_type": "stream",
     "text": [
      "Iteration = 89, loop time = 27.168695, time elapsed = 2577.083372\n"
     ]
    },
    {
     "name": "stderr",
     "output_type": "stream",
     "text": [
      "Average Loss = 603.29: 100%|██████████████████████████████████████████████████████| 2000/2000 [00:09<00:00, 218.91it/s]\n"
     ]
    },
    {
     "name": "stdout",
     "output_type": "stream",
     "text": [
      "Iteration = 90, loop time = 28.105546, time elapsed = 2605.193923\n"
     ]
    },
    {
     "name": "stderr",
     "output_type": "stream",
     "text": [
      "Average Loss = 588.84: 100%|██████████████████████████████████████████████████████| 2000/2000 [00:10<00:00, 197.82it/s]\n"
     ]
    },
    {
     "name": "stdout",
     "output_type": "stream",
     "text": [
      "Iteration = 91, loop time = 28.797175, time elapsed = 2633.996102\n"
     ]
    },
    {
     "name": "stderr",
     "output_type": "stream",
     "text": [
      "Average Loss = 595.16: 100%|██████████████████████████████████████████████████████| 2000/2000 [00:09<00:00, 219.92it/s]\n"
     ]
    },
    {
     "name": "stdout",
     "output_type": "stream",
     "text": [
      "Iteration = 92, loop time = 27.572312, time elapsed = 2661.573419\n"
     ]
    },
    {
     "name": "stderr",
     "output_type": "stream",
     "text": [
      "Average Loss = 610.69: 100%|██████████████████████████████████████████████████████| 2000/2000 [00:09<00:00, 219.24it/s]\n"
     ]
    },
    {
     "name": "stdout",
     "output_type": "stream",
     "text": [
      "Iteration = 93, loop time = 27.923380, time elapsed = 2689.501804\n"
     ]
    },
    {
     "name": "stderr",
     "output_type": "stream",
     "text": [
      "Average Loss = 585.13: 100%|██████████████████████████████████████████████████████| 2000/2000 [00:09<00:00, 218.45it/s]\n"
     ]
    },
    {
     "name": "stdout",
     "output_type": "stream",
     "text": [
      "Iteration = 94, loop time = 28.168603, time elapsed = 2717.675412\n"
     ]
    },
    {
     "name": "stderr",
     "output_type": "stream",
     "text": [
      "Average Loss = 591.35: 100%|██████████████████████████████████████████████████████| 2000/2000 [00:09<00:00, 219.15it/s]\n"
     ]
    },
    {
     "name": "stdout",
     "output_type": "stream",
     "text": [
      "Iteration = 95, loop time = 28.165599, time elapsed = 2745.847018\n"
     ]
    },
    {
     "name": "stderr",
     "output_type": "stream",
     "text": [
      "Average Loss = 595.58: 100%|██████████████████████████████████████████████████████| 2000/2000 [00:09<00:00, 218.26it/s]\n"
     ]
    },
    {
     "name": "stdout",
     "output_type": "stream",
     "text": [
      "Iteration = 96, loop time = 28.615010, time elapsed = 2774.467032\n"
     ]
    },
    {
     "name": "stderr",
     "output_type": "stream",
     "text": [
      "Average Loss = 591.22: 100%|██████████████████████████████████████████████████████| 2000/2000 [00:09<00:00, 219.60it/s]\n"
     ]
    },
    {
     "name": "stdout",
     "output_type": "stream",
     "text": [
      "Iteration = 97, loop time = 27.499996, time elapsed = 2801.972032\n"
     ]
    },
    {
     "name": "stderr",
     "output_type": "stream",
     "text": [
      "Average Loss = 594.83: 100%|██████████████████████████████████████████████████████| 2000/2000 [00:09<00:00, 219.17it/s]\n"
     ]
    },
    {
     "name": "stdout",
     "output_type": "stream",
     "text": [
      "Iteration = 98, loop time = 28.475883, time elapsed = 2830.452919\n"
     ]
    },
    {
     "name": "stderr",
     "output_type": "stream",
     "text": [
      "Average Loss = 604.7: 100%|███████████████████████████████████████████████████████| 2000/2000 [00:09<00:00, 219.07it/s]\n"
     ]
    },
    {
     "name": "stdout",
     "output_type": "stream",
     "text": [
      "Iteration = 99, loop time = 28.706092, time elapsed = 2859.164016\n",
      "Total time taken: 2859.169021\n"
     ]
    }
   ],
   "source": [
    "start = time.time()\n",
    "for i in range(M):\n",
    "    start_loop = time.time()\n",
    "    \n",
    "    # sample from prior\n",
    "    btemp = np.random.randn(1, D)\n",
    "    mtemp = np.dot(x.values, np.transpose(btemp))\n",
    "    stemp = abs(np.random.standard_cauchy(1))\n",
    "    ytemp = mtemp + stemp\n",
    "    \n",
    "    datatemp = dict(N=N, D=D, x=x, y=y)\n",
    "    fittemp = regression_model.sampling(data=datatemp, iter=20000, thin=20, chains=10)\n",
    "    stan_log_density_temp = make_stan_log_density(fittemp)\n",
    "    \n",
    "    klvi_objective_and_grad_temp = black_box_klvi(mf_gaussian_var_family, stan_log_density_temp, 100)\n",
    "    \n",
    "    # run klvi\n",
    "    klvi_temp_var_param, _, _, _ = \\\n",
    "        adagrad_optimize(n_iters, klvi_objective_and_grad_temp, init_var_param, learning_rate=.01)\n",
    "    \n",
    "    # store files for later\n",
    "    klvi_samples_temp, klvi_slw_temp, klvi_lw_temp, klvi_khat_temp = \\\n",
    "        psis_correction(stan_log_density, mf_gaussian_var_family, klvi_var_param, mc_samples)\n",
    "    \n",
    "    with open(\"./data/klvi_psis_\"+str(i)+\".pkl\", 'wb') as f:\n",
    "        pickle.dump([btemp, stemp, klvi_samples_temp, klvi_slw_temp, klvi_lw_temp, klvi_khat_temp, klvi_var_param], f)\n",
    "    \n",
    "    end_loop = time.time()\n",
    "    print(\"Iteration = %i, loop time = %f, time elapsed = %f\" % (i, end_loop-start_loop, end_loop-start))\n",
    "    \n",
    "    \n",
    "    ##################################################################\n",
    "    ##################################################################\n",
    "    # can remove this part and do it later with the pickled data file\n",
    "    \n",
    "    # extract beta mean and std\n",
    "    b_mean_temp = klvi_temp_var_param[:D]\n",
    "    b_std_temp = np.exp(klvi_temp_var_param[D+1:][0:D])\n",
    "\n",
    "    # generate 1000 sample from the variational family\n",
    "    nn = 1000\n",
    "    sample_temp = mf_gaussian_var_family.sample(klvi_temp_var_param, nn)\n",
    "\n",
    "    # compute log sigma of the samples\n",
    "    logs_sample_temp = []\n",
    "    for j in range(nn):\n",
    "        logs_sample_temp.append(sample_temp[j][-1])\n",
    "    logs_sample_temp = np.array(logs_sample_temp)\n",
    "    logs_sample_temp = np.log(logs_sample_temp)\n",
    "\n",
    "    # get the cdf values\n",
    "    klvi_probs[0:D, i] = norm.cdf(btemp, b_mean_temp[0:D], b_std_temp[0:D])\n",
    "    klvi_probs[D, i] = norm.cdf(np.log(stemp), np.mean(logs_sample_temp), np.std(logs_sample_temp))\n",
    "   \n",
    "    ##################################################################\n",
    "    ##################################################################\n",
    "\n",
    "end = time.time()\n",
    "print(\"Total time taken: %f\" % (end-start))"
   ]
  },
  {
   "cell_type": "code",
   "execution_count": 33,
   "metadata": {},
   "outputs": [
    {
     "data": {
      "image/png": "[encoded data removed]",
      "text/plain": [
       "<Figure size 432x288 with 1 Axes>"
      ]
     },
     "metadata": {
      "needs_background": "light"
     },
     "output_type": "display_data"
    }
   ],
   "source": [
    "plt.hist(klvi_probs[1,:], bins=10, density=True, range=(0,1))\n",
    "plt.show()"
   ]
  },
  {
   "cell_type": "code",
   "execution_count": 34,
   "metadata": {},
   "outputs": [
    {
     "data": {
      "image/png": "[encoded data removed]",
      "text/plain": [
       "<Figure size 432x288 with 1 Axes>"
      ]
     },
     "metadata": {
      "needs_background": "light"
     },
     "output_type": "display_data"
    }
   ],
   "source": [
    "plt.hist(klvi_probs[10,:], bins=10, density=True, range=(0,1))\n",
    "plt.show()"
   ]
  },
  {
   "cell_type": "code",
   "execution_count": 35,
   "metadata": {},
   "outputs": [
    {
     "data": {
      "image/png": "[encoded data removed]",
      "text/plain": [
       "<Figure size 432x288 with 1 Axes>"
      ]
     },
     "metadata": {
      "needs_background": "light"
     },
     "output_type": "display_data"
    }
   ],
   "source": [
    "plt.hist(klvi_probs[D-1,:], bins=10, density=True, range=(0,1))\n",
    "plt.show()"
   ]
  },
  {
   "cell_type": "code",
   "execution_count": 36,
   "metadata": {},
   "outputs": [
    {
     "data": {
      "image/png": "[encoded data removed]",
      "text/plain": [
       "<Figure size 432x288 with 1 Axes>"
      ]
     },
     "metadata": {
      "needs_background": "light"
     },
     "output_type": "display_data"
    }
   ],
   "source": [
    "plt.hist(klvi_probs[D,:], bins=10, density=True, range=(0,1))\n",
    "plt.show()"
   ]
  },
  {
   "cell_type": "code",
   "execution_count": 37,
   "metadata": {},
   "outputs": [],
   "source": [
    "np.savetxt(\"./data/klvi_probs.csv\", klvi_probs, delimiter=\",\")"
   ]
  },
  {
   "cell_type": "markdown",
   "metadata": {},
   "source": [
    "## CHIVI Mean field with Gaussian"
   ]
  },
  {
   "cell_type": "code",
   "execution_count": 38,
   "metadata": {},
   "outputs": [],
   "source": [
    "# init_mean = np.zeros(D+1)\n",
    "# init_log_std = np.ones(D+1)\n",
    "# init_var_param = np.concatenate([init_mean, init_log_std])\n",
    "# n_iters = 2000"
   ]
  },
  {
   "cell_type": "code",
   "execution_count": 39,
   "metadata": {},
   "outputs": [],
   "source": [
    "init_var_param = klvi_var_param.copy()\n",
    "n_iters = 2000"
   ]
  },
  {
   "cell_type": "code",
   "execution_count": 40,
   "metadata": {},
   "outputs": [
    {
     "name": "stderr",
     "output_type": "stream",
     "text": [
      "Average Loss = -513.51: 100%|██████████████████████████████████████████████████████| 2000/2000 [00:28<00:00, 70.27it/s]\n"
     ]
    }
   ],
   "source": [
    "mf_gaussian_var_family = mean_field_gaussian_variational_family(D+1)\n",
    "chivi_objective_and_grad = black_box_chivi(2, mf_gaussian_var_family, stan_log_density, 200)\n",
    "\n",
    "chivi_var_param, chivi_param_history, chivi_history, _ = \\\n",
    "    adagrad_optimize(n_iters, chivi_objective_and_grad, init_var_param, learning_rate=5e-4)"
   ]
  },
  {
   "cell_type": "code",
   "execution_count": 41,
   "metadata": {},
   "outputs": [],
   "source": [
    "#plot_dist_to_opt_param(chivi_param_history, chivi_var_param)"
   ]
  },
  {
   "cell_type": "code",
   "execution_count": 42,
   "metadata": {},
   "outputs": [
    {
     "name": "stdout",
     "output_type": "stream",
     "text": [
      "mean   = [ 0.01224939 -0.09430025 -0.05768824 -0.48440438  0.00906277  0.91581704\n",
      " -0.13842648  0.24952488  0.00802292  0.12487666  0.16811879  0.39973047\n",
      " -1.1444589  -0.00545838  1.70330666]\n",
      "stdevs = [0.03075883 0.02893284 0.08083809 0.13760574 0.05346249 0.04578175\n",
      " 0.06307039 0.07665077 0.13848163 0.17852189 0.11393442 0.15356388\n",
      " 0.30993853 0.27898641 0.04631476]\n",
      "\n",
      "mean error             = 2.61\n",
      "stdev error            = 0.292\n",
      "||cov error||_2^{1/2}  = 0.371\n",
      "||true cov||_2^{1/2}   = 0.478\n"
     ]
    }
   ],
   "source": [
    "check_approx_accuracy(mf_gaussian_var_family, chivi_var_param, true_mean, true_cov, verbose=True);"
   ]
  },
  {
   "cell_type": "code",
   "execution_count": 43,
   "metadata": {},
   "outputs": [],
   "source": [
    "mc_samples=100000"
   ]
  },
  {
   "cell_type": "code",
   "execution_count": 44,
   "metadata": {},
   "outputs": [],
   "source": [
    "chivi_samples, chivi_slw, chivi_lw, chivi_khat = \\\n",
    "    psis_correction(stan_log_density, mf_gaussian_var_family, chivi_var_param, mc_samples)"
   ]
  },
  {
   "cell_type": "code",
   "execution_count": 45,
   "metadata": {},
   "outputs": [
    {
     "name": "stdout",
     "output_type": "stream",
     "text": [
      "2.0833478695851846\n"
     ]
    }
   ],
   "source": [
    "print(chivi_khat)"
   ]
  },
  {
   "cell_type": "code",
   "execution_count": 46,
   "metadata": {},
   "outputs": [
    {
     "data": {
      "text/plain": [
       "array([-49.8305126 , -30.60091653, -23.14049087, ..., -25.44780351,\n",
       "       -29.48745228, -28.55744728])"
      ]
     },
     "execution_count": 46,
     "metadata": {},
     "output_type": "execute_result"
    }
   ],
   "source": [
    "chivi_slw"
   ]
  },
  {
   "cell_type": "code",
   "execution_count": 47,
   "metadata": {},
   "outputs": [
    {
     "data": {
      "text/plain": [
       "array([-552.39841027, -533.1688142 , -525.70838855, ..., -528.01570119,\n",
       "       -532.05534996, -531.12534496])"
      ]
     },
     "execution_count": 47,
     "metadata": {},
     "output_type": "execute_result"
    }
   ],
   "source": [
    "chivi_lw"
   ]
  },
  {
   "cell_type": "markdown",
   "metadata": {},
   "source": [
    "### VSBC diagnostics"
   ]
  },
  {
   "cell_type": "code",
   "execution_count": 48,
   "metadata": {},
   "outputs": [],
   "source": [
    "M = 100\n",
    "chivi_probs = np.zeros(shape=(D+1, M))\n",
    "n_iters = 2000\n",
    "\n",
    "#np.random.seed(123)\n",
    "np.random.seed(100)"
   ]
  },
  {
   "cell_type": "code",
   "execution_count": 49,
   "metadata": {
    "scrolled": true
   },
   "outputs": [
    {
     "name": "stderr",
     "output_type": "stream",
     "text": [
      "Average Loss = -513.53: 100%|██████████████████████████████████████████████████████| 2000/2000 [00:31<00:00, 63.28it/s]\n"
     ]
    },
    {
     "name": "stdout",
     "output_type": "stream",
     "text": [
      "Iteration = 0, loop time = 50.531637, time elapsed = 50.531637\n"
     ]
    },
    {
     "name": "stderr",
     "output_type": "stream",
     "text": [
      "Average Loss = -515.58: 100%|██████████████████████████████████████████████████████| 2000/2000 [00:28<00:00, 69.79it/s]\n"
     ]
    },
    {
     "name": "stdout",
     "output_type": "stream",
     "text": [
      "Iteration = 1, loop time = 47.877517, time elapsed = 98.410155\n"
     ]
    },
    {
     "name": "stderr",
     "output_type": "stream",
     "text": [
      "Average Loss = -514.26: 100%|██████████████████████████████████████████████████████| 2000/2000 [00:28<00:00, 70.38it/s]\n"
     ]
    },
    {
     "name": "stdout",
     "output_type": "stream",
     "text": [
      "Iteration = 2, loop time = 47.862504, time elapsed = 146.272659\n"
     ]
    },
    {
     "name": "stderr",
     "output_type": "stream",
     "text": [
      "Average Loss = -520.87: 100%|██████████████████████████████████████████████████████| 2000/2000 [00:28<00:00, 70.56it/s]\n"
     ]
    },
    {
     "name": "stdout",
     "output_type": "stream",
     "text": [
      "Iteration = 3, loop time = 47.409092, time elapsed = 193.682753\n"
     ]
    },
    {
     "name": "stderr",
     "output_type": "stream",
     "text": [
      "Average Loss = -513.71: 100%|██████████████████████████████████████████████████████| 2000/2000 [00:28<00:00, 70.47it/s]\n"
     ]
    },
    {
     "name": "stdout",
     "output_type": "stream",
     "text": [
      "Iteration = 4, loop time = 46.788527, time elapsed = 240.471280\n"
     ]
    },
    {
     "name": "stderr",
     "output_type": "stream",
     "text": [
      "Average Loss = -514.16: 100%|██████████████████████████████████████████████████████| 2000/2000 [00:28<00:00, 70.46it/s]\n"
     ]
    },
    {
     "name": "stdout",
     "output_type": "stream",
     "text": [
      "Iteration = 5, loop time = 47.127094, time elapsed = 287.599375\n"
     ]
    },
    {
     "name": "stderr",
     "output_type": "stream",
     "text": [
      "Average Loss = -514.6: 100%|███████████████████████████████████████████████████████| 2000/2000 [00:28<00:00, 69.64it/s]\n"
     ]
    },
    {
     "name": "stdout",
     "output_type": "stream",
     "text": [
      "Iteration = 6, loop time = 47.607271, time elapsed = 335.207647\n"
     ]
    },
    {
     "name": "stderr",
     "output_type": "stream",
     "text": [
      "Average Loss = -514.17: 100%|██████████████████████████████████████████████████████| 2000/2000 [00:30<00:00, 66.49it/s]\n"
     ]
    },
    {
     "name": "stdout",
     "output_type": "stream",
     "text": [
      "Iteration = 7, loop time = 49.427941, time elapsed = 384.636589\n"
     ]
    },
    {
     "name": "stderr",
     "output_type": "stream",
     "text": [
      "Average Loss = -513.71: 100%|██████████████████████████████████████████████████████| 2000/2000 [00:28<00:00, 70.44it/s]\n"
     ]
    },
    {
     "name": "stdout",
     "output_type": "stream",
     "text": [
      "Iteration = 8, loop time = 46.952679, time elapsed = 431.589268\n"
     ]
    },
    {
     "name": "stderr",
     "output_type": "stream",
     "text": [
      "Average Loss = -514.34: 100%|██████████████████████████████████████████████████████| 2000/2000 [00:27<00:00, 71.47it/s]\n"
     ]
    },
    {
     "name": "stdout",
     "output_type": "stream",
     "text": [
      "Iteration = 9, loop time = 46.500263, time elapsed = 478.089531\n"
     ]
    },
    {
     "name": "stderr",
     "output_type": "stream",
     "text": [
      "Average Loss = -517.26: 100%|██████████████████████████████████████████████████████| 2000/2000 [00:28<00:00, 71.21it/s]\n"
     ]
    },
    {
     "name": "stdout",
     "output_type": "stream",
     "text": [
      "Iteration = 10, loop time = 46.287072, time elapsed = 524.376603\n"
     ]
    },
    {
     "name": "stderr",
     "output_type": "stream",
     "text": [
      "Average Loss = -515.46: 100%|██████████████████████████████████████████████████████| 2000/2000 [00:29<00:00, 68.80it/s]\n"
     ]
    },
    {
     "name": "stdout",
     "output_type": "stream",
     "text": [
      "Iteration = 11, loop time = 48.388983, time elapsed = 572.765586\n"
     ]
    },
    {
     "name": "stderr",
     "output_type": "stream",
     "text": [
      "Average Loss = -513.64: 100%|██████████████████████████████████████████████████████| 2000/2000 [00:28<00:00, 70.55it/s]\n"
     ]
    },
    {
     "name": "stdout",
     "output_type": "stream",
     "text": [
      "Iteration = 12, loop time = 47.434114, time elapsed = 620.199700\n"
     ]
    },
    {
     "name": "stderr",
     "output_type": "stream",
     "text": [
      "Average Loss = -513.21: 100%|██████████████████████████████████████████████████████| 2000/2000 [00:28<00:00, 69.96it/s]\n"
     ]
    },
    {
     "name": "stdout",
     "output_type": "stream",
     "text": [
      "Iteration = 13, loop time = 47.109820, time elapsed = 667.309520\n"
     ]
    },
    {
     "name": "stderr",
     "output_type": "stream",
     "text": [
      "Average Loss = -514: 100%|█████████████████████████████████████████████████████████| 2000/2000 [00:28<00:00, 71.03it/s]\n"
     ]
    },
    {
     "name": "stdout",
     "output_type": "stream",
     "text": [
      "Iteration = 14, loop time = 46.978700, time elapsed = 714.289221\n"
     ]
    },
    {
     "name": "stderr",
     "output_type": "stream",
     "text": [
      "Average Loss = -512.97: 100%|██████████████████████████████████████████████████████| 2000/2000 [00:28<00:00, 70.53it/s]\n"
     ]
    },
    {
     "name": "stdout",
     "output_type": "stream",
     "text": [
      "Iteration = 15, loop time = 47.247946, time elapsed = 761.537167\n"
     ]
    },
    {
     "name": "stderr",
     "output_type": "stream",
     "text": [
      "Average Loss = -514.27: 100%|██████████████████████████████████████████████████████| 2000/2000 [00:28<00:00, 70.28it/s]\n"
     ]
    },
    {
     "name": "stdout",
     "output_type": "stream",
     "text": [
      "Iteration = 16, loop time = 46.933659, time elapsed = 808.470825\n"
     ]
    },
    {
     "name": "stderr",
     "output_type": "stream",
     "text": [
      "Average Loss = -513.96: 100%|██████████████████████████████████████████████████████| 2000/2000 [00:28<00:00, 70.05it/s]\n"
     ]
    },
    {
     "name": "stdout",
     "output_type": "stream",
     "text": [
      "Iteration = 17, loop time = 47.106821, time elapsed = 855.577646\n"
     ]
    },
    {
     "name": "stderr",
     "output_type": "stream",
     "text": [
      "Average Loss = -513.66: 100%|██████████████████████████████████████████████████████| 2000/2000 [00:28<00:00, 70.60it/s]\n"
     ]
    },
    {
     "name": "stdout",
     "output_type": "stream",
     "text": [
      "Iteration = 18, loop time = 46.772513, time elapsed = 902.351160\n"
     ]
    },
    {
     "name": "stderr",
     "output_type": "stream",
     "text": [
      "Average Loss = -513.89: 100%|██████████████████████████████████████████████████████| 2000/2000 [00:28<00:00, 70.22it/s]\n"
     ]
    },
    {
     "name": "stdout",
     "output_type": "stream",
     "text": [
      "Iteration = 19, loop time = 46.638411, time elapsed = 948.989571\n"
     ]
    },
    {
     "name": "stderr",
     "output_type": "stream",
     "text": [
      "Average Loss = -513.28: 100%|██████████████████████████████████████████████████████| 2000/2000 [00:28<00:00, 70.41it/s]\n"
     ]
    },
    {
     "name": "stdout",
     "output_type": "stream",
     "text": [
      "Iteration = 20, loop time = 47.691349, time elapsed = 996.681920\n"
     ]
    },
    {
     "name": "stderr",
     "output_type": "stream",
     "text": [
      "Average Loss = -513.27: 100%|██████████████████████████████████████████████████████| 2000/2000 [00:28<00:00, 70.43it/s]\n"
     ]
    },
    {
     "name": "stdout",
     "output_type": "stream",
     "text": [
      "Iteration = 21, loop time = 47.128837, time elapsed = 1043.811758\n"
     ]
    },
    {
     "name": "stderr",
     "output_type": "stream",
     "text": [
      "Average Loss = -513.24: 100%|██████████████████████████████████████████████████████| 2000/2000 [00:28<00:00, 70.23it/s]\n"
     ]
    },
    {
     "name": "stdout",
     "output_type": "stream",
     "text": [
      "Iteration = 22, loop time = 47.421103, time elapsed = 1091.232861\n"
     ]
    },
    {
     "name": "stderr",
     "output_type": "stream",
     "text": [
      "Average Loss = -513.63: 100%|██████████████████████████████████████████████████████| 2000/2000 [00:28<00:00, 70.45it/s]\n"
     ]
    },
    {
     "name": "stdout",
     "output_type": "stream",
     "text": [
      "Iteration = 23, loop time = 46.730475, time elapsed = 1137.963336\n"
     ]
    },
    {
     "name": "stderr",
     "output_type": "stream",
     "text": [
      "Average Loss = -513.6: 100%|███████████████████████████████████████████████████████| 2000/2000 [00:28<00:00, 70.33it/s]\n"
     ]
    },
    {
     "name": "stdout",
     "output_type": "stream",
     "text": [
      "Iteration = 24, loop time = 48.476060, time elapsed = 1186.440398\n"
     ]
    },
    {
     "name": "stderr",
     "output_type": "stream",
     "text": [
      "Average Loss = -514.92: 100%|██████████████████████████████████████████████████████| 2000/2000 [00:28<00:00, 70.28it/s]\n"
     ]
    },
    {
     "name": "stdout",
     "output_type": "stream",
     "text": [
      "Iteration = 25, loop time = 47.024743, time elapsed = 1233.465141\n"
     ]
    },
    {
     "name": "stderr",
     "output_type": "stream",
     "text": [
      "Average Loss = -514.61: 100%|██████████████████████████████████████████████████████| 2000/2000 [00:28<00:00, 70.30it/s]\n"
     ]
    },
    {
     "name": "stdout",
     "output_type": "stream",
     "text": [
      "Iteration = 26, loop time = 46.963686, time elapsed = 1280.428827\n"
     ]
    },
    {
     "name": "stderr",
     "output_type": "stream",
     "text": [
      "Average Loss = -514.37: 100%|██████████████████████████████████████████████████████| 2000/2000 [00:28<00:00, 70.46it/s]\n"
     ]
    },
    {
     "name": "stdout",
     "output_type": "stream",
     "text": [
      "Iteration = 27, loop time = 47.161867, time elapsed = 1327.590694\n"
     ]
    },
    {
     "name": "stderr",
     "output_type": "stream",
     "text": [
      "Average Loss = -514.32: 100%|██████████████████████████████████████████████████████| 2000/2000 [00:28<00:00, 69.80it/s]\n"
     ]
    },
    {
     "name": "stdout",
     "output_type": "stream",
     "text": [
      "Iteration = 28, loop time = 48.019646, time elapsed = 1375.611341\n"
     ]
    },
    {
     "name": "stderr",
     "output_type": "stream",
     "text": [
      "Average Loss = -514.23: 100%|██████████████████████████████████████████████████████| 2000/2000 [00:28<00:00, 70.13it/s]\n"
     ]
    },
    {
     "name": "stdout",
     "output_type": "stream",
     "text": [
      "Iteration = 29, loop time = 47.907545, time elapsed = 1423.518886\n"
     ]
    },
    {
     "name": "stderr",
     "output_type": "stream",
     "text": [
      "Average Loss = -513.91: 100%|██████████████████████████████████████████████████████| 2000/2000 [00:28<00:00, 70.32it/s]\n"
     ]
    },
    {
     "name": "stdout",
     "output_type": "stream",
     "text": [
      "Iteration = 30, loop time = 47.053768, time elapsed = 1470.573656\n"
     ]
    },
    {
     "name": "stderr",
     "output_type": "stream",
     "text": [
      "Average Loss = -515.13: 100%|██████████████████████████████████████████████████████| 2000/2000 [00:31<00:00, 63.92it/s]\n"
     ]
    },
    {
     "name": "stdout",
     "output_type": "stream",
     "text": [
      "Iteration = 31, loop time = 50.536936, time elapsed = 1521.111592\n"
     ]
    },
    {
     "name": "stderr",
     "output_type": "stream",
     "text": [
      "Average Loss = -513.88: 100%|██████████████████████████████████████████████████████| 2000/2000 [00:28<00:00, 69.97it/s]\n"
     ]
    },
    {
     "name": "stdout",
     "output_type": "stream",
     "text": [
      "Iteration = 32, loop time = 47.211936, time elapsed = 1568.323528\n"
     ]
    },
    {
     "name": "stderr",
     "output_type": "stream",
     "text": [
      "Average Loss = -513.94: 100%|██████████████████████████████████████████████████████| 2000/2000 [00:28<00:00, 70.21it/s]\n"
     ]
    },
    {
     "name": "stdout",
     "output_type": "stream",
     "text": [
      "Iteration = 33, loop time = 47.424105, time elapsed = 1615.747633\n"
     ]
    },
    {
     "name": "stderr",
     "output_type": "stream",
     "text": [
      "Average Loss = -513.44: 100%|██████████████████████████████████████████████████████| 2000/2000 [00:28<00:00, 69.51it/s]\n"
     ]
    },
    {
     "name": "stdout",
     "output_type": "stream",
     "text": [
      "Iteration = 34, loop time = 47.463141, time elapsed = 1663.210775\n"
     ]
    },
    {
     "name": "stderr",
     "output_type": "stream",
     "text": [
      "Average Loss = -515.37: 100%|██████████████████████████████████████████████████████| 2000/2000 [00:28<00:00, 69.85it/s]\n"
     ]
    },
    {
     "name": "stdout",
     "output_type": "stream",
     "text": [
      "Iteration = 35, loop time = 46.997717, time elapsed = 1710.209493\n"
     ]
    },
    {
     "name": "stderr",
     "output_type": "stream",
     "text": [
      "Average Loss = -513.86: 100%|██████████████████████████████████████████████████████| 2000/2000 [00:28<00:00, 70.38it/s]\n"
     ]
    },
    {
     "name": "stdout",
     "output_type": "stream",
     "text": [
      "Iteration = 36, loop time = 47.441122, time elapsed = 1757.650614\n"
     ]
    },
    {
     "name": "stderr",
     "output_type": "stream",
     "text": [
      "Average Loss = -514.8: 100%|███████████████████████████████████████████████████████| 2000/2000 [00:28<00:00, 69.99it/s]\n",
      "C:\\ProgramData\\Anaconda3\\lib\\site-packages\\numpy\\core\\fromnumeric.py:86: RuntimeWarning: overflow encountered in reduce\n",
      "  return ufunc.reduce(obj, axis, dtype, out, **passkwargs)\n"
     ]
    },
    {
     "name": "stdout",
     "output_type": "stream",
     "text": [
      "Iteration = 37, loop time = 47.391074, time elapsed = 1805.042690\n"
     ]
    },
    {
     "name": "stderr",
     "output_type": "stream",
     "text": [
      "Average Loss = -518.16: 100%|██████████████████████████████████████████████████████| 2000/2000 [00:30<00:00, 64.78it/s]\n"
     ]
    },
    {
     "name": "stdout",
     "output_type": "stream",
     "text": [
      "Iteration = 38, loop time = 50.643031, time elapsed = 1855.685721\n"
     ]
    },
    {
     "name": "stderr",
     "output_type": "stream",
     "text": [
      "Average Loss = -513.65: 100%|██████████████████████████████████████████████████████| 2000/2000 [00:28<00:00, 70.22it/s]\n"
     ]
    },
    {
     "name": "stdout",
     "output_type": "stream",
     "text": [
      "Iteration = 39, loop time = 47.340029, time elapsed = 1903.025750\n"
     ]
    },
    {
     "name": "stderr",
     "output_type": "stream",
     "text": [
      "Average Loss = -515.24: 100%|██████████████████████████████████████████████████████| 2000/2000 [00:28<00:00, 70.02it/s]\n"
     ]
    },
    {
     "name": "stdout",
     "output_type": "stream",
     "text": [
      "Iteration = 40, loop time = 47.773422, time elapsed = 1950.799173\n"
     ]
    },
    {
     "name": "stderr",
     "output_type": "stream",
     "text": [
      "Average Loss = -514.12: 100%|██████████████████████████████████████████████████████| 2000/2000 [00:28<00:00, 70.29it/s]\n"
     ]
    },
    {
     "name": "stdout",
     "output_type": "stream",
     "text": [
      "Iteration = 41, loop time = 47.570239, time elapsed = 1998.369412\n"
     ]
    },
    {
     "name": "stderr",
     "output_type": "stream",
     "text": [
      "Average Loss = -517.44: 100%|██████████████████████████████████████████████████████| 2000/2000 [00:28<00:00, 70.56it/s]\n"
     ]
    },
    {
     "name": "stdout",
     "output_type": "stream",
     "text": [
      "Iteration = 42, loop time = 47.092804, time elapsed = 2045.462216\n"
     ]
    },
    {
     "name": "stderr",
     "output_type": "stream",
     "text": [
      "Average Loss = -513.61: 100%|██████████████████████████████████████████████████████| 2000/2000 [00:28<00:00, 70.66it/s]\n"
     ]
    },
    {
     "name": "stdout",
     "output_type": "stream",
     "text": [
      "Iteration = 43, loop time = 46.365143, time elapsed = 2091.828360\n"
     ]
    },
    {
     "name": "stderr",
     "output_type": "stream",
     "text": [
      "Average Loss = -514.22: 100%|██████████████████████████████████████████████████████| 2000/2000 [00:29<00:00, 68.96it/s]\n"
     ]
    },
    {
     "name": "stdout",
     "output_type": "stream",
     "text": [
      "Iteration = 44, loop time = 48.119737, time elapsed = 2139.948097\n"
     ]
    },
    {
     "name": "stderr",
     "output_type": "stream",
     "text": [
      "Average Loss = -514.13: 100%|██████████████████████████████████████████████████████| 2000/2000 [00:28<00:00, 70.29it/s]\n"
     ]
    },
    {
     "name": "stdout",
     "output_type": "stream",
     "text": [
      "Iteration = 45, loop time = 47.930566, time elapsed = 2187.878663\n"
     ]
    },
    {
     "name": "stderr",
     "output_type": "stream",
     "text": [
      "Average Loss = -514.11: 100%|██████████████████████████████████████████████████████| 2000/2000 [00:28<00:00, 69.96it/s]\n"
     ]
    },
    {
     "name": "stdout",
     "output_type": "stream",
     "text": [
      "Iteration = 46, loop time = 47.074788, time elapsed = 2234.953450\n"
     ]
    },
    {
     "name": "stderr",
     "output_type": "stream",
     "text": [
      "Average Loss = -514.39: 100%|██████████████████████████████████████████████████████| 2000/2000 [00:28<00:00, 69.97it/s]\n"
     ]
    },
    {
     "name": "stdout",
     "output_type": "stream",
     "text": [
      "Iteration = 47, loop time = 47.666326, time elapsed = 2282.619776\n"
     ]
    },
    {
     "name": "stderr",
     "output_type": "stream",
     "text": [
      "Average Loss = -513.16: 100%|██████████████████████████████████████████████████████| 2000/2000 [00:28<00:00, 70.64it/s]\n"
     ]
    },
    {
     "name": "stdout",
     "output_type": "stream",
     "text": [
      "Iteration = 48, loop time = 47.448128, time elapsed = 2330.068904\n"
     ]
    },
    {
     "name": "stderr",
     "output_type": "stream",
     "text": [
      "Average Loss = -516.19: 100%|██████████████████████████████████████████████████████| 2000/2000 [00:28<00:00, 70.26it/s]\n"
     ]
    },
    {
     "name": "stdout",
     "output_type": "stream",
     "text": [
      "Iteration = 49, loop time = 47.603268, time elapsed = 2377.672172\n"
     ]
    },
    {
     "name": "stderr",
     "output_type": "stream",
     "text": [
      "Average Loss = -513.86: 100%|██████████████████████████████████████████████████████| 2000/2000 [00:28<00:00, 70.42it/s]\n"
     ]
    },
    {
     "name": "stdout",
     "output_type": "stream",
     "text": [
      "Iteration = 50, loop time = 47.150858, time elapsed = 2424.823030\n"
     ]
    },
    {
     "name": "stderr",
     "output_type": "stream",
     "text": [
      "Average Loss = -514.33: 100%|██████████████████████████████████████████████████████| 2000/2000 [00:28<00:00, 70.20it/s]\n"
     ]
    },
    {
     "name": "stdout",
     "output_type": "stream",
     "text": [
      "Iteration = 51, loop time = 47.731384, time elapsed = 2472.554414\n"
     ]
    },
    {
     "name": "stderr",
     "output_type": "stream",
     "text": [
      "Average Loss = -513.83: 100%|██████████████████████████████████████████████████████| 2000/2000 [00:28<00:00, 70.43it/s]\n"
     ]
    },
    {
     "name": "stdout",
     "output_type": "stream",
     "text": [
      "Iteration = 52, loop time = 47.641302, time elapsed = 2520.196717\n"
     ]
    },
    {
     "name": "stderr",
     "output_type": "stream",
     "text": [
      "Average Loss = -517.18: 100%|██████████████████████████████████████████████████████| 2000/2000 [00:29<00:00, 68.86it/s]\n"
     ]
    },
    {
     "name": "stdout",
     "output_type": "stream",
     "text": [
      "Iteration = 53, loop time = 47.505824, time elapsed = 2567.703543\n"
     ]
    },
    {
     "name": "stderr",
     "output_type": "stream",
     "text": [
      "Average Loss = -513.63: 100%|██████████████████████████████████████████████████████| 2000/2000 [00:33<00:00, 59.99it/s]\n"
     ]
    },
    {
     "name": "stdout",
     "output_type": "stream",
     "text": [
      "Iteration = 54, loop time = 51.853022, time elapsed = 2619.556565\n"
     ]
    },
    {
     "name": "stderr",
     "output_type": "stream",
     "text": [
      "Average Loss = -513.18: 100%|██████████████████████████████████████████████████████| 2000/2000 [00:29<00:00, 67.67it/s]\n"
     ]
    },
    {
     "name": "stdout",
     "output_type": "stream",
     "text": [
      "Iteration = 55, loop time = 49.392895, time elapsed = 2668.950461\n"
     ]
    },
    {
     "name": "stderr",
     "output_type": "stream",
     "text": [
      "Average Loss = -513.77: 100%|██████████████████████████████████████████████████████| 2000/2000 [00:29<00:00, 67.99it/s]\n"
     ]
    },
    {
     "name": "stdout",
     "output_type": "stream",
     "text": [
      "Iteration = 56, loop time = 48.171904, time elapsed = 2717.122364\n"
     ]
    },
    {
     "name": "stderr",
     "output_type": "stream",
     "text": [
      "Average Loss = -513.46: 100%|██████████████████████████████████████████████████████| 2000/2000 [00:29<00:00, 67.59it/s]\n"
     ]
    },
    {
     "name": "stdout",
     "output_type": "stream",
     "text": [
      "Iteration = 57, loop time = 48.469205, time elapsed = 2765.591569\n"
     ]
    },
    {
     "name": "stderr",
     "output_type": "stream",
     "text": [
      "Average Loss = -513.28: 100%|██████████████████████████████████████████████████████| 2000/2000 [00:29<00:00, 68.04it/s]\n"
     ]
    },
    {
     "name": "stdout",
     "output_type": "stream",
     "text": [
      "Iteration = 58, loop time = 48.192753, time elapsed = 2813.784322\n"
     ]
    },
    {
     "name": "stderr",
     "output_type": "stream",
     "text": [
      "Average Loss = -513.66: 100%|██████████████████████████████████████████████████████| 2000/2000 [00:28<00:00, 69.47it/s]\n"
     ]
    },
    {
     "name": "stdout",
     "output_type": "stream",
     "text": [
      "Iteration = 59, loop time = 47.257340, time elapsed = 2861.041661\n"
     ]
    },
    {
     "name": "stderr",
     "output_type": "stream",
     "text": [
      "Average Loss = -513.72: 100%|██████████████████████████████████████████████████████| 2000/2000 [00:28<00:00, 69.04it/s]\n"
     ]
    },
    {
     "name": "stdout",
     "output_type": "stream",
     "text": [
      "Iteration = 60, loop time = 47.954856, time elapsed = 2908.997518\n"
     ]
    },
    {
     "name": "stderr",
     "output_type": "stream",
     "text": [
      "Average Loss = -515.72: 100%|██████████████████████████████████████████████████████| 2000/2000 [00:28<00:00, 70.55it/s]\n"
     ]
    },
    {
     "name": "stdout",
     "output_type": "stream",
     "text": [
      "Iteration = 61, loop time = 47.562231, time elapsed = 2956.560750\n"
     ]
    },
    {
     "name": "stderr",
     "output_type": "stream",
     "text": [
      "Average Loss = -514.87: 100%|██████████████████████████████████████████████████████| 2000/2000 [00:29<00:00, 68.80it/s]\n"
     ]
    },
    {
     "name": "stdout",
     "output_type": "stream",
     "text": [
      "Iteration = 62, loop time = 47.340434, time elapsed = 3003.901184\n"
     ]
    },
    {
     "name": "stderr",
     "output_type": "stream",
     "text": [
      "Average Loss = -513.11: 100%|██████████████████████████████████████████████████████| 2000/2000 [00:34<00:00, 58.54it/s]\n"
     ]
    },
    {
     "name": "stdout",
     "output_type": "stream",
     "text": [
      "Iteration = 63, loop time = 55.489620, time elapsed = 3059.391805\n"
     ]
    },
    {
     "name": "stderr",
     "output_type": "stream",
     "text": [
      "Average Loss = -514.74: 100%|██████████████████████████████████████████████████████| 2000/2000 [00:30<00:00, 64.73it/s]\n"
     ]
    },
    {
     "name": "stdout",
     "output_type": "stream",
     "text": [
      "Iteration = 64, loop time = 51.550141, time elapsed = 3110.942947\n"
     ]
    },
    {
     "name": "stderr",
     "output_type": "stream",
     "text": [
      "Average Loss = -513.45: 100%|██████████████████████████████████████████████████████| 2000/2000 [00:31<00:00, 63.06it/s]\n"
     ]
    },
    {
     "name": "stdout",
     "output_type": "stream",
     "text": [
      "Iteration = 65, loop time = 51.140229, time elapsed = 3162.084177\n"
     ]
    },
    {
     "name": "stderr",
     "output_type": "stream",
     "text": [
      "Average Loss = -514.09: 100%|██████████████████████████████████████████████████████| 2000/2000 [00:31<00:00, 64.17it/s]\n"
     ]
    },
    {
     "name": "stdout",
     "output_type": "stream",
     "text": [
      "Iteration = 66, loop time = 51.142910, time elapsed = 3213.228087\n"
     ]
    },
    {
     "name": "stderr",
     "output_type": "stream",
     "text": [
      "Average Loss = -513.78: 100%|██████████████████████████████████████████████████████| 2000/2000 [00:32<00:00, 62.39it/s]\n"
     ]
    },
    {
     "name": "stdout",
     "output_type": "stream",
     "text": [
      "Iteration = 67, loop time = 53.277927, time elapsed = 3266.506014\n"
     ]
    },
    {
     "name": "stderr",
     "output_type": "stream",
     "text": [
      "Average Loss = -514.4: 100%|███████████████████████████████████████████████████████| 2000/2000 [00:32<00:00, 62.42it/s]\n"
     ]
    },
    {
     "name": "stdout",
     "output_type": "stream",
     "text": [
      "Iteration = 68, loop time = 52.210737, time elapsed = 3318.717752\n"
     ]
    },
    {
     "name": "stderr",
     "output_type": "stream",
     "text": [
      "Average Loss = -514.5: 100%|███████████████████████████████████████████████████████| 2000/2000 [00:31<00:00, 63.11it/s]\n"
     ]
    },
    {
     "name": "stdout",
     "output_type": "stream",
     "text": [
      "Iteration = 69, loop time = 52.261819, time elapsed = 3370.980572\n"
     ]
    },
    {
     "name": "stderr",
     "output_type": "stream",
     "text": [
      "Average Loss = -513.95: 100%|██████████████████████████████████████████████████████| 2000/2000 [00:31<00:00, 62.55it/s]\n"
     ]
    },
    {
     "name": "stdout",
     "output_type": "stream",
     "text": [
      "Iteration = 70, loop time = 53.369777, time elapsed = 3424.350349\n"
     ]
    },
    {
     "name": "stderr",
     "output_type": "stream",
     "text": [
      "Average Loss = -515.76: 100%|██████████████████████████████████████████████████████| 2000/2000 [00:32<00:00, 62.50it/s]\n"
     ]
    },
    {
     "name": "stdout",
     "output_type": "stream",
     "text": [
      "Iteration = 71, loop time = 52.120374, time elapsed = 3476.470723\n"
     ]
    },
    {
     "name": "stderr",
     "output_type": "stream",
     "text": [
      "Average Loss = -513.83: 100%|██████████████████████████████████████████████████████| 2000/2000 [00:33<00:00, 59.41it/s]\n"
     ]
    },
    {
     "name": "stdout",
     "output_type": "stream",
     "text": [
      "Iteration = 72, loop time = 54.354950, time elapsed = 3530.825673\n"
     ]
    },
    {
     "name": "stderr",
     "output_type": "stream",
     "text": [
      "Average Loss = -513.74: 100%|██████████████████████████████████████████████████████| 2000/2000 [00:31<00:00, 62.59it/s]\n"
     ]
    },
    {
     "name": "stdout",
     "output_type": "stream",
     "text": [
      "Iteration = 73, loop time = 52.642680, time elapsed = 3583.468353\n"
     ]
    },
    {
     "name": "stderr",
     "output_type": "stream",
     "text": [
      "Average Loss = -514.02: 100%|██████████████████████████████████████████████████████| 2000/2000 [00:31<00:00, 63.67it/s]\n"
     ]
    },
    {
     "name": "stdout",
     "output_type": "stream",
     "text": [
      "Iteration = 74, loop time = 51.683528, time elapsed = 3635.151881\n"
     ]
    },
    {
     "name": "stderr",
     "output_type": "stream",
     "text": [
      "Average Loss = -513.11: 100%|██████████████████████████████████████████████████████| 2000/2000 [00:31<00:00, 63.42it/s]\n"
     ]
    },
    {
     "name": "stdout",
     "output_type": "stream",
     "text": [
      "Iteration = 75, loop time = 52.538048, time elapsed = 3687.689929\n"
     ]
    },
    {
     "name": "stderr",
     "output_type": "stream",
     "text": [
      "Average Loss = -513.36: 100%|██████████████████████████████████████████████████████| 2000/2000 [00:31<00:00, 63.55it/s]\n"
     ]
    },
    {
     "name": "stdout",
     "output_type": "stream",
     "text": [
      "Iteration = 76, loop time = 51.171606, time elapsed = 3738.861535\n"
     ]
    },
    {
     "name": "stderr",
     "output_type": "stream",
     "text": [
      "Average Loss = -513.44: 100%|██████████████████████████████████████████████████████| 2000/2000 [00:32<00:00, 61.93it/s]\n"
     ]
    },
    {
     "name": "stdout",
     "output_type": "stream",
     "text": [
      "Iteration = 77, loop time = 52.727385, time elapsed = 3791.589921\n"
     ]
    },
    {
     "name": "stderr",
     "output_type": "stream",
     "text": [
      "Average Loss = -514.05: 100%|██████████████████████████████████████████████████████| 2000/2000 [00:35<00:00, 55.77it/s]\n"
     ]
    },
    {
     "name": "stdout",
     "output_type": "stream",
     "text": [
      "Iteration = 78, loop time = 57.372335, time elapsed = 3848.962257\n"
     ]
    },
    {
     "name": "stderr",
     "output_type": "stream",
     "text": [
      "Average Loss = -513.47: 100%|██████████████████████████████████████████████████████| 2000/2000 [00:30<00:00, 64.81it/s]\n"
     ]
    },
    {
     "name": "stdout",
     "output_type": "stream",
     "text": [
      "Iteration = 79, loop time = 51.874896, time elapsed = 3900.837153\n"
     ]
    },
    {
     "name": "stderr",
     "output_type": "stream",
     "text": [
      "Average Loss = -514.19: 100%|██████████████████████████████████████████████████████| 2000/2000 [00:30<00:00, 65.59it/s]\n"
     ]
    },
    {
     "name": "stdout",
     "output_type": "stream",
     "text": [
      "Iteration = 80, loop time = 50.562294, time elapsed = 3951.400448\n"
     ]
    },
    {
     "name": "stderr",
     "output_type": "stream",
     "text": [
      "Average Loss = -515.37: 100%|██████████████████████████████████████████████████████| 2000/2000 [00:30<00:00, 65.04it/s]\n"
     ]
    },
    {
     "name": "stdout",
     "output_type": "stream",
     "text": [
      "Iteration = 81, loop time = 51.471315, time elapsed = 4002.872764\n"
     ]
    },
    {
     "name": "stderr",
     "output_type": "stream",
     "text": [
      "Average Loss = -514.58: 100%|██████████████████████████████████████████████████████| 2000/2000 [00:30<00:00, 64.87it/s]\n"
     ]
    },
    {
     "name": "stdout",
     "output_type": "stream",
     "text": [
      "Iteration = 82, loop time = 51.005347, time elapsed = 4053.878110\n"
     ]
    },
    {
     "name": "stderr",
     "output_type": "stream",
     "text": [
      "Average Loss = -513.12: 100%|██████████████████████████████████████████████████████| 2000/2000 [00:30<00:00, 64.91it/s]\n"
     ]
    },
    {
     "name": "stdout",
     "output_type": "stream",
     "text": [
      "Iteration = 83, loop time = 50.302752, time elapsed = 4104.180862\n"
     ]
    },
    {
     "name": "stderr",
     "output_type": "stream",
     "text": [
      "Average Loss = -515.39: 100%|██████████████████████████████████████████████████████| 2000/2000 [00:30<00:00, 65.11it/s]\n"
     ]
    },
    {
     "name": "stdout",
     "output_type": "stream",
     "text": [
      "Iteration = 84, loop time = 50.021742, time elapsed = 4154.203605\n"
     ]
    },
    {
     "name": "stderr",
     "output_type": "stream",
     "text": [
      "Average Loss = -514.28: 100%|██████████████████████████████████████████████████████| 2000/2000 [00:31<00:00, 63.90it/s]\n"
     ]
    },
    {
     "name": "stdout",
     "output_type": "stream",
     "text": [
      "Iteration = 85, loop time = 51.784717, time elapsed = 4205.989323\n"
     ]
    },
    {
     "name": "stderr",
     "output_type": "stream",
     "text": [
      "Average Loss = -513.47: 100%|██████████████████████████████████████████████████████| 2000/2000 [00:36<00:00, 55.50it/s]\n"
     ]
    },
    {
     "name": "stdout",
     "output_type": "stream",
     "text": [
      "Iteration = 86, loop time = 57.432662, time elapsed = 4263.421986\n"
     ]
    },
    {
     "name": "stderr",
     "output_type": "stream",
     "text": [
      "Average Loss = -513.75: 100%|██████████████████████████████████████████████████████| 2000/2000 [00:31<00:00, 64.31it/s]\n"
     ]
    },
    {
     "name": "stdout",
     "output_type": "stream",
     "text": [
      "Iteration = 87, loop time = 52.177261, time elapsed = 4315.599246\n"
     ]
    },
    {
     "name": "stderr",
     "output_type": "stream",
     "text": [
      "Average Loss = -513.03: 100%|██████████████████████████████████████████████████████| 2000/2000 [00:30<00:00, 64.80it/s]\n"
     ]
    },
    {
     "name": "stdout",
     "output_type": "stream",
     "text": [
      "Iteration = 88, loop time = 50.998254, time elapsed = 4366.598502\n"
     ]
    },
    {
     "name": "stderr",
     "output_type": "stream",
     "text": [
      "Average Loss = -513.37: 100%|██████████████████████████████████████████████████████| 2000/2000 [00:31<00:00, 64.51it/s]\n"
     ]
    },
    {
     "name": "stdout",
     "output_type": "stream",
     "text": [
      "Iteration = 89, loop time = 51.771689, time elapsed = 4418.370191\n"
     ]
    },
    {
     "name": "stderr",
     "output_type": "stream",
     "text": [
      "Average Loss = -514.33: 100%|██████████████████████████████████████████████████████| 2000/2000 [00:32<00:00, 62.05it/s]\n"
     ]
    },
    {
     "name": "stdout",
     "output_type": "stream",
     "text": [
      "Iteration = 90, loop time = 54.372306, time elapsed = 4472.743498\n"
     ]
    },
    {
     "name": "stderr",
     "output_type": "stream",
     "text": [
      "Average Loss = -513.82: 100%|██████████████████████████████████████████████████████| 2000/2000 [00:31<00:00, 62.74it/s]\n"
     ]
    },
    {
     "name": "stdout",
     "output_type": "stream",
     "text": [
      "Iteration = 91, loop time = 52.200850, time elapsed = 4524.944348\n"
     ]
    },
    {
     "name": "stderr",
     "output_type": "stream",
     "text": [
      "Average Loss = -513.76: 100%|██████████████████████████████████████████████████████| 2000/2000 [00:31<00:00, 64.17it/s]\n"
     ]
    },
    {
     "name": "stdout",
     "output_type": "stream",
     "text": [
      "Iteration = 92, loop time = 51.605730, time elapsed = 4576.550078\n"
     ]
    },
    {
     "name": "stderr",
     "output_type": "stream",
     "text": [
      "Average Loss = -513.41: 100%|██████████████████████████████████████████████████████| 2000/2000 [00:31<00:00, 63.42it/s]\n"
     ]
    },
    {
     "name": "stdout",
     "output_type": "stream",
     "text": [
      "Iteration = 93, loop time = 51.457272, time elapsed = 4628.007350\n"
     ]
    },
    {
     "name": "stderr",
     "output_type": "stream",
     "text": [
      "Average Loss = -513.87: 100%|██████████████████████████████████████████████████████| 2000/2000 [00:31<00:00, 63.81it/s]\n"
     ]
    },
    {
     "name": "stdout",
     "output_type": "stream",
     "text": [
      "Iteration = 94, loop time = 51.818455, time elapsed = 4679.825805\n"
     ]
    },
    {
     "name": "stderr",
     "output_type": "stream",
     "text": [
      "Average Loss = -513.34: 100%|██████████████████████████████████████████████████████| 2000/2000 [00:31<00:00, 63.98it/s]\n"
     ]
    },
    {
     "name": "stdout",
     "output_type": "stream",
     "text": [
      "Iteration = 95, loop time = 51.417348, time elapsed = 4731.243154\n"
     ]
    },
    {
     "name": "stderr",
     "output_type": "stream",
     "text": [
      "Average Loss = -516.04: 100%|██████████████████████████████████████████████████████| 2000/2000 [00:31<00:00, 64.20it/s]\n"
     ]
    },
    {
     "name": "stdout",
     "output_type": "stream",
     "text": [
      "Iteration = 96, loop time = 51.200664, time elapsed = 4782.443818\n"
     ]
    },
    {
     "name": "stderr",
     "output_type": "stream",
     "text": [
      "Average Loss = -515.21: 100%|██████████████████████████████████████████████████████| 2000/2000 [00:31<00:00, 63.08it/s]\n"
     ]
    },
    {
     "name": "stdout",
     "output_type": "stream",
     "text": [
      "Iteration = 97, loop time = 52.769781, time elapsed = 4835.213599\n"
     ]
    },
    {
     "name": "stderr",
     "output_type": "stream",
     "text": [
      "Average Loss = -515.82: 100%|██████████████████████████████████████████████████████| 2000/2000 [00:33<00:00, 60.36it/s]\n"
     ]
    },
    {
     "name": "stdout",
     "output_type": "stream",
     "text": [
      "Iteration = 98, loop time = 54.855302, time elapsed = 4890.069902\n"
     ]
    },
    {
     "name": "stderr",
     "output_type": "stream",
     "text": [
      "Average Loss = -514.85: 100%|██████████████████████████████████████████████████████| 2000/2000 [00:31<00:00, 64.35it/s]\n"
     ]
    },
    {
     "name": "stdout",
     "output_type": "stream",
     "text": [
      "Iteration = 99, loop time = 51.526328, time elapsed = 4941.597231\n",
      "Total time taken: 4941.597231\n"
     ]
    }
   ],
   "source": [
    "start = time.time()\n",
    "for i in range(M):\n",
    "    start_loop = time.time()\n",
    "    \n",
    "    # sample from prior    \n",
    "    btemp = np.random.randn(1, D)\n",
    "    mtemp = np.dot(x.values, np.transpose(btemp))\n",
    "    stemp = abs(np.random.standard_cauchy(1))\n",
    "    ytemp = mtemp + stemp\n",
    "    \n",
    "    datatemp = dict(N=N, D=D, x=x, y=y)\n",
    "    fittemp = regression_model.sampling(data=datatemp, iter=20000, thin=20, chains=10)\n",
    "    stan_log_density_temp = make_stan_log_density(fittemp)\n",
    "    \n",
    "    chivi_objective_and_grad_temp = black_box_chivi(2, mf_gaussian_var_family, stan_log_density_temp, 200)\n",
    "    \n",
    "    init_var_param = klvi_temp_var_param.copy()\n",
    "    # run chivi\n",
    "    chivi_temp_var_param, _, _, _ = \\\n",
    "        adagrad_optimize(n_iters, chivi_objective_and_grad_temp, init_var_param, learning_rate=5e-4)\n",
    "    \n",
    "    # store files for later\n",
    "    chivi_samples_temp, chivi_slw_temp, chivi_lw_temp, chivi_khat_temp = \\\n",
    "        psis_correction(stan_log_density, mf_gaussian_var_family, chivi_var_param, mc_samples)\n",
    "    \n",
    "    with open(\"./data/chivi_psis_\"+str(i)+\".pkl\", 'wb') as f:\n",
    "        pickle.dump([btemp, stemp, chivi_samples_temp, chivi_slw_temp, chivi_lw_temp, chivi_khat_temp, chivi_var_param], f)\n",
    "    \n",
    "    \n",
    "    ##################################################################\n",
    "    ##################################################################\n",
    "    # can remove this part and do it later with the pickled data file\n",
    "    \n",
    "    # extract beta mean and std\n",
    "    b_mean_temp = chivi_temp_var_param[:D]\n",
    "    b_std_temp = np.exp(chivi_temp_var_param[D+1:][0:D])\n",
    "    \n",
    "    # generate 1000 sample from the variational family\n",
    "    nn = 1000\n",
    "    sample_temp = mf_gaussian_var_family.sample(chivi_temp_var_param, nn)\n",
    "    \n",
    "    # compute log sigma of the samples\n",
    "    logs_sample_temp = []\n",
    "    for j in range(nn):\n",
    "        logs_sample_temp.append(sample_temp[j][-1])\n",
    "    logs_sample_temp = np.array(logs_sample_temp)\n",
    "    logs_sample_temp = np.log(logs_sample_temp)\n",
    "    \n",
    "    # get the cdf values\n",
    "    chivi_probs[0:D, i] = norm.cdf(btemp, b_mean_temp[0:D], b_std_temp[0:D])\n",
    "    chivi_probs[D, i] = norm.cdf(np.log(stemp), np.mean(logs_sample_temp), np.std(logs_sample_temp))\n",
    "    \n",
    "    ##################################################################\n",
    "    ##################################################################\n",
    "    \n",
    "    end_loop = time.time()\n",
    "    print(\"Iteration = %i, loop time = %f, time elapsed = %f\" % (i, end_loop-start_loop, end_loop-start))\n",
    "    \n",
    "end = time.time()\n",
    "print(\"Total time taken: %f\" % (end-start))"
   ]
  },
  {
   "cell_type": "code",
   "execution_count": 50,
   "metadata": {},
   "outputs": [
    {
     "data": {
      "image/png": "[encoded data removed]",
      "text/plain": [
       "<Figure size 432x288 with 1 Axes>"
      ]
     },
     "metadata": {
      "needs_background": "light"
     },
     "output_type": "display_data"
    }
   ],
   "source": [
    "plt.hist(chivi_probs[1,:], bins=10, density=True, range=(0,1))\n",
    "plt.show()"
   ]
  },
  {
   "cell_type": "code",
   "execution_count": 51,
   "metadata": {},
   "outputs": [
    {
     "data": {
      "image/png": "[encoded data removed]",
      "text/plain": [
       "<Figure size 432x288 with 1 Axes>"
      ]
     },
     "metadata": {
      "needs_background": "light"
     },
     "output_type": "display_data"
    }
   ],
   "source": [
    "plt.hist(chivi_probs[10,:], bins=10, density=True, range=(0,1))\n",
    "plt.show()"
   ]
  },
  {
   "cell_type": "code",
   "execution_count": 52,
   "metadata": {},
   "outputs": [
    {
     "data": {
      "image/png": "[encoded data removed]",
      "text/plain": [
       "<Figure size 432x288 with 1 Axes>"
      ]
     },
     "metadata": {
      "needs_background": "light"
     },
     "output_type": "display_data"
    }
   ],
   "source": [
    "plt.hist(chivi_probs[D-1,:], bins=10, density=True, range=(0,1))\n",
    "plt.show()"
   ]
  },
  {
   "cell_type": "code",
   "execution_count": 53,
   "metadata": {},
   "outputs": [
    {
     "data": {
      "image/png": "[encoded data removed]",
      "text/plain": [
       "<Figure size 432x288 with 1 Axes>"
      ]
     },
     "metadata": {
      "needs_background": "light"
     },
     "output_type": "display_data"
    }
   ],
   "source": [
    "plt.hist(chivi_probs[D,:], bins=10, density=True, range=(0,1))\n",
    "plt.show()"
   ]
  },
  {
   "cell_type": "code",
   "execution_count": 54,
   "metadata": {},
   "outputs": [],
   "source": [
    "np.savetxt(\"./data/chivi_probs.csv\", chivi_probs, delimiter=\",\")"
   ]
  },
  {
   "cell_type": "markdown",
   "metadata": {},
   "source": [
    "# Misc: testing other algorithms"
   ]
  },
  {
   "cell_type": "markdown",
   "metadata": {},
   "source": [
    "## KLVI Non-mean field full-rank "
   ]
  },
  {
   "cell_type": "code",
   "execution_count": 55,
   "metadata": {},
   "outputs": [
    {
     "name": "stderr",
     "output_type": "stream",
     "text": [
      "Average Loss = 531.32: 100%|██████████████████████████████████████████████████████| 2000/2000 [00:14<00:00, 142.34it/s]\n"
     ]
    }
   ],
   "source": [
    "t_var_family = t_variational_family(D+1, 100)\n",
    "full_klvi_objective_and_grad = black_box_klvi(t_var_family, stan_log_density, 100)\n",
    "\n",
    "init_var_param = np.zeros(t_var_family.var_param_dim)\n",
    "\n",
    "full_klvi_var_param, full_klvi_param_history, full_klvi_history, _ = \\\n",
    "    adagrad_optimize(n_iters, full_klvi_objective_and_grad, init_var_param, \n",
    "                     learning_rate=.1, learning_rate_end=.001)"
   ]
  },
  {
   "cell_type": "code",
   "execution_count": 56,
   "metadata": {},
   "outputs": [
    {
     "data": {
      "image/png": "[encoded data removed]",
      "text/plain": [
       "<Figure size 432x288 with 1 Axes>"
      ]
     },
     "metadata": {
      "needs_background": "light"
     },
     "output_type": "display_data"
    }
   ],
   "source": [
    "plot_dist_to_opt_param(full_klvi_param_history, full_klvi_var_param)"
   ]
  },
  {
   "cell_type": "code",
   "execution_count": 57,
   "metadata": {},
   "outputs": [],
   "source": [
    "full_klvi_samples, full_klvi_slw, full_klvi_lw, full_klvi_khat = \\\n",
    "    psis_correction(stan_log_density, t_var_family, full_klvi_var_param, mc_samples)"
   ]
  },
  {
   "cell_type": "code",
   "execution_count": 58,
   "metadata": {},
   "outputs": [
    {
     "name": "stdout",
     "output_type": "stream",
     "text": [
      "0.10309314857385614\n"
     ]
    }
   ],
   "source": [
    "print(full_klvi_khat)"
   ]
  },
  {
   "cell_type": "code",
   "execution_count": 59,
   "metadata": {
    "scrolled": false
   },
   "outputs": [
    {
     "data": {
      "text/plain": [
       "array([-11.35994749, -11.05446047, -11.30832023, ..., -11.49671793,\n",
       "       -11.84537894, -11.41605186])"
      ]
     },
     "execution_count": 59,
     "metadata": {},
     "output_type": "execute_result"
    }
   ],
   "source": [
    "full_klvi_slw"
   ]
  },
  {
   "cell_type": "code",
   "execution_count": 60,
   "metadata": {},
   "outputs": [
    {
     "data": {
      "text/plain": [
       "array([-509.6775712 , -509.37208418, -509.62594394, ..., -509.81434164,\n",
       "       -510.16300265, -509.73367557])"
      ]
     },
     "execution_count": 60,
     "metadata": {},
     "output_type": "execute_result"
    }
   ],
   "source": [
    "full_klvi_lw"
   ]
  },
  {
   "cell_type": "markdown",
   "metadata": {},
   "source": [
    "## KLVI Mean field with t distribution (df=40)"
   ]
  },
  {
   "cell_type": "code",
   "execution_count": 58,
   "metadata": {},
   "outputs": [],
   "source": [
    "# mf_t_var_family = mean_field_t_variational_family(D+1, 40)\n",
    "# klvi_objective_and_grad = black_box_klvi(mf_t_var_family, stan_log_density, 100)\n",
    "\n",
    "# klvi_t_var_param, klvi_t_param_history, klvi_t_history, _ = \\\n",
    "#     adagrad_optimize(n_iters, klvi_objective_and_grad, init_var_param, learning_rate=.01)"
   ]
  },
  {
   "cell_type": "code",
   "execution_count": 59,
   "metadata": {},
   "outputs": [],
   "source": [
    "#plot_dist_to_opt_param(klvi_t_param_history, klvi_t_var_param)"
   ]
  },
  {
   "cell_type": "code",
   "execution_count": 60,
   "metadata": {},
   "outputs": [],
   "source": [
    "#check_approx_accuracy(mf_t_var_family, klvi_t_var_param, true_mean, true_cov, verbose=True);"
   ]
  },
  {
   "cell_type": "code",
   "execution_count": 61,
   "metadata": {},
   "outputs": [],
   "source": [
    "#klvi_t_samples, klvi_t_slw, klvi_t_khat = \\\n",
    "#    psis_correction(stan_log_density, mf_t_var_family, klvi_t_var_param, mc_samples)"
   ]
  },
  {
   "cell_type": "code",
   "execution_count": 62,
   "metadata": {},
   "outputs": [],
   "source": [
    "#print(klvi_t_khat)"
   ]
  },
  {
   "cell_type": "code",
   "execution_count": 63,
   "metadata": {},
   "outputs": [],
   "source": [
    "#klvi_t_slw"
   ]
  },
  {
   "cell_type": "markdown",
   "metadata": {},
   "source": [
    "## CHIVI Mean field with t distribution (df=40)"
   ]
  },
  {
   "cell_type": "code",
   "execution_count": 64,
   "metadata": {},
   "outputs": [],
   "source": [
    "# mf_t_var_family = mean_field_t_variational_family(D+1, 40)\n",
    "# chivi_objective_and_grad = black_box_chivi(2, mf_t_var_family, stan_log_density, 400)\n",
    "\n",
    "# init_var_param = klvi_var_param.copy()\n",
    "# init_var_param[2:] += 3\n",
    "\n",
    "# chivi_t_var_param, chivi_t_param_history, chivi_t_history, _ = \\\n",
    "#     adagrad_optimize(n_iters, chivi_objective_and_grad, init_var_param, learning_rate=.01)"
   ]
  },
  {
   "cell_type": "code",
   "execution_count": 65,
   "metadata": {},
   "outputs": [],
   "source": [
    "# plot_dist_to_opt_param(chivi_t_param_history, chivi_t_var_param)"
   ]
  },
  {
   "cell_type": "code",
   "execution_count": 66,
   "metadata": {},
   "outputs": [],
   "source": [
    "# chivi_t_samples, chivi_t_slw, chivi_t_khat = \\\n",
    "#     psis_correction(stan_log_density, mf_t_var_family, chivi_t_var_param, mc_samples)"
   ]
  },
  {
   "cell_type": "code",
   "execution_count": 67,
   "metadata": {},
   "outputs": [],
   "source": [
    "# print(chivi_t_khat)"
   ]
  },
  {
   "cell_type": "code",
   "execution_count": 68,
   "metadata": {},
   "outputs": [],
   "source": [
    "# chivi_t_slw"
   ]
  },
  {
   "cell_type": "markdown",
   "metadata": {},
   "source": [
    "### CHIVI full rank"
   ]
  },
  {
   "cell_type": "code",
   "execution_count": 69,
   "metadata": {},
   "outputs": [],
   "source": [
    "# t_var_family = t_variational_family(D+1, 100)\n",
    "# full_chivi_objective_and_grad = black_box_chivi(2, t_var_family, stan_log_density, 400)\n",
    "\n",
    "# init_var_param = full_klvi_var_param.copy()\n",
    "# init_var_param[2:] += 3\n",
    "\n",
    "# full_chivi_var_param, full_chivi_param_history, full_chivi_history, _ = \\\n",
    "#     adagrad_optimize(n_iters, full_chivi_objective_and_grad, init_var_param, \n",
    "#                      learning_rate=.1, learning_rate_end=.001)"
   ]
  },
  {
   "cell_type": "code",
   "execution_count": 70,
   "metadata": {},
   "outputs": [],
   "source": [
    "#plot_dist_to_opt_param(full_chivi_param_history, full_chivi_var_param)"
   ]
  },
  {
   "cell_type": "code",
   "execution_count": 71,
   "metadata": {},
   "outputs": [],
   "source": [
    "#full_chivi_samples, full_chivi_slw, full_chivi_khat = \\\n",
    "#    psis_correction(stan_log_density, t_var_family, full_chivi_var_param, mc_samples)"
   ]
  },
  {
   "cell_type": "code",
   "execution_count": 72,
   "metadata": {},
   "outputs": [],
   "source": [
    "#print(full_chivi_khat)"
   ]
  },
  {
   "cell_type": "code",
   "execution_count": 73,
   "metadata": {},
   "outputs": [],
   "source": [
    "#full_chivi_slw"
   ]
  }
 ],
 "metadata": {
  "kernelspec": {
   "display_name": "Python 3",
   "language": "python",
   "name": "python3"
  },
  "language_info": {
   "codemirror_mode": {
    "name": "ipython",
    "version": 3
   },
   "file_extension": ".py",
   "mimetype": "text/x-python",
   "name": "python",
   "nbconvert_exporter": "python",
   "pygments_lexer": "ipython3",
   "version": "3.7.3"
  }
 },
 "nbformat": 4,
 "nbformat_minor": 2
}
