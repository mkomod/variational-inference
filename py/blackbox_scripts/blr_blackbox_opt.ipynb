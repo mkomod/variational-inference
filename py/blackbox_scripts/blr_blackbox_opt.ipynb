{
 "cells": [
  {
   "cell_type": "markdown",
   "metadata": {},
   "source": [
    "Code is based on https://github.com/jhuggins/viabel"
   ]
  },
  {
   "cell_type": "code",
   "execution_count": 1,
   "metadata": {},
   "outputs": [
    {
     "name": "stderr",
     "output_type": "stream",
     "text": [
      "C:\\ProgramData\\Anaconda3\\lib\\site-packages\\statsmodels\\tools\\_testing.py:19: FutureWarning: pandas.util.testing is deprecated. Use the functions in the public API at pandas.testing instead.\n",
      "  import pandas.util.testing as tm\n"
     ]
    }
   ],
   "source": [
    "import pickle\n",
    "import pystan\n",
    "import autograd.numpy as np\n",
    "\n",
    "from viabel.objectives import (black_box_klvi,\n",
    "                               black_box_chivi)\n",
    "\n",
    "from viabel.family import (mean_field_gaussian_variational_family,\n",
    "                           mean_field_t_variational_family,\n",
    "                           t_variational_family)\n",
    "\n",
    "from viabel.models import make_stan_log_density\n",
    "from viabel.optimization import adagrad_optimize\n",
    "from experiments import (plot_dist_to_opt_param,\n",
    "                         check_approx_accuracy,\n",
    "                         psis_correction)\n",
    "\n",
    "import pandas as pd\n",
    "import time\n",
    "from autograd.scipy.stats import norm\n",
    "import matplotlib.pyplot as plt"
   ]
  },
  {
   "cell_type": "markdown",
   "metadata": {},
   "source": [
    "Define the model"
   ]
  },
  {
   "cell_type": "code",
   "execution_count": 2,
   "metadata": {},
   "outputs": [],
   "source": [
    "test_model = \"\"\"data {\n",
    "  int<lower=0> N;   // number of observations\n",
    "  int <lower=0> D;  // number of predictors\n",
    "  matrix[N, D] x;   // predictor matrix\n",
    "  vector[N] y;      // outcome vector\n",
    "}\n",
    "\n",
    "parameters {\n",
    "  vector[D] beta;        // coefficients for predictors\n",
    "  real <lower=0> sigma;  // variance\n",
    "}\n",
    "\n",
    "model {\n",
    "   beta ~ normal(0,1);\n",
    "   sigma ~ gamma(0.5,0.5);\n",
    "   y ~ normal(x * beta, sigma);\n",
    "}\"\"\""
   ]
  },
  {
   "cell_type": "markdown",
   "metadata": {},
   "source": [
    "Generate or open existing a pkl file of the model"
   ]
  },
  {
   "cell_type": "code",
   "execution_count": 3,
   "metadata": {},
   "outputs": [],
   "source": [
    "compiled_model_file = 'blr_reg_model.pkl'\n",
    "\n",
    "try:\n",
    "    with open(compiled_model_file, 'rb') as f:\n",
    "        regression_model = pickle.load(f)\n",
    "except:\n",
    "    regression_model = pystan.StanModel(model_code=test_model,\n",
    "                                        model_name='regression_model')\n",
    "    with open('blr_reg_model.pkl', 'wb') as f:\n",
    "        pickle.dump(regression_model, f)"
   ]
  },
  {
   "cell_type": "markdown",
   "metadata": {},
   "source": [
    "Get data"
   ]
  },
  {
   "cell_type": "code",
   "execution_count": 4,
   "metadata": {},
   "outputs": [],
   "source": [
    "# SYNTHETIC\n",
    "# np.random.seed(1234)\n",
    "\n",
    "# N = 1000\n",
    "# D = 10\n",
    "# beta_gen = np.random.randn(D, 1)\n",
    "# sigma_gen = np.random.gamma(1, 1, 1)\n",
    "\n",
    "# x = np.random.randn(N, D)\n",
    "# y_raw = x.dot(beta_gen) + np.random.randn(N, 1)*np.sqrt(sigma_gen)\n",
    "# y = y_raw - np.mean(y_raw)\n",
    "# # convert from Nx1 matrix to Nx1 vector\n",
    "# y = y.flatten()"
   ]
  },
  {
   "cell_type": "code",
   "execution_count": 5,
   "metadata": {},
   "outputs": [],
   "source": [
    "#print(beta_gen)"
   ]
  },
  {
   "cell_type": "code",
   "execution_count": 6,
   "metadata": {},
   "outputs": [],
   "source": [
    "#print(sigma_gen)"
   ]
  },
  {
   "cell_type": "markdown",
   "metadata": {},
   "source": [
    "Import the dataset"
   ]
  },
  {
   "cell_type": "code",
   "execution_count": 7,
   "metadata": {},
   "outputs": [
    {
     "data": {
      "text/html": [
       "<div>\n",
       "<style scoped>\n",
       "    .dataframe tbody tr th:only-of-type {\n",
       "        vertical-align: middle;\n",
       "    }\n",
       "\n",
       "    .dataframe tbody tr th {\n",
       "        vertical-align: top;\n",
       "    }\n",
       "\n",
       "    .dataframe thead th {\n",
       "        text-align: right;\n",
       "    }\n",
       "</style>\n",
       "<table border=\"1\" class=\"dataframe\">\n",
       "  <thead>\n",
       "    <tr style=\"text-align: right;\">\n",
       "      <th></th>\n",
       "      <th>Bodyfat</th>\n",
       "      <th>Age</th>\n",
       "      <th>Weight</th>\n",
       "      <th>Height</th>\n",
       "      <th>Neck</th>\n",
       "      <th>Chest</th>\n",
       "      <th>Abdomen</th>\n",
       "      <th>Hip</th>\n",
       "      <th>Thigh</th>\n",
       "      <th>Knee</th>\n",
       "      <th>Ankle</th>\n",
       "      <th>Biceps</th>\n",
       "      <th>Forearm</th>\n",
       "      <th>Wrist</th>\n",
       "    </tr>\n",
       "  </thead>\n",
       "  <tbody>\n",
       "    <tr>\n",
       "      <th>0</th>\n",
       "      <td>-6.850794</td>\n",
       "      <td>-21.884921</td>\n",
       "      <td>-24.674405</td>\n",
       "      <td>-2.39881</td>\n",
       "      <td>-1.792063</td>\n",
       "      <td>-7.724206</td>\n",
       "      <td>-7.355952</td>\n",
       "      <td>-5.404762</td>\n",
       "      <td>-0.405952</td>\n",
       "      <td>-1.290476</td>\n",
       "      <td>-1.202381</td>\n",
       "      <td>-0.273413</td>\n",
       "      <td>-1.263889</td>\n",
       "      <td>-1.129762</td>\n",
       "    </tr>\n",
       "    <tr>\n",
       "      <th>1</th>\n",
       "      <td>-13.050794</td>\n",
       "      <td>-22.884921</td>\n",
       "      <td>-5.674405</td>\n",
       "      <td>2.10119</td>\n",
       "      <td>0.507937</td>\n",
       "      <td>-7.224206</td>\n",
       "      <td>-9.555952</td>\n",
       "      <td>-1.204762</td>\n",
       "      <td>-0.705952</td>\n",
       "      <td>-1.290476</td>\n",
       "      <td>0.297619</td>\n",
       "      <td>-1.773413</td>\n",
       "      <td>0.236111</td>\n",
       "      <td>-0.029762</td>\n",
       "    </tr>\n",
       "    <tr>\n",
       "      <th>2</th>\n",
       "      <td>6.149206</td>\n",
       "      <td>-22.884921</td>\n",
       "      <td>-24.924405</td>\n",
       "      <td>-3.89881</td>\n",
       "      <td>-3.992063</td>\n",
       "      <td>-5.024206</td>\n",
       "      <td>-4.655952</td>\n",
       "      <td>-0.704762</td>\n",
       "      <td>0.194048</td>\n",
       "      <td>0.309524</td>\n",
       "      <td>0.897619</td>\n",
       "      <td>-3.473413</td>\n",
       "      <td>-3.463889</td>\n",
       "      <td>-1.629762</td>\n",
       "    </tr>\n",
       "  </tbody>\n",
       "</table>\n",
       "</div>"
      ],
      "text/plain": [
       "     Bodyfat        Age     Weight   Height      Neck     Chest   Abdomen  \\\n",
       "0  -6.850794 -21.884921 -24.674405 -2.39881 -1.792063 -7.724206 -7.355952   \n",
       "1 -13.050794 -22.884921  -5.674405  2.10119  0.507937 -7.224206 -9.555952   \n",
       "2   6.149206 -22.884921 -24.924405 -3.89881 -3.992063 -5.024206 -4.655952   \n",
       "\n",
       "        Hip     Thigh      Knee     Ankle    Biceps   Forearm     Wrist  \n",
       "0 -5.404762 -0.405952 -1.290476 -1.202381 -0.273413 -1.263889 -1.129762  \n",
       "1 -1.204762 -0.705952 -1.290476  0.297619 -1.773413  0.236111 -0.029762  \n",
       "2 -0.704762  0.194048  0.309524  0.897619 -3.473413 -3.463889 -1.629762  "
      ]
     },
     "execution_count": 7,
     "metadata": {},
     "output_type": "execute_result"
    }
   ],
   "source": [
    "data = pd.read_csv(\"bodyfat.csv\").drop(\"Density\", axis=1)\n",
    "data = data - data.mean()\n",
    "data.head(3)"
   ]
  },
  {
   "cell_type": "code",
   "execution_count": 8,
   "metadata": {},
   "outputs": [],
   "source": [
    "y = data[\"Bodyfat\"].values\n",
    "# centre the response to adjust for no intercept\n",
    "y = y - np.mean(y)\n",
    "\n",
    "x = data.drop(\"Bodyfat\", axis=1)\n",
    "\n",
    "N = x.shape[0]\n",
    "D = x.shape[1]"
   ]
  },
  {
   "cell_type": "markdown",
   "metadata": {},
   "source": [
    "First, generate ground-truth posterior samples using Stan's dynamic HMC implementation:"
   ]
  },
  {
   "cell_type": "code",
   "execution_count": 9,
   "metadata": {},
   "outputs": [],
   "source": [
    "data = dict(N=N, D=D, x=x, y=y)\n",
    "fit = regression_model.sampling(data=data, iter=50000, thin=50, chains=10)"
   ]
  },
  {
   "cell_type": "code",
   "execution_count": 10,
   "metadata": {},
   "outputs": [
    {
     "name": "stdout",
     "output_type": "stream",
     "text": [
      "true beta mean = [ 0.05458021 -0.09350057 -0.07786804 -0.49183548 -0.01572817  0.95423469\n",
      " -0.20385013  0.23715451  0.00709636  0.13444597  0.17672052  0.4087033\n",
      " -1.26645611]\n",
      "true beta cov = [[ 1.01403775e-03  3.17485254e-04  4.01492199e-04 -6.80701440e-04\n",
      "  -1.06199195e-04 -1.19966345e-03  4.51525362e-04  1.60709919e-03\n",
      "  -1.79178634e-03  4.63817452e-04 -4.27782722e-04  1.06127081e-03\n",
      "  -4.82846876e-03]\n",
      " [ 3.17485254e-04  2.80485484e-03 -2.31752220e-03 -3.36643464e-03\n",
      "  -2.24999635e-03 -8.45255672e-04 -4.12987636e-03 -6.95659217e-04\n",
      "  -3.17659525e-03 -1.94063990e-03 -1.58334286e-03  1.36014736e-04\n",
      "  -3.39273699e-03]\n",
      " [ 4.01492199e-04 -2.31752220e-03  9.00808461e-03  3.86578588e-04\n",
      "   2.04009509e-03  8.83296200e-04  3.34596679e-03  2.90522353e-03\n",
      "  -1.54892047e-03  4.83797552e-04  9.92261539e-04  3.95083040e-04\n",
      "  -3.88490518e-03]\n",
      " [-6.80701440e-04 -3.36643464e-03  3.86578588e-04  4.96257735e-02\n",
      "  -1.48417620e-03 -2.14582401e-04  5.40650319e-03 -2.59231636e-03\n",
      "   7.30745388e-03  3.89847850e-03 -2.93202355e-03 -5.31510235e-03\n",
      "  -2.71362047e-02]\n",
      " [-1.06199195e-04 -2.24999635e-03  2.04009509e-03 -1.48417620e-03\n",
      "   1.00198715e-02 -4.04118289e-03  2.67767488e-03  2.41748285e-03\n",
      "   2.55140360e-03  2.77791900e-04 -1.40306740e-03 -2.36303357e-03\n",
      "   1.54558907e-03]\n",
      " [-1.19966345e-03 -8.45255672e-04  8.83296200e-04 -2.14582401e-04\n",
      "  -4.04118289e-03  7.34079514e-03 -3.22632135e-03 -1.54160652e-03\n",
      "   1.29521602e-03  1.84524029e-03  1.81508788e-03  7.03689391e-04\n",
      "   5.21084144e-03]\n",
      " [ 4.51525362e-04 -4.12987636e-03  3.34596679e-03  5.40650319e-03\n",
      "   2.67767488e-03 -3.22632135e-03  2.10996908e-02 -6.34497901e-03\n",
      "  -1.56287164e-03  1.57943459e-03  1.83018796e-03  2.57286290e-03\n",
      "  -1.43982049e-03]\n",
      " [ 1.60709919e-03 -6.95659217e-04  2.90522353e-03 -2.59231636e-03\n",
      "   2.41748285e-03 -1.54160652e-03 -6.34497901e-03  2.02540834e-02\n",
      "  -8.66761076e-03  3.70296397e-05 -5.92526026e-03 -1.10106029e-03\n",
      "   3.85977965e-03]\n",
      " [-1.79178634e-03 -3.17659525e-03 -1.54892047e-03  7.30745388e-03\n",
      "   2.55140360e-03  1.29521602e-03 -1.56287164e-03 -8.66761076e-03\n",
      "   5.41406992e-02 -8.53973010e-03  2.72015977e-03 -4.39117985e-03\n",
      "  -7.02327429e-03]\n",
      " [ 4.63817452e-04 -1.94063990e-03  4.83797552e-04  3.89847850e-03\n",
      "   2.77791900e-04  1.84524029e-03  1.57943459e-03  3.70296397e-05\n",
      "  -8.53973010e-03  4.55792395e-02  4.45783672e-04  1.11120641e-03\n",
      "  -2.04934180e-02]\n",
      " [-4.27782722e-04 -1.58334286e-03  9.92261539e-04 -2.93202355e-03\n",
      "  -1.40306740e-03  1.81508788e-03  1.83018796e-03 -5.92526026e-03\n",
      "   2.72015977e-03  4.45783672e-04  2.72246961e-02 -8.74562555e-03\n",
      "  -2.12943167e-03]\n",
      " [ 1.06127081e-03  1.36014736e-04  3.95083040e-04 -5.31510235e-03\n",
      "  -2.36303357e-03  7.03689391e-04  2.57286290e-03 -1.10106029e-03\n",
      "  -4.39117985e-03  1.11120641e-03 -8.74562555e-03  3.66771667e-02\n",
      "  -1.68803189e-02]\n",
      " [-4.82846876e-03 -3.39273699e-03 -3.88490518e-03 -2.71362047e-02\n",
      "   1.54558907e-03  5.21084144e-03 -1.43982049e-03  3.85977965e-03\n",
      "  -7.02327429e-03 -2.04934180e-02 -2.12943167e-03 -1.68803189e-02\n",
      "   2.21037568e-01]]\n"
     ]
    }
   ],
   "source": [
    "true_beta_mean = np.mean(fit['beta'], axis=0)\n",
    "true_beta_cov = np.cov(fit['beta'].T)\n",
    "print('true beta mean =', true_beta_mean)\n",
    "print('true beta cov =', true_beta_cov)"
   ]
  },
  {
   "cell_type": "code",
   "execution_count": 11,
   "metadata": {},
   "outputs": [
    {
     "name": "stdout",
     "output_type": "stream",
     "text": [
      "true sigma mean = 4.294554049520795\n",
      "true sigma cov = 0.040765449383006164\n"
     ]
    }
   ],
   "source": [
    "true_sigma_mean = np.mean(fit['sigma'], axis=0)\n",
    "true_sigma_cov = np.cov(fit['sigma'].T)\n",
    "print('true sigma mean =', true_sigma_mean)\n",
    "print('true sigma cov =', true_sigma_cov)"
   ]
  },
  {
   "cell_type": "code",
   "execution_count": 12,
   "metadata": {},
   "outputs": [],
   "source": [
    "vec1 = fit['beta']\n",
    "vec2 = np.array(fit['sigma'])\n",
    "vec = []\n",
    "for i in range(len(vec1)):\n",
    "    temp = list(np.append(vec1[i], vec2[i]))\n",
    "    vec.append(temp)\n",
    "vec = np.array(vec)"
   ]
  },
  {
   "cell_type": "code",
   "execution_count": 13,
   "metadata": {},
   "outputs": [],
   "source": [
    "true_mean = np.mean(vec, axis=0)\n",
    "true_cov = np.cov(vec.T)"
   ]
  },
  {
   "cell_type": "code",
   "execution_count": 14,
   "metadata": {},
   "outputs": [],
   "source": [
    "#print('true mean =', true_mean)\n",
    "#print('true cov =', true_cov)"
   ]
  },
  {
   "cell_type": "code",
   "execution_count": 15,
   "metadata": {},
   "outputs": [
    {
     "data": {
      "text/plain": [
       "Inference for Stan model: regression_model_b1ab85b6e8abedc0878d3fa66ea1be75.\n",
       "10 chains, each with iter=50000; warmup=25000; thin=50; \n",
       "post-warmup draws per chain=500, total post-warmup draws=5000.\n",
       "\n",
       "           mean se_mean     sd    2.5%     25%    50%    75%  97.5%  n_eff   Rhat\n",
       "beta[1]    0.05  4.8e-4   0.03 -8.1e-3    0.03   0.05   0.08   0.12   4458    1.0\n",
       "beta[2]   -0.09  7.5e-4   0.05    -0.2   -0.13  -0.09  -0.06   0.01   5043    1.0\n",
       "beta[3]   -0.08  1.4e-3   0.09   -0.26   -0.14  -0.08  -0.01   0.11   4780    1.0\n",
       "beta[4]   -0.49  3.1e-3   0.22   -0.92   -0.64  -0.49  -0.34  -0.05   5138    1.0\n",
       "beta[5]   -0.02  1.4e-3    0.1   -0.21   -0.08  -0.02   0.05   0.18   4776    1.0\n",
       "beta[6]    0.95  1.2e-3   0.09    0.79     0.9   0.95   1.01   1.12   5034    1.0\n",
       "beta[7]    -0.2  2.1e-3   0.15   -0.49    -0.3   -0.2  -0.11   0.09   5007    1.0\n",
       "beta[8]    0.24  2.0e-3   0.14   -0.04    0.14   0.24   0.33   0.52   5179    1.0\n",
       "beta[9]  7.1e-3  3.2e-3   0.23   -0.45   -0.15 8.4e-3   0.17   0.46   5198    1.0\n",
       "beta[10]   0.13  3.2e-3   0.21   -0.29 -6.9e-3   0.14   0.28   0.56   4517    1.0\n",
       "beta[11]   0.18  2.4e-3   0.16   -0.15    0.07   0.18   0.29    0.5   4893    1.0\n",
       "beta[12]   0.41  2.7e-3   0.19    0.03    0.28   0.41   0.54   0.78   5149    1.0\n",
       "beta[13]  -1.27  6.7e-3   0.47   -2.17   -1.59  -1.26  -0.95  -0.33   4987    1.0\n",
       "sigma      4.29  2.9e-3    0.2    3.93    4.15   4.28   4.43   4.72   4800    1.0\n",
       "lp__     -497.0    0.04   2.73  -503.2  -498.7 -496.7 -495.0 -492.7   4771    1.0\n",
       "\n",
       "Samples were drawn using NUTS at Sun Nov  1 15:35:14 2020.\n",
       "For each parameter, n_eff is a crude measure of effective sample size,\n",
       "and Rhat is the potential scale reduction factor on split chains (at \n",
       "convergence, Rhat=1)."
      ]
     },
     "execution_count": 15,
     "metadata": {},
     "output_type": "execute_result"
    }
   ],
   "source": [
    "fit"
   ]
  },
  {
   "cell_type": "markdown",
   "metadata": {},
   "source": [
    "# KLVI"
   ]
  },
  {
   "cell_type": "markdown",
   "metadata": {},
   "source": [
    "## Mean field with Gaussian"
   ]
  },
  {
   "cell_type": "code",
   "execution_count": 16,
   "metadata": {},
   "outputs": [],
   "source": [
    "# def logjointpdf(samples, x=x, y=y, D=D):\n",
    "#     beta, log_sigma = samples[:, 0:D], samples[:, D]\n",
    "#     mu = np.dot(x, np.transpose(beta))\n",
    "    \n",
    "#     lpdf = np.zeros(len(samples))\n",
    "\n",
    "#     print(\"I'm here\")\n",
    "#     print(norm.logpdf(0,1,np.exp(log_sigma[0])))\n",
    "#     for i in range(len(samples)):\n",
    "#         p1 = sum(norm.logpdf(y, mu[:,i], np.exp(log_sigma[i])))\n",
    "#         p2 = gamma.logpdf(np.exp(log_sigma[i]), .5, loc=0, scale=.5)\n",
    "#         p3 = sum(norm.logpdf(beta[i,:], 0, 1))\n",
    "                 \n",
    "#         lpdf[i] = p1 + p2 + p3\n",
    "     \n",
    "#     return lpdf"
   ]
  },
  {
   "cell_type": "code",
   "execution_count": 17,
   "metadata": {},
   "outputs": [],
   "source": [
    "# def logjointpdf(samples, x=x, y=y, D=D):\n",
    "#     beta, log_sigma = samples[:, 0:D], samples[:, D]\n",
    "#     mu = np.dot(x, np.transpose(beta))    \n",
    "#     lpdf = []\n",
    "    \n",
    "#     a = .5\n",
    "#     b = .5\n",
    "#     for i in range(len(samples)):\n",
    "#         p1 = sum(norm.logpdf(y, mu[:,i], np.exp(log_sigma[i])))\n",
    "#         z = np.exp(log_sigma[i])\n",
    "#         p2 = -np.log(gamma(a)) - a*np.log(b) + (a-1)*np.log(z) - z/b\n",
    "#         p3 = sum(norm.logpdf(beta[i,:], 0, 1))\n",
    "                 \n",
    "#         lpdf.append(p1 + p2 + p3)\n",
    "\n",
    "#     return np.array(lpdf)"
   ]
  },
  {
   "cell_type": "code",
   "execution_count": 18,
   "metadata": {},
   "outputs": [],
   "source": [
    "mf_gaussian_var_family = mean_field_gaussian_variational_family(D+1)\n",
    "\n",
    "init_mean = np.zeros(D+1)\n",
    "init_log_std = np.ones(D+1)\n",
    "init_var_param = np.concatenate([init_mean, init_log_std])\n",
    "n_iters = 2000"
   ]
  },
  {
   "cell_type": "code",
   "execution_count": 19,
   "metadata": {},
   "outputs": [],
   "source": [
    "stan_log_density = make_stan_log_density(fit)"
   ]
  },
  {
   "cell_type": "code",
   "execution_count": 20,
   "metadata": {},
   "outputs": [
    {
     "name": "stderr",
     "output_type": "stream",
     "text": [
      "Average Loss = 588.28: 100%|██████████████████████████████████████████████████████| 2000/2000 [00:08<00:00, 234.78it/s]\n"
     ]
    }
   ],
   "source": [
    "klvi_objective_and_grad = black_box_klvi(mf_gaussian_var_family, stan_log_density, 100)\n",
    "\n",
    "klvi_var_param, klvi_param_history, klvi_history, _ = \\\n",
    "    adagrad_optimize(n_iters, klvi_objective_and_grad, init_var_param, learning_rate=1e-2)"
   ]
  },
  {
   "cell_type": "code",
   "execution_count": 21,
   "metadata": {},
   "outputs": [],
   "source": [
    "#plot_dist_to_opt_param(klvi_param_history, klvi_var_param)"
   ]
  },
  {
   "cell_type": "code",
   "execution_count": 22,
   "metadata": {},
   "outputs": [
    {
     "name": "stdout",
     "output_type": "stream",
     "text": [
      "mean   = [ 5.44384297e-02 -1.02126322e-01 -7.30403373e-02 -4.85712732e-01\n",
      " -3.41180830e-04  9.40875347e-01 -1.69420817e-01  2.37305100e-01\n",
      "  2.21088054e-03  1.18992872e-01  1.69170660e-01  3.99143009e-01\n",
      " -1.17513989e+00  1.50436742e+00]\n",
      "stdevs = [0.03112333 0.02675642 0.07930115 0.13354185 0.05161203 0.04486748\n",
      " 0.05941958 0.07102985 0.13597238 0.17690945 0.11087364 0.15093563\n",
      " 0.30545673 0.04822361]\n",
      "\n",
      "mean error             = 2.79\n",
      "stdev error            = 0.302\n",
      "||cov error||_2^{1/2}  = 0.377\n",
      "||true cov||_2^{1/2}   = 0.479\n"
     ]
    }
   ],
   "source": [
    "check_approx_accuracy(mf_gaussian_var_family, klvi_var_param, true_mean, true_cov, verbose=True);"
   ]
  },
  {
   "cell_type": "code",
   "execution_count": 23,
   "metadata": {},
   "outputs": [],
   "source": [
    "mc_samples = 100000"
   ]
  },
  {
   "cell_type": "markdown",
   "metadata": {},
   "source": [
    "samples, smoothed log weights, khat"
   ]
  },
  {
   "cell_type": "code",
   "execution_count": 24,
   "metadata": {},
   "outputs": [],
   "source": [
    "klvi_samples, klvi_slw, klvi_lw, klvi_khat = \\\n",
    "    psis_correction(stan_log_density, mf_gaussian_var_family, klvi_var_param, mc_samples)"
   ]
  },
  {
   "cell_type": "code",
   "execution_count": 25,
   "metadata": {},
   "outputs": [
    {
     "name": "stdout",
     "output_type": "stream",
     "text": [
      "0.9336263340218836\n"
     ]
    }
   ],
   "source": [
    "print(klvi_khat)"
   ]
  },
  {
   "cell_type": "code",
   "execution_count": 26,
   "metadata": {},
   "outputs": [
    {
     "data": {
      "text/plain": [
       "array([-22.14364824, -42.29143453, -22.04874729, ..., -22.11146712,\n",
       "       -23.7798717 , -23.32283541])"
      ]
     },
     "execution_count": 26,
     "metadata": {},
     "output_type": "execute_result"
    }
   ],
   "source": [
    "klvi_slw"
   ]
  },
  {
   "cell_type": "code",
   "execution_count": 27,
   "metadata": {},
   "outputs": [
    {
     "data": {
      "text/plain": [
       "array([-520.51275698, -540.66054327, -520.41785603, ..., -520.48057586,\n",
       "       -522.14898044, -521.69194415])"
      ]
     },
     "execution_count": 27,
     "metadata": {},
     "output_type": "execute_result"
    }
   ],
   "source": [
    "klvi_lw"
   ]
  },
  {
   "cell_type": "markdown",
   "metadata": {},
   "source": [
    "### VSBC diagnostics"
   ]
  },
  {
   "cell_type": "code",
   "execution_count": 28,
   "metadata": {},
   "outputs": [],
   "source": [
    "# with open(\"./data/klvi_psis_\"+str(99)+\".pkl\", 'rb') as f:\n",
    "#     [btemp, stemp, klvi_samples_temp, klvi_slw_temp, klvi_lw_temp, klvi_khat_temp, klvi_var_param] = pickle.load(f)"
   ]
  },
  {
   "cell_type": "code",
   "execution_count": 29,
   "metadata": {},
   "outputs": [],
   "source": [
    "#     def logjointpdf(samples, x=xtemp, y=y, D=D):\n",
    "#         beta, log_sigma = samples[:, 0:D], samples[:, D]\n",
    "#         mu = np.dot(x, np.transpose(beta))\n",
    "\n",
    "#         lpdf = np.zeros(len(samples))\n",
    "#         for i in range(len(samples)):\n",
    "#             p1 = sum(norm.logpdf(y, mu[:,i], np.exp(log_sigma[i])))\n",
    "#             p2 = gamma.logpdf(np.exp(log_sigma[i]), .5, 0, .5)\n",
    "#             p3 = sum(norm.logpdf(beta[i,:], 0, 1))\n",
    "\n",
    "#             lpdf[i] = p1 + p2 + p3\n",
    "\n",
    "#         return lpdf\n",
    "    \n",
    "    # initialise klvi\n",
    "#     def logjointpdf(x, data=xtemp, y=ytemp, D=D):\n",
    "#         beta, log_sigma = x[:, 0:D], x[:, D]\n",
    "#         mu = np.dot(x.values, np.transpose(beta))\n",
    "        \n",
    "#         obs_density = norm.logpdf(y, mu, np.exp(log_sigma))\n",
    "#         sigma_density = gamma.logpdf(np.exp(log_sigma), .5, 0, .5)\n",
    "#         beta_density = norm.logpdf(beta, 0, 1)\n",
    "        \n",
    "#         return sum(obs_density)+sum(beta_density)+sigma_density"
   ]
  },
  {
   "cell_type": "code",
   "execution_count": 30,
   "metadata": {},
   "outputs": [],
   "source": [
    "M = 100\n",
    "klvi_probs = np.zeros(shape=(D+1, M))\n",
    "\n",
    "#np.random.seed(12345)\n",
    "np.random.seed(100)"
   ]
  },
  {
   "cell_type": "code",
   "execution_count": 31,
   "metadata": {},
   "outputs": [
    {
     "name": "stderr",
     "output_type": "stream",
     "text": [
      "Average Loss = 608.13: 100%|██████████████████████████████████████████████████████| 2000/2000 [00:08<00:00, 234.03it/s]\n"
     ]
    },
    {
     "name": "stdout",
     "output_type": "stream",
     "text": [
      "Iteration = 0, loop time = 25.181899, time elapsed = 25.182900\n"
     ]
    },
    {
     "name": "stderr",
     "output_type": "stream",
     "text": [
      "Average Loss = 592.83: 100%|██████████████████████████████████████████████████████| 2000/2000 [00:08<00:00, 236.22it/s]\n"
     ]
    },
    {
     "name": "stdout",
     "output_type": "stream",
     "text": [
      "Iteration = 1, loop time = 25.556949, time elapsed = 50.746855\n"
     ]
    },
    {
     "name": "stderr",
     "output_type": "stream",
     "text": [
      "Average Loss = 601.12: 100%|██████████████████████████████████████████████████████| 2000/2000 [00:08<00:00, 234.80it/s]\n"
     ]
    },
    {
     "name": "stdout",
     "output_type": "stream",
     "text": [
      "Iteration = 2, loop time = 25.934610, time elapsed = 76.687471\n"
     ]
    },
    {
     "name": "stderr",
     "output_type": "stream",
     "text": [
      "Average Loss = 588.35: 100%|██████████████████████████████████████████████████████| 2000/2000 [00:08<00:00, 234.31it/s]\n"
     ]
    },
    {
     "name": "stdout",
     "output_type": "stream",
     "text": [
      "Iteration = 3, loop time = 25.019089, time elapsed = 101.712565\n"
     ]
    },
    {
     "name": "stderr",
     "output_type": "stream",
     "text": [
      "Average Loss = 590.45: 100%|██████████████████████████████████████████████████████| 2000/2000 [00:08<00:00, 234.89it/s]\n"
     ]
    },
    {
     "name": "stdout",
     "output_type": "stream",
     "text": [
      "Iteration = 4, loop time = 24.900137, time elapsed = 126.618708\n"
     ]
    },
    {
     "name": "stderr",
     "output_type": "stream",
     "text": [
      "Average Loss = 603.95: 100%|██████████████████████████████████████████████████████| 2000/2000 [00:08<00:00, 235.30it/s]\n"
     ]
    },
    {
     "name": "stdout",
     "output_type": "stream",
     "text": [
      "Iteration = 5, loop time = 25.050501, time elapsed = 151.674215\n"
     ]
    },
    {
     "name": "stderr",
     "output_type": "stream",
     "text": [
      "Average Loss = 596.34: 100%|██████████████████████████████████████████████████████| 2000/2000 [00:09<00:00, 215.09it/s]\n"
     ]
    },
    {
     "name": "stdout",
     "output_type": "stream",
     "text": [
      "Iteration = 6, loop time = 26.054914, time elapsed = 177.736135\n"
     ]
    },
    {
     "name": "stderr",
     "output_type": "stream",
     "text": [
      "Average Loss = 600.42: 100%|██████████████████████████████████████████████████████| 2000/2000 [00:09<00:00, 216.39it/s]\n"
     ]
    },
    {
     "name": "stdout",
     "output_type": "stream",
     "text": [
      "Iteration = 7, loop time = 25.990842, time elapsed = 203.732983\n"
     ]
    },
    {
     "name": "stderr",
     "output_type": "stream",
     "text": [
      "Average Loss = 581.05: 100%|██████████████████████████████████████████████████████| 2000/2000 [00:08<00:00, 234.03it/s]\n"
     ]
    },
    {
     "name": "stdout",
     "output_type": "stream",
     "text": [
      "Iteration = 8, loop time = 25.225518, time elapsed = 228.965508\n"
     ]
    },
    {
     "name": "stderr",
     "output_type": "stream",
     "text": [
      "Average Loss = 607.04: 100%|██████████████████████████████████████████████████████| 2000/2000 [00:08<00:00, 235.14it/s]\n"
     ]
    },
    {
     "name": "stdout",
     "output_type": "stream",
     "text": [
      "Iteration = 9, loop time = 25.276251, time elapsed = 254.247764\n"
     ]
    },
    {
     "name": "stderr",
     "output_type": "stream",
     "text": [
      "Average Loss = 621.96: 100%|██████████████████████████████████████████████████████| 2000/2000 [00:08<00:00, 231.22it/s]\n"
     ]
    },
    {
     "name": "stdout",
     "output_type": "stream",
     "text": [
      "Iteration = 10, loop time = 26.657547, time elapsed = 280.911317\n"
     ]
    },
    {
     "name": "stderr",
     "output_type": "stream",
     "text": [
      "Average Loss = 594.52: 100%|██████████████████████████████████████████████████████| 2000/2000 [00:08<00:00, 232.81it/s]\n"
     ]
    },
    {
     "name": "stdout",
     "output_type": "stream",
     "text": [
      "Iteration = 11, loop time = 26.696285, time elapsed = 307.614609\n"
     ]
    },
    {
     "name": "stderr",
     "output_type": "stream",
     "text": [
      "Average Loss = 604.98: 100%|██████████████████████████████████████████████████████| 2000/2000 [00:08<00:00, 231.19it/s]\n"
     ]
    },
    {
     "name": "stdout",
     "output_type": "stream",
     "text": [
      "Iteration = 12, loop time = 26.011891, time elapsed = 333.632505\n"
     ]
    },
    {
     "name": "stderr",
     "output_type": "stream",
     "text": [
      "Average Loss = 609.38: 100%|██████████████████████████████████████████████████████| 2000/2000 [00:08<00:00, 230.22it/s]\n",
      "C:\\ProgramData\\Anaconda3\\lib\\site-packages\\numpy\\core\\fromnumeric.py:86: RuntimeWarning: overflow encountered in reduce\n",
      "  return ufunc.reduce(obj, axis, dtype, out, **passkwargs)\n"
     ]
    },
    {
     "name": "stdout",
     "output_type": "stream",
     "text": [
      "Iteration = 13, loop time = 26.573937, time elapsed = 360.211447\n"
     ]
    },
    {
     "name": "stderr",
     "output_type": "stream",
     "text": [
      "Average Loss = 592.39: 100%|██████████████████████████████████████████████████████| 2000/2000 [00:08<00:00, 233.11it/s]\n"
     ]
    },
    {
     "name": "stdout",
     "output_type": "stream",
     "text": [
      "Iteration = 14, loop time = 26.266802, time elapsed = 386.484253\n"
     ]
    },
    {
     "name": "stderr",
     "output_type": "stream",
     "text": [
      "Average Loss = 612.78: 100%|██████████████████████████████████████████████████████| 2000/2000 [00:08<00:00, 233.32it/s]\n"
     ]
    },
    {
     "name": "stdout",
     "output_type": "stream",
     "text": [
      "Iteration = 15, loop time = 26.662264, time elapsed = 413.151522\n"
     ]
    },
    {
     "name": "stderr",
     "output_type": "stream",
     "text": [
      "Average Loss = 601.56: 100%|██████████████████████████████████████████████████████| 2000/2000 [00:08<00:00, 234.06it/s]\n"
     ]
    },
    {
     "name": "stdout",
     "output_type": "stream",
     "text": [
      "Iteration = 16, loop time = 26.331814, time elapsed = 439.488341\n"
     ]
    },
    {
     "name": "stderr",
     "output_type": "stream",
     "text": [
      "Average Loss = 583.18: 100%|██████████████████████████████████████████████████████| 2000/2000 [00:08<00:00, 233.81it/s]\n"
     ]
    },
    {
     "name": "stdout",
     "output_type": "stream",
     "text": [
      "Iteration = 17, loop time = 26.846938, time elapsed = 466.341284\n"
     ]
    },
    {
     "name": "stderr",
     "output_type": "stream",
     "text": [
      "Average Loss = 593.76: 100%|██████████████████████████████████████████████████████| 2000/2000 [00:08<00:00, 234.17it/s]\n"
     ]
    },
    {
     "name": "stdout",
     "output_type": "stream",
     "text": [
      "Iteration = 18, loop time = 25.301436, time elapsed = 491.648725\n"
     ]
    },
    {
     "name": "stderr",
     "output_type": "stream",
     "text": [
      "Average Loss = 583.28: 100%|██████████████████████████████████████████████████████| 2000/2000 [00:08<00:00, 232.51it/s]\n"
     ]
    },
    {
     "name": "stdout",
     "output_type": "stream",
     "text": [
      "Iteration = 19, loop time = 26.181828, time elapsed = 517.835557\n"
     ]
    },
    {
     "name": "stderr",
     "output_type": "stream",
     "text": [
      "Average Loss = 590.98: 100%|██████████████████████████████████████████████████████| 2000/2000 [00:08<00:00, 230.04it/s]\n"
     ]
    },
    {
     "name": "stdout",
     "output_type": "stream",
     "text": [
      "Iteration = 20, loop time = 27.333564, time elapsed = 545.176128\n"
     ]
    },
    {
     "name": "stderr",
     "output_type": "stream",
     "text": [
      "Average Loss = 606.16: 100%|██████████████████████████████████████████████████████| 2000/2000 [00:08<00:00, 225.33it/s]\n"
     ]
    },
    {
     "name": "stdout",
     "output_type": "stream",
     "text": [
      "Iteration = 21, loop time = 27.358325, time elapsed = 572.542460\n"
     ]
    },
    {
     "name": "stderr",
     "output_type": "stream",
     "text": [
      "Average Loss = 603.24: 100%|██████████████████████████████████████████████████████| 2000/2000 [00:08<00:00, 231.11it/s]\n"
     ]
    },
    {
     "name": "stdout",
     "output_type": "stream",
     "text": [
      "Iteration = 22, loop time = 26.970445, time elapsed = 599.518911\n"
     ]
    },
    {
     "name": "stderr",
     "output_type": "stream",
     "text": [
      "Average Loss = 598.1: 100%|███████████████████████████████████████████████████████| 2000/2000 [00:08<00:00, 235.25it/s]\n"
     ]
    },
    {
     "name": "stdout",
     "output_type": "stream",
     "text": [
      "Iteration = 23, loop time = 26.766996, time elapsed = 626.291913\n"
     ]
    },
    {
     "name": "stderr",
     "output_type": "stream",
     "text": [
      "Average Loss = 608.49: 100%|██████████████████████████████████████████████████████| 2000/2000 [00:08<00:00, 234.86it/s]\n"
     ]
    },
    {
     "name": "stdout",
     "output_type": "stream",
     "text": [
      "Iteration = 24, loop time = 25.605320, time elapsed = 651.904238\n"
     ]
    },
    {
     "name": "stderr",
     "output_type": "stream",
     "text": [
      "Average Loss = 604.62: 100%|██████████████████████████████████████████████████████| 2000/2000 [00:09<00:00, 217.49it/s]\n"
     ]
    },
    {
     "name": "stdout",
     "output_type": "stream",
     "text": [
      "Iteration = 25, loop time = 26.204419, time elapsed = 678.114664\n"
     ]
    },
    {
     "name": "stderr",
     "output_type": "stream",
     "text": [
      "Average Loss = 589.09: 100%|██████████████████████████████████████████████████████| 2000/2000 [00:08<00:00, 233.37it/s]\n"
     ]
    },
    {
     "name": "stdout",
     "output_type": "stream",
     "text": [
      "Iteration = 26, loop time = 26.140290, time elapsed = 704.259958\n"
     ]
    },
    {
     "name": "stderr",
     "output_type": "stream",
     "text": [
      "Average Loss = 587.56: 100%|██████████████████████████████████████████████████████| 2000/2000 [00:08<00:00, 234.53it/s]\n"
     ]
    },
    {
     "name": "stdout",
     "output_type": "stream",
     "text": [
      "Iteration = 27, loop time = 26.401514, time elapsed = 730.667477\n"
     ]
    },
    {
     "name": "stderr",
     "output_type": "stream",
     "text": [
      "Average Loss = 597.64: 100%|██████████████████████████████████████████████████████| 2000/2000 [00:08<00:00, 232.16it/s]\n"
     ]
    },
    {
     "name": "stdout",
     "output_type": "stream",
     "text": [
      "Iteration = 28, loop time = 26.207756, time elapsed = 756.881238\n"
     ]
    },
    {
     "name": "stderr",
     "output_type": "stream",
     "text": [
      "Average Loss = 594.26: 100%|██████████████████████████████████████████████████████| 2000/2000 [00:08<00:00, 235.27it/s]\n"
     ]
    },
    {
     "name": "stdout",
     "output_type": "stream",
     "text": [
      "Iteration = 29, loop time = 25.931224, time elapsed = 782.818467\n"
     ]
    },
    {
     "name": "stderr",
     "output_type": "stream",
     "text": [
      "Average Loss = 596.88: 100%|██████████████████████████████████████████████████████| 2000/2000 [00:08<00:00, 233.08it/s]\n"
     ]
    },
    {
     "name": "stdout",
     "output_type": "stream",
     "text": [
      "Iteration = 30, loop time = 25.803100, time elapsed = 808.627573\n"
     ]
    },
    {
     "name": "stderr",
     "output_type": "stream",
     "text": [
      "Average Loss = 593.72: 100%|██████████████████████████████████████████████████████| 2000/2000 [00:08<00:00, 235.08it/s]\n"
     ]
    },
    {
     "name": "stdout",
     "output_type": "stream",
     "text": [
      "Iteration = 31, loop time = 25.247940, time elapsed = 833.881518\n"
     ]
    },
    {
     "name": "stderr",
     "output_type": "stream",
     "text": [
      "Average Loss = 596.76: 100%|██████████████████████████████████████████████████████| 2000/2000 [00:08<00:00, 234.34it/s]\n"
     ]
    },
    {
     "name": "stdout",
     "output_type": "stream",
     "text": [
      "Iteration = 32, loop time = 25.863590, time elapsed = 859.750112\n"
     ]
    },
    {
     "name": "stderr",
     "output_type": "stream",
     "text": [
      "Average Loss = 597.66: 100%|██████████████████████████████████████████████████████| 2000/2000 [00:08<00:00, 231.24it/s]\n"
     ]
    },
    {
     "name": "stdout",
     "output_type": "stream",
     "text": [
      "Iteration = 33, loop time = 25.438148, time elapsed = 885.194266\n"
     ]
    },
    {
     "name": "stderr",
     "output_type": "stream",
     "text": [
      "Average Loss = 600.13: 100%|██████████████████████████████████████████████████████| 2000/2000 [00:08<00:00, 234.20it/s]\n"
     ]
    },
    {
     "name": "stdout",
     "output_type": "stream",
     "text": [
      "Iteration = 34, loop time = 26.441538, time elapsed = 911.642810\n"
     ]
    },
    {
     "name": "stderr",
     "output_type": "stream",
     "text": [
      "Average Loss = 590.55: 100%|██████████████████████████████████████████████████████| 2000/2000 [00:08<00:00, 230.90it/s]\n"
     ]
    },
    {
     "name": "stdout",
     "output_type": "stream",
     "text": [
      "Iteration = 35, loop time = 26.349998, time elapsed = 937.999815\n"
     ]
    },
    {
     "name": "stderr",
     "output_type": "stream",
     "text": [
      "Average Loss = 594.29: 100%|██████████████████████████████████████████████████████| 2000/2000 [00:08<00:00, 233.62it/s]\n"
     ]
    },
    {
     "name": "stdout",
     "output_type": "stream",
     "text": [
      "Iteration = 36, loop time = 24.541434, time elapsed = 962.547254\n"
     ]
    },
    {
     "name": "stderr",
     "output_type": "stream",
     "text": [
      "Average Loss = 591.64: 100%|██████████████████████████████████████████████████████| 2000/2000 [00:09<00:00, 207.07it/s]\n"
     ]
    },
    {
     "name": "stdout",
     "output_type": "stream",
     "text": [
      "Iteration = 37, loop time = 26.431243, time elapsed = 988.984503\n"
     ]
    },
    {
     "name": "stderr",
     "output_type": "stream",
     "text": [
      "Average Loss = 593.11: 100%|██████████████████████████████████████████████████████| 2000/2000 [00:08<00:00, 234.01it/s]\n"
     ]
    },
    {
     "name": "stdout",
     "output_type": "stream",
     "text": [
      "Iteration = 38, loop time = 25.346679, time elapsed = 1014.337187\n"
     ]
    },
    {
     "name": "stderr",
     "output_type": "stream",
     "text": [
      "Average Loss = 613.24: 100%|██████████████████████████████████████████████████████| 2000/2000 [00:08<00:00, 234.01it/s]\n"
     ]
    },
    {
     "name": "stdout",
     "output_type": "stream",
     "text": [
      "Iteration = 39, loop time = 25.216919, time elapsed = 1039.560113\n"
     ]
    },
    {
     "name": "stderr",
     "output_type": "stream",
     "text": [
      "Average Loss = 588.28: 100%|██████████████████████████████████████████████████████| 2000/2000 [00:08<00:00, 233.51it/s]\n"
     ]
    },
    {
     "name": "stdout",
     "output_type": "stream",
     "text": [
      "Iteration = 40, loop time = 25.437111, time elapsed = 1065.004231\n"
     ]
    },
    {
     "name": "stderr",
     "output_type": "stream",
     "text": [
      "Average Loss = 592.1: 100%|███████████████████████████████████████████████████████| 2000/2000 [00:08<00:00, 231.08it/s]\n"
     ]
    },
    {
     "name": "stdout",
     "output_type": "stream",
     "text": [
      "Iteration = 41, loop time = 25.988980, time elapsed = 1090.999217\n"
     ]
    },
    {
     "name": "stderr",
     "output_type": "stream",
     "text": [
      "Average Loss = 589.77: 100%|██████████████████████████████████████████████████████| 2000/2000 [00:09<00:00, 216.89it/s]\n"
     ]
    },
    {
     "name": "stdout",
     "output_type": "stream",
     "text": [
      "Iteration = 42, loop time = 27.046584, time elapsed = 1118.051806\n"
     ]
    },
    {
     "name": "stderr",
     "output_type": "stream",
     "text": [
      "Average Loss = 606.81: 100%|██████████████████████████████████████████████████████| 2000/2000 [00:08<00:00, 232.78it/s]\n"
     ]
    },
    {
     "name": "stdout",
     "output_type": "stream",
     "text": [
      "Iteration = 43, loop time = 25.509224, time elapsed = 1143.567036\n"
     ]
    },
    {
     "name": "stderr",
     "output_type": "stream",
     "text": [
      "Average Loss = 601.96: 100%|██████████████████████████████████████████████████████| 2000/2000 [00:08<00:00, 234.04it/s]\n"
     ]
    },
    {
     "name": "stdout",
     "output_type": "stream",
     "text": [
      "Iteration = 44, loop time = 25.891033, time elapsed = 1169.463074\n"
     ]
    },
    {
     "name": "stderr",
     "output_type": "stream",
     "text": [
      "Average Loss = 596.9: 100%|███████████████████████████████████████████████████████| 2000/2000 [00:08<00:00, 234.28it/s]\n"
     ]
    },
    {
     "name": "stdout",
     "output_type": "stream",
     "text": [
      "Iteration = 45, loop time = 25.119835, time elapsed = 1194.588914\n"
     ]
    },
    {
     "name": "stderr",
     "output_type": "stream",
     "text": [
      "Average Loss = 601.16: 100%|██████████████████████████████████████████████████████| 2000/2000 [00:08<00:00, 234.78it/s]\n"
     ]
    },
    {
     "name": "stdout",
     "output_type": "stream",
     "text": [
      "Iteration = 46, loop time = 25.830342, time elapsed = 1220.425261\n"
     ]
    },
    {
     "name": "stderr",
     "output_type": "stream",
     "text": [
      "Average Loss = 597.1: 100%|███████████████████████████████████████████████████████| 2000/2000 [00:08<00:00, 234.31it/s]\n"
     ]
    },
    {
     "name": "stdout",
     "output_type": "stream",
     "text": [
      "Iteration = 47, loop time = 25.736083, time elapsed = 1246.167350\n"
     ]
    },
    {
     "name": "stderr",
     "output_type": "stream",
     "text": [
      "Average Loss = 598.75: 100%|██████████████████████████████████████████████████████| 2000/2000 [00:08<00:00, 235.14it/s]\n"
     ]
    },
    {
     "name": "stdout",
     "output_type": "stream",
     "text": [
      "Iteration = 48, loop time = 25.269104, time elapsed = 1271.441458\n"
     ]
    },
    {
     "name": "stderr",
     "output_type": "stream",
     "text": [
      "Average Loss = 592.5: 100%|███████████████████████████████████████████████████████| 2000/2000 [00:08<00:00, 234.20it/s]\n"
     ]
    },
    {
     "name": "stdout",
     "output_type": "stream",
     "text": [
      "Iteration = 49, loop time = 25.553957, time elapsed = 1297.001421\n"
     ]
    },
    {
     "name": "stderr",
     "output_type": "stream",
     "text": [
      "Average Loss = 595.28: 100%|██████████████████████████████████████████████████████| 2000/2000 [00:08<00:00, 234.72it/s]\n"
     ]
    },
    {
     "name": "stdout",
     "output_type": "stream",
     "text": [
      "Iteration = 50, loop time = 25.601329, time elapsed = 1322.607754\n"
     ]
    },
    {
     "name": "stderr",
     "output_type": "stream",
     "text": [
      "Average Loss = 597.51: 100%|██████████████████████████████████████████████████████| 2000/2000 [00:08<00:00, 235.80it/s]\n"
     ]
    },
    {
     "name": "stdout",
     "output_type": "stream",
     "text": [
      "Iteration = 51, loop time = 25.885723, time elapsed = 1348.498482\n"
     ]
    },
    {
     "name": "stderr",
     "output_type": "stream",
     "text": [
      "Average Loss = 581.96: 100%|██████████████████████████████████████████████████████| 2000/2000 [00:08<00:00, 232.62it/s]\n"
     ]
    },
    {
     "name": "stdout",
     "output_type": "stream",
     "text": [
      "Iteration = 52, loop time = 25.368320, time elapsed = 1373.872807\n"
     ]
    },
    {
     "name": "stderr",
     "output_type": "stream",
     "text": [
      "Average Loss = 590.5: 100%|███████████████████████████████████████████████████████| 2000/2000 [00:09<00:00, 218.57it/s]\n"
     ]
    },
    {
     "name": "stdout",
     "output_type": "stream",
     "text": [
      "Iteration = 53, loop time = 25.878587, time elapsed = 1399.758402\n"
     ]
    },
    {
     "name": "stderr",
     "output_type": "stream",
     "text": [
      "Average Loss = 589.5: 100%|███████████████████████████████████████████████████████| 2000/2000 [00:08<00:00, 233.81it/s]\n"
     ]
    },
    {
     "name": "stdout",
     "output_type": "stream",
     "text": [
      "Iteration = 54, loop time = 25.201286, time elapsed = 1424.965694\n"
     ]
    },
    {
     "name": "stderr",
     "output_type": "stream",
     "text": [
      "Average Loss = 596.65: 100%|██████████████████████████████████████████████████████| 2000/2000 [00:08<00:00, 234.25it/s]\n"
     ]
    },
    {
     "name": "stdout",
     "output_type": "stream",
     "text": [
      "Iteration = 55, loop time = 25.532639, time elapsed = 1450.503338\n"
     ]
    },
    {
     "name": "stderr",
     "output_type": "stream",
     "text": [
      "Average Loss = 603.97: 100%|██████████████████████████████████████████████████████| 2000/2000 [00:08<00:00, 234.34it/s]\n"
     ]
    },
    {
     "name": "stdout",
     "output_type": "stream",
     "text": [
      "Iteration = 56, loop time = 25.441936, time elapsed = 1475.951279\n"
     ]
    },
    {
     "name": "stderr",
     "output_type": "stream",
     "text": [
      "Average Loss = 595.12: 100%|██████████████████████████████████████████████████████| 2000/2000 [00:08<00:00, 230.15it/s]\n"
     ]
    },
    {
     "name": "stdout",
     "output_type": "stream",
     "text": [
      "Iteration = 57, loop time = 25.470523, time elapsed = 1501.427808\n"
     ]
    },
    {
     "name": "stderr",
     "output_type": "stream",
     "text": [
      "Average Loss = 615.79: 100%|██████████████████████████████████████████████████████| 2000/2000 [00:08<00:00, 233.16it/s]\n"
     ]
    },
    {
     "name": "stdout",
     "output_type": "stream",
     "text": [
      "Iteration = 58, loop time = 26.249852, time elapsed = 1527.682665\n"
     ]
    },
    {
     "name": "stderr",
     "output_type": "stream",
     "text": [
      "Average Loss = 606.22: 100%|██████████████████████████████████████████████████████| 2000/2000 [00:08<00:00, 233.08it/s]\n"
     ]
    },
    {
     "name": "stdout",
     "output_type": "stream",
     "text": [
      "Iteration = 59, loop time = 25.573267, time elapsed = 1553.261937\n"
     ]
    },
    {
     "name": "stderr",
     "output_type": "stream",
     "text": [
      "Average Loss = 584.47: 100%|██████████████████████████████████████████████████████| 2000/2000 [00:09<00:00, 216.32it/s]\n"
     ]
    },
    {
     "name": "stdout",
     "output_type": "stream",
     "text": [
      "Iteration = 60, loop time = 26.981359, time elapsed = 1580.249302\n"
     ]
    },
    {
     "name": "stderr",
     "output_type": "stream",
     "text": [
      "Average Loss = 587.59: 100%|██████████████████████████████████████████████████████| 2000/2000 [00:08<00:00, 235.50it/s]\n"
     ]
    },
    {
     "name": "stdout",
     "output_type": "stream",
     "text": [
      "Iteration = 61, loop time = 26.308666, time elapsed = 1606.563974\n"
     ]
    },
    {
     "name": "stderr",
     "output_type": "stream",
     "text": [
      "Average Loss = 602.43: 100%|██████████████████████████████████████████████████████| 2000/2000 [00:08<00:00, 235.69it/s]\n"
     ]
    },
    {
     "name": "stdout",
     "output_type": "stream",
     "text": [
      "Iteration = 62, loop time = 26.146214, time elapsed = 1632.716194\n"
     ]
    },
    {
     "name": "stderr",
     "output_type": "stream",
     "text": [
      "Average Loss = 593.47: 100%|██████████████████████████████████████████████████████| 2000/2000 [00:08<00:00, 234.58it/s]\n"
     ]
    },
    {
     "name": "stdout",
     "output_type": "stream",
     "text": [
      "Iteration = 63, loop time = 24.586194, time elapsed = 1657.308393\n"
     ]
    },
    {
     "name": "stderr",
     "output_type": "stream",
     "text": [
      "Average Loss = 601.33: 100%|██████████████████████████████████████████████████████| 2000/2000 [00:08<00:00, 226.37it/s]\n"
     ]
    },
    {
     "name": "stdout",
     "output_type": "stream",
     "text": [
      "Iteration = 64, loop time = 25.730903, time elapsed = 1683.046304\n"
     ]
    },
    {
     "name": "stderr",
     "output_type": "stream",
     "text": [
      "Average Loss = 609.95: 100%|██████████████████████████████████████████████████████| 2000/2000 [00:08<00:00, 232.62it/s]\n"
     ]
    },
    {
     "name": "stdout",
     "output_type": "stream",
     "text": [
      "Iteration = 65, loop time = 26.555375, time elapsed = 1709.607684\n"
     ]
    },
    {
     "name": "stderr",
     "output_type": "stream",
     "text": [
      "Average Loss = 600.23: 100%|██████████████████████████████████████████████████████| 2000/2000 [00:08<00:00, 223.51it/s]\n"
     ]
    },
    {
     "name": "stdout",
     "output_type": "stream",
     "text": [
      "Iteration = 66, loop time = 26.219880, time elapsed = 1735.833570\n"
     ]
    },
    {
     "name": "stderr",
     "output_type": "stream",
     "text": [
      "Average Loss = 598.66: 100%|██████████████████████████████████████████████████████| 2000/2000 [00:08<00:00, 234.39it/s]\n"
     ]
    },
    {
     "name": "stdout",
     "output_type": "stream",
     "text": [
      "Iteration = 67, loop time = 27.271677, time elapsed = 1763.114255\n"
     ]
    },
    {
     "name": "stderr",
     "output_type": "stream",
     "text": [
      "Average Loss = 594.33: 100%|██████████████████████████████████████████████████████| 2000/2000 [00:09<00:00, 211.45it/s]\n"
     ]
    },
    {
     "name": "stdout",
     "output_type": "stream",
     "text": [
      "Iteration = 68, loop time = 26.704515, time elapsed = 1789.824776\n"
     ]
    },
    {
     "name": "stderr",
     "output_type": "stream",
     "text": [
      "Average Loss = 596.03: 100%|██████████████████████████████████████████████████████| 2000/2000 [00:08<00:00, 233.81it/s]\n"
     ]
    },
    {
     "name": "stdout",
     "output_type": "stream",
     "text": [
      "Iteration = 69, loop time = 25.289032, time elapsed = 1815.119814\n"
     ]
    },
    {
     "name": "stderr",
     "output_type": "stream",
     "text": [
      "Average Loss = 608.21: 100%|██████████████████████████████████████████████████████| 2000/2000 [00:08<00:00, 231.91it/s]\n"
     ]
    },
    {
     "name": "stdout",
     "output_type": "stream",
     "text": [
      "Iteration = 70, loop time = 26.064721, time elapsed = 1841.190540\n"
     ]
    },
    {
     "name": "stderr",
     "output_type": "stream",
     "text": [
      "Average Loss = 602.44: 100%|██████████████████████████████████████████████████████| 2000/2000 [00:08<00:00, 231.14it/s]\n"
     ]
    },
    {
     "name": "stdout",
     "output_type": "stream",
     "text": [
      "Iteration = 71, loop time = 26.312253, time elapsed = 1867.507798\n"
     ]
    },
    {
     "name": "stderr",
     "output_type": "stream",
     "text": [
      "Average Loss = 612.65: 100%|██████████████████████████████████████████████████████| 2000/2000 [00:08<00:00, 232.70it/s]\n"
     ]
    },
    {
     "name": "stdout",
     "output_type": "stream",
     "text": [
      "Iteration = 72, loop time = 26.394972, time elapsed = 1893.908775\n"
     ]
    },
    {
     "name": "stderr",
     "output_type": "stream",
     "text": [
      "Average Loss = 606.19: 100%|██████████████████████████████████████████████████████| 2000/2000 [00:08<00:00, 233.95it/s]\n"
     ]
    },
    {
     "name": "stdout",
     "output_type": "stream",
     "text": [
      "Iteration = 73, loop time = 26.092764, time elapsed = 1920.007545\n"
     ]
    },
    {
     "name": "stderr",
     "output_type": "stream",
     "text": [
      "Average Loss = 589.15: 100%|██████████████████████████████████████████████████████| 2000/2000 [00:08<00:00, 232.70it/s]\n"
     ]
    },
    {
     "name": "stdout",
     "output_type": "stream",
     "text": [
      "Iteration = 74, loop time = 26.053848, time elapsed = 1946.068399\n"
     ]
    },
    {
     "name": "stderr",
     "output_type": "stream",
     "text": [
      "Average Loss = 602.69: 100%|██████████████████████████████████████████████████████| 2000/2000 [00:08<00:00, 232.02it/s]\n"
     ]
    },
    {
     "name": "stdout",
     "output_type": "stream",
     "text": [
      "Iteration = 75, loop time = 25.710189, time elapsed = 1971.783593\n"
     ]
    },
    {
     "name": "stderr",
     "output_type": "stream",
     "text": [
      "Average Loss = 603.34: 100%|██████████████████████████████████████████████████████| 2000/2000 [00:08<00:00, 227.82it/s]\n"
     ]
    },
    {
     "name": "stdout",
     "output_type": "stream",
     "text": [
      "Iteration = 76, loop time = 26.195874, time elapsed = 1997.986472\n"
     ]
    },
    {
     "name": "stderr",
     "output_type": "stream",
     "text": [
      "Average Loss = 595.92: 100%|██████████████████████████████████████████████████████| 2000/2000 [00:09<00:00, 212.83it/s]\n"
     ]
    },
    {
     "name": "stdout",
     "output_type": "stream",
     "text": [
      "Iteration = 77, loop time = 27.416906, time elapsed = 2025.409384\n"
     ]
    },
    {
     "name": "stderr",
     "output_type": "stream",
     "text": [
      "Average Loss = 589.61: 100%|██████████████████████████████████████████████████████| 2000/2000 [00:08<00:00, 228.02it/s]\n"
     ]
    },
    {
     "name": "stdout",
     "output_type": "stream",
     "text": [
      "Iteration = 78, loop time = 27.059774, time elapsed = 2052.475165\n"
     ]
    },
    {
     "name": "stderr",
     "output_type": "stream",
     "text": [
      "Average Loss = 613.39: 100%|██████████████████████████████████████████████████████| 2000/2000 [00:08<00:00, 232.04it/s]\n"
     ]
    },
    {
     "name": "stdout",
     "output_type": "stream",
     "text": [
      "Iteration = 79, loop time = 26.792160, time elapsed = 2079.274333\n"
     ]
    },
    {
     "name": "stderr",
     "output_type": "stream",
     "text": [
      "Average Loss = 594.86: 100%|██████████████████████████████████████████████████████| 2000/2000 [00:08<00:00, 233.02it/s]\n"
     ]
    },
    {
     "name": "stdout",
     "output_type": "stream",
     "text": [
      "Iteration = 80, loop time = 25.072540, time elapsed = 2104.352880\n"
     ]
    },
    {
     "name": "stderr",
     "output_type": "stream",
     "text": [
      "Average Loss = 604.27: 100%|██████████████████████████████████████████████████████| 2000/2000 [00:08<00:00, 233.84it/s]\n"
     ]
    },
    {
     "name": "stdout",
     "output_type": "stream",
     "text": [
      "Iteration = 81, loop time = 25.366102, time elapsed = 2129.725988\n"
     ]
    },
    {
     "name": "stderr",
     "output_type": "stream",
     "text": [
      "Average Loss = 599.76: 100%|██████████████████████████████████████████████████████| 2000/2000 [00:08<00:00, 233.79it/s]\n"
     ]
    },
    {
     "name": "stdout",
     "output_type": "stream",
     "text": [
      "Iteration = 82, loop time = 25.243746, time elapsed = 2154.975739\n"
     ]
    },
    {
     "name": "stderr",
     "output_type": "stream",
     "text": [
      "Average Loss = 595: 100%|█████████████████████████████████████████████████████████| 2000/2000 [00:08<00:00, 232.54it/s]\n"
     ]
    },
    {
     "name": "stdout",
     "output_type": "stream",
     "text": [
      "Iteration = 83, loop time = 25.590488, time elapsed = 2180.571233\n"
     ]
    },
    {
     "name": "stderr",
     "output_type": "stream",
     "text": [
      "Average Loss = 589.01: 100%|██████████████████████████████████████████████████████| 2000/2000 [00:08<00:00, 230.63it/s]\n"
     ]
    },
    {
     "name": "stdout",
     "output_type": "stream",
     "text": [
      "Iteration = 84, loop time = 26.317886, time elapsed = 2206.895125\n"
     ]
    },
    {
     "name": "stderr",
     "output_type": "stream",
     "text": [
      "Average Loss = 588.18: 100%|██████████████████████████████████████████████████████| 2000/2000 [00:08<00:00, 230.50it/s]\n"
     ]
    },
    {
     "name": "stdout",
     "output_type": "stream",
     "text": [
      "Iteration = 85, loop time = 26.314000, time elapsed = 2233.215131\n"
     ]
    },
    {
     "name": "stderr",
     "output_type": "stream",
     "text": [
      "Average Loss = 592.99: 100%|██████████████████████████████████████████████████████| 2000/2000 [00:08<00:00, 230.20it/s]\n"
     ]
    },
    {
     "name": "stdout",
     "output_type": "stream",
     "text": [
      "Iteration = 86, loop time = 26.091932, time elapsed = 2259.313068\n"
     ]
    },
    {
     "name": "stderr",
     "output_type": "stream",
     "text": [
      "Average Loss = 604.7: 100%|███████████████████████████████████████████████████████| 2000/2000 [00:08<00:00, 229.83it/s]\n"
     ]
    },
    {
     "name": "stdout",
     "output_type": "stream",
     "text": [
      "Iteration = 87, loop time = 26.249799, time elapsed = 2285.569873\n"
     ]
    },
    {
     "name": "stderr",
     "output_type": "stream",
     "text": [
      "Average Loss = 610.45: 100%|██████████████████████████████████████████████████████| 2000/2000 [00:08<00:00, 229.39it/s]\n"
     ]
    },
    {
     "name": "stdout",
     "output_type": "stream",
     "text": [
      "Iteration = 88, loop time = 26.764130, time elapsed = 2312.341009\n"
     ]
    },
    {
     "name": "stderr",
     "output_type": "stream",
     "text": [
      "Average Loss = 588.8: 100%|███████████████████████████████████████████████████████| 2000/2000 [00:08<00:00, 228.43it/s]\n"
     ]
    },
    {
     "name": "stdout",
     "output_type": "stream",
     "text": [
      "Iteration = 89, loop time = 27.155326, time elapsed = 2339.502341\n"
     ]
    },
    {
     "name": "stderr",
     "output_type": "stream",
     "text": [
      "Average Loss = 598.41: 100%|██████████████████████████████████████████████████████| 2000/2000 [00:08<00:00, 228.51it/s]\n"
     ]
    },
    {
     "name": "stdout",
     "output_type": "stream",
     "text": [
      "Iteration = 90, loop time = 27.084383, time elapsed = 2366.592729\n"
     ]
    },
    {
     "name": "stderr",
     "output_type": "stream",
     "text": [
      "Average Loss = 607.43: 100%|██████████████████████████████████████████████████████| 2000/2000 [00:09<00:00, 211.18it/s]\n"
     ]
    },
    {
     "name": "stdout",
     "output_type": "stream",
     "text": [
      "Iteration = 91, loop time = 27.838861, time elapsed = 2394.438598\n"
     ]
    },
    {
     "name": "stderr",
     "output_type": "stream",
     "text": [
      "Average Loss = 594.64: 100%|██████████████████████████████████████████████████████| 2000/2000 [00:08<00:00, 231.05it/s]\n"
     ]
    },
    {
     "name": "stdout",
     "output_type": "stream",
     "text": [
      "Iteration = 92, loop time = 27.684380, time elapsed = 2422.128983\n"
     ]
    },
    {
     "name": "stderr",
     "output_type": "stream",
     "text": [
      "Average Loss = 597.88: 100%|██████████████████████████████████████████████████████| 2000/2000 [00:08<00:00, 231.97it/s]\n"
     ]
    },
    {
     "name": "stdout",
     "output_type": "stream",
     "text": [
      "Iteration = 93, loop time = 26.431360, time elapsed = 2448.567349\n"
     ]
    },
    {
     "name": "stderr",
     "output_type": "stream",
     "text": [
      "Average Loss = 599.25: 100%|██████████████████████████████████████████████████████| 2000/2000 [00:08<00:00, 228.80it/s]\n"
     ]
    },
    {
     "name": "stdout",
     "output_type": "stream",
     "text": [
      "Iteration = 94, loop time = 26.587233, time elapsed = 2475.160588\n"
     ]
    },
    {
     "name": "stderr",
     "output_type": "stream",
     "text": [
      "Average Loss = 603.49: 100%|██████████████████████████████████████████████████████| 2000/2000 [00:09<00:00, 215.53it/s]\n"
     ]
    },
    {
     "name": "stdout",
     "output_type": "stream",
     "text": [
      "Iteration = 95, loop time = 27.244156, time elapsed = 2502.411751\n"
     ]
    },
    {
     "name": "stderr",
     "output_type": "stream",
     "text": [
      "Average Loss = 601.78: 100%|██████████████████████████████████████████████████████| 2000/2000 [00:08<00:00, 226.24it/s]\n"
     ]
    },
    {
     "name": "stdout",
     "output_type": "stream",
     "text": [
      "Iteration = 96, loop time = 27.932921, time elapsed = 2530.350677\n"
     ]
    },
    {
     "name": "stderr",
     "output_type": "stream",
     "text": [
      "Average Loss = 611.06: 100%|██████████████████████████████████████████████████████| 2000/2000 [00:08<00:00, 228.44it/s]\n"
     ]
    },
    {
     "name": "stdout",
     "output_type": "stream",
     "text": [
      "Iteration = 97, loop time = 26.759739, time elapsed = 2557.118424\n"
     ]
    },
    {
     "name": "stderr",
     "output_type": "stream",
     "text": [
      "Average Loss = 604.9: 100%|███████████████████████████████████████████████████████| 2000/2000 [00:08<00:00, 229.03it/s]\n"
     ]
    },
    {
     "name": "stdout",
     "output_type": "stream",
     "text": [
      "Iteration = 98, loop time = 26.671270, time elapsed = 2583.795700\n"
     ]
    },
    {
     "name": "stderr",
     "output_type": "stream",
     "text": [
      "Average Loss = 603.55: 100%|██████████████████████████████████████████████████████| 2000/2000 [00:08<00:00, 228.96it/s]\n"
     ]
    },
    {
     "name": "stdout",
     "output_type": "stream",
     "text": [
      "Iteration = 99, loop time = 27.268907, time elapsed = 2611.070613\n",
      "Total time taken: 2611.077619\n"
     ]
    }
   ],
   "source": [
    "start = time.time()\n",
    "for i in range(M):\n",
    "    start_loop = time.time()\n",
    "    \n",
    "    # sample from prior\n",
    "    btemp = np.random.randn(1, D)\n",
    "    mtemp = np.dot(x.values, np.transpose(btemp))\n",
    "    stemp = np.random.gamma(.5, .5, 1)\n",
    "    ytemp = mtemp + stemp\n",
    "    \n",
    "    datatemp = dict(N=N, D=D, x=x, y=y)\n",
    "    fittemp = regression_model.sampling(data=datatemp, iter=20000, thin=20, chains=10)\n",
    "    stan_log_density_temp = make_stan_log_density(fittemp)\n",
    "    \n",
    "    klvi_objective_and_grad_temp = black_box_klvi(mf_gaussian_var_family, stan_log_density_temp, 100)\n",
    "    \n",
    "    # run klvi\n",
    "    klvi_temp_var_param, _, _, _ = \\\n",
    "        adagrad_optimize(n_iters, klvi_objective_and_grad_temp, init_var_param, learning_rate=.01)\n",
    "    \n",
    "    # store files for later\n",
    "    klvi_samples_temp, klvi_slw_temp, klvi_lw_temp, klvi_khat_temp = \\\n",
    "        psis_correction(stan_log_density, mf_gaussian_var_family, klvi_var_param, mc_samples)\n",
    "    \n",
    "    with open(\"./data/klvi_psis_\"+str(i)+\".pkl\", 'wb') as f:\n",
    "        pickle.dump([btemp, stemp, klvi_samples_temp, klvi_slw_temp, klvi_lw_temp, klvi_khat_temp, klvi_var_param], f)\n",
    "    \n",
    "    end_loop = time.time()\n",
    "    print(\"Iteration = %i, loop time = %f, time elapsed = %f\" % (i, end_loop-start_loop, end_loop-start))\n",
    "    \n",
    "    \n",
    "    ##################################################################\n",
    "    ##################################################################\n",
    "    # can remove this part and do it later with the pickled data file\n",
    "    \n",
    "    # extract beta mean and std\n",
    "    b_mean_temp = klvi_temp_var_param[:D]\n",
    "    b_std_temp = np.exp(klvi_temp_var_param[D+1:][0:D])\n",
    "\n",
    "    # generate 1000 sample from the variational family\n",
    "    nn = 1000\n",
    "    sample_temp = mf_gaussian_var_family.sample(klvi_temp_var_param, nn)\n",
    "\n",
    "    # compute log sigma of the samples\n",
    "    logs_sample_temp = []\n",
    "    for j in range(nn):\n",
    "        logs_sample_temp.append(sample_temp[j][-1])\n",
    "    logs_sample_temp = np.array(logs_sample_temp)\n",
    "    logs_sample_temp = np.log(logs_sample_temp)\n",
    "\n",
    "    # get the cdf values\n",
    "    klvi_probs[0:D, i] = norm.cdf(btemp, b_mean_temp[0:D], b_std_temp[0:D])\n",
    "    klvi_probs[D, i] = norm.cdf(np.log(stemp), np.mean(logs_sample_temp), np.std(logs_sample_temp))\n",
    "   \n",
    "    ##################################################################\n",
    "    ##################################################################\n",
    "\n",
    "end = time.time()\n",
    "print(\"Total time taken: %f\" % (end-start))"
   ]
  },
  {
   "cell_type": "code",
   "execution_count": 32,
   "metadata": {},
   "outputs": [
    {
     "data": {
      "image/png": "[encoded data removed]",
      "text/plain": [
       "<Figure size 432x288 with 1 Axes>"
      ]
     },
     "metadata": {
      "needs_background": "light"
     },
     "output_type": "display_data"
    }
   ],
   "source": [
    "plt.hist(klvi_probs[1,:], bins=10, density=True, range=(0,1))\n",
    "plt.show()"
   ]
  },
  {
   "cell_type": "code",
   "execution_count": 33,
   "metadata": {},
   "outputs": [
    {
     "data": {
      "image/png": "[encoded data removed]",
      "text/plain": [
       "<Figure size 432x288 with 1 Axes>"
      ]
     },
     "metadata": {
      "needs_background": "light"
     },
     "output_type": "display_data"
    }
   ],
   "source": [
    "plt.hist(klvi_probs[10,:], bins=10, density=True, range=(0,1))\n",
    "plt.show()"
   ]
  },
  {
   "cell_type": "code",
   "execution_count": 34,
   "metadata": {},
   "outputs": [
    {
     "data": {
      "image/png": "[encoded data removed]",
      "text/plain": [
       "<Figure size 432x288 with 1 Axes>"
      ]
     },
     "metadata": {
      "needs_background": "light"
     },
     "output_type": "display_data"
    }
   ],
   "source": [
    "plt.hist(klvi_probs[D,:], bins=10, density=True, range=(0,1))\n",
    "plt.show()"
   ]
  },
  {
   "cell_type": "code",
   "execution_count": 35,
   "metadata": {},
   "outputs": [],
   "source": [
    "np.savetxt(\"./data/klvi_probs.csv\", klvi_probs, delimiter=\",\")"
   ]
  },
  {
   "cell_type": "markdown",
   "metadata": {},
   "source": [
    "## CHIVI Mean field with Gaussian"
   ]
  },
  {
   "cell_type": "code",
   "execution_count": 36,
   "metadata": {},
   "outputs": [],
   "source": [
    "# init_mean = np.zeros(D+1)\n",
    "# init_log_std = np.ones(D+1)\n",
    "# init_var_param = np.concatenate([init_mean, init_log_std])\n",
    "# n_iters = 2000"
   ]
  },
  {
   "cell_type": "code",
   "execution_count": 37,
   "metadata": {},
   "outputs": [],
   "source": [
    "init_var_param = klvi_var_param.copy()\n",
    "n_iters = 2000"
   ]
  },
  {
   "cell_type": "code",
   "execution_count": 38,
   "metadata": {},
   "outputs": [
    {
     "name": "stderr",
     "output_type": "stream",
     "text": [
      "Average Loss = -514.15: 100%|██████████████████████████████████████████████████████| 2000/2000 [00:28<00:00, 70.93it/s]\n"
     ]
    }
   ],
   "source": [
    "mf_gaussian_var_family = mean_field_gaussian_variational_family(D+1)\n",
    "chivi_objective_and_grad = black_box_chivi(2, mf_gaussian_var_family, stan_log_density, 200)\n",
    "\n",
    "chivi_var_param, chivi_param_history, chivi_history, _ = \\\n",
    "    adagrad_optimize(n_iters, chivi_objective_and_grad, init_var_param, learning_rate=5e-4)"
   ]
  },
  {
   "cell_type": "code",
   "execution_count": 39,
   "metadata": {},
   "outputs": [],
   "source": [
    "#plot_dist_to_opt_param(chivi_param_history, chivi_var_param)"
   ]
  },
  {
   "cell_type": "code",
   "execution_count": 40,
   "metadata": {},
   "outputs": [
    {
     "name": "stdout",
     "output_type": "stream",
     "text": [
      "mean   = [ 0.00824444 -0.06341375 -0.08692164 -0.4711469   0.0408359   0.96892019\n",
      " -0.1134993   0.28292113  0.02553542  0.13229639  0.18948054  0.41025916\n",
      " -1.16355101  1.68552837]\n",
      "stdevs = [0.03102788 0.02628284 0.07912794 0.13140763 0.05063549 0.04415807\n",
      " 0.05794659 0.06954742 0.13370849 0.17556052 0.109305   0.14983842\n",
      " 0.30170056 0.04462169]\n",
      "\n",
      "mean error             = 2.61\n",
      "stdev error            = 0.309\n",
      "||cov error||_2^{1/2}  = 0.379\n",
      "||true cov||_2^{1/2}   = 0.479\n"
     ]
    }
   ],
   "source": [
    "check_approx_accuracy(mf_gaussian_var_family, chivi_var_param, true_mean, true_cov, verbose=True);"
   ]
  },
  {
   "cell_type": "code",
   "execution_count": 41,
   "metadata": {},
   "outputs": [],
   "source": [
    "mc_samples=100000"
   ]
  },
  {
   "cell_type": "code",
   "execution_count": 42,
   "metadata": {},
   "outputs": [],
   "source": [
    "chivi_samples, chivi_slw, chivi_lw, chivi_khat = \\\n",
    "    psis_correction(stan_log_density, mf_gaussian_var_family, chivi_var_param, mc_samples)"
   ]
  },
  {
   "cell_type": "code",
   "execution_count": 43,
   "metadata": {},
   "outputs": [
    {
     "name": "stdout",
     "output_type": "stream",
     "text": [
      "2.3987269307860872\n"
     ]
    }
   ],
   "source": [
    "print(chivi_khat)"
   ]
  },
  {
   "cell_type": "code",
   "execution_count": 44,
   "metadata": {},
   "outputs": [
    {
     "data": {
      "text/plain": [
       "array([-109.29356004,  -38.34546479,  -46.30810456, ...,  -38.74881329,\n",
       "        -25.23302412,  -21.64202785])"
      ]
     },
     "execution_count": 44,
     "metadata": {},
     "output_type": "execute_result"
    }
   ],
   "source": [
    "chivi_slw"
   ]
  },
  {
   "cell_type": "code",
   "execution_count": 45,
   "metadata": {},
   "outputs": [
    {
     "data": {
      "text/plain": [
       "array([-611.11284952, -540.16475427, -548.12739404, ..., -540.56810277,\n",
       "       -527.0523136 , -523.46131733])"
      ]
     },
     "execution_count": 45,
     "metadata": {},
     "output_type": "execute_result"
    }
   ],
   "source": [
    "chivi_lw"
   ]
  },
  {
   "cell_type": "markdown",
   "metadata": {},
   "source": [
    "### VSBC diagnostics"
   ]
  },
  {
   "cell_type": "code",
   "execution_count": 46,
   "metadata": {},
   "outputs": [],
   "source": [
    "M = 100\n",
    "chivi_probs = np.zeros(shape=(D+1, M))\n",
    "n_iters = 2000\n",
    "\n",
    "#np.random.seed(123)\n",
    "np.random.seed(100)"
   ]
  },
  {
   "cell_type": "code",
   "execution_count": 47,
   "metadata": {
    "scrolled": true
   },
   "outputs": [
    {
     "name": "stderr",
     "output_type": "stream",
     "text": [
      "Average Loss = -512.8: 100%|███████████████████████████████████████████████████████| 2000/2000 [00:27<00:00, 71.58it/s]\n"
     ]
    },
    {
     "name": "stdout",
     "output_type": "stream",
     "text": [
      "Iteration = 0, loop time = 45.166456, time elapsed = 45.166456\n"
     ]
    },
    {
     "name": "stderr",
     "output_type": "stream",
     "text": [
      "Average Loss = -513.16: 100%|██████████████████████████████████████████████████████| 2000/2000 [00:25<00:00, 78.03it/s]\n"
     ]
    },
    {
     "name": "stdout",
     "output_type": "stream",
     "text": [
      "Iteration = 1, loop time = 42.367853, time elapsed = 87.535310\n"
     ]
    },
    {
     "name": "stderr",
     "output_type": "stream",
     "text": [
      "Average Loss = -514.8: 100%|███████████████████████████████████████████████████████| 2000/2000 [00:25<00:00, 78.26it/s]\n"
     ]
    },
    {
     "name": "stdout",
     "output_type": "stream",
     "text": [
      "Iteration = 2, loop time = 42.486507, time elapsed = 130.022818\n"
     ]
    },
    {
     "name": "stderr",
     "output_type": "stream",
     "text": [
      "Average Loss = -515.72: 100%|██████████████████████████████████████████████████████| 2000/2000 [00:25<00:00, 78.50it/s]\n"
     ]
    },
    {
     "name": "stdout",
     "output_type": "stream",
     "text": [
      "Iteration = 3, loop time = 42.160935, time elapsed = 172.184754\n"
     ]
    },
    {
     "name": "stderr",
     "output_type": "stream",
     "text": [
      "Average Loss = -512.93: 100%|██████████████████████████████████████████████████████| 2000/2000 [00:26<00:00, 74.43it/s]\n"
     ]
    },
    {
     "name": "stdout",
     "output_type": "stream",
     "text": [
      "Iteration = 4, loop time = 42.958746, time elapsed = 215.144501\n"
     ]
    },
    {
     "name": "stderr",
     "output_type": "stream",
     "text": [
      "Average Loss = -514.54: 100%|██████████████████████████████████████████████████████| 2000/2000 [00:25<00:00, 78.29it/s]\n"
     ]
    },
    {
     "name": "stdout",
     "output_type": "stream",
     "text": [
      "Iteration = 5, loop time = 41.885180, time elapsed = 257.030683\n"
     ]
    },
    {
     "name": "stderr",
     "output_type": "stream",
     "text": [
      "Average Loss = -512.04: 100%|██████████████████████████████████████████████████████| 2000/2000 [00:25<00:00, 77.30it/s]\n"
     ]
    },
    {
     "name": "stdout",
     "output_type": "stream",
     "text": [
      "Iteration = 6, loop time = 43.211497, time elapsed = 300.243181\n"
     ]
    },
    {
     "name": "stderr",
     "output_type": "stream",
     "text": [
      "Average Loss = -513.33: 100%|██████████████████████████████████████████████████████| 2000/2000 [00:25<00:00, 78.84it/s]\n"
     ]
    },
    {
     "name": "stdout",
     "output_type": "stream",
     "text": [
      "Iteration = 7, loop time = 42.367558, time elapsed = 342.611740\n"
     ]
    },
    {
     "name": "stderr",
     "output_type": "stream",
     "text": [
      "Average Loss = -512.62: 100%|██████████████████████████████████████████████████████| 2000/2000 [00:25<00:00, 77.92it/s]\n"
     ]
    },
    {
     "name": "stdout",
     "output_type": "stream",
     "text": [
      "Iteration = 8, loop time = 42.253779, time elapsed = 384.866520\n"
     ]
    },
    {
     "name": "stderr",
     "output_type": "stream",
     "text": [
      "Average Loss = -513.06: 100%|██████████████████████████████████████████████████████| 2000/2000 [00:25<00:00, 77.82it/s]\n"
     ]
    },
    {
     "name": "stdout",
     "output_type": "stream",
     "text": [
      "Iteration = 9, loop time = 41.931189, time elapsed = 426.798710\n"
     ]
    },
    {
     "name": "stderr",
     "output_type": "stream",
     "text": [
      "Average Loss = -512.22: 100%|██████████████████████████████████████████████████████| 2000/2000 [00:25<00:00, 77.69it/s]\n"
     ]
    },
    {
     "name": "stdout",
     "output_type": "stream",
     "text": [
      "Iteration = 10, loop time = 42.525543, time elapsed = 469.325256\n"
     ]
    },
    {
     "name": "stderr",
     "output_type": "stream",
     "text": [
      "Average Loss = -517.16: 100%|██████████████████████████████████████████████████████| 2000/2000 [00:25<00:00, 78.40it/s]\n"
     ]
    },
    {
     "name": "stdout",
     "output_type": "stream",
     "text": [
      "Iteration = 11, loop time = 41.779049, time elapsed = 511.105308\n"
     ]
    },
    {
     "name": "stderr",
     "output_type": "stream",
     "text": [
      "Average Loss = -512.46: 100%|██████████████████████████████████████████████████████| 2000/2000 [00:27<00:00, 75.13it/s]\n"
     ]
    },
    {
     "name": "stdout",
     "output_type": "stream",
     "text": [
      "Iteration = 12, loop time = 43.719697, time elapsed = 554.826005\n"
     ]
    },
    {
     "name": "stderr",
     "output_type": "stream",
     "text": [
      "Average Loss = -512.71: 100%|██████████████████████████████████████████████████████| 2000/2000 [00:25<00:00, 77.97it/s]\n"
     ]
    },
    {
     "name": "stdout",
     "output_type": "stream",
     "text": [
      "Iteration = 13, loop time = 41.737717, time elapsed = 596.564723\n"
     ]
    },
    {
     "name": "stderr",
     "output_type": "stream",
     "text": [
      "Average Loss = -511.93: 100%|██████████████████████████████████████████████████████| 2000/2000 [00:25<00:00, 81.06it/s]\n"
     ]
    },
    {
     "name": "stdout",
     "output_type": "stream",
     "text": [
      "Iteration = 14, loop time = 42.021272, time elapsed = 638.586996\n"
     ]
    },
    {
     "name": "stderr",
     "output_type": "stream",
     "text": [
      "Average Loss = -511.94: 100%|██████████████████████████████████████████████████████| 2000/2000 [00:25<00:00, 77.89it/s]\n"
     ]
    },
    {
     "name": "stdout",
     "output_type": "stream",
     "text": [
      "Iteration = 15, loop time = 42.245371, time elapsed = 680.833368\n"
     ]
    },
    {
     "name": "stderr",
     "output_type": "stream",
     "text": [
      "Average Loss = -512.2: 100%|███████████████████████████████████████████████████████| 2000/2000 [00:27<00:00, 73.05it/s]\n"
     ]
    },
    {
     "name": "stdout",
     "output_type": "stream",
     "text": [
      "Iteration = 16, loop time = 43.721057, time elapsed = 724.556427\n"
     ]
    },
    {
     "name": "stderr",
     "output_type": "stream",
     "text": [
      "Average Loss = -513.86: 100%|██████████████████████████████████████████████████████| 2000/2000 [00:26<00:00, 76.70it/s]\n"
     ]
    },
    {
     "name": "stdout",
     "output_type": "stream",
     "text": [
      "Iteration = 17, loop time = 43.289954, time elapsed = 767.846381\n"
     ]
    },
    {
     "name": "stderr",
     "output_type": "stream",
     "text": [
      "Average Loss = -516.03: 100%|██████████████████████████████████████████████████████| 2000/2000 [00:26<00:00, 75.13it/s]\n"
     ]
    },
    {
     "name": "stdout",
     "output_type": "stream",
     "text": [
      "Iteration = 18, loop time = 43.668423, time elapsed = 811.516806\n"
     ]
    },
    {
     "name": "stderr",
     "output_type": "stream",
     "text": [
      "Average Loss = -512.99: 100%|██████████████████████████████████████████████████████| 2000/2000 [00:26<00:00, 76.70it/s]\n"
     ]
    },
    {
     "name": "stdout",
     "output_type": "stream",
     "text": [
      "Iteration = 19, loop time = 43.513262, time elapsed = 855.032069\n"
     ]
    },
    {
     "name": "stderr",
     "output_type": "stream",
     "text": [
      "Average Loss = -512.43: 100%|██████████████████████████████████████████████████████| 2000/2000 [00:25<00:00, 75.52it/s]\n"
     ]
    },
    {
     "name": "stdout",
     "output_type": "stream",
     "text": [
      "Iteration = 20, loop time = 43.557671, time elapsed = 898.590741\n"
     ]
    },
    {
     "name": "stderr",
     "output_type": "stream",
     "text": [
      "Average Loss = -512.92: 100%|██████████████████████████████████████████████████████| 2000/2000 [00:26<00:00, 76.23it/s]\n"
     ]
    },
    {
     "name": "stdout",
     "output_type": "stream",
     "text": [
      "Iteration = 21, loop time = 43.485029, time elapsed = 942.076770\n"
     ]
    },
    {
     "name": "stderr",
     "output_type": "stream",
     "text": [
      "Average Loss = -512.46: 100%|██████████████████████████████████████████████████████| 2000/2000 [00:28<00:00, 69.79it/s]\n"
     ]
    },
    {
     "name": "stdout",
     "output_type": "stream",
     "text": [
      "Iteration = 22, loop time = 46.680119, time elapsed = 988.757889\n"
     ]
    },
    {
     "name": "stderr",
     "output_type": "stream",
     "text": [
      "Average Loss = -511.92: 100%|██████████████████████████████████████████████████████| 2000/2000 [00:25<00:00, 77.09it/s]\n"
     ]
    },
    {
     "name": "stdout",
     "output_type": "stream",
     "text": [
      "Iteration = 23, loop time = 42.609476, time elapsed = 1031.368366\n"
     ]
    },
    {
     "name": "stderr",
     "output_type": "stream",
     "text": [
      "Average Loss = -517.61: 100%|██████████████████████████████████████████████████████| 2000/2000 [00:26<00:00, 76.12it/s]\n"
     ]
    },
    {
     "name": "stdout",
     "output_type": "stream",
     "text": [
      "Iteration = 24, loop time = 43.426572, time elapsed = 1074.795939\n"
     ]
    },
    {
     "name": "stderr",
     "output_type": "stream",
     "text": [
      "Average Loss = -515.6: 100%|███████████████████████████████████████████████████████| 2000/2000 [00:26<00:00, 76.67it/s]\n"
     ]
    },
    {
     "name": "stdout",
     "output_type": "stream",
     "text": [
      "Iteration = 25, loop time = 43.652471, time elapsed = 1118.449411\n"
     ]
    },
    {
     "name": "stderr",
     "output_type": "stream",
     "text": [
      "Average Loss = -513.06: 100%|██████████████████████████████████████████████████████| 2000/2000 [00:25<00:00, 77.86it/s]\n"
     ]
    },
    {
     "name": "stdout",
     "output_type": "stream",
     "text": [
      "Iteration = 26, loop time = 41.673963, time elapsed = 1160.124374\n"
     ]
    },
    {
     "name": "stderr",
     "output_type": "stream",
     "text": [
      "Average Loss = -513.52: 100%|██████████████████████████████████████████████████████| 2000/2000 [00:26<00:00, 75.25it/s]\n"
     ]
    },
    {
     "name": "stdout",
     "output_type": "stream",
     "text": [
      "Iteration = 27, loop time = 43.759746, time elapsed = 1203.885121\n"
     ]
    },
    {
     "name": "stderr",
     "output_type": "stream",
     "text": [
      "Average Loss = -510.86: 100%|██████████████████████████████████████████████████████| 2000/2000 [00:25<00:00, 77.74it/s]\n"
     ]
    },
    {
     "name": "stdout",
     "output_type": "stream",
     "text": [
      "Iteration = 28, loop time = 42.722368, time elapsed = 1246.608490\n"
     ]
    },
    {
     "name": "stderr",
     "output_type": "stream",
     "text": [
      "Average Loss = -514.48: 100%|██████████████████████████████████████████████████████| 2000/2000 [00:25<00:00, 77.44it/s]\n"
     ]
    },
    {
     "name": "stdout",
     "output_type": "stream",
     "text": [
      "Iteration = 29, loop time = 42.876642, time elapsed = 1289.486133\n"
     ]
    },
    {
     "name": "stderr",
     "output_type": "stream",
     "text": [
      "Average Loss = -517.02: 100%|██████████████████████████████████████████████████████| 2000/2000 [00:27<00:00, 71.94it/s]\n"
     ]
    },
    {
     "name": "stdout",
     "output_type": "stream",
     "text": [
      "Iteration = 30, loop time = 45.690988, time elapsed = 1335.178122\n"
     ]
    },
    {
     "name": "stderr",
     "output_type": "stream",
     "text": [
      "Average Loss = -515.7: 100%|███████████████████████████████████████████████████████| 2000/2000 [00:26<00:00, 75.63it/s]\n"
     ]
    },
    {
     "name": "stdout",
     "output_type": "stream",
     "text": [
      "Iteration = 31, loop time = 43.610488, time elapsed = 1378.789612\n"
     ]
    },
    {
     "name": "stderr",
     "output_type": "stream",
     "text": [
      "Average Loss = -512.07: 100%|██████████████████████████████████████████████████████| 2000/2000 [00:26<00:00, 76.68it/s]\n"
     ]
    },
    {
     "name": "stdout",
     "output_type": "stream",
     "text": [
      "Iteration = 32, loop time = 43.450271, time elapsed = 1422.240884\n"
     ]
    },
    {
     "name": "stderr",
     "output_type": "stream",
     "text": [
      "Average Loss = -514.26: 100%|██████████████████████████████████████████████████████| 2000/2000 [00:26<00:00, 75.42it/s]\n"
     ]
    },
    {
     "name": "stdout",
     "output_type": "stream",
     "text": [
      "Iteration = 33, loop time = 43.729507, time elapsed = 1465.971392\n"
     ]
    },
    {
     "name": "stderr",
     "output_type": "stream",
     "text": [
      "Average Loss = -513.69: 100%|██████████████████████████████████████████████████████| 2000/2000 [00:25<00:00, 77.19it/s]\n"
     ]
    },
    {
     "name": "stdout",
     "output_type": "stream",
     "text": [
      "Iteration = 34, loop time = 43.715810, time elapsed = 1509.688203\n"
     ]
    },
    {
     "name": "stderr",
     "output_type": "stream",
     "text": [
      "Average Loss = -512.57: 100%|██████████████████████████████████████████████████████| 2000/2000 [00:26<00:00, 76.30it/s]\n"
     ]
    },
    {
     "name": "stdout",
     "output_type": "stream",
     "text": [
      "Iteration = 35, loop time = 44.800804, time elapsed = 1554.490008\n"
     ]
    },
    {
     "name": "stderr",
     "output_type": "stream",
     "text": [
      "Average Loss = -512.91: 100%|██████████████████████████████████████████████████████| 2000/2000 [00:26<00:00, 76.85it/s]\n"
     ]
    },
    {
     "name": "stdout",
     "output_type": "stream",
     "text": [
      "Iteration = 36, loop time = 43.420275, time elapsed = 1597.911285\n"
     ]
    },
    {
     "name": "stderr",
     "output_type": "stream",
     "text": [
      "Average Loss = -512.67: 100%|██████████████████████████████████████████████████████| 2000/2000 [00:26<00:00, 76.00it/s]\n"
     ]
    },
    {
     "name": "stdout",
     "output_type": "stream",
     "text": [
      "Iteration = 37, loop time = 45.240081, time elapsed = 1643.152367\n"
     ]
    },
    {
     "name": "stderr",
     "output_type": "stream",
     "text": [
      "Average Loss = -513.28: 100%|██████████████████████████████████████████████████████| 2000/2000 [00:25<00:00, 77.37it/s]\n"
     ]
    },
    {
     "name": "stdout",
     "output_type": "stream",
     "text": [
      "Iteration = 38, loop time = 43.331223, time elapsed = 1686.484591\n"
     ]
    },
    {
     "name": "stderr",
     "output_type": "stream",
     "text": [
      "Average Loss = -512.52: 100%|██████████████████████████████████████████████████████| 2000/2000 [00:25<00:00, 77.29it/s]\n"
     ]
    },
    {
     "name": "stdout",
     "output_type": "stream",
     "text": [
      "Iteration = 39, loop time = 42.563303, time elapsed = 1729.048895\n"
     ]
    },
    {
     "name": "stderr",
     "output_type": "stream",
     "text": [
      "Average Loss = -513.34: 100%|██████████████████████████████████████████████████████| 2000/2000 [00:27<00:00, 73.12it/s]\n"
     ]
    },
    {
     "name": "stdout",
     "output_type": "stream",
     "text": [
      "Iteration = 40, loop time = 43.949668, time elapsed = 1772.999564\n"
     ]
    },
    {
     "name": "stderr",
     "output_type": "stream",
     "text": [
      "Average Loss = -513.21: 100%|██████████████████████████████████████████████████████| 2000/2000 [00:25<00:00, 77.28it/s]\n"
     ]
    },
    {
     "name": "stdout",
     "output_type": "stream",
     "text": [
      "Iteration = 41, loop time = 42.812992, time elapsed = 1815.813557\n"
     ]
    },
    {
     "name": "stderr",
     "output_type": "stream",
     "text": [
      "Average Loss = -513.22: 100%|██████████████████████████████████████████████████████| 2000/2000 [00:26<00:00, 75.93it/s]\n"
     ]
    },
    {
     "name": "stdout",
     "output_type": "stream",
     "text": [
      "Iteration = 42, loop time = 43.821599, time elapsed = 1859.637159\n"
     ]
    },
    {
     "name": "stderr",
     "output_type": "stream",
     "text": [
      "Average Loss = -514.63: 100%|██████████████████████████████████████████████████████| 2000/2000 [00:26<00:00, 75.92it/s]\n"
     ]
    },
    {
     "name": "stdout",
     "output_type": "stream",
     "text": [
      "Iteration = 43, loop time = 44.135743, time elapsed = 1903.773903\n"
     ]
    },
    {
     "name": "stderr",
     "output_type": "stream",
     "text": [
      "Average Loss = -512.97: 100%|██████████████████████████████████████████████████████| 2000/2000 [00:26<00:00, 74.31it/s]\n"
     ]
    },
    {
     "name": "stdout",
     "output_type": "stream",
     "text": [
      "Iteration = 44, loop time = 43.933751, time elapsed = 1947.708655\n"
     ]
    },
    {
     "name": "stderr",
     "output_type": "stream",
     "text": [
      "Average Loss = -512.31: 100%|██████████████████████████████████████████████████████| 2000/2000 [00:26<00:00, 75.73it/s]\n"
     ]
    },
    {
     "name": "stdout",
     "output_type": "stream",
     "text": [
      "Iteration = 45, loop time = 43.439564, time elapsed = 1991.149220\n"
     ]
    },
    {
     "name": "stderr",
     "output_type": "stream",
     "text": [
      "Average Loss = -512.67: 100%|██████████████████████████████████████████████████████| 2000/2000 [00:26<00:00, 74.80it/s]\n"
     ]
    },
    {
     "name": "stdout",
     "output_type": "stream",
     "text": [
      "Iteration = 46, loop time = 43.866310, time elapsed = 2035.016530\n"
     ]
    },
    {
     "name": "stderr",
     "output_type": "stream",
     "text": [
      "Average Loss = -516.79: 100%|██████████████████████████████████████████████████████| 2000/2000 [00:27<00:00, 73.06it/s]\n"
     ]
    },
    {
     "name": "stdout",
     "output_type": "stream",
     "text": [
      "Iteration = 47, loop time = 44.466837, time elapsed = 2079.484368\n"
     ]
    },
    {
     "name": "stderr",
     "output_type": "stream",
     "text": [
      "Average Loss = -513.82: 100%|██████████████████████████████████████████████████████| 2000/2000 [00:25<00:00, 77.84it/s]\n"
     ]
    },
    {
     "name": "stdout",
     "output_type": "stream",
     "text": [
      "Iteration = 48, loop time = 43.028808, time elapsed = 2122.514177\n"
     ]
    },
    {
     "name": "stderr",
     "output_type": "stream",
     "text": [
      "Average Loss = -512.55: 100%|██████████████████████████████████████████████████████| 2000/2000 [00:25<00:00, 76.92it/s]\n"
     ]
    },
    {
     "name": "stdout",
     "output_type": "stream",
     "text": [
      "Iteration = 49, loop time = 43.157145, time elapsed = 2165.672323\n"
     ]
    },
    {
     "name": "stderr",
     "output_type": "stream",
     "text": [
      "Average Loss = -512.33: 100%|██████████████████████████████████████████████████████| 2000/2000 [00:26<00:00, 76.42it/s]\n"
     ]
    },
    {
     "name": "stdout",
     "output_type": "stream",
     "text": [
      "Iteration = 50, loop time = 43.501521, time elapsed = 2209.174845\n"
     ]
    },
    {
     "name": "stderr",
     "output_type": "stream",
     "text": [
      "Average Loss = -514.94: 100%|██████████████████████████████████████████████████████| 2000/2000 [00:25<00:00, 77.55it/s]\n"
     ]
    },
    {
     "name": "stdout",
     "output_type": "stream",
     "text": [
      "Iteration = 51, loop time = 42.942701, time elapsed = 2252.118547\n"
     ]
    },
    {
     "name": "stderr",
     "output_type": "stream",
     "text": [
      "Average Loss = -514.13: 100%|██████████████████████████████████████████████████████| 2000/2000 [00:26<00:00, 76.09it/s]\n"
     ]
    },
    {
     "name": "stdout",
     "output_type": "stream",
     "text": [
      "Iteration = 52, loop time = 43.270614, time elapsed = 2295.390162\n"
     ]
    },
    {
     "name": "stderr",
     "output_type": "stream",
     "text": [
      "Average Loss = -513.37: 100%|██████████████████████████████████████████████████████| 2000/2000 [00:26<00:00, 73.73it/s]\n"
     ]
    },
    {
     "name": "stdout",
     "output_type": "stream",
     "text": [
      "Iteration = 53, loop time = 44.307855, time elapsed = 2339.699019\n"
     ]
    },
    {
     "name": "stderr",
     "output_type": "stream",
     "text": [
      "Average Loss = -516.81: 100%|██████████████████████████████████████████████████████| 2000/2000 [00:26<00:00, 74.26it/s]\n"
     ]
    },
    {
     "name": "stdout",
     "output_type": "stream",
     "text": [
      "Iteration = 54, loop time = 44.391687, time elapsed = 2384.091706\n"
     ]
    },
    {
     "name": "stderr",
     "output_type": "stream",
     "text": [
      "Average Loss = -514.42: 100%|██████████████████████████████████████████████████████| 2000/2000 [00:26<00:00, 76.46it/s]\n"
     ]
    },
    {
     "name": "stdout",
     "output_type": "stream",
     "text": [
      "Iteration = 55, loop time = 43.368144, time elapsed = 2427.460851\n"
     ]
    },
    {
     "name": "stderr",
     "output_type": "stream",
     "text": [
      "Average Loss = -514.93: 100%|██████████████████████████████████████████████████████| 2000/2000 [00:27<00:00, 72.69it/s]\n"
     ]
    },
    {
     "name": "stdout",
     "output_type": "stream",
     "text": [
      "Iteration = 56, loop time = 45.091977, time elapsed = 2472.553829\n"
     ]
    },
    {
     "name": "stderr",
     "output_type": "stream",
     "text": [
      "Average Loss = -512.41: 100%|██████████████████████████████████████████████████████| 2000/2000 [00:27<00:00, 72.65it/s]\n"
     ]
    },
    {
     "name": "stdout",
     "output_type": "stream",
     "text": [
      "Iteration = 57, loop time = 47.624029, time elapsed = 2520.178859\n"
     ]
    },
    {
     "name": "stderr",
     "output_type": "stream",
     "text": [
      "Average Loss = -513.57: 100%|██████████████████████████████████████████████████████| 2000/2000 [00:30<00:00, 67.12it/s]\n"
     ]
    },
    {
     "name": "stdout",
     "output_type": "stream",
     "text": [
      "Iteration = 58, loop time = 49.934479, time elapsed = 2570.115340\n"
     ]
    },
    {
     "name": "stderr",
     "output_type": "stream",
     "text": [
      "Average Loss = -515.49: 100%|██████████████████████████████████████████████████████| 2000/2000 [00:29<00:00, 66.72it/s]\n"
     ]
    },
    {
     "name": "stdout",
     "output_type": "stream",
     "text": [
      "Iteration = 59, loop time = 49.123415, time elapsed = 2619.239756\n"
     ]
    },
    {
     "name": "stderr",
     "output_type": "stream",
     "text": [
      "Average Loss = -513.99: 100%|██████████████████████████████████████████████████████| 2000/2000 [00:26<00:00, 75.89it/s]\n"
     ]
    },
    {
     "name": "stdout",
     "output_type": "stream",
     "text": [
      "Iteration = 60, loop time = 44.467122, time elapsed = 2663.707879\n"
     ]
    },
    {
     "name": "stderr",
     "output_type": "stream",
     "text": [
      "Average Loss = -512.32: 100%|██████████████████████████████████████████████████████| 2000/2000 [00:26<00:00, 78.28it/s]\n"
     ]
    },
    {
     "name": "stdout",
     "output_type": "stream",
     "text": [
      "Iteration = 61, loop time = 43.917999, time elapsed = 2707.626880\n"
     ]
    },
    {
     "name": "stderr",
     "output_type": "stream",
     "text": [
      "Average Loss = -512.87: 100%|██████████████████████████████████████████████████████| 2000/2000 [00:27<00:00, 73.65it/s]\n"
     ]
    },
    {
     "name": "stdout",
     "output_type": "stream",
     "text": [
      "Iteration = 62, loop time = 44.964952, time elapsed = 2752.592833\n"
     ]
    },
    {
     "name": "stderr",
     "output_type": "stream",
     "text": [
      "Average Loss = -512.56: 100%|██████████████████████████████████████████████████████| 2000/2000 [00:27<00:00, 71.50it/s]\n"
     ]
    },
    {
     "name": "stdout",
     "output_type": "stream",
     "text": [
      "Iteration = 63, loop time = 46.584429, time elapsed = 2799.178262\n"
     ]
    },
    {
     "name": "stderr",
     "output_type": "stream",
     "text": [
      "Average Loss = -511.75: 100%|██████████████████████████████████████████████████████| 2000/2000 [00:27<00:00, 73.60it/s]\n"
     ]
    },
    {
     "name": "stdout",
     "output_type": "stream",
     "text": [
      "Iteration = 64, loop time = 45.740659, time elapsed = 2844.919922\n"
     ]
    },
    {
     "name": "stderr",
     "output_type": "stream",
     "text": [
      "Average Loss = -512.65: 100%|██████████████████████████████████████████████████████| 2000/2000 [00:27<00:00, 71.61it/s]\n"
     ]
    },
    {
     "name": "stdout",
     "output_type": "stream",
     "text": [
      "Iteration = 65, loop time = 46.020916, time elapsed = 2890.941839\n"
     ]
    },
    {
     "name": "stderr",
     "output_type": "stream",
     "text": [
      "Average Loss = -512.9: 100%|███████████████████████████████████████████████████████| 2000/2000 [00:29<00:00, 68.20it/s]\n"
     ]
    },
    {
     "name": "stdout",
     "output_type": "stream",
     "text": [
      "Iteration = 66, loop time = 47.680425, time elapsed = 2938.623264\n"
     ]
    },
    {
     "name": "stderr",
     "output_type": "stream",
     "text": [
      "Average Loss = -514.38: 100%|██████████████████████████████████████████████████████| 2000/2000 [00:29<00:00, 67.31it/s]\n"
     ]
    },
    {
     "name": "stdout",
     "output_type": "stream",
     "text": [
      "Iteration = 67, loop time = 49.030386, time elapsed = 2987.655653\n"
     ]
    },
    {
     "name": "stderr",
     "output_type": "stream",
     "text": [
      "Average Loss = -513.08: 100%|██████████████████████████████████████████████████████| 2000/2000 [00:27<00:00, 72.43it/s]\n"
     ]
    },
    {
     "name": "stdout",
     "output_type": "stream",
     "text": [
      "Iteration = 68, loop time = 46.159040, time elapsed = 3033.815692\n"
     ]
    },
    {
     "name": "stderr",
     "output_type": "stream",
     "text": [
      "Average Loss = -513.79: 100%|██████████████████████████████████████████████████████| 2000/2000 [00:29<00:00, 67.13it/s]\n"
     ]
    },
    {
     "name": "stdout",
     "output_type": "stream",
     "text": [
      "Iteration = 69, loop time = 48.654857, time elapsed = 3082.471550\n"
     ]
    },
    {
     "name": "stderr",
     "output_type": "stream",
     "text": [
      "Average Loss = -513.66: 100%|██████████████████████████████████████████████████████| 2000/2000 [00:25<00:00, 78.72it/s]\n"
     ]
    },
    {
     "name": "stdout",
     "output_type": "stream",
     "text": [
      "Iteration = 70, loop time = 42.314538, time elapsed = 3124.787091\n"
     ]
    },
    {
     "name": "stderr",
     "output_type": "stream",
     "text": [
      "Average Loss = -514.76: 100%|██████████████████████████████████████████████████████| 2000/2000 [00:26<00:00, 74.87it/s]\n"
     ]
    },
    {
     "name": "stdout",
     "output_type": "stream",
     "text": [
      "Iteration = 71, loop time = 43.801893, time elapsed = 3168.589984\n"
     ]
    },
    {
     "name": "stderr",
     "output_type": "stream",
     "text": [
      "Average Loss = -513.44: 100%|██████████████████████████████████████████████████████| 2000/2000 [00:26<00:00, 76.66it/s]\n"
     ]
    },
    {
     "name": "stdout",
     "output_type": "stream",
     "text": [
      "Iteration = 72, loop time = 43.121247, time elapsed = 3211.712232\n"
     ]
    },
    {
     "name": "stderr",
     "output_type": "stream",
     "text": [
      "Average Loss = -513.88: 100%|██████████████████████████████████████████████████████| 2000/2000 [00:25<00:00, 79.01it/s]\n"
     ]
    },
    {
     "name": "stdout",
     "output_type": "stream",
     "text": [
      "Iteration = 73, loop time = 42.787779, time elapsed = 3254.501011\n"
     ]
    },
    {
     "name": "stderr",
     "output_type": "stream",
     "text": [
      "Average Loss = -512.69: 100%|██████████████████████████████████████████████████████| 2000/2000 [00:25<00:00, 78.05it/s]\n"
     ]
    },
    {
     "name": "stdout",
     "output_type": "stream",
     "text": [
      "Iteration = 74, loop time = 42.965599, time elapsed = 3297.467611\n"
     ]
    },
    {
     "name": "stderr",
     "output_type": "stream",
     "text": [
      "Average Loss = -512.44: 100%|██████████████████████████████████████████████████████| 2000/2000 [00:25<00:00, 77.97it/s]\n"
     ]
    },
    {
     "name": "stdout",
     "output_type": "stream",
     "text": [
      "Iteration = 75, loop time = 41.973831, time elapsed = 3339.442443\n"
     ]
    },
    {
     "name": "stderr",
     "output_type": "stream",
     "text": [
      "Average Loss = -516.97: 100%|██████████████████████████████████████████████████████| 2000/2000 [00:25<00:00, 79.86it/s]\n"
     ]
    },
    {
     "name": "stdout",
     "output_type": "stream",
     "text": [
      "Iteration = 76, loop time = 41.193616, time elapsed = 3380.637061\n"
     ]
    },
    {
     "name": "stderr",
     "output_type": "stream",
     "text": [
      "Average Loss = -513.5: 100%|███████████████████████████████████████████████████████| 2000/2000 [00:25<00:00, 79.73it/s]\n"
     ]
    },
    {
     "name": "stdout",
     "output_type": "stream",
     "text": [
      "Iteration = 77, loop time = 41.100249, time elapsed = 3421.738311\n"
     ]
    },
    {
     "name": "stderr",
     "output_type": "stream",
     "text": [
      "Average Loss = -511.57: 100%|██████████████████████████████████████████████████████| 2000/2000 [00:25<00:00, 79.44it/s]\n"
     ]
    },
    {
     "name": "stdout",
     "output_type": "stream",
     "text": [
      "Iteration = 78, loop time = 41.404572, time elapsed = 3463.144885\n"
     ]
    },
    {
     "name": "stderr",
     "output_type": "stream",
     "text": [
      "Average Loss = -513.12: 100%|██████████████████████████████████████████████████████| 2000/2000 [00:25<00:00, 78.71it/s]\n"
     ]
    },
    {
     "name": "stdout",
     "output_type": "stream",
     "text": [
      "Iteration = 79, loop time = 42.340955, time elapsed = 3505.486841\n"
     ]
    },
    {
     "name": "stderr",
     "output_type": "stream",
     "text": [
      "Average Loss = -512.8: 100%|███████████████████████████████████████████████████████| 2000/2000 [00:25<00:00, 76.70it/s]\n"
     ]
    },
    {
     "name": "stdout",
     "output_type": "stream",
     "text": [
      "Iteration = 80, loop time = 41.870135, time elapsed = 3547.357977\n"
     ]
    },
    {
     "name": "stderr",
     "output_type": "stream",
     "text": [
      "Average Loss = -513.84: 100%|██████████████████████████████████████████████████████| 2000/2000 [00:26<00:00, 80.75it/s]\n"
     ]
    },
    {
     "name": "stdout",
     "output_type": "stream",
     "text": [
      "Iteration = 81, loop time = 43.994450, time elapsed = 3591.353428\n"
     ]
    },
    {
     "name": "stderr",
     "output_type": "stream",
     "text": [
      "Average Loss = -511.21: 100%|██████████████████████████████████████████████████████| 2000/2000 [00:26<00:00, 78.07it/s]\n"
     ]
    },
    {
     "name": "stdout",
     "output_type": "stream",
     "text": [
      "Iteration = 82, loop time = 42.723769, time elapsed = 3634.078197\n"
     ]
    },
    {
     "name": "stderr",
     "output_type": "stream",
     "text": [
      "Average Loss = -512.51: 100%|██████████████████████████████████████████████████████| 2000/2000 [00:27<00:00, 74.07it/s]\n"
     ]
    },
    {
     "name": "stdout",
     "output_type": "stream",
     "text": [
      "Iteration = 83, loop time = 43.858192, time elapsed = 3677.937390\n"
     ]
    },
    {
     "name": "stderr",
     "output_type": "stream",
     "text": [
      "Average Loss = -512.14: 100%|██████████████████████████████████████████████████████| 2000/2000 [00:26<00:00, 76.01it/s]\n"
     ]
    },
    {
     "name": "stdout",
     "output_type": "stream",
     "text": [
      "Iteration = 84, loop time = 43.225145, time elapsed = 3721.163536\n"
     ]
    },
    {
     "name": "stderr",
     "output_type": "stream",
     "text": [
      "Average Loss = -514.93: 100%|██████████████████████████████████████████████████████| 2000/2000 [00:26<00:00, 76.56it/s]\n"
     ]
    },
    {
     "name": "stdout",
     "output_type": "stream",
     "text": [
      "Iteration = 85, loop time = 42.790969, time elapsed = 3763.955507\n"
     ]
    },
    {
     "name": "stderr",
     "output_type": "stream",
     "text": [
      "Average Loss = -513.58: 100%|██████████████████████████████████████████████████████| 2000/2000 [00:25<00:00, 79.67it/s]\n"
     ]
    },
    {
     "name": "stdout",
     "output_type": "stream",
     "text": [
      "Iteration = 86, loop time = 43.315858, time elapsed = 3807.272365\n"
     ]
    },
    {
     "name": "stderr",
     "output_type": "stream",
     "text": [
      "Average Loss = -513.1: 100%|███████████████████████████████████████████████████████| 2000/2000 [00:24<00:00, 80.20it/s]\n"
     ]
    },
    {
     "name": "stdout",
     "output_type": "stream",
     "text": [
      "Iteration = 87, loop time = 41.457919, time elapsed = 3848.731285\n"
     ]
    },
    {
     "name": "stderr",
     "output_type": "stream",
     "text": [
      "Average Loss = -513.11: 100%|██████████████████████████████████████████████████████| 2000/2000 [00:28<00:00, 69.47it/s]\n"
     ]
    },
    {
     "name": "stdout",
     "output_type": "stream",
     "text": [
      "Iteration = 88, loop time = 46.295439, time elapsed = 3895.027724\n"
     ]
    },
    {
     "name": "stderr",
     "output_type": "stream",
     "text": [
      "Average Loss = -513.55: 100%|██████████████████████████████████████████████████████| 2000/2000 [00:27<00:00, 72.30it/s]\n"
     ]
    },
    {
     "name": "stdout",
     "output_type": "stream",
     "text": [
      "Iteration = 89, loop time = 45.639803, time elapsed = 3940.669529\n"
     ]
    },
    {
     "name": "stderr",
     "output_type": "stream",
     "text": [
      "Average Loss = -512.6: 100%|███████████████████████████████████████████████████████| 2000/2000 [00:27<00:00, 72.85it/s]\n"
     ]
    },
    {
     "name": "stdout",
     "output_type": "stream",
     "text": [
      "Iteration = 90, loop time = 45.826645, time elapsed = 3986.497176\n"
     ]
    },
    {
     "name": "stderr",
     "output_type": "stream",
     "text": [
      "Average Loss = -513.28: 100%|██████████████████████████████████████████████████████| 2000/2000 [00:27<00:00, 73.27it/s]\n"
     ]
    },
    {
     "name": "stdout",
     "output_type": "stream",
     "text": [
      "Iteration = 91, loop time = 45.609782, time elapsed = 4032.107954\n"
     ]
    },
    {
     "name": "stderr",
     "output_type": "stream",
     "text": [
      "Average Loss = -512.13: 100%|██████████████████████████████████████████████████████| 2000/2000 [00:27<00:00, 72.79it/s]\n"
     ]
    },
    {
     "name": "stdout",
     "output_type": "stream",
     "text": [
      "Iteration = 92, loop time = 45.850980, time elapsed = 4077.959935\n"
     ]
    },
    {
     "name": "stderr",
     "output_type": "stream",
     "text": [
      "Average Loss = -512.22: 100%|██████████████████████████████████████████████████████| 2000/2000 [00:26<00:00, 75.85it/s]\n"
     ]
    },
    {
     "name": "stdout",
     "output_type": "stream",
     "text": [
      "Iteration = 93, loop time = 43.684808, time elapsed = 4121.645744\n"
     ]
    },
    {
     "name": "stderr",
     "output_type": "stream",
     "text": [
      "Average Loss = -513.42: 100%|██████████████████████████████████████████████████████| 2000/2000 [00:26<00:00, 75.64it/s]\n"
     ]
    },
    {
     "name": "stdout",
     "output_type": "stream",
     "text": [
      "Iteration = 94, loop time = 44.089048, time elapsed = 4165.735794\n"
     ]
    },
    {
     "name": "stderr",
     "output_type": "stream",
     "text": [
      "Average Loss = -512.68: 100%|██████████████████████████████████████████████████████| 2000/2000 [00:27<00:00, 73.30it/s]\n"
     ]
    },
    {
     "name": "stdout",
     "output_type": "stream",
     "text": [
      "Iteration = 95, loop time = 44.819279, time elapsed = 4210.556074\n"
     ]
    },
    {
     "name": "stderr",
     "output_type": "stream",
     "text": [
      "Average Loss = -519.61: 100%|██████████████████████████████████████████████████████| 2000/2000 [00:26<00:00, 75.50it/s]\n"
     ]
    },
    {
     "name": "stdout",
     "output_type": "stream",
     "text": [
      "Iteration = 96, loop time = 43.950258, time elapsed = 4254.507333\n"
     ]
    },
    {
     "name": "stderr",
     "output_type": "stream",
     "text": [
      "Average Loss = -512.69: 100%|██████████████████████████████████████████████████████| 2000/2000 [00:28<00:00, 71.42it/s]\n"
     ]
    },
    {
     "name": "stdout",
     "output_type": "stream",
     "text": [
      "Iteration = 97, loop time = 45.629514, time elapsed = 4300.137848\n"
     ]
    },
    {
     "name": "stderr",
     "output_type": "stream",
     "text": [
      "Average Loss = -513.45: 100%|██████████████████████████████████████████████████████| 2000/2000 [00:27<00:00, 73.76it/s]\n"
     ]
    },
    {
     "name": "stdout",
     "output_type": "stream",
     "text": [
      "Iteration = 98, loop time = 46.014741, time elapsed = 4346.153590\n"
     ]
    },
    {
     "name": "stderr",
     "output_type": "stream",
     "text": [
      "Average Loss = -512.8: 100%|███████████████████████████████████████████████████████| 2000/2000 [00:27<00:00, 71.97it/s]\n"
     ]
    },
    {
     "name": "stdout",
     "output_type": "stream",
     "text": [
      "Iteration = 99, loop time = 46.462904, time elapsed = 4392.617496\n",
      "Total time taken: 4392.618496\n"
     ]
    }
   ],
   "source": [
    "start = time.time()\n",
    "for i in range(M):\n",
    "    start_loop = time.time()\n",
    "    \n",
    "    # sample from prior    \n",
    "    btemp = np.random.randn(1, D)\n",
    "    mtemp = np.dot(x.values, np.transpose(btemp))\n",
    "    stemp = np.random.gamma(.5, .5, 1)\n",
    "    ytemp = mtemp + stemp\n",
    "    \n",
    "    datatemp = dict(N=N, D=D, x=x, y=y)\n",
    "    fittemp = regression_model.sampling(data=datatemp, iter=20000, thin=20, chains=10)\n",
    "    stan_log_density_temp = make_stan_log_density(fittemp)\n",
    "    \n",
    "    chivi_objective_and_grad_temp = black_box_chivi(2, mf_gaussian_var_family, stan_log_density_temp, 200)\n",
    "    \n",
    "    init_var_param = klvi_temp_var_param.copy()\n",
    "    # run chivi\n",
    "    chivi_temp_var_param, _, _, _ = \\\n",
    "        adagrad_optimize(n_iters, chivi_objective_and_grad_temp, init_var_param, learning_rate=5e-4)\n",
    "    \n",
    "    # store files for later\n",
    "    chivi_samples_temp, chivi_slw_temp, chivi_lw_temp, chivi_khat_temp = \\\n",
    "        psis_correction(stan_log_density, mf_gaussian_var_family, chivi_var_param, mc_samples)\n",
    "    \n",
    "    with open(\"./data/chivi_psis_\"+str(i)+\".pkl\", 'wb') as f:\n",
    "        pickle.dump([btemp, stemp, chivi_samples_temp, chivi_slw_temp, chivi_lw_temp, chivi_khat_temp, chivi_var_param], f)\n",
    "    \n",
    "    \n",
    "    ##################################################################\n",
    "    ##################################################################\n",
    "    # can remove this part and do it later with the pickled data file\n",
    "    \n",
    "    # extract beta mean and std\n",
    "    b_mean_temp = chivi_temp_var_param[:D]\n",
    "    b_std_temp = np.exp(chivi_temp_var_param[D+1:][0:D])\n",
    "    \n",
    "    # generate 1000 sample from the variational family\n",
    "    nn = 1000\n",
    "    sample_temp = mf_gaussian_var_family.sample(chivi_temp_var_param, nn)\n",
    "    \n",
    "    # compute log sigma of the samples\n",
    "    logs_sample_temp = []\n",
    "    for j in range(nn):\n",
    "        logs_sample_temp.append(sample_temp[j][-1])\n",
    "    logs_sample_temp = np.array(logs_sample_temp)\n",
    "    logs_sample_temp = np.log(logs_sample_temp)\n",
    "    \n",
    "    # get the cdf values\n",
    "    chivi_probs[0:D, i] = norm.cdf(btemp, b_mean_temp[0:D], b_std_temp[0:D])\n",
    "    chivi_probs[D, i] = norm.cdf(np.log(stemp), np.mean(logs_sample_temp), np.std(logs_sample_temp))\n",
    "    \n",
    "    ##################################################################\n",
    "    ##################################################################\n",
    "    \n",
    "    end_loop = time.time()\n",
    "    print(\"Iteration = %i, loop time = %f, time elapsed = %f\" % (i, end_loop-start_loop, end_loop-start))\n",
    "    \n",
    "end = time.time()\n",
    "print(\"Total time taken: %f\" % (end-start))"
   ]
  },
  {
   "cell_type": "code",
   "execution_count": 48,
   "metadata": {},
   "outputs": [
    {
     "data": {
      "image/png": "[encoded data removed]",
      "text/plain": [
       "<Figure size 432x288 with 1 Axes>"
      ]
     },
     "metadata": {
      "needs_background": "light"
     },
     "output_type": "display_data"
    }
   ],
   "source": [
    "plt.hist(chivi_probs[1,:], bins=10, density=True, range=(0,1))\n",
    "plt.show()"
   ]
  },
  {
   "cell_type": "code",
   "execution_count": 49,
   "metadata": {},
   "outputs": [
    {
     "data": {
      "image/png": "[encoded data removed]",
      "text/plain": [
       "<Figure size 432x288 with 1 Axes>"
      ]
     },
     "metadata": {
      "needs_background": "light"
     },
     "output_type": "display_data"
    }
   ],
   "source": [
    "plt.hist(chivi_probs[10,:], bins=10, density=True, range=(0,1))\n",
    "plt.show()"
   ]
  },
  {
   "cell_type": "code",
   "execution_count": 50,
   "metadata": {},
   "outputs": [
    {
     "data": {
      "image/png": "[encoded data removed]",
      "text/plain": [
       "<Figure size 432x288 with 1 Axes>"
      ]
     },
     "metadata": {
      "needs_background": "light"
     },
     "output_type": "display_data"
    }
   ],
   "source": [
    "plt.hist(chivi_probs[D,:], bins=10, density=True, range=(0,1))\n",
    "plt.show()"
   ]
  },
  {
   "cell_type": "code",
   "execution_count": 51,
   "metadata": {},
   "outputs": [],
   "source": [
    "np.savetxt(\"./data/chivi_probs.csv\", chivi_probs, delimiter=\",\")"
   ]
  },
  {
   "cell_type": "markdown",
   "metadata": {},
   "source": [
    "# Misc: testing other algorithms"
   ]
  },
  {
   "cell_type": "markdown",
   "metadata": {},
   "source": [
    "## KLVI Non-mean field full-rank "
   ]
  },
  {
   "cell_type": "code",
   "execution_count": 52,
   "metadata": {},
   "outputs": [
    {
     "name": "stderr",
     "output_type": "stream",
     "text": [
      "Average Loss = 529.37: 100%|██████████████████████████████████████████████████████| 2000/2000 [00:12<00:00, 154.78it/s]\n"
     ]
    }
   ],
   "source": [
    "t_var_family = t_variational_family(D+1, 100)\n",
    "full_klvi_objective_and_grad = black_box_klvi(t_var_family, stan_log_density, 100)\n",
    "\n",
    "init_var_param = np.zeros(t_var_family.var_param_dim)\n",
    "\n",
    "full_klvi_var_param, full_klvi_param_history, full_klvi_history, _ = \\\n",
    "    adagrad_optimize(n_iters, full_klvi_objective_and_grad, init_var_param, \n",
    "                     learning_rate=.1, learning_rate_end=.001)"
   ]
  },
  {
   "cell_type": "code",
   "execution_count": 53,
   "metadata": {},
   "outputs": [
    {
     "data": {
      "image/png": "[encoded data removed]",
      "text/plain": [
       "<Figure size 432x288 with 1 Axes>"
      ]
     },
     "metadata": {
      "needs_background": "light"
     },
     "output_type": "display_data"
    }
   ],
   "source": [
    "plot_dist_to_opt_param(full_klvi_param_history, full_klvi_var_param)"
   ]
  },
  {
   "cell_type": "code",
   "execution_count": 54,
   "metadata": {},
   "outputs": [],
   "source": [
    "full_klvi_samples, full_klvi_slw, full_klvi_lw, full_klvi_khat = \\\n",
    "    psis_correction(stan_log_density, t_var_family, full_klvi_var_param, mc_samples)"
   ]
  },
  {
   "cell_type": "code",
   "execution_count": 55,
   "metadata": {},
   "outputs": [
    {
     "name": "stdout",
     "output_type": "stream",
     "text": [
      "0.10758885550987357\n"
     ]
    }
   ],
   "source": [
    "print(full_klvi_khat)"
   ]
  },
  {
   "cell_type": "code",
   "execution_count": 56,
   "metadata": {
    "scrolled": false
   },
   "outputs": [
    {
     "data": {
      "text/plain": [
       "array([-11.18323412, -11.31687864, -11.46977969, ..., -11.53162536,\n",
       "       -11.62182747, -11.61838622])"
      ]
     },
     "execution_count": 56,
     "metadata": {},
     "output_type": "execute_result"
    }
   ],
   "source": [
    "full_klvi_slw"
   ]
  },
  {
   "cell_type": "code",
   "execution_count": 57,
   "metadata": {},
   "outputs": [
    {
     "data": {
      "text/plain": [
       "array([-508.98821301, -509.12185754, -509.27475859, ..., -509.33660426,\n",
       "       -509.42680637, -509.42336512])"
      ]
     },
     "execution_count": 57,
     "metadata": {},
     "output_type": "execute_result"
    }
   ],
   "source": [
    "full_klvi_lw"
   ]
  },
  {
   "cell_type": "markdown",
   "metadata": {},
   "source": [
    "## KLVI Mean field with t distribution (df=40)"
   ]
  },
  {
   "cell_type": "code",
   "execution_count": 58,
   "metadata": {},
   "outputs": [],
   "source": [
    "# mf_t_var_family = mean_field_t_variational_family(D+1, 40)\n",
    "# klvi_objective_and_grad = black_box_klvi(mf_t_var_family, stan_log_density, 100)\n",
    "\n",
    "# klvi_t_var_param, klvi_t_param_history, klvi_t_history, _ = \\\n",
    "#     adagrad_optimize(n_iters, klvi_objective_and_grad, init_var_param, learning_rate=.01)"
   ]
  },
  {
   "cell_type": "code",
   "execution_count": 59,
   "metadata": {},
   "outputs": [],
   "source": [
    "#plot_dist_to_opt_param(klvi_t_param_history, klvi_t_var_param)"
   ]
  },
  {
   "cell_type": "code",
   "execution_count": 60,
   "metadata": {},
   "outputs": [],
   "source": [
    "#check_approx_accuracy(mf_t_var_family, klvi_t_var_param, true_mean, true_cov, verbose=True);"
   ]
  },
  {
   "cell_type": "code",
   "execution_count": 61,
   "metadata": {},
   "outputs": [],
   "source": [
    "#klvi_t_samples, klvi_t_slw, klvi_t_khat = \\\n",
    "#    psis_correction(stan_log_density, mf_t_var_family, klvi_t_var_param, mc_samples)"
   ]
  },
  {
   "cell_type": "code",
   "execution_count": 62,
   "metadata": {},
   "outputs": [],
   "source": [
    "#print(klvi_t_khat)"
   ]
  },
  {
   "cell_type": "code",
   "execution_count": 63,
   "metadata": {},
   "outputs": [],
   "source": [
    "#klvi_t_slw"
   ]
  },
  {
   "cell_type": "markdown",
   "metadata": {},
   "source": [
    "## CHIVI Mean field with t distribution (df=40)"
   ]
  },
  {
   "cell_type": "code",
   "execution_count": 64,
   "metadata": {},
   "outputs": [],
   "source": [
    "# mf_t_var_family = mean_field_t_variational_family(D+1, 40)\n",
    "# chivi_objective_and_grad = black_box_chivi(2, mf_t_var_family, stan_log_density, 400)\n",
    "\n",
    "# init_var_param = klvi_var_param.copy()\n",
    "# init_var_param[2:] += 3\n",
    "\n",
    "# chivi_t_var_param, chivi_t_param_history, chivi_t_history, _ = \\\n",
    "#     adagrad_optimize(n_iters, chivi_objective_and_grad, init_var_param, learning_rate=.01)"
   ]
  },
  {
   "cell_type": "code",
   "execution_count": 65,
   "metadata": {},
   "outputs": [],
   "source": [
    "# plot_dist_to_opt_param(chivi_t_param_history, chivi_t_var_param)"
   ]
  },
  {
   "cell_type": "code",
   "execution_count": 66,
   "metadata": {},
   "outputs": [],
   "source": [
    "# chivi_t_samples, chivi_t_slw, chivi_t_khat = \\\n",
    "#     psis_correction(stan_log_density, mf_t_var_family, chivi_t_var_param, mc_samples)"
   ]
  },
  {
   "cell_type": "code",
   "execution_count": 67,
   "metadata": {},
   "outputs": [],
   "source": [
    "# print(chivi_t_khat)"
   ]
  },
  {
   "cell_type": "code",
   "execution_count": 68,
   "metadata": {},
   "outputs": [],
   "source": [
    "# chivi_t_slw"
   ]
  },
  {
   "cell_type": "markdown",
   "metadata": {},
   "source": [
    "### CHIVI full rank"
   ]
  },
  {
   "cell_type": "code",
   "execution_count": 69,
   "metadata": {},
   "outputs": [],
   "source": [
    "# t_var_family = t_variational_family(D+1, 100)\n",
    "# full_chivi_objective_and_grad = black_box_chivi(2, t_var_family, stan_log_density, 400)\n",
    "\n",
    "# init_var_param = full_klvi_var_param.copy()\n",
    "# init_var_param[2:] += 3\n",
    "\n",
    "# full_chivi_var_param, full_chivi_param_history, full_chivi_history, _ = \\\n",
    "#     adagrad_optimize(n_iters, full_chivi_objective_and_grad, init_var_param, \n",
    "#                      learning_rate=.1, learning_rate_end=.001)"
   ]
  },
  {
   "cell_type": "code",
   "execution_count": 70,
   "metadata": {},
   "outputs": [],
   "source": [
    "#plot_dist_to_opt_param(full_chivi_param_history, full_chivi_var_param)"
   ]
  },
  {
   "cell_type": "code",
   "execution_count": 71,
   "metadata": {},
   "outputs": [],
   "source": [
    "#full_chivi_samples, full_chivi_slw, full_chivi_khat = \\\n",
    "#    psis_correction(stan_log_density, t_var_family, full_chivi_var_param, mc_samples)"
   ]
  },
  {
   "cell_type": "code",
   "execution_count": 72,
   "metadata": {},
   "outputs": [],
   "source": [
    "#print(full_chivi_khat)"
   ]
  },
  {
   "cell_type": "code",
   "execution_count": 73,
   "metadata": {},
   "outputs": [],
   "source": [
    "#full_chivi_slw"
   ]
  }
 ],
 "metadata": {
  "kernelspec": {
   "display_name": "Python 3",
   "language": "python",
   "name": "python3"
  },
  "language_info": {
   "codemirror_mode": {
    "name": "ipython",
    "version": 3
   },
   "file_extension": ".py",
   "mimetype": "text/x-python",
   "name": "python",
   "nbconvert_exporter": "python",
   "pygments_lexer": "ipython3",
   "version": "3.7.3"
  }
 },
 "nbformat": 4,
 "nbformat_minor": 2
}
