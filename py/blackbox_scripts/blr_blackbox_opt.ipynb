{
 "cells": [
  {
   "cell_type": "markdown",
   "metadata": {},
   "source": [
    "Code is based on https://github.com/jhuggins/viabel"
   ]
  },
  {
   "cell_type": "code",
   "execution_count": 1,
   "metadata": {},
   "outputs": [
    {
     "name": "stderr",
     "output_type": "stream",
     "text": [
      "C:\\ProgramData\\Anaconda3\\lib\\site-packages\\statsmodels\\tools\\_testing.py:19: FutureWarning: pandas.util.testing is deprecated. Use the functions in the public API at pandas.testing instead.\n",
      "  import pandas.util.testing as tm\n"
     ]
    }
   ],
   "source": [
    "import pickle\n",
    "import pystan\n",
    "import autograd.numpy as np\n",
    "\n",
    "from viabel.objectives import (black_box_klvi,\n",
    "                               black_box_chivi)\n",
    "\n",
    "from viabel.family import (mean_field_gaussian_variational_family,\n",
    "                           mean_field_t_variational_family,\n",
    "                           t_variational_family)\n",
    "\n",
    "from viabel.models import make_stan_log_density\n",
    "from viabel.optimization import adagrad_optimize\n",
    "from experiments import (plot_dist_to_opt_param,\n",
    "                         check_approx_accuracy,\n",
    "                         psis_correction)\n",
    "\n",
    "import pandas as pd\n",
    "\n",
    "import time\n",
    "from scipy.stats import norm\n",
    "from scipy.stats import gamma\n",
    "import matplotlib.pyplot as plt"
   ]
  },
  {
   "cell_type": "markdown",
   "metadata": {},
   "source": [
    "Define the model"
   ]
  },
  {
   "cell_type": "code",
   "execution_count": 2,
   "metadata": {},
   "outputs": [],
   "source": [
    "test_model = \"\"\"data {\n",
    "  int<lower=0> N;   // number of observations\n",
    "  int <lower=0> D;  // number of predictors\n",
    "  matrix[N, D] x;   // predictor matrix\n",
    "  vector[N] y;      // outcome vector\n",
    "}\n",
    "\n",
    "parameters {\n",
    "  vector[D] beta;        // coefficients for predictors\n",
    "  real <lower=0> sigma;  // variance\n",
    "}\n",
    "\n",
    "model {\n",
    "   beta ~ normal(0,1);\n",
    "   sigma ~ gamma(0.5,0.5);\n",
    "   y ~ normal(x * beta, sigma);\n",
    "}\"\"\""
   ]
  },
  {
   "cell_type": "markdown",
   "metadata": {},
   "source": [
    "Generate of open existing a pkl file of the model"
   ]
  },
  {
   "cell_type": "code",
   "execution_count": 3,
   "metadata": {},
   "outputs": [],
   "source": [
    "compiled_model_file = 'blr_reg_model.pkl'\n",
    "\n",
    "try:\n",
    "    with open(compiled_model_file, 'rb') as f:\n",
    "        regression_model = pickle.load(f)\n",
    "except:\n",
    "    regression_model = pystan.StanModel(model_code=test_model,\n",
    "                                        model_name='regression_model')\n",
    "    with open('blr_reg_model.pkl', 'wb') as f:\n",
    "        pickle.dump(regression_model, f)"
   ]
  },
  {
   "cell_type": "markdown",
   "metadata": {},
   "source": [
    "Get data"
   ]
  },
  {
   "cell_type": "code",
   "execution_count": 4,
   "metadata": {},
   "outputs": [],
   "source": [
    "# SYNTHETIC\n",
    "# np.random.seed(1234)\n",
    "\n",
    "# N = 1000\n",
    "# D = 10\n",
    "# beta_gen = np.random.randn(D, 1)\n",
    "# sigma_gen = np.random.gamma(1, 1, 1)\n",
    "\n",
    "# x = np.random.randn(N, D)\n",
    "# y_raw = x.dot(beta_gen) + np.random.randn(N, 1)*np.sqrt(sigma_gen)\n",
    "# y = y_raw - np.mean(y_raw)\n",
    "# # convert from Nx1 matrix to Nx1 vector\n",
    "# y = y.flatten()"
   ]
  },
  {
   "cell_type": "code",
   "execution_count": 5,
   "metadata": {},
   "outputs": [],
   "source": [
    "#print(beta_gen)"
   ]
  },
  {
   "cell_type": "code",
   "execution_count": 6,
   "metadata": {},
   "outputs": [],
   "source": [
    "#print(sigma_gen)"
   ]
  },
  {
   "cell_type": "markdown",
   "metadata": {},
   "source": [
    "Import the dataset"
   ]
  },
  {
   "cell_type": "code",
   "execution_count": 7,
   "metadata": {},
   "outputs": [
    {
     "data": {
      "text/html": [
       "<div>\n",
       "<style scoped>\n",
       "    .dataframe tbody tr th:only-of-type {\n",
       "        vertical-align: middle;\n",
       "    }\n",
       "\n",
       "    .dataframe tbody tr th {\n",
       "        vertical-align: top;\n",
       "    }\n",
       "\n",
       "    .dataframe thead th {\n",
       "        text-align: right;\n",
       "    }\n",
       "</style>\n",
       "<table border=\"1\" class=\"dataframe\">\n",
       "  <thead>\n",
       "    <tr style=\"text-align: right;\">\n",
       "      <th></th>\n",
       "      <th>Bodyfat</th>\n",
       "      <th>Age</th>\n",
       "      <th>Weight</th>\n",
       "      <th>Height</th>\n",
       "      <th>Neck</th>\n",
       "      <th>Chest</th>\n",
       "      <th>Abdomen</th>\n",
       "      <th>Hip</th>\n",
       "      <th>Thigh</th>\n",
       "      <th>Knee</th>\n",
       "      <th>Ankle</th>\n",
       "      <th>Biceps</th>\n",
       "      <th>Forearm</th>\n",
       "      <th>Wrist</th>\n",
       "    </tr>\n",
       "  </thead>\n",
       "  <tbody>\n",
       "    <tr>\n",
       "      <th>0</th>\n",
       "      <td>-6.850794</td>\n",
       "      <td>-21.884921</td>\n",
       "      <td>-24.674405</td>\n",
       "      <td>-2.39881</td>\n",
       "      <td>-1.792063</td>\n",
       "      <td>-7.724206</td>\n",
       "      <td>-7.355952</td>\n",
       "      <td>-5.404762</td>\n",
       "      <td>-0.405952</td>\n",
       "      <td>-1.290476</td>\n",
       "      <td>-1.202381</td>\n",
       "      <td>-0.273413</td>\n",
       "      <td>-1.263889</td>\n",
       "      <td>-1.129762</td>\n",
       "    </tr>\n",
       "    <tr>\n",
       "      <th>1</th>\n",
       "      <td>-13.050794</td>\n",
       "      <td>-22.884921</td>\n",
       "      <td>-5.674405</td>\n",
       "      <td>2.10119</td>\n",
       "      <td>0.507937</td>\n",
       "      <td>-7.224206</td>\n",
       "      <td>-9.555952</td>\n",
       "      <td>-1.204762</td>\n",
       "      <td>-0.705952</td>\n",
       "      <td>-1.290476</td>\n",
       "      <td>0.297619</td>\n",
       "      <td>-1.773413</td>\n",
       "      <td>0.236111</td>\n",
       "      <td>-0.029762</td>\n",
       "    </tr>\n",
       "    <tr>\n",
       "      <th>2</th>\n",
       "      <td>6.149206</td>\n",
       "      <td>-22.884921</td>\n",
       "      <td>-24.924405</td>\n",
       "      <td>-3.89881</td>\n",
       "      <td>-3.992063</td>\n",
       "      <td>-5.024206</td>\n",
       "      <td>-4.655952</td>\n",
       "      <td>-0.704762</td>\n",
       "      <td>0.194048</td>\n",
       "      <td>0.309524</td>\n",
       "      <td>0.897619</td>\n",
       "      <td>-3.473413</td>\n",
       "      <td>-3.463889</td>\n",
       "      <td>-1.629762</td>\n",
       "    </tr>\n",
       "  </tbody>\n",
       "</table>\n",
       "</div>"
      ],
      "text/plain": [
       "     Bodyfat        Age     Weight   Height      Neck     Chest   Abdomen  \\\n",
       "0  -6.850794 -21.884921 -24.674405 -2.39881 -1.792063 -7.724206 -7.355952   \n",
       "1 -13.050794 -22.884921  -5.674405  2.10119  0.507937 -7.224206 -9.555952   \n",
       "2   6.149206 -22.884921 -24.924405 -3.89881 -3.992063 -5.024206 -4.655952   \n",
       "\n",
       "        Hip     Thigh      Knee     Ankle    Biceps   Forearm     Wrist  \n",
       "0 -5.404762 -0.405952 -1.290476 -1.202381 -0.273413 -1.263889 -1.129762  \n",
       "1 -1.204762 -0.705952 -1.290476  0.297619 -1.773413  0.236111 -0.029762  \n",
       "2 -0.704762  0.194048  0.309524  0.897619 -3.473413 -3.463889 -1.629762  "
      ]
     },
     "execution_count": 7,
     "metadata": {},
     "output_type": "execute_result"
    }
   ],
   "source": [
    "data = pd.read_csv(\"bodyfat.csv\").drop(\"Density\", axis=1)\n",
    "data = data - data.mean()\n",
    "data.head(3)"
   ]
  },
  {
   "cell_type": "code",
   "execution_count": 8,
   "metadata": {},
   "outputs": [],
   "source": [
    "y = data[\"Bodyfat\"].values\n",
    "# centre the response to adjust for no intercept\n",
    "y = y - np.mean(y)\n",
    "\n",
    "x = data.drop(\"Bodyfat\", axis=1)\n",
    "\n",
    "N = x.shape[0]\n",
    "D = x.shape[1]"
   ]
  },
  {
   "cell_type": "markdown",
   "metadata": {},
   "source": [
    "First, generate ground-truth posterior samples using Stan's dynamic HMC implementation:"
   ]
  },
  {
   "cell_type": "code",
   "execution_count": 9,
   "metadata": {},
   "outputs": [],
   "source": [
    "data = dict(N=N, D=D, x=x, y=y)\n",
    "fit = regression_model.sampling(data=data, iter=50000, thin=50, chains=10)"
   ]
  },
  {
   "cell_type": "code",
   "execution_count": 10,
   "metadata": {},
   "outputs": [
    {
     "name": "stdout",
     "output_type": "stream",
     "text": [
      "true beta mean = [ 0.05459832 -0.09528642 -0.07644066 -0.48363749 -0.01824114  0.95663095\n",
      " -0.2000818   0.23570235  0.00990782  0.13346214  0.1787938   0.40898731\n",
      " -1.27938096]\n",
      "true beta cov = [[ 9.97200337e-04  3.45621380e-04  3.68728016e-04 -7.78539413e-04\n",
      "  -1.10697829e-04 -1.16318692e-03  2.21506005e-04  1.76549994e-03\n",
      "  -1.96880775e-03  5.20538406e-04 -4.35301435e-04  7.91531586e-04\n",
      "  -4.01240462e-03]\n",
      " [ 3.45621380e-04  2.84756057e-03 -2.41060764e-03 -3.77845948e-03\n",
      "  -2.18422092e-03 -9.52696853e-04 -4.13429772e-03 -5.67353506e-04\n",
      "  -2.80330350e-03 -2.53522149e-03 -1.54456099e-03 -1.39916280e-04\n",
      "  -3.09299142e-03]\n",
      " [ 3.68728016e-04 -2.41060764e-03  9.23920817e-03  3.17649442e-04\n",
      "   2.09330990e-03  1.04308374e-03  3.58892541e-03  2.63097431e-03\n",
      "  -1.89339286e-03  1.43998504e-03  1.17676525e-03  2.32454254e-04\n",
      "  -3.98792551e-03]\n",
      " [-7.78539413e-04 -3.77845948e-03  3.17649442e-04  5.15356691e-02\n",
      "  -5.97618387e-04 -1.75824473e-04  5.76037988e-03 -3.19351687e-03\n",
      "   8.24154695e-03  4.51455386e-03 -3.44575624e-03 -5.52883695e-03\n",
      "  -2.64427596e-02]\n",
      " [-1.10697829e-04 -2.18422092e-03  2.09330990e-03 -5.97618387e-04\n",
      "   9.77492136e-03 -4.01416654e-03  2.76763682e-03  2.08783581e-03\n",
      "   2.09121249e-03  2.62082106e-04 -1.14479718e-03 -2.13672435e-03\n",
      "   5.05976804e-04]\n",
      " [-1.16318692e-03 -9.52696853e-04  1.04308374e-03 -1.75824473e-04\n",
      "  -4.01416654e-03  7.30427000e-03 -2.83602315e-03 -1.63915676e-03\n",
      "   1.17994752e-03  2.49680789e-03  1.80370742e-03  9.74214830e-04\n",
      "   4.08776614e-03]\n",
      " [ 2.21506005e-04 -4.13429772e-03  3.58892541e-03  5.76037988e-03\n",
      "   2.76763682e-03 -2.83602315e-03  2.05599452e-02 -6.65652730e-03\n",
      "  -2.43090516e-03  1.84870335e-03  1.51093464e-03  2.49720875e-03\n",
      "   3.93906235e-04]\n",
      " [ 1.76549994e-03 -5.67353506e-04  2.63097431e-03 -3.19351687e-03\n",
      "   2.08783581e-03 -1.63915676e-03 -6.65652730e-03  2.08225741e-02\n",
      "  -9.09599180e-03  2.36085917e-04 -5.66906938e-03 -4.18130574e-04\n",
      "   4.01667749e-03]\n",
      " [-1.96880775e-03 -2.80330350e-03 -1.89339286e-03  8.24154695e-03\n",
      "   2.09121249e-03  1.17994752e-03 -2.43090516e-03 -9.09599180e-03\n",
      "   5.54327905e-02 -7.53181827e-03  2.01077382e-03 -5.14798065e-03\n",
      "  -8.60208551e-03]\n",
      " [ 5.20538406e-04 -2.53522149e-03  1.43998504e-03  4.51455386e-03\n",
      "   2.62082106e-04  2.49680789e-03  1.84870335e-03  2.36085917e-04\n",
      "  -7.53181827e-03  4.75987536e-02  1.61930663e-03  1.16550256e-03\n",
      "  -2.20041042e-02]\n",
      " [-4.35301435e-04 -1.54456099e-03  1.17676525e-03 -3.44575624e-03\n",
      "  -1.14479718e-03  1.80370742e-03  1.51093464e-03 -5.66906938e-03\n",
      "   2.01077382e-03  1.61930663e-03  2.75302836e-02 -9.48085699e-03\n",
      "  -2.44721578e-03]\n",
      " [ 7.91531586e-04 -1.39916280e-04  2.32454254e-04 -5.52883695e-03\n",
      "  -2.13672435e-03  9.74214830e-04  2.49720875e-03 -4.18130574e-04\n",
      "  -5.14798065e-03  1.16550256e-03 -9.48085699e-03  3.74598592e-02\n",
      "  -1.26018098e-02]\n",
      " [-4.01240462e-03 -3.09299142e-03 -3.98792551e-03 -2.64427596e-02\n",
      "   5.05976804e-04  4.08776614e-03  3.93906235e-04  4.01667749e-03\n",
      "  -8.60208551e-03 -2.20041042e-02 -2.44721578e-03 -1.26018098e-02\n",
      "   2.11768968e-01]]\n"
     ]
    }
   ],
   "source": [
    "true_beta_mean = np.mean(fit['beta'], axis=0)\n",
    "true_beta_cov = np.cov(fit['beta'].T)\n",
    "print('true beta mean =', true_beta_mean)\n",
    "print('true beta cov =', true_beta_cov)"
   ]
  },
  {
   "cell_type": "code",
   "execution_count": 11,
   "metadata": {},
   "outputs": [
    {
     "name": "stdout",
     "output_type": "stream",
     "text": [
      "true sigma mean = 4.293666876803905\n",
      "true sigma cov = 0.037078159507807996\n"
     ]
    }
   ],
   "source": [
    "true_sigma_mean = np.mean(fit['sigma'], axis=0)\n",
    "true_sigma_cov = np.cov(fit['sigma'].T)\n",
    "print('true sigma mean =', true_sigma_mean)\n",
    "print('true sigma cov =', true_sigma_cov)"
   ]
  },
  {
   "cell_type": "code",
   "execution_count": 12,
   "metadata": {},
   "outputs": [],
   "source": [
    "vec1 = fit['beta']\n",
    "vec2 = np.array(fit['sigma'])\n",
    "vec = []\n",
    "for i in range(len(vec1)):\n",
    "    temp = list(np.append(vec1[i], vec2[i]))\n",
    "    vec.append(temp)\n",
    "vec = np.array(vec)"
   ]
  },
  {
   "cell_type": "code",
   "execution_count": 13,
   "metadata": {},
   "outputs": [],
   "source": [
    "true_mean = np.mean(vec, axis=0)\n",
    "true_cov = np.cov(vec.T)"
   ]
  },
  {
   "cell_type": "code",
   "execution_count": 14,
   "metadata": {},
   "outputs": [
    {
     "name": "stdout",
     "output_type": "stream",
     "text": [
      "true mean = [ 0.05459832 -0.09528642 -0.07644066 -0.48363749 -0.01824114  0.95663095\n",
      " -0.2000818   0.23570235  0.00990782  0.13346214  0.1787938   0.40898731\n",
      " -1.27938096  4.29366688]\n",
      "true cov = [[ 9.97200337e-04  3.45621380e-04  3.68728016e-04 -7.78539413e-04\n",
      "  -1.10697829e-04 -1.16318692e-03  2.21506005e-04  1.76549994e-03\n",
      "  -1.96880775e-03  5.20538406e-04 -4.35301435e-04  7.91531586e-04\n",
      "  -4.01240462e-03 -8.65895956e-05]\n",
      " [ 3.45621380e-04  2.84756057e-03 -2.41060764e-03 -3.77845948e-03\n",
      "  -2.18422092e-03 -9.52696853e-04 -4.13429772e-03 -5.67353506e-04\n",
      "  -2.80330350e-03 -2.53522149e-03 -1.54456099e-03 -1.39916280e-04\n",
      "  -3.09299142e-03 -7.31295650e-05]\n",
      " [ 3.68728016e-04 -2.41060764e-03  9.23920817e-03  3.17649442e-04\n",
      "   2.09330990e-03  1.04308374e-03  3.58892541e-03  2.63097431e-03\n",
      "  -1.89339286e-03  1.43998504e-03  1.17676525e-03  2.32454254e-04\n",
      "  -3.98792551e-03 -3.00063038e-05]\n",
      " [-7.78539413e-04 -3.77845948e-03  3.17649442e-04  5.15356691e-02\n",
      "  -5.97618387e-04 -1.75824473e-04  5.76037988e-03 -3.19351687e-03\n",
      "   8.24154695e-03  4.51455386e-03 -3.44575624e-03 -5.52883695e-03\n",
      "  -2.64427596e-02  6.44619663e-04]\n",
      " [-1.10697829e-04 -2.18422092e-03  2.09330990e-03 -5.97618387e-04\n",
      "   9.77492136e-03 -4.01416654e-03  2.76763682e-03  2.08783581e-03\n",
      "   2.09121249e-03  2.62082106e-04 -1.14479718e-03 -2.13672435e-03\n",
      "   5.05976804e-04  1.77055036e-05]\n",
      " [-1.16318692e-03 -9.52696853e-04  1.04308374e-03 -1.75824473e-04\n",
      "  -4.01416654e-03  7.30427000e-03 -2.83602315e-03 -1.63915676e-03\n",
      "   1.17994752e-03  2.49680789e-03  1.80370742e-03  9.74214830e-04\n",
      "   4.08776614e-03 -5.16453244e-05]\n",
      " [ 2.21506005e-04 -4.13429772e-03  3.58892541e-03  5.76037988e-03\n",
      "   2.76763682e-03 -2.83602315e-03  2.05599452e-02 -6.65652730e-03\n",
      "  -2.43090516e-03  1.84870335e-03  1.51093464e-03  2.49720875e-03\n",
      "   3.93906235e-04 -9.43797581e-05]\n",
      " [ 1.76549994e-03 -5.67353506e-04  2.63097431e-03 -3.19351687e-03\n",
      "   2.08783581e-03 -1.63915676e-03 -6.65652730e-03  2.08225741e-02\n",
      "  -9.09599180e-03  2.36085917e-04 -5.66906938e-03 -4.18130574e-04\n",
      "   4.01667749e-03  1.30038033e-04]\n",
      " [-1.96880775e-03 -2.80330350e-03 -1.89339286e-03  8.24154695e-03\n",
      "   2.09121249e-03  1.17994752e-03 -2.43090516e-03 -9.09599180e-03\n",
      "   5.54327905e-02 -7.53181827e-03  2.01077382e-03 -5.14798065e-03\n",
      "  -8.60208551e-03 -2.07753044e-04]\n",
      " [ 5.20538406e-04 -2.53522149e-03  1.43998504e-03  4.51455386e-03\n",
      "   2.62082106e-04  2.49680789e-03  1.84870335e-03  2.36085917e-04\n",
      "  -7.53181827e-03  4.75987536e-02  1.61930663e-03  1.16550256e-03\n",
      "  -2.20041042e-02 -4.17064397e-04]\n",
      " [-4.35301435e-04 -1.54456099e-03  1.17676525e-03 -3.44575624e-03\n",
      "  -1.14479718e-03  1.80370742e-03  1.51093464e-03 -5.66906938e-03\n",
      "   2.01077382e-03  1.61930663e-03  2.75302836e-02 -9.48085699e-03\n",
      "  -2.44721578e-03 -1.44823956e-04]\n",
      " [ 7.91531586e-04 -1.39916280e-04  2.32454254e-04 -5.52883695e-03\n",
      "  -2.13672435e-03  9.74214830e-04  2.49720875e-03 -4.18130574e-04\n",
      "  -5.14798065e-03  1.16550256e-03 -9.48085699e-03  3.74598592e-02\n",
      "  -1.26018098e-02 -1.68327650e-03]\n",
      " [-4.01240462e-03 -3.09299142e-03 -3.98792551e-03 -2.64427596e-02\n",
      "   5.05976804e-04  4.08776614e-03  3.93906235e-04  4.01667749e-03\n",
      "  -8.60208551e-03 -2.20041042e-02 -2.44721578e-03 -1.26018098e-02\n",
      "   2.11768968e-01  6.57807051e-03]\n",
      " [-8.65895956e-05 -7.31295650e-05 -3.00063038e-05  6.44619663e-04\n",
      "   1.77055036e-05 -5.16453244e-05 -9.43797581e-05  1.30038033e-04\n",
      "  -2.07753044e-04 -4.17064397e-04 -1.44823956e-04 -1.68327650e-03\n",
      "   6.57807051e-03  3.70781595e-02]]\n"
     ]
    }
   ],
   "source": [
    "print('true mean =', true_mean)\n",
    "print('true cov =', true_cov)"
   ]
  },
  {
   "cell_type": "code",
   "execution_count": 15,
   "metadata": {},
   "outputs": [
    {
     "data": {
      "text/plain": [
       "Inference for Stan model: regression_model_b1ab85b6e8abedc0878d3fa66ea1be75.\n",
       "10 chains, each with iter=50000; warmup=25000; thin=50; \n",
       "post-warmup draws per chain=500, total post-warmup draws=5000.\n",
       "\n",
       "           mean se_mean     sd    2.5%    25%    50%    75%  97.5%  n_eff   Rhat\n",
       "beta[1]    0.05  4.5e-4   0.03 -7.6e-3   0.03   0.05   0.08   0.12   5019    1.0\n",
       "beta[2]    -0.1  7.5e-4   0.05    -0.2  -0.13   -0.1  -0.06 8.4e-3   5087    1.0\n",
       "beta[3]   -0.08  1.4e-3    0.1   -0.26  -0.14  -0.08  -0.01   0.11   5052    1.0\n",
       "beta[4]   -0.48  3.2e-3   0.23   -0.93  -0.64  -0.48  -0.33  -0.04   4894    1.0\n",
       "beta[5]   -0.02  1.4e-3    0.1   -0.22  -0.09  -0.02   0.05   0.18   4907    1.0\n",
       "beta[6]    0.96  1.2e-3   0.09    0.79    0.9   0.96   1.01   1.12   4951    1.0\n",
       "beta[7]    -0.2  2.0e-3   0.14   -0.49   -0.3   -0.2   -0.1   0.08   4913    1.0\n",
       "beta[8]    0.24  2.1e-3   0.14   -0.04   0.14   0.23   0.33   0.52   4918    1.0\n",
       "beta[9]  9.9e-3  3.3e-3   0.24   -0.46  -0.15 9.5e-3   0.17   0.48   5019    1.0\n",
       "beta[10]   0.13  3.0e-3   0.22   -0.27  -0.02   0.13   0.28   0.56   5188    1.0\n",
       "beta[11]   0.18  2.3e-3   0.17   -0.15   0.07   0.18   0.29    0.5   5192    1.0\n",
       "beta[12]   0.41  2.7e-3   0.19    0.02   0.28   0.41   0.54   0.78   4994    1.0\n",
       "beta[13]  -1.28  6.3e-3   0.46    -2.2  -1.59  -1.27  -0.97  -0.39   5372    1.0\n",
       "sigma      4.29  2.7e-3   0.19    3.93   4.16   4.29   4.42   4.68   4941    1.0\n",
       "lp__     -497.0    0.04   2.64  -503.1 -498.6 -496.7 -495.1 -492.8   4968    1.0\n",
       "\n",
       "Samples were drawn using NUTS at Sat Oct 31 17:55:22 2020.\n",
       "For each parameter, n_eff is a crude measure of effective sample size,\n",
       "and Rhat is the potential scale reduction factor on split chains (at \n",
       "convergence, Rhat=1)."
      ]
     },
     "execution_count": 15,
     "metadata": {},
     "output_type": "execute_result"
    }
   ],
   "source": [
    "fit"
   ]
  },
  {
   "cell_type": "markdown",
   "metadata": {},
   "source": [
    "# KLVI"
   ]
  },
  {
   "cell_type": "markdown",
   "metadata": {},
   "source": [
    "## Mean field with Gaussian"
   ]
  },
  {
   "cell_type": "code",
   "execution_count": 16,
   "metadata": {},
   "outputs": [],
   "source": [
    "# def logjointpdf(samples, x=x, y=y, D=D):\n",
    "#     beta, log_sigma = samples[:, 0:D], samples[:, D]\n",
    "#     mu = np.dot(x, np.transpose(beta))\n",
    "    \n",
    "#     lpdf = np.zeros(len(samples))\n",
    "\n",
    "#     print(\"I'm here\")\n",
    "#     print(norm.logpdf(0,1,np.exp(log_sigma[0])))\n",
    "#     for i in range(len(samples)):\n",
    "#         p1 = sum(norm.logpdf(y, mu[:,i], np.exp(log_sigma[i])))\n",
    "#         p2 = gamma.logpdf(np.exp(log_sigma[i]), .5, loc=0, scale=.5)\n",
    "#         p3 = sum(norm.logpdf(beta[i,:], 0, 1))\n",
    "                 \n",
    "#         lpdf[i] = p1 + p2 + p3\n",
    "     \n",
    "#     return lpdf"
   ]
  },
  {
   "cell_type": "code",
   "execution_count": 17,
   "metadata": {},
   "outputs": [],
   "source": [
    "mf_gaussian_var_family = mean_field_gaussian_variational_family(D+1)\n",
    "\n",
    "init_mean = np.zeros(D+1)\n",
    "init_log_std = np.ones(D+1)\n",
    "init_var_param = np.concatenate([init_mean, init_log_std])\n",
    "n_iters = 2000"
   ]
  },
  {
   "cell_type": "code",
   "execution_count": 18,
   "metadata": {},
   "outputs": [],
   "source": [
    "stan_log_density = make_stan_log_density(fit)"
   ]
  },
  {
   "cell_type": "code",
   "execution_count": 19,
   "metadata": {},
   "outputs": [
    {
     "name": "stderr",
     "output_type": "stream",
     "text": [
      "Average Loss = 588.28: 100%|██████████████████████████████████████████████████████| 2000/2000 [00:08<00:00, 238.30it/s]\n"
     ]
    }
   ],
   "source": [
    "klvi_objective_and_grad = black_box_klvi(mf_gaussian_var_family, stan_log_density, 100)\n",
    "\n",
    "klvi_var_param, klvi_param_history, klvi_history, _ = \\\n",
    "    adagrad_optimize(n_iters, klvi_objective_and_grad, init_var_param, learning_rate=1e-2)"
   ]
  },
  {
   "cell_type": "code",
   "execution_count": 20,
   "metadata": {},
   "outputs": [],
   "source": [
    "#plot_dist_to_opt_param(klvi_param_history, klvi_var_param)"
   ]
  },
  {
   "cell_type": "code",
   "execution_count": 21,
   "metadata": {},
   "outputs": [
    {
     "name": "stdout",
     "output_type": "stream",
     "text": [
      "mean   = [ 5.44384297e-02 -1.02126322e-01 -7.30403373e-02 -4.85712732e-01\n",
      " -3.41180830e-04  9.40875347e-01 -1.69420817e-01  2.37305100e-01\n",
      "  2.21088054e-03  1.18992872e-01  1.69170660e-01  3.99143009e-01\n",
      " -1.17513989e+00  1.50436742e+00]\n",
      "stdevs = [0.03112333 0.02675642 0.07930115 0.13354185 0.05161203 0.04486748\n",
      " 0.05941958 0.07102985 0.13597238 0.17690945 0.11087364 0.15093563\n",
      " 0.30545673 0.04822361]\n",
      "\n",
      "mean error             = 2.79\n",
      "stdev error            = 0.295\n",
      "||cov error||_2^{1/2}  = 0.365\n",
      "||true cov||_2^{1/2}   = 0.47\n"
     ]
    }
   ],
   "source": [
    "check_approx_accuracy(mf_gaussian_var_family, klvi_var_param, true_mean, true_cov, verbose=True);"
   ]
  },
  {
   "cell_type": "code",
   "execution_count": 22,
   "metadata": {},
   "outputs": [],
   "source": [
    "mc_samples = 100000"
   ]
  },
  {
   "cell_type": "markdown",
   "metadata": {},
   "source": [
    "samples, smoothed log weights, khat"
   ]
  },
  {
   "cell_type": "code",
   "execution_count": 23,
   "metadata": {},
   "outputs": [],
   "source": [
    "klvi_samples, klvi_slw, klvi_khat = psis_correction(stan_log_density, mf_gaussian_var_family, klvi_var_param, mc_samples)"
   ]
  },
  {
   "cell_type": "code",
   "execution_count": 24,
   "metadata": {},
   "outputs": [
    {
     "name": "stdout",
     "output_type": "stream",
     "text": [
      "0.9336263340218836\n"
     ]
    }
   ],
   "source": [
    "print(klvi_khat)"
   ]
  },
  {
   "cell_type": "code",
   "execution_count": 25,
   "metadata": {},
   "outputs": [
    {
     "data": {
      "text/plain": [
       "array([-22.14364824, -42.29143453, -22.04874729, ..., -22.11146712,\n",
       "       -23.7798717 , -23.32283541])"
      ]
     },
     "execution_count": 25,
     "metadata": {},
     "output_type": "execute_result"
    }
   ],
   "source": [
    "klvi_slw"
   ]
  },
  {
   "cell_type": "markdown",
   "metadata": {},
   "source": [
    "### VSBC diagnostics"
   ]
  },
  {
   "cell_type": "code",
   "execution_count": 26,
   "metadata": {},
   "outputs": [],
   "source": [
    "#     def logjointpdf(samples, x=xtemp, y=y, D=D):\n",
    "#         beta, log_sigma = samples[:, 0:D], samples[:, D]\n",
    "#         mu = np.dot(x, np.transpose(beta))\n",
    "\n",
    "#         lpdf = np.zeros(len(samples))\n",
    "#         for i in range(len(samples)):\n",
    "#             p1 = sum(norm.logpdf(y, mu[:,i], np.exp(log_sigma[i])))\n",
    "#             p2 = gamma.logpdf(np.exp(log_sigma[i]), .5, 0, .5)\n",
    "#             p3 = sum(norm.logpdf(beta[i,:], 0, 1))\n",
    "\n",
    "#             lpdf[i] = p1 + p2 + p3\n",
    "\n",
    "#         return lpdf\n",
    "    \n",
    "    # initialise klvi\n",
    "#     def logjointpdf(x, data=xtemp, y=ytemp, D=D):\n",
    "#         beta, log_sigma = x[:, 0:D], x[:, D]\n",
    "#         mu = np.dot(x.values, np.transpose(beta))\n",
    "        \n",
    "#         obs_density = norm.logpdf(y, mu, np.exp(log_sigma))\n",
    "#         sigma_density = gamma.logpdf(np.exp(log_sigma), .5, 0, .5)\n",
    "#         beta_density = norm.logpdf(beta, 0, 1)\n",
    "        \n",
    "#         return sum(obs_density)+sum(beta_density)+sigma_density"
   ]
  },
  {
   "cell_type": "code",
   "execution_count": 27,
   "metadata": {},
   "outputs": [],
   "source": [
    "M = 100\n",
    "klvi_probs = np.zeros(shape=(D+1, M))"
   ]
  },
  {
   "cell_type": "code",
   "execution_count": 28,
   "metadata": {},
   "outputs": [
    {
     "name": "stderr",
     "output_type": "stream",
     "text": [
      "Average Loss = 608.13: 100%|██████████████████████████████████████████████████████| 2000/2000 [00:08<00:00, 240.63it/s]\n"
     ]
    },
    {
     "name": "stdout",
     "output_type": "stream",
     "text": [
      "Iteration = 0, loop time = 23.268147, time elapsed = 23.268147\n"
     ]
    },
    {
     "name": "stderr",
     "output_type": "stream",
     "text": [
      "Average Loss = 592.63: 100%|██████████████████████████████████████████████████████| 2000/2000 [00:08<00:00, 236.89it/s]\n"
     ]
    },
    {
     "name": "stdout",
     "output_type": "stream",
     "text": [
      "Iteration = 1, loop time = 23.295170, time elapsed = 46.564317\n"
     ]
    },
    {
     "name": "stderr",
     "output_type": "stream",
     "text": [
      "Average Loss = 597.68: 100%|██████████████████████████████████████████████████████| 2000/2000 [00:08<00:00, 238.99it/s]\n"
     ]
    },
    {
     "name": "stdout",
     "output_type": "stream",
     "text": [
      "Iteration = 2, loop time = 23.558640, time elapsed = 70.123958\n"
     ]
    },
    {
     "name": "stderr",
     "output_type": "stream",
     "text": [
      "Average Loss = 603.51: 100%|██████████████████████████████████████████████████████| 2000/2000 [00:08<00:00, 239.30it/s]\n"
     ]
    },
    {
     "name": "stdout",
     "output_type": "stream",
     "text": [
      "Iteration = 3, loop time = 24.589740, time elapsed = 94.714699\n"
     ]
    },
    {
     "name": "stderr",
     "output_type": "stream",
     "text": [
      "Average Loss = 598.87: 100%|██████████████████████████████████████████████████████| 2000/2000 [00:08<00:00, 240.92it/s]\n"
     ]
    },
    {
     "name": "stdout",
     "output_type": "stream",
     "text": [
      "Iteration = 4, loop time = 23.960915, time elapsed = 118.675614\n"
     ]
    },
    {
     "name": "stderr",
     "output_type": "stream",
     "text": [
      "Average Loss = 598.4: 100%|███████████████████████████████████████████████████████| 2000/2000 [00:08<00:00, 238.70it/s]\n"
     ]
    },
    {
     "name": "stdout",
     "output_type": "stream",
     "text": [
      "Iteration = 5, loop time = 22.900501, time elapsed = 141.577115\n"
     ]
    },
    {
     "name": "stderr",
     "output_type": "stream",
     "text": [
      "Average Loss = 590.2: 100%|███████████████████████████████████████████████████████| 2000/2000 [00:09<00:00, 216.32it/s]\n"
     ]
    },
    {
     "name": "stdout",
     "output_type": "stream",
     "text": [
      "Iteration = 6, loop time = 24.918723, time elapsed = 166.496840\n"
     ]
    },
    {
     "name": "stderr",
     "output_type": "stream",
     "text": [
      "Average Loss = 598.5: 100%|███████████████████████████████████████████████████████| 2000/2000 [00:09<00:00, 219.63it/s]\n"
     ]
    },
    {
     "name": "stdout",
     "output_type": "stream",
     "text": [
      "Iteration = 7, loop time = 24.003871, time elapsed = 190.501712\n"
     ]
    },
    {
     "name": "stderr",
     "output_type": "stream",
     "text": [
      "Average Loss = 592.07: 100%|██████████████████████████████████████████████████████| 2000/2000 [00:08<00:00, 238.08it/s]\n"
     ]
    },
    {
     "name": "stdout",
     "output_type": "stream",
     "text": [
      "Iteration = 8, loop time = 23.833673, time elapsed = 214.336386\n"
     ]
    },
    {
     "name": "stderr",
     "output_type": "stream",
     "text": [
      "Average Loss = 595.2: 100%|███████████████████████████████████████████████████████| 2000/2000 [00:08<00:00, 239.20it/s]\n"
     ]
    },
    {
     "name": "stdout",
     "output_type": "stream",
     "text": [
      "Iteration = 9, loop time = 23.072252, time elapsed = 237.409641\n"
     ]
    },
    {
     "name": "stderr",
     "output_type": "stream",
     "text": [
      "Average Loss = 614.45: 100%|██████████████████████████████████████████████████████| 2000/2000 [00:08<00:00, 237.31it/s]\n"
     ]
    },
    {
     "name": "stdout",
     "output_type": "stream",
     "text": [
      "Iteration = 10, loop time = 23.790900, time elapsed = 261.201541\n"
     ]
    },
    {
     "name": "stderr",
     "output_type": "stream",
     "text": [
      "Average Loss = 590.88: 100%|██████████████████████████████████████████████████████| 2000/2000 [00:08<00:00, 239.76it/s]\n"
     ]
    },
    {
     "name": "stdout",
     "output_type": "stream",
     "text": [
      "Iteration = 11, loop time = 22.555061, time elapsed = 283.756603\n"
     ]
    },
    {
     "name": "stderr",
     "output_type": "stream",
     "text": [
      "Average Loss = 582.91: 100%|██████████████████████████████████████████████████████| 2000/2000 [00:08<00:00, 239.27it/s]\n"
     ]
    },
    {
     "name": "stdout",
     "output_type": "stream",
     "text": [
      "Iteration = 12, loop time = 23.126851, time elapsed = 306.883454\n"
     ]
    },
    {
     "name": "stderr",
     "output_type": "stream",
     "text": [
      "Average Loss = 604.69: 100%|██████████████████████████████████████████████████████| 2000/2000 [00:08<00:00, 238.64it/s]\n"
     ]
    },
    {
     "name": "stdout",
     "output_type": "stream",
     "text": [
      "Iteration = 13, loop time = 23.326195, time elapsed = 330.210650\n"
     ]
    },
    {
     "name": "stderr",
     "output_type": "stream",
     "text": [
      "Average Loss = 600.43: 100%|██████████████████████████████████████████████████████| 2000/2000 [00:08<00:00, 239.16it/s]\n"
     ]
    },
    {
     "name": "stdout",
     "output_type": "stream",
     "text": [
      "Iteration = 14, loop time = 23.234122, time elapsed = 353.445773\n"
     ]
    },
    {
     "name": "stderr",
     "output_type": "stream",
     "text": [
      "Average Loss = 611.54: 100%|██████████████████████████████████████████████████████| 2000/2000 [00:08<00:00, 238.70it/s]\n"
     ]
    },
    {
     "name": "stdout",
     "output_type": "stream",
     "text": [
      "Iteration = 15, loop time = 23.158346, time elapsed = 376.605120\n"
     ]
    },
    {
     "name": "stderr",
     "output_type": "stream",
     "text": [
      "Average Loss = 600.72: 100%|██████████████████████████████████████████████████████| 2000/2000 [00:08<00:00, 240.05it/s]\n"
     ]
    },
    {
     "name": "stdout",
     "output_type": "stream",
     "text": [
      "Iteration = 16, loop time = 23.114758, time elapsed = 399.720879\n"
     ]
    },
    {
     "name": "stderr",
     "output_type": "stream",
     "text": [
      "Average Loss = 592.69: 100%|██████████████████████████████████████████████████████| 2000/2000 [00:08<00:00, 239.05it/s]\n"
     ]
    },
    {
     "name": "stdout",
     "output_type": "stream",
     "text": [
      "Iteration = 17, loop time = 22.794383, time elapsed = 422.516262\n"
     ]
    },
    {
     "name": "stderr",
     "output_type": "stream",
     "text": [
      "Average Loss = 602.87: 100%|██████████████████████████████████████████████████████| 2000/2000 [00:08<00:00, 238.50it/s]\n"
     ]
    },
    {
     "name": "stdout",
     "output_type": "stream",
     "text": [
      "Iteration = 18, loop time = 23.924386, time elapsed = 446.441649\n"
     ]
    },
    {
     "name": "stderr",
     "output_type": "stream",
     "text": [
      "Average Loss = 591.3: 100%|███████████████████████████████████████████████████████| 2000/2000 [00:08<00:00, 239.33it/s]\n"
     ]
    },
    {
     "name": "stdout",
     "output_type": "stream",
     "text": [
      "Iteration = 19, loop time = 23.138969, time elapsed = 469.580618\n"
     ]
    },
    {
     "name": "stderr",
     "output_type": "stream",
     "text": [
      "Average Loss = 614.4: 100%|███████████████████████████████████████████████████████| 2000/2000 [00:08<00:00, 238.22it/s]\n"
     ]
    },
    {
     "name": "stdout",
     "output_type": "stream",
     "text": [
      "Iteration = 20, loop time = 23.466583, time elapsed = 493.048203\n"
     ]
    },
    {
     "name": "stderr",
     "output_type": "stream",
     "text": [
      "Average Loss = 592.3: 100%|███████████████████████████████████████████████████████| 2000/2000 [00:08<00:00, 236.98it/s]\n"
     ]
    },
    {
     "name": "stdout",
     "output_type": "stream",
     "text": [
      "Iteration = 21, loop time = 22.628200, time elapsed = 515.677403\n"
     ]
    },
    {
     "name": "stderr",
     "output_type": "stream",
     "text": [
      "Average Loss = 601.18: 100%|██████████████████████████████████████████████████████| 2000/2000 [00:08<00:00, 239.02it/s]\n"
     ]
    },
    {
     "name": "stdout",
     "output_type": "stream",
     "text": [
      "Iteration = 22, loop time = 23.910341, time elapsed = 539.588745\n"
     ]
    },
    {
     "name": "stderr",
     "output_type": "stream",
     "text": [
      "Average Loss = 595.54: 100%|██████████████████████████████████████████████████████| 2000/2000 [00:08<00:00, 236.22it/s]\n"
     ]
    },
    {
     "name": "stdout",
     "output_type": "stream",
     "text": [
      "Iteration = 23, loop time = 23.847983, time elapsed = 563.437727\n"
     ]
    },
    {
     "name": "stderr",
     "output_type": "stream",
     "text": [
      "Average Loss = 612.13: 100%|██████████████████████████████████████████████████████| 2000/2000 [00:08<00:00, 233.34it/s]\n"
     ]
    },
    {
     "name": "stdout",
     "output_type": "stream",
     "text": [
      "Iteration = 24, loop time = 24.192782, time elapsed = 587.631510\n"
     ]
    },
    {
     "name": "stderr",
     "output_type": "stream",
     "text": [
      "Average Loss = 595.42: 100%|██████████████████████████████████████████████████████| 2000/2000 [00:09<00:00, 220.87it/s]\n"
     ]
    },
    {
     "name": "stdout",
     "output_type": "stream",
     "text": [
      "Iteration = 25, loop time = 26.852096, time elapsed = 614.484607\n"
     ]
    },
    {
     "name": "stderr",
     "output_type": "stream",
     "text": [
      "Average Loss = 586.47: 100%|██████████████████████████████████████████████████████| 2000/2000 [00:08<00:00, 228.65it/s]\n"
     ]
    },
    {
     "name": "stdout",
     "output_type": "stream",
     "text": [
      "Iteration = 26, loop time = 26.380607, time elapsed = 640.866215\n"
     ]
    },
    {
     "name": "stderr",
     "output_type": "stream",
     "text": [
      "Average Loss = 593.96: 100%|██████████████████████████████████████████████████████| 2000/2000 [00:08<00:00, 237.03it/s]\n"
     ]
    },
    {
     "name": "stdout",
     "output_type": "stream",
     "text": [
      "Iteration = 27, loop time = 25.499665, time elapsed = 666.365880\n"
     ]
    },
    {
     "name": "stderr",
     "output_type": "stream",
     "text": [
      "Average Loss = 596.85: 100%|██████████████████████████████████████████████████████| 2000/2000 [00:08<00:00, 240.02it/s]\n"
     ]
    },
    {
     "name": "stdout",
     "output_type": "stream",
     "text": [
      "Iteration = 28, loop time = 24.253857, time elapsed = 690.620739\n"
     ]
    },
    {
     "name": "stderr",
     "output_type": "stream",
     "text": [
      "Average Loss = 596.55: 100%|██████████████████████████████████████████████████████| 2000/2000 [00:08<00:00, 236.01it/s]\n"
     ]
    },
    {
     "name": "stdout",
     "output_type": "stream",
     "text": [
      "Iteration = 29, loop time = 23.733391, time elapsed = 714.354129\n"
     ]
    },
    {
     "name": "stderr",
     "output_type": "stream",
     "text": [
      "Average Loss = 584.41: 100%|██████████████████████████████████████████████████████| 2000/2000 [00:08<00:00, 234.10it/s]\n"
     ]
    },
    {
     "name": "stdout",
     "output_type": "stream",
     "text": [
      "Iteration = 30, loop time = 25.192459, time elapsed = 739.548591\n"
     ]
    },
    {
     "name": "stderr",
     "output_type": "stream",
     "text": [
      "Average Loss = 595.83: 100%|██████████████████████████████████████████████████████| 2000/2000 [00:08<00:00, 239.58it/s]\n"
     ]
    },
    {
     "name": "stdout",
     "output_type": "stream",
     "text": [
      "Iteration = 31, loop time = 24.131764, time elapsed = 763.680355\n"
     ]
    },
    {
     "name": "stderr",
     "output_type": "stream",
     "text": [
      "Average Loss = 610.18: 100%|██████████████████████████████████████████████████████| 2000/2000 [00:08<00:00, 240.31it/s]\n"
     ]
    },
    {
     "name": "stdout",
     "output_type": "stream",
     "text": [
      "Iteration = 32, loop time = 23.202088, time elapsed = 786.883443\n"
     ]
    },
    {
     "name": "stderr",
     "output_type": "stream",
     "text": [
      "Average Loss = 598.33: 100%|██████████████████████████████████████████████████████| 2000/2000 [00:08<00:00, 235.86it/s]\n"
     ]
    },
    {
     "name": "stdout",
     "output_type": "stream",
     "text": [
      "Iteration = 33, loop time = 23.456155, time elapsed = 810.340598\n"
     ]
    },
    {
     "name": "stderr",
     "output_type": "stream",
     "text": [
      "Average Loss = 593.4: 100%|███████████████████████████████████████████████████████| 2000/2000 [00:08<00:00, 238.07it/s]\n"
     ]
    },
    {
     "name": "stdout",
     "output_type": "stream",
     "text": [
      "Iteration = 34, loop time = 24.172824, time elapsed = 834.514424\n"
     ]
    },
    {
     "name": "stderr",
     "output_type": "stream",
     "text": [
      "Average Loss = 597.32: 100%|██████████████████████████████████████████████████████| 2000/2000 [00:08<00:00, 238.62it/s]\n"
     ]
    },
    {
     "name": "stdout",
     "output_type": "stream",
     "text": [
      "Iteration = 35, loop time = 23.755465, time elapsed = 858.270890\n"
     ]
    },
    {
     "name": "stderr",
     "output_type": "stream",
     "text": [
      "Average Loss = 605.85: 100%|██████████████████████████████████████████████████████| 2000/2000 [00:08<00:00, 238.02it/s]\n"
     ]
    },
    {
     "name": "stdout",
     "output_type": "stream",
     "text": [
      "Iteration = 36, loop time = 23.913745, time elapsed = 882.185639\n"
     ]
    },
    {
     "name": "stderr",
     "output_type": "stream",
     "text": [
      "Average Loss = 589.2: 100%|███████████████████████████████████████████████████████| 2000/2000 [00:09<00:00, 210.18it/s]\n"
     ]
    },
    {
     "name": "stdout",
     "output_type": "stream",
     "text": [
      "Iteration = 37, loop time = 24.267790, time elapsed = 906.454430\n"
     ]
    },
    {
     "name": "stderr",
     "output_type": "stream",
     "text": [
      "Average Loss = 598.61: 100%|██████████████████████████████████████████████████████| 2000/2000 [00:08<00:00, 238.52it/s]\n"
     ]
    },
    {
     "name": "stdout",
     "output_type": "stream",
     "text": [
      "Iteration = 38, loop time = 23.709388, time elapsed = 930.164820\n"
     ]
    },
    {
     "name": "stderr",
     "output_type": "stream",
     "text": [
      "Average Loss = 601.25: 100%|██████████████████████████████████████████████████████| 2000/2000 [00:08<00:00, 237.16it/s]\n"
     ]
    },
    {
     "name": "stdout",
     "output_type": "stream",
     "text": [
      "Iteration = 39, loop time = 23.826013, time elapsed = 953.991833\n"
     ]
    },
    {
     "name": "stderr",
     "output_type": "stream",
     "text": [
      "Average Loss = 615.71: 100%|██████████████████████████████████████████████████████| 2000/2000 [00:08<00:00, 237.94it/s]\n"
     ]
    },
    {
     "name": "stdout",
     "output_type": "stream",
     "text": [
      "Iteration = 40, loop time = 23.724542, time elapsed = 977.717376\n"
     ]
    },
    {
     "name": "stderr",
     "output_type": "stream",
     "text": [
      "Average Loss = 594.1: 100%|███████████████████████████████████████████████████████| 2000/2000 [00:08<00:00, 235.58it/s]\n"
     ]
    },
    {
     "name": "stdout",
     "output_type": "stream",
     "text": [
      "Iteration = 41, loop time = 23.596094, time elapsed = 1001.314471\n"
     ]
    },
    {
     "name": "stderr",
     "output_type": "stream",
     "text": [
      "Average Loss = 611.63: 100%|██████████████████████████████████████████████████████| 2000/2000 [00:09<00:00, 219.09it/s]\n"
     ]
    },
    {
     "name": "stdout",
     "output_type": "stream",
     "text": [
      "Iteration = 42, loop time = 23.981267, time elapsed = 1025.296739\n"
     ]
    },
    {
     "name": "stderr",
     "output_type": "stream",
     "text": [
      "Average Loss = 583.52: 100%|██████████████████████████████████████████████████████| 2000/2000 [00:08<00:00, 241.15it/s]\n"
     ]
    },
    {
     "name": "stdout",
     "output_type": "stream",
     "text": [
      "Iteration = 43, loop time = 23.054965, time elapsed = 1048.352705\n"
     ]
    },
    {
     "name": "stderr",
     "output_type": "stream",
     "text": [
      "Average Loss = 596.92: 100%|██████████████████████████████████████████████████████| 2000/2000 [00:08<00:00, 236.67it/s]\n"
     ]
    },
    {
     "name": "stdout",
     "output_type": "stream",
     "text": [
      "Iteration = 44, loop time = 24.110757, time elapsed = 1072.464463\n"
     ]
    },
    {
     "name": "stderr",
     "output_type": "stream",
     "text": [
      "Average Loss = 593.44: 100%|██████████████████████████████████████████████████████| 2000/2000 [00:08<00:00, 240.50it/s]\n"
     ]
    },
    {
     "name": "stdout",
     "output_type": "stream",
     "text": [
      "Iteration = 45, loop time = 24.180645, time elapsed = 1096.646108\n"
     ]
    },
    {
     "name": "stderr",
     "output_type": "stream",
     "text": [
      "Average Loss = 601.64: 100%|██████████████████████████████████████████████████████| 2000/2000 [00:08<00:00, 238.37it/s]\n"
     ]
    },
    {
     "name": "stdout",
     "output_type": "stream",
     "text": [
      "Iteration = 46, loop time = 23.151806, time elapsed = 1119.798915\n"
     ]
    },
    {
     "name": "stderr",
     "output_type": "stream",
     "text": [
      "Average Loss = 598.41: 100%|██████████████████████████████████████████████████████| 2000/2000 [00:08<00:00, 239.16it/s]\n"
     ]
    },
    {
     "name": "stdout",
     "output_type": "stream",
     "text": [
      "Iteration = 47, loop time = 23.113412, time elapsed = 1142.913329\n"
     ]
    },
    {
     "name": "stderr",
     "output_type": "stream",
     "text": [
      "Average Loss = 594.67: 100%|██████████████████████████████████████████████████████| 2000/2000 [00:08<00:00, 236.50it/s]\n"
     ]
    },
    {
     "name": "stdout",
     "output_type": "stream",
     "text": [
      "Iteration = 48, loop time = 23.539689, time elapsed = 1166.454019\n"
     ]
    },
    {
     "name": "stderr",
     "output_type": "stream",
     "text": [
      "Average Loss = 594.22: 100%|██████████████████████████████████████████████████████| 2000/2000 [00:08<00:00, 235.94it/s]\n"
     ]
    },
    {
     "name": "stdout",
     "output_type": "stream",
     "text": [
      "Iteration = 49, loop time = 24.312713, time elapsed = 1190.767734\n"
     ]
    },
    {
     "name": "stderr",
     "output_type": "stream",
     "text": [
      "Average Loss = 604.79: 100%|██████████████████████████████████████████████████████| 2000/2000 [00:08<00:00, 237.61it/s]\n"
     ]
    },
    {
     "name": "stdout",
     "output_type": "stream",
     "text": [
      "Iteration = 50, loop time = 23.266539, time elapsed = 1214.035274\n"
     ]
    },
    {
     "name": "stderr",
     "output_type": "stream",
     "text": [
      "Average Loss = 597.83: 100%|██████████████████████████████████████████████████████| 2000/2000 [00:08<00:00, 236.84it/s]\n"
     ]
    },
    {
     "name": "stdout",
     "output_type": "stream",
     "text": [
      "Iteration = 51, loop time = 24.320373, time elapsed = 1238.356647\n"
     ]
    },
    {
     "name": "stderr",
     "output_type": "stream",
     "text": [
      "Average Loss = 597.49: 100%|██████████████████████████████████████████████████████| 2000/2000 [00:08<00:00, 237.08it/s]\n"
     ]
    },
    {
     "name": "stdout",
     "output_type": "stream",
     "text": [
      "Iteration = 52, loop time = 24.236595, time elapsed = 1262.594244\n"
     ]
    },
    {
     "name": "stderr",
     "output_type": "stream",
     "text": [
      "Average Loss = 600.76: 100%|██████████████████████████████████████████████████████| 2000/2000 [00:09<00:00, 221.11it/s]\n"
     ]
    },
    {
     "name": "stdout",
     "output_type": "stream",
     "text": [
      "Iteration = 53, loop time = 24.821771, time elapsed = 1287.417015\n"
     ]
    },
    {
     "name": "stderr",
     "output_type": "stream",
     "text": [
      "Average Loss = 590.73: 100%|██████████████████████████████████████████████████████| 2000/2000 [00:08<00:00, 240.46it/s]\n"
     ]
    },
    {
     "name": "stdout",
     "output_type": "stream",
     "text": [
      "Iteration = 54, loop time = 23.975018, time elapsed = 1311.393033\n"
     ]
    },
    {
     "name": "stderr",
     "output_type": "stream",
     "text": [
      "Average Loss = 592.96: 100%|██████████████████████████████████████████████████████| 2000/2000 [00:08<00:00, 237.07it/s]\n"
     ]
    },
    {
     "name": "stdout",
     "output_type": "stream",
     "text": [
      "Iteration = 55, loop time = 23.796402, time elapsed = 1335.190436\n"
     ]
    },
    {
     "name": "stderr",
     "output_type": "stream",
     "text": [
      "Average Loss = 596.07: 100%|██████████████████████████████████████████████████████| 2000/2000 [00:08<00:00, 242.09it/s]\n"
     ]
    },
    {
     "name": "stdout",
     "output_type": "stream",
     "text": [
      "Iteration = 56, loop time = 23.578446, time elapsed = 1358.769882\n"
     ]
    },
    {
     "name": "stderr",
     "output_type": "stream",
     "text": [
      "Average Loss = 594.69: 100%|██████████████████████████████████████████████████████| 2000/2000 [00:08<00:00, 241.34it/s]\n"
     ]
    },
    {
     "name": "stdout",
     "output_type": "stream",
     "text": [
      "Iteration = 57, loop time = 23.858215, time elapsed = 1382.629098\n"
     ]
    },
    {
     "name": "stderr",
     "output_type": "stream",
     "text": [
      "Average Loss = 598.93: 100%|██████████████████████████████████████████████████████| 2000/2000 [00:08<00:00, 242.39it/s]\n"
     ]
    },
    {
     "name": "stdout",
     "output_type": "stream",
     "text": [
      "Iteration = 58, loop time = 22.780378, time elapsed = 1405.410477\n"
     ]
    },
    {
     "name": "stderr",
     "output_type": "stream",
     "text": [
      "Average Loss = 588.7: 100%|███████████████████████████████████████████████████████| 2000/2000 [00:08<00:00, 235.88it/s]\n"
     ]
    },
    {
     "name": "stdout",
     "output_type": "stream",
     "text": [
      "Iteration = 59, loop time = 23.893321, time elapsed = 1429.304800\n"
     ]
    },
    {
     "name": "stderr",
     "output_type": "stream",
     "text": [
      "Average Loss = 598.79: 100%|██████████████████████████████████████████████████████| 2000/2000 [00:09<00:00, 216.36it/s]\n"
     ]
    },
    {
     "name": "stdout",
     "output_type": "stream",
     "text": [
      "Iteration = 60, loop time = 24.589007, time elapsed = 1453.894807\n"
     ]
    },
    {
     "name": "stderr",
     "output_type": "stream",
     "text": [
      "Average Loss = 595.64: 100%|██████████████████████████████████████████████████████| 2000/2000 [00:08<00:00, 233.60it/s]\n"
     ]
    },
    {
     "name": "stdout",
     "output_type": "stream",
     "text": [
      "Iteration = 61, loop time = 24.438419, time elapsed = 1478.334227\n"
     ]
    },
    {
     "name": "stderr",
     "output_type": "stream",
     "text": [
      "Average Loss = 592.8: 100%|███████████████████████████████████████████████████████| 2000/2000 [00:08<00:00, 235.41it/s]\n"
     ]
    },
    {
     "name": "stdout",
     "output_type": "stream",
     "text": [
      "Iteration = 62, loop time = 25.092806, time elapsed = 1503.428034\n"
     ]
    },
    {
     "name": "stderr",
     "output_type": "stream",
     "text": [
      "Average Loss = 589.92: 100%|██████████████████████████████████████████████████████| 2000/2000 [00:08<00:00, 233.76it/s]\n"
     ]
    },
    {
     "name": "stdout",
     "output_type": "stream",
     "text": [
      "Iteration = 63, loop time = 24.823351, time elapsed = 1528.252387\n"
     ]
    },
    {
     "name": "stderr",
     "output_type": "stream",
     "text": [
      "Average Loss = 594.48: 100%|██████████████████████████████████████████████████████| 2000/2000 [00:08<00:00, 236.67it/s]\n"
     ]
    },
    {
     "name": "stdout",
     "output_type": "stream",
     "text": [
      "Iteration = 64, loop time = 25.397907, time elapsed = 1553.650294\n"
     ]
    },
    {
     "name": "stderr",
     "output_type": "stream",
     "text": [
      "Average Loss = 595.45: 100%|██████████████████████████████████████████████████████| 2000/2000 [00:08<00:00, 238.67it/s]\n"
     ]
    },
    {
     "name": "stdout",
     "output_type": "stream",
     "text": [
      "Iteration = 65, loop time = 23.535929, time elapsed = 1577.186223\n"
     ]
    },
    {
     "name": "stderr",
     "output_type": "stream",
     "text": [
      "Average Loss = 596.77: 100%|██████████████████████████████████████████████████████| 2000/2000 [00:08<00:00, 237.33it/s]\n"
     ]
    },
    {
     "name": "stdout",
     "output_type": "stream",
     "text": [
      "Iteration = 66, loop time = 23.135696, time elapsed = 1600.322919\n"
     ]
    },
    {
     "name": "stderr",
     "output_type": "stream",
     "text": [
      "Average Loss = 596.73: 100%|██████████████████████████████████████████████████████| 2000/2000 [00:08<00:00, 236.21it/s]\n"
     ]
    },
    {
     "name": "stdout",
     "output_type": "stream",
     "text": [
      "Iteration = 67, loop time = 23.989312, time elapsed = 1624.313218\n"
     ]
    },
    {
     "name": "stderr",
     "output_type": "stream",
     "text": [
      "Average Loss = 593.97: 100%|██████████████████████████████████████████████████████| 2000/2000 [00:09<00:00, 217.87it/s]\n"
     ]
    },
    {
     "name": "stdout",
     "output_type": "stream",
     "text": [
      "Iteration = 68, loop time = 24.453853, time elapsed = 1648.768072\n"
     ]
    },
    {
     "name": "stderr",
     "output_type": "stream",
     "text": [
      "Average Loss = 594.8: 100%|███████████████████████████████████████████████████████| 2000/2000 [00:08<00:00, 239.13it/s]\n"
     ]
    },
    {
     "name": "stdout",
     "output_type": "stream",
     "text": [
      "Iteration = 69, loop time = 23.525918, time elapsed = 1672.294990\n"
     ]
    },
    {
     "name": "stderr",
     "output_type": "stream",
     "text": [
      "Average Loss = 596.27: 100%|██████████████████████████████████████████████████████| 2000/2000 [00:08<00:00, 237.48it/s]\n"
     ]
    },
    {
     "name": "stdout",
     "output_type": "stream",
     "text": [
      "Iteration = 70, loop time = 23.786667, time elapsed = 1696.081657\n"
     ]
    },
    {
     "name": "stderr",
     "output_type": "stream",
     "text": [
      "Average Loss = 589.83: 100%|██████████████████████████████████████████████████████| 2000/2000 [00:08<00:00, 238.90it/s]\n"
     ]
    },
    {
     "name": "stdout",
     "output_type": "stream",
     "text": [
      "Iteration = 71, loop time = 23.667655, time elapsed = 1719.751317\n"
     ]
    },
    {
     "name": "stderr",
     "output_type": "stream",
     "text": [
      "Average Loss = 592.26: 100%|██████████████████████████████████████████████████████| 2000/2000 [00:08<00:00, 239.02it/s]\n"
     ]
    },
    {
     "name": "stdout",
     "output_type": "stream",
     "text": [
      "Iteration = 72, loop time = 23.325209, time elapsed = 1743.077514\n"
     ]
    },
    {
     "name": "stderr",
     "output_type": "stream",
     "text": [
      "Average Loss = 604.27: 100%|██████████████████████████████████████████████████████| 2000/2000 [00:08<00:00, 235.50it/s]\n"
     ]
    },
    {
     "name": "stdout",
     "output_type": "stream",
     "text": [
      "Iteration = 73, loop time = 24.521297, time elapsed = 1767.599813\n"
     ]
    },
    {
     "name": "stderr",
     "output_type": "stream",
     "text": [
      "Average Loss = 593.36: 100%|██████████████████████████████████████████████████████| 2000/2000 [00:08<00:00, 236.39it/s]\n"
     ]
    },
    {
     "name": "stdout",
     "output_type": "stream",
     "text": [
      "Iteration = 74, loop time = 25.677627, time elapsed = 1793.278441\n"
     ]
    },
    {
     "name": "stderr",
     "output_type": "stream",
     "text": [
      "Average Loss = 599.66: 100%|██████████████████████████████████████████████████████| 2000/2000 [00:08<00:00, 236.92it/s]\n"
     ]
    },
    {
     "name": "stdout",
     "output_type": "stream",
     "text": [
      "Iteration = 75, loop time = 25.154874, time elapsed = 1818.434316\n"
     ]
    },
    {
     "name": "stderr",
     "output_type": "stream",
     "text": [
      "Average Loss = 589.96: 100%|██████████████████████████████████████████████████████| 2000/2000 [00:08<00:00, 236.93it/s]\n"
     ]
    },
    {
     "name": "stdout",
     "output_type": "stream",
     "text": [
      "Iteration = 76, loop time = 25.153224, time elapsed = 1843.588541\n"
     ]
    },
    {
     "name": "stderr",
     "output_type": "stream",
     "text": [
      "Average Loss = 619.12: 100%|██████████████████████████████████████████████████████| 2000/2000 [00:09<00:00, 218.55it/s]\n"
     ]
    },
    {
     "name": "stdout",
     "output_type": "stream",
     "text": [
      "Iteration = 77, loop time = 25.525987, time elapsed = 1869.115528\n"
     ]
    },
    {
     "name": "stderr",
     "output_type": "stream",
     "text": [
      "Average Loss = 596.66: 100%|██████████████████████████████████████████████████████| 2000/2000 [00:08<00:00, 230.30it/s]\n"
     ]
    },
    {
     "name": "stdout",
     "output_type": "stream",
     "text": [
      "Iteration = 78, loop time = 24.452109, time elapsed = 1893.568638\n"
     ]
    },
    {
     "name": "stderr",
     "output_type": "stream",
     "text": [
      "Average Loss = 598.95: 100%|██████████████████████████████████████████████████████| 2000/2000 [00:08<00:00, 239.36it/s]\n"
     ]
    },
    {
     "name": "stdout",
     "output_type": "stream",
     "text": [
      "Iteration = 79, loop time = 23.253890, time elapsed = 1916.823529\n"
     ]
    },
    {
     "name": "stderr",
     "output_type": "stream",
     "text": [
      "Average Loss = 600.51: 100%|██████████████████████████████████████████████████████| 2000/2000 [00:08<00:00, 238.15it/s]\n"
     ]
    },
    {
     "name": "stdout",
     "output_type": "stream",
     "text": [
      "Iteration = 80, loop time = 24.158689, time elapsed = 1940.982218\n"
     ]
    },
    {
     "name": "stderr",
     "output_type": "stream",
     "text": [
      "Average Loss = 600.54: 100%|██████████████████████████████████████████████████████| 2000/2000 [00:08<00:00, 237.85it/s]\n"
     ]
    },
    {
     "name": "stdout",
     "output_type": "stream",
     "text": [
      "Iteration = 81, loop time = 23.498357, time elapsed = 1964.481577\n"
     ]
    },
    {
     "name": "stderr",
     "output_type": "stream",
     "text": [
      "Average Loss = 594: 100%|█████████████████████████████████████████████████████████| 2000/2000 [00:08<00:00, 232.59it/s]\n"
     ]
    },
    {
     "name": "stdout",
     "output_type": "stream",
     "text": [
      "Iteration = 82, loop time = 24.341232, time elapsed = 1988.823810\n"
     ]
    },
    {
     "name": "stderr",
     "output_type": "stream",
     "text": [
      "Average Loss = 590.43: 100%|██████████████████████████████████████████████████████| 2000/2000 [00:08<00:00, 234.06it/s]\n"
     ]
    },
    {
     "name": "stdout",
     "output_type": "stream",
     "text": [
      "Iteration = 83, loop time = 24.467416, time elapsed = 2013.292228\n"
     ]
    },
    {
     "name": "stderr",
     "output_type": "stream",
     "text": [
      "Average Loss = 594.82: 100%|██████████████████████████████████████████████████████| 2000/2000 [00:08<00:00, 234.69it/s]\n"
     ]
    },
    {
     "name": "stdout",
     "output_type": "stream",
     "text": [
      "Iteration = 84, loop time = 23.162758, time elapsed = 2036.455986\n"
     ]
    },
    {
     "name": "stderr",
     "output_type": "stream",
     "text": [
      "Average Loss = 596.81: 100%|██████████████████████████████████████████████████████| 2000/2000 [00:08<00:00, 234.28it/s]\n"
     ]
    },
    {
     "name": "stdout",
     "output_type": "stream",
     "text": [
      "Iteration = 85, loop time = 24.267068, time elapsed = 2060.724054\n"
     ]
    },
    {
     "name": "stderr",
     "output_type": "stream",
     "text": [
      "Average Loss = 590.91: 100%|██████████████████████████████████████████████████████| 2000/2000 [00:08<00:00, 235.14it/s]\n"
     ]
    },
    {
     "name": "stdout",
     "output_type": "stream",
     "text": [
      "Iteration = 86, loop time = 24.848224, time elapsed = 2085.573278\n"
     ]
    },
    {
     "name": "stderr",
     "output_type": "stream",
     "text": [
      "Average Loss = 621.72: 100%|██████████████████████████████████████████████████████| 2000/2000 [00:08<00:00, 234.61it/s]\n"
     ]
    },
    {
     "name": "stdout",
     "output_type": "stream",
     "text": [
      "Iteration = 87, loop time = 23.708672, time elapsed = 2109.282946\n"
     ]
    },
    {
     "name": "stderr",
     "output_type": "stream",
     "text": [
      "Average Loss = 598.73: 100%|██████████████████████████████████████████████████████| 2000/2000 [00:08<00:00, 234.91it/s]\n"
     ]
    },
    {
     "name": "stdout",
     "output_type": "stream",
     "text": [
      "Iteration = 88, loop time = 23.930122, time elapsed = 2133.214070\n"
     ]
    },
    {
     "name": "stderr",
     "output_type": "stream",
     "text": [
      "Average Loss = 592.23: 100%|██████████████████████████████████████████████████████| 2000/2000 [00:08<00:00, 235.27it/s]\n"
     ]
    },
    {
     "name": "stdout",
     "output_type": "stream",
     "text": [
      "Iteration = 89, loop time = 24.430039, time elapsed = 2157.645110\n"
     ]
    },
    {
     "name": "stderr",
     "output_type": "stream",
     "text": [
      "Average Loss = 587.76: 100%|██████████████████████████████████████████████████████| 2000/2000 [00:08<00:00, 233.62it/s]\n"
     ]
    },
    {
     "name": "stdout",
     "output_type": "stream",
     "text": [
      "Iteration = 90, loop time = 24.313668, time elapsed = 2181.959777\n"
     ]
    },
    {
     "name": "stderr",
     "output_type": "stream",
     "text": [
      "Average Loss = 592.61: 100%|██████████████████████████████████████████████████████| 2000/2000 [00:09<00:00, 218.57it/s]\n"
     ]
    },
    {
     "name": "stdout",
     "output_type": "stream",
     "text": [
      "Iteration = 91, loop time = 24.356999, time elapsed = 2206.317777\n"
     ]
    },
    {
     "name": "stderr",
     "output_type": "stream",
     "text": [
      "Average Loss = 598.14: 100%|██████████████████████████████████████████████████████| 2000/2000 [00:08<00:00, 234.20it/s]\n"
     ]
    },
    {
     "name": "stdout",
     "output_type": "stream",
     "text": [
      "Iteration = 92, loop time = 23.709445, time elapsed = 2230.027222\n"
     ]
    },
    {
     "name": "stderr",
     "output_type": "stream",
     "text": [
      "Average Loss = 589.11: 100%|██████████████████████████████████████████████████████| 2000/2000 [00:08<00:00, 233.62it/s]\n"
     ]
    },
    {
     "name": "stdout",
     "output_type": "stream",
     "text": [
      "Iteration = 93, loop time = 24.033139, time elapsed = 2254.061363\n"
     ]
    },
    {
     "name": "stderr",
     "output_type": "stream",
     "text": [
      "Average Loss = 596.37: 100%|██████████████████████████████████████████████████████| 2000/2000 [00:08<00:00, 237.45it/s]\n"
     ]
    },
    {
     "name": "stdout",
     "output_type": "stream",
     "text": [
      "Iteration = 94, loop time = 24.944175, time elapsed = 2279.006538\n"
     ]
    },
    {
     "name": "stderr",
     "output_type": "stream",
     "text": [
      "Average Loss = 591.85: 100%|██████████████████████████████████████████████████████| 2000/2000 [00:09<00:00, 209.71it/s]\n"
     ]
    },
    {
     "name": "stdout",
     "output_type": "stream",
     "text": [
      "Iteration = 95, loop time = 26.546484, time elapsed = 2305.554023\n"
     ]
    },
    {
     "name": "stderr",
     "output_type": "stream",
     "text": [
      "Average Loss = 598.57: 100%|██████████████████████████████████████████████████████| 2000/2000 [00:08<00:00, 233.41it/s]\n"
     ]
    },
    {
     "name": "stdout",
     "output_type": "stream",
     "text": [
      "Iteration = 96, loop time = 23.701294, time elapsed = 2329.256318\n"
     ]
    },
    {
     "name": "stderr",
     "output_type": "stream",
     "text": [
      "Average Loss = 597.44: 100%|██████████████████████████████████████████████████████| 2000/2000 [00:08<00:00, 232.48it/s]\n"
     ]
    },
    {
     "name": "stdout",
     "output_type": "stream",
     "text": [
      "Iteration = 97, loop time = 23.914192, time elapsed = 2353.171510\n"
     ]
    },
    {
     "name": "stderr",
     "output_type": "stream",
     "text": [
      "Average Loss = 604.81: 100%|██████████████████████████████████████████████████████| 2000/2000 [00:08<00:00, 236.36it/s]\n"
     ]
    },
    {
     "name": "stdout",
     "output_type": "stream",
     "text": [
      "Iteration = 98, loop time = 23.214414, time elapsed = 2376.386925\n"
     ]
    },
    {
     "name": "stderr",
     "output_type": "stream",
     "text": [
      "Average Loss = 604.39: 100%|██████████████████████████████████████████████████████| 2000/2000 [00:08<00:00, 233.43it/s]\n"
     ]
    },
    {
     "name": "stdout",
     "output_type": "stream",
     "text": [
      "Iteration = 99, loop time = 24.168989, time elapsed = 2400.556902\n",
      "Total time taken: 2400.557902\n"
     ]
    }
   ],
   "source": [
    "start = time.time()\n",
    "for i in range(M):\n",
    "    start_loop = time.time()\n",
    "    \n",
    "    # sample from prior\n",
    "    btemp = np.random.randn(1, D)\n",
    "    mtemp = np.dot(x.values, np.transpose(btemp))\n",
    "    stemp = np.random.gamma(.5, .5, 1)\n",
    "    ytemp = mtemp + stemp\n",
    "    \n",
    "    datatemp = dict(N=N, D=D, x=x, y=y)\n",
    "    fittemp = regression_model.sampling(data=datatemp, iter=20000, thin=20, chains=10)\n",
    "    stan_log_density_temp = make_stan_log_density(fittemp)\n",
    "    \n",
    "    klvi_objective_and_grad_temp = black_box_klvi(mf_gaussian_var_family, stan_log_density_temp, 100)\n",
    "    \n",
    "    # run klvi\n",
    "    klvi_temp_var_param, _, _, _ = \\\n",
    "        adagrad_optimize(n_iters, klvi_objective_and_grad_temp, init_var_param, learning_rate=.01)\n",
    "    \n",
    "    # extract beta mean and std\n",
    "    b_mean_temp = klvi_temp_var_param[:D]\n",
    "    b_std_temp = np.exp(klvi_temp_var_param[D+1:][0:D])\n",
    "    \n",
    "    # generate 1000 sample from the variational family\n",
    "    nn = 1000\n",
    "    sample_temp = mf_gaussian_var_family.sample(klvi_temp_var_param, nn)\n",
    "    \n",
    "    # compute log sigma of the samples\n",
    "    logs_sample_temp = []\n",
    "    for j in range(nn):\n",
    "        logs_sample_temp.append(sample_temp[j][-1])\n",
    "    logs_sample_temp = np.array(logs_sample_temp)\n",
    "    logs_sample_temp = np.log(logs_sample_temp)\n",
    "    \n",
    "    # get the cdf values\n",
    "    klvi_probs[0:D, i] = norm.cdf(btemp, b_mean_temp[0:D], b_std_temp[0:D])\n",
    "    klvi_probs[D, i] = norm.cdf(np.log(stemp), np.mean(logs_sample_temp), np.std(logs_sample_temp))\n",
    "    \n",
    "    end_loop = time.time()\n",
    "    print(\"Iteration = %i, loop time = %f, time elapsed = %f\" % (i, end_loop-start_loop, end_loop-start))\n",
    "    \n",
    "end = time.time()\n",
    "print(\"Total time taken: %f\" % (end-start))"
   ]
  },
  {
   "cell_type": "code",
   "execution_count": 29,
   "metadata": {},
   "outputs": [
    {
     "data": {
      "image/png": "[encoded data removed]",
      "text/plain": [
       "<Figure size 432x288 with 1 Axes>"
      ]
     },
     "metadata": {
      "needs_background": "light"
     },
     "output_type": "display_data"
    }
   ],
   "source": [
    "plt.hist(klvi_probs[1,:], bins=10, density=True, range=(0,1))\n",
    "plt.show()"
   ]
  },
  {
   "cell_type": "code",
   "execution_count": 30,
   "metadata": {},
   "outputs": [
    {
     "data": {
      "image/png": "[encoded data removed]",
      "text/plain": [
       "<Figure size 432x288 with 1 Axes>"
      ]
     },
     "metadata": {
      "needs_background": "light"
     },
     "output_type": "display_data"
    }
   ],
   "source": [
    "plt.hist(klvi_probs[10,:], bins=10, density=True, range=(0,1))\n",
    "plt.show()"
   ]
  },
  {
   "cell_type": "code",
   "execution_count": 31,
   "metadata": {},
   "outputs": [
    {
     "data": {
      "image/png": "[encoded data removed]",
      "text/plain": [
       "<Figure size 432x288 with 1 Axes>"
      ]
     },
     "metadata": {
      "needs_background": "light"
     },
     "output_type": "display_data"
    }
   ],
   "source": [
    "plt.hist(klvi_probs[D,:], bins=10, density=True, range=(0,1))\n",
    "plt.show()"
   ]
  },
  {
   "cell_type": "code",
   "execution_count": 32,
   "metadata": {},
   "outputs": [],
   "source": [
    "np.savetxt(\"klvi_probs.csv\", klvi_probs, delimiter=\",\")"
   ]
  },
  {
   "cell_type": "markdown",
   "metadata": {},
   "source": [
    "## CHIVI Mean field with Gaussian"
   ]
  },
  {
   "cell_type": "code",
   "execution_count": 33,
   "metadata": {},
   "outputs": [
    {
     "name": "stderr",
     "output_type": "stream",
     "text": [
      "Average Loss = -511.49: 100%|██████████████████████████████████████████████████████| 2000/2000 [00:25<00:00, 76.96it/s]\n"
     ]
    }
   ],
   "source": [
    "mf_gaussian_var_family = mean_field_gaussian_variational_family(D+1)\n",
    "chivi_objective_and_grad = black_box_chivi(2, mf_gaussian_var_family, stan_log_density, 200)\n",
    "\n",
    "init_var_param = klvi_var_param.copy()\n",
    "chivi_var_param, chivi_param_history, chivi_history, _ = \\\n",
    "    adagrad_optimize(n_iters, chivi_objective_and_grad, init_var_param, learning_rate=5e-4)"
   ]
  },
  {
   "cell_type": "code",
   "execution_count": 34,
   "metadata": {},
   "outputs": [],
   "source": [
    "#plot_dist_to_opt_param(chivi_param_history, chivi_var_param)"
   ]
  },
  {
   "cell_type": "code",
   "execution_count": 35,
   "metadata": {},
   "outputs": [
    {
     "name": "stdout",
     "output_type": "stream",
     "text": [
      "mean   = [ 0.03044159 -0.11687745 -0.07357778 -0.49682534 -0.00692061  0.91256134\n",
      " -0.16779815  0.23072036 -0.0078093   0.11245042  0.16479693  0.38969709\n",
      " -1.17149286  1.66033655]\n",
      "stdevs = [0.03120034 0.02639278 0.07908384 0.13149316 0.0508677  0.0441246\n",
      " 0.05824157 0.06983455 0.13381767 0.17625355 0.10976294 0.14985301\n",
      " 0.3013912  0.04522025]\n",
      "\n",
      "mean error             = 2.64\n",
      "stdev error            = 0.302\n",
      "||cov error||_2^{1/2}  = 0.368\n",
      "||true cov||_2^{1/2}   = 0.47\n"
     ]
    }
   ],
   "source": [
    "check_approx_accuracy(mf_gaussian_var_family, chivi_var_param, true_mean, true_cov, verbose=True);"
   ]
  },
  {
   "cell_type": "code",
   "execution_count": 36,
   "metadata": {},
   "outputs": [],
   "source": [
    "chivi_samples, chivi_slw, chivi_khat = psis_correction(stan_log_density, mf_gaussian_var_family, chivi_var_param, mc_samples)"
   ]
  },
  {
   "cell_type": "code",
   "execution_count": 37,
   "metadata": {},
   "outputs": [
    {
     "name": "stdout",
     "output_type": "stream",
     "text": [
      "1.6090683458626454\n"
     ]
    }
   ],
   "source": [
    "print(chivi_khat)"
   ]
  },
  {
   "cell_type": "code",
   "execution_count": 38,
   "metadata": {},
   "outputs": [
    {
     "data": {
      "text/plain": [
       "array([-26.05411823, -22.38712062, -15.43665071, ..., -35.60389068,\n",
       "       -40.10695417, -52.21119045])"
      ]
     },
     "execution_count": 38,
     "metadata": {},
     "output_type": "execute_result"
    }
   ],
   "source": [
    "chivi_slw"
   ]
  },
  {
   "cell_type": "markdown",
   "metadata": {},
   "source": [
    "### VSBC diagnostics"
   ]
  },
  {
   "cell_type": "code",
   "execution_count": 39,
   "metadata": {},
   "outputs": [],
   "source": [
    "M = 100\n",
    "chivi_probs = np.zeros(shape=(D+1, M))"
   ]
  },
  {
   "cell_type": "code",
   "execution_count": 40,
   "metadata": {
    "scrolled": true
   },
   "outputs": [
    {
     "name": "stderr",
     "output_type": "stream",
     "text": [
      "Average Loss = -514.86: 100%|██████████████████████████████████████████████████████| 2000/2000 [00:26<00:00, 75.97it/s]\n"
     ]
    },
    {
     "name": "stdout",
     "output_type": "stream",
     "text": [
      "Iteration = 0, loop time = 42.288879, time elapsed = 42.288879\n"
     ]
    },
    {
     "name": "stderr",
     "output_type": "stream",
     "text": [
      "Average Loss = -513.17: 100%|██████████████████████████████████████████████████████| 2000/2000 [00:26<00:00, 76.22it/s]\n"
     ]
    },
    {
     "name": "stdout",
     "output_type": "stream",
     "text": [
      "Iteration = 1, loop time = 41.769654, time elapsed = 84.059534\n"
     ]
    },
    {
     "name": "stderr",
     "output_type": "stream",
     "text": [
      "Average Loss = -511.88: 100%|██████████████████████████████████████████████████████| 2000/2000 [00:25<00:00, 77.65it/s]\n"
     ]
    },
    {
     "name": "stdout",
     "output_type": "stream",
     "text": [
      "Iteration = 2, loop time = 40.414646, time elapsed = 124.476182\n"
     ]
    },
    {
     "name": "stderr",
     "output_type": "stream",
     "text": [
      "Average Loss = -513.44: 100%|██████████████████████████████████████████████████████| 2000/2000 [00:26<00:00, 75.66it/s]\n"
     ]
    },
    {
     "name": "stdout",
     "output_type": "stream",
     "text": [
      "Iteration = 3, loop time = 41.488414, time elapsed = 165.966598\n"
     ]
    },
    {
     "name": "stderr",
     "output_type": "stream",
     "text": [
      "Average Loss = -513.45: 100%|██████████████████████████████████████████████████████| 2000/2000 [00:26<00:00, 76.20it/s]\n"
     ]
    },
    {
     "name": "stdout",
     "output_type": "stream",
     "text": [
      "Iteration = 4, loop time = 41.642376, time elapsed = 207.609976\n"
     ]
    },
    {
     "name": "stderr",
     "output_type": "stream",
     "text": [
      "Average Loss = -516.37: 100%|██████████████████████████████████████████████████████| 2000/2000 [00:25<00:00, 77.29it/s]\n"
     ]
    },
    {
     "name": "stdout",
     "output_type": "stream",
     "text": [
      "Iteration = 5, loop time = 40.717673, time elapsed = 248.328650\n"
     ]
    },
    {
     "name": "stderr",
     "output_type": "stream",
     "text": [
      "Average Loss = -512.8: 100%|███████████████████████████████████████████████████████| 2000/2000 [00:26<00:00, 76.15it/s]\n"
     ]
    },
    {
     "name": "stdout",
     "output_type": "stream",
     "text": [
      "Iteration = 6, loop time = 40.998460, time elapsed = 289.328110\n"
     ]
    },
    {
     "name": "stderr",
     "output_type": "stream",
     "text": [
      "Average Loss = -512.39: 100%|██████████████████████████████████████████████████████| 2000/2000 [00:25<00:00, 78.07it/s]\n"
     ]
    },
    {
     "name": "stdout",
     "output_type": "stream",
     "text": [
      "Iteration = 7, loop time = 40.681664, time elapsed = 330.010775\n"
     ]
    },
    {
     "name": "stderr",
     "output_type": "stream",
     "text": [
      "Average Loss = -512.95: 100%|██████████████████████████████████████████████████████| 2000/2000 [00:25<00:00, 82.13it/s]\n"
     ]
    },
    {
     "name": "stdout",
     "output_type": "stream",
     "text": [
      "Iteration = 8, loop time = 41.395926, time elapsed = 371.407702\n"
     ]
    },
    {
     "name": "stderr",
     "output_type": "stream",
     "text": [
      "Average Loss = -516.2: 100%|███████████████████████████████████████████████████████| 2000/2000 [00:25<00:00, 77.42it/s]\n"
     ]
    },
    {
     "name": "stdout",
     "output_type": "stream",
     "text": [
      "Iteration = 9, loop time = 41.169204, time elapsed = 412.577908\n"
     ]
    },
    {
     "name": "stderr",
     "output_type": "stream",
     "text": [
      "Average Loss = -512.57: 100%|██████████████████████████████████████████████████████| 2000/2000 [00:25<00:00, 77.42it/s]\n"
     ]
    },
    {
     "name": "stdout",
     "output_type": "stream",
     "text": [
      "Iteration = 10, loop time = 40.855707, time elapsed = 453.434616\n"
     ]
    },
    {
     "name": "stderr",
     "output_type": "stream",
     "text": [
      "Average Loss = -514.02: 100%|██████████████████████████████████████████████████████| 2000/2000 [00:25<00:00, 77.36it/s]\n"
     ]
    },
    {
     "name": "stdout",
     "output_type": "stream",
     "text": [
      "Iteration = 11, loop time = 40.933700, time elapsed = 494.369317\n"
     ]
    },
    {
     "name": "stderr",
     "output_type": "stream",
     "text": [
      "Average Loss = -513.46: 100%|██████████████████████████████████████████████████████| 2000/2000 [00:27<00:00, 71.84it/s]\n"
     ]
    },
    {
     "name": "stdout",
     "output_type": "stream",
     "text": [
      "Iteration = 12, loop time = 42.650824, time elapsed = 537.021141\n"
     ]
    },
    {
     "name": "stderr",
     "output_type": "stream",
     "text": [
      "Average Loss = -512.12: 100%|██████████████████████████████████████████████████████| 2000/2000 [00:27<00:00, 72.23it/s]\n"
     ]
    },
    {
     "name": "stdout",
     "output_type": "stream",
     "text": [
      "Iteration = 13, loop time = 43.596812, time elapsed = 580.618954\n"
     ]
    },
    {
     "name": "stderr",
     "output_type": "stream",
     "text": [
      "Average Loss = -513.12: 100%|██████████████████████████████████████████████████████| 2000/2000 [00:27<00:00, 72.86it/s]\n"
     ]
    },
    {
     "name": "stdout",
     "output_type": "stream",
     "text": [
      "Iteration = 14, loop time = 43.178504, time elapsed = 623.798459\n"
     ]
    },
    {
     "name": "stderr",
     "output_type": "stream",
     "text": [
      "Average Loss = -512.49: 100%|██████████████████████████████████████████████████████| 2000/2000 [00:28<00:00, 70.70it/s]\n"
     ]
    },
    {
     "name": "stdout",
     "output_type": "stream",
     "text": [
      "Iteration = 15, loop time = 44.685513, time elapsed = 668.484973\n"
     ]
    },
    {
     "name": "stderr",
     "output_type": "stream",
     "text": [
      "Average Loss = -513.47: 100%|██████████████████████████████████████████████████████| 2000/2000 [00:29<00:00, 67.98it/s]\n"
     ]
    },
    {
     "name": "stdout",
     "output_type": "stream",
     "text": [
      "Iteration = 16, loop time = 45.809855, time elapsed = 714.295830\n"
     ]
    },
    {
     "name": "stderr",
     "output_type": "stream",
     "text": [
      "Average Loss = -513.03: 100%|██████████████████████████████████████████████████████| 2000/2000 [00:26<00:00, 74.54it/s]\n"
     ]
    },
    {
     "name": "stdout",
     "output_type": "stream",
     "text": [
      "Iteration = 17, loop time = 42.900492, time elapsed = 757.197324\n"
     ]
    },
    {
     "name": "stderr",
     "output_type": "stream",
     "text": [
      "Average Loss = -513.52: 100%|██████████████████████████████████████████████████████| 2000/2000 [00:27<00:00, 73.07it/s]\n"
     ]
    },
    {
     "name": "stdout",
     "output_type": "stream",
     "text": [
      "Iteration = 18, loop time = 43.622664, time elapsed = 800.820989\n"
     ]
    },
    {
     "name": "stderr",
     "output_type": "stream",
     "text": [
      "Average Loss = -518.68: 100%|██████████████████████████████████████████████████████| 2000/2000 [00:28<00:00, 70.28it/s]\n"
     ]
    },
    {
     "name": "stdout",
     "output_type": "stream",
     "text": [
      "Iteration = 19, loop time = 46.472282, time elapsed = 847.294242\n"
     ]
    },
    {
     "name": "stderr",
     "output_type": "stream",
     "text": [
      "Average Loss = -514.24: 100%|██████████████████████████████████████████████████████| 2000/2000 [00:27<00:00, 79.75it/s]\n"
     ]
    },
    {
     "name": "stdout",
     "output_type": "stream",
     "text": [
      "Iteration = 20, loop time = 44.214242, time elapsed = 891.509485\n"
     ]
    },
    {
     "name": "stderr",
     "output_type": "stream",
     "text": [
      "Average Loss = -512.49: 100%|██████████████████████████████████████████████████████| 2000/2000 [00:26<00:00, 77.69it/s]\n"
     ]
    },
    {
     "name": "stdout",
     "output_type": "stream",
     "text": [
      "Iteration = 21, loop time = 42.548860, time elapsed = 934.059345\n"
     ]
    },
    {
     "name": "stderr",
     "output_type": "stream",
     "text": [
      "Average Loss = -513.23: 100%|██████████████████████████████████████████████████████| 2000/2000 [00:30<00:00, 66.96it/s]\n"
     ]
    },
    {
     "name": "stdout",
     "output_type": "stream",
     "text": [
      "Iteration = 22, loop time = 45.887691, time elapsed = 979.948038\n"
     ]
    },
    {
     "name": "stderr",
     "output_type": "stream",
     "text": [
      "Average Loss = -513.05: 100%|██████████████████████████████████████████████████████| 2000/2000 [00:28<00:00, 71.29it/s]\n"
     ]
    },
    {
     "name": "stdout",
     "output_type": "stream",
     "text": [
      "Iteration = 23, loop time = 43.475232, time elapsed = 1023.424270\n"
     ]
    },
    {
     "name": "stderr",
     "output_type": "stream",
     "text": [
      "Average Loss = -514.39: 100%|██████████████████████████████████████████████████████| 2000/2000 [00:26<00:00, 74.32it/s]\n"
     ]
    },
    {
     "name": "stdout",
     "output_type": "stream",
     "text": [
      "Iteration = 24, loop time = 43.529880, time elapsed = 1066.955151\n"
     ]
    },
    {
     "name": "stderr",
     "output_type": "stream",
     "text": [
      "Average Loss = -513.25: 100%|██████████████████████████████████████████████████████| 2000/2000 [00:27<00:00, 70.79it/s]\n"
     ]
    },
    {
     "name": "stdout",
     "output_type": "stream",
     "text": [
      "Iteration = 25, loop time = 44.619909, time elapsed = 1111.576061\n"
     ]
    },
    {
     "name": "stderr",
     "output_type": "stream",
     "text": [
      "Average Loss = -512.31: 100%|██████████████████████████████████████████████████████| 2000/2000 [00:27<00:00, 72.01it/s]\n"
     ]
    },
    {
     "name": "stdout",
     "output_type": "stream",
     "text": [
      "Iteration = 26, loop time = 44.731283, time elapsed = 1156.308346\n"
     ]
    },
    {
     "name": "stderr",
     "output_type": "stream",
     "text": [
      "Average Loss = -512.92: 100%|██████████████████████████████████████████████████████| 2000/2000 [00:27<00:00, 72.09it/s]\n"
     ]
    },
    {
     "name": "stdout",
     "output_type": "stream",
     "text": [
      "Iteration = 27, loop time = 44.486031, time elapsed = 1200.795378\n"
     ]
    },
    {
     "name": "stderr",
     "output_type": "stream",
     "text": [
      "Average Loss = -513.07: 100%|██████████████████████████████████████████████████████| 2000/2000 [00:27<00:00, 73.24it/s]\n"
     ]
    },
    {
     "name": "stdout",
     "output_type": "stream",
     "text": [
      "Iteration = 28, loop time = 44.463481, time elapsed = 1245.259861\n"
     ]
    },
    {
     "name": "stderr",
     "output_type": "stream",
     "text": [
      "Average Loss = -512.66: 100%|██████████████████████████████████████████████████████| 2000/2000 [00:26<00:00, 74.36it/s]\n"
     ]
    },
    {
     "name": "stdout",
     "output_type": "stream",
     "text": [
      "Iteration = 29, loop time = 43.509902, time elapsed = 1288.771765\n"
     ]
    },
    {
     "name": "stderr",
     "output_type": "stream",
     "text": [
      "Average Loss = -513.04: 100%|██████████████████████████████████████████████████████| 2000/2000 [00:29<00:00, 67.44it/s]\n"
     ]
    },
    {
     "name": "stdout",
     "output_type": "stream",
     "text": [
      "Iteration = 30, loop time = 46.381626, time elapsed = 1335.154392\n"
     ]
    },
    {
     "name": "stderr",
     "output_type": "stream",
     "text": [
      "Average Loss = -513.51: 100%|██████████████████████████████████████████████████████| 2000/2000 [00:27<00:00, 76.19it/s]\n"
     ]
    },
    {
     "name": "stdout",
     "output_type": "stream",
     "text": [
      "Iteration = 31, loop time = 44.404876, time elapsed = 1379.560269\n"
     ]
    },
    {
     "name": "stderr",
     "output_type": "stream",
     "text": [
      "Average Loss = -512.18: 100%|██████████████████████████████████████████████████████| 2000/2000 [00:25<00:00, 77.08it/s]\n"
     ]
    },
    {
     "name": "stdout",
     "output_type": "stream",
     "text": [
      "Iteration = 32, loop time = 41.636800, time elapsed = 1421.198069\n"
     ]
    },
    {
     "name": "stderr",
     "output_type": "stream",
     "text": [
      "Average Loss = -512.65: 100%|██████████████████████████████████████████████████████| 2000/2000 [00:25<00:00, 78.26it/s]\n"
     ]
    },
    {
     "name": "stdout",
     "output_type": "stream",
     "text": [
      "Iteration = 33, loop time = 40.709074, time elapsed = 1461.908144\n"
     ]
    },
    {
     "name": "stderr",
     "output_type": "stream",
     "text": [
      "Average Loss = -513.09: 100%|██████████████████████████████████████████████████████| 2000/2000 [00:25<00:00, 78.11it/s]\n"
     ]
    },
    {
     "name": "stdout",
     "output_type": "stream",
     "text": [
      "Iteration = 34, loop time = 40.484515, time elapsed = 1502.393661\n"
     ]
    },
    {
     "name": "stderr",
     "output_type": "stream",
     "text": [
      "Average Loss = -513.18: 100%|██████████████████████████████████████████████████████| 2000/2000 [00:25<00:00, 75.66it/s]\n"
     ]
    },
    {
     "name": "stdout",
     "output_type": "stream",
     "text": [
      "Iteration = 35, loop time = 40.036447, time elapsed = 1542.431108\n"
     ]
    },
    {
     "name": "stderr",
     "output_type": "stream",
     "text": [
      "Average Loss = -513.16: 100%|██████████████████████████████████████████████████████| 2000/2000 [00:27<00:00, 71.86it/s]\n"
     ]
    },
    {
     "name": "stdout",
     "output_type": "stream",
     "text": [
      "Iteration = 36, loop time = 42.256694, time elapsed = 1584.688804\n"
     ]
    },
    {
     "name": "stderr",
     "output_type": "stream",
     "text": [
      "Average Loss = -513.55: 100%|██████████████████████████████████████████████████████| 2000/2000 [00:26<00:00, 70.97it/s]\n"
     ]
    },
    {
     "name": "stdout",
     "output_type": "stream",
     "text": [
      "Iteration = 37, loop time = 42.120231, time elapsed = 1626.810037\n"
     ]
    },
    {
     "name": "stderr",
     "output_type": "stream",
     "text": [
      "Average Loss = -512.65: 100%|██████████████████████████████████████████████████████| 2000/2000 [00:25<00:00, 77.09it/s]\n"
     ]
    },
    {
     "name": "stdout",
     "output_type": "stream",
     "text": [
      "Iteration = 38, loop time = 41.698728, time elapsed = 1668.509765\n"
     ]
    },
    {
     "name": "stderr",
     "output_type": "stream",
     "text": [
      "Average Loss = -513.06: 100%|██████████████████████████████████████████████████████| 2000/2000 [00:26<00:00, 76.67it/s]\n"
     ]
    },
    {
     "name": "stdout",
     "output_type": "stream",
     "text": [
      "Iteration = 39, loop time = 41.767565, time elapsed = 1710.278331\n"
     ]
    },
    {
     "name": "stderr",
     "output_type": "stream",
     "text": [
      "Average Loss = -513.22: 100%|██████████████████████████████████████████████████████| 2000/2000 [00:25<00:00, 79.36it/s]\n"
     ]
    },
    {
     "name": "stdout",
     "output_type": "stream",
     "text": [
      "Iteration = 40, loop time = 40.943231, time elapsed = 1751.222563\n"
     ]
    },
    {
     "name": "stderr",
     "output_type": "stream",
     "text": [
      "Average Loss = -515.27: 100%|██████████████████████████████████████████████████████| 2000/2000 [00:25<00:00, 77.54it/s]\n"
     ]
    },
    {
     "name": "stdout",
     "output_type": "stream",
     "text": [
      "Iteration = 41, loop time = 40.826464, time elapsed = 1792.050029\n"
     ]
    },
    {
     "name": "stderr",
     "output_type": "stream",
     "text": [
      "Average Loss = -512.95: 100%|██████████████████████████████████████████████████████| 2000/2000 [00:25<00:00, 77.21it/s]\n"
     ]
    },
    {
     "name": "stdout",
     "output_type": "stream",
     "text": [
      "Iteration = 42, loop time = 40.698354, time elapsed = 1832.749384\n"
     ]
    },
    {
     "name": "stderr",
     "output_type": "stream",
     "text": [
      "Average Loss = -517.22: 100%|██████████████████████████████████████████████████████| 2000/2000 [00:25<00:00, 78.99it/s]\n"
     ]
    },
    {
     "name": "stdout",
     "output_type": "stream",
     "text": [
      "Iteration = 43, loop time = 40.166675, time elapsed = 1872.917060\n"
     ]
    },
    {
     "name": "stderr",
     "output_type": "stream",
     "text": [
      "Average Loss = -511.95: 100%|██████████████████████████████████████████████████████| 2000/2000 [00:25<00:00, 77.13it/s]\n"
     ]
    },
    {
     "name": "stdout",
     "output_type": "stream",
     "text": [
      "Iteration = 44, loop time = 41.999479, time elapsed = 1914.918540\n"
     ]
    },
    {
     "name": "stderr",
     "output_type": "stream",
     "text": [
      "Average Loss = -513.22: 100%|██████████████████████████████████████████████████████| 2000/2000 [00:26<00:00, 76.42it/s]\n"
     ]
    },
    {
     "name": "stdout",
     "output_type": "stream",
     "text": [
      "Iteration = 45, loop time = 41.076641, time elapsed = 1955.997184\n"
     ]
    },
    {
     "name": "stderr",
     "output_type": "stream",
     "text": [
      "Average Loss = -513.45: 100%|██████████████████████████████████████████████████████| 2000/2000 [00:25<00:00, 77.55it/s]\n"
     ]
    },
    {
     "name": "stdout",
     "output_type": "stream",
     "text": [
      "Iteration = 46, loop time = 41.642867, time elapsed = 1997.642053\n"
     ]
    },
    {
     "name": "stderr",
     "output_type": "stream",
     "text": [
      "Average Loss = -512.41: 100%|██████████████████████████████████████████████████████| 2000/2000 [00:29<00:00, 66.97it/s]\n"
     ]
    },
    {
     "name": "stdout",
     "output_type": "stream",
     "text": [
      "Iteration = 47, loop time = 45.850091, time elapsed = 2043.493146\n"
     ]
    },
    {
     "name": "stderr",
     "output_type": "stream",
     "text": [
      "Average Loss = -514.95: 100%|██████████████████████████████████████████████████████| 2000/2000 [00:27<00:00, 72.46it/s]\n"
     ]
    },
    {
     "name": "stdout",
     "output_type": "stream",
     "text": [
      "Iteration = 48, loop time = 43.931441, time elapsed = 2087.425588\n"
     ]
    },
    {
     "name": "stderr",
     "output_type": "stream",
     "text": [
      "Average Loss = -513.56: 100%|██████████████████████████████████████████████████████| 2000/2000 [00:26<00:00, 76.82it/s]\n"
     ]
    },
    {
     "name": "stdout",
     "output_type": "stream",
     "text": [
      "Iteration = 49, loop time = 41.608640, time elapsed = 2129.035229\n"
     ]
    },
    {
     "name": "stderr",
     "output_type": "stream",
     "text": [
      "Average Loss = -512.45: 100%|██████████████████████████████████████████████████████| 2000/2000 [00:28<00:00, 71.07it/s]\n"
     ]
    },
    {
     "name": "stdout",
     "output_type": "stream",
     "text": [
      "Iteration = 50, loop time = 45.450078, time elapsed = 2174.486308\n"
     ]
    },
    {
     "name": "stderr",
     "output_type": "stream",
     "text": [
      "Average Loss = -513.68: 100%|██████████████████████████████████████████████████████| 2000/2000 [00:26<00:00, 74.51it/s]\n"
     ]
    },
    {
     "name": "stdout",
     "output_type": "stream",
     "text": [
      "Iteration = 51, loop time = 43.021330, time elapsed = 2217.507639\n"
     ]
    },
    {
     "name": "stderr",
     "output_type": "stream",
     "text": [
      "Average Loss = -513.66: 100%|██████████████████████████████████████████████████████| 2000/2000 [00:27<00:00, 72.02it/s]\n"
     ]
    },
    {
     "name": "stdout",
     "output_type": "stream",
     "text": [
      "Iteration = 52, loop time = 44.324360, time elapsed = 2261.833000\n"
     ]
    },
    {
     "name": "stderr",
     "output_type": "stream",
     "text": [
      "Average Loss = -512.66: 100%|██████████████████████████████████████████████████████| 2000/2000 [00:26<00:00, 74.18it/s]\n"
     ]
    },
    {
     "name": "stdout",
     "output_type": "stream",
     "text": [
      "Iteration = 53, loop time = 43.396914, time elapsed = 2305.230915\n"
     ]
    },
    {
     "name": "stderr",
     "output_type": "stream",
     "text": [
      "Average Loss = -513.63: 100%|██████████████████████████████████████████████████████| 2000/2000 [00:26<00:00, 75.09it/s]\n"
     ]
    },
    {
     "name": "stdout",
     "output_type": "stream",
     "text": [
      "Iteration = 54, loop time = 43.326049, time elapsed = 2348.557966\n"
     ]
    },
    {
     "name": "stderr",
     "output_type": "stream",
     "text": [
      "Average Loss = -512.91: 100%|██████████████████████████████████████████████████████| 2000/2000 [00:25<00:00, 79.48it/s]\n"
     ]
    },
    {
     "name": "stdout",
     "output_type": "stream",
     "text": [
      "Iteration = 55, loop time = 39.784106, time elapsed = 2388.343073\n"
     ]
    },
    {
     "name": "stderr",
     "output_type": "stream",
     "text": [
      "Average Loss = -514.02: 100%|██████████████████████████████████████████████████████| 2000/2000 [00:25<00:00, 79.70it/s]\n"
     ]
    },
    {
     "name": "stdout",
     "output_type": "stream",
     "text": [
      "Iteration = 56, loop time = 39.469891, time elapsed = 2427.813965\n"
     ]
    },
    {
     "name": "stderr",
     "output_type": "stream",
     "text": [
      "Average Loss = -514.53: 100%|██████████████████████████████████████████████████████| 2000/2000 [00:25<00:00, 79.34it/s]\n"
     ]
    },
    {
     "name": "stdout",
     "output_type": "stream",
     "text": [
      "Iteration = 57, loop time = 39.640293, time elapsed = 2467.455260\n"
     ]
    },
    {
     "name": "stderr",
     "output_type": "stream",
     "text": [
      "Average Loss = -514.93: 100%|██████████████████████████████████████████████████████| 2000/2000 [00:25<00:00, 73.79it/s]\n"
     ]
    },
    {
     "name": "stdout",
     "output_type": "stream",
     "text": [
      "Iteration = 58, loop time = 40.412587, time elapsed = 2507.868848\n"
     ]
    },
    {
     "name": "stderr",
     "output_type": "stream",
     "text": [
      "Average Loss = -512.75: 100%|██████████████████████████████████████████████████████| 2000/2000 [00:25<00:00, 74.20it/s]\n"
     ]
    },
    {
     "name": "stdout",
     "output_type": "stream",
     "text": [
      "Iteration = 59, loop time = 40.622310, time elapsed = 2548.492159\n"
     ]
    },
    {
     "name": "stderr",
     "output_type": "stream",
     "text": [
      "Average Loss = -515.52: 100%|██████████████████████████████████████████████████████| 2000/2000 [00:25<00:00, 78.81it/s]\n"
     ]
    },
    {
     "name": "stdout",
     "output_type": "stream",
     "text": [
      "Iteration = 60, loop time = 39.589209, time elapsed = 2588.082369\n"
     ]
    },
    {
     "name": "stderr",
     "output_type": "stream",
     "text": [
      "Average Loss = -512.33: 100%|██████████████████████████████████████████████████████| 2000/2000 [00:25<00:00, 78.76it/s]\n"
     ]
    },
    {
     "name": "stdout",
     "output_type": "stream",
     "text": [
      "Iteration = 61, loop time = 40.485790, time elapsed = 2628.569160\n"
     ]
    },
    {
     "name": "stderr",
     "output_type": "stream",
     "text": [
      "Average Loss = -513.25: 100%|██████████████████████████████████████████████████████| 2000/2000 [00:25<00:00, 82.61it/s]\n"
     ]
    },
    {
     "name": "stdout",
     "output_type": "stream",
     "text": [
      "Iteration = 62, loop time = 40.196144, time elapsed = 2668.766306\n"
     ]
    },
    {
     "name": "stderr",
     "output_type": "stream",
     "text": [
      "Average Loss = -513.14: 100%|██████████████████████████████████████████████████████| 2000/2000 [00:25<00:00, 78.91it/s]\n"
     ]
    },
    {
     "name": "stdout",
     "output_type": "stream",
     "text": [
      "Iteration = 63, loop time = 39.889741, time elapsed = 2708.657048\n"
     ]
    },
    {
     "name": "stderr",
     "output_type": "stream",
     "text": [
      "Average Loss = -513.34: 100%|██████████████████████████████████████████████████████| 2000/2000 [00:25<00:00, 77.69it/s]\n"
     ]
    },
    {
     "name": "stdout",
     "output_type": "stream",
     "text": [
      "Iteration = 64, loop time = 40.074440, time elapsed = 2748.732489\n"
     ]
    },
    {
     "name": "stderr",
     "output_type": "stream",
     "text": [
      "Average Loss = -515.79: 100%|██████████████████████████████████████████████████████| 2000/2000 [00:25<00:00, 79.37it/s]\n"
     ]
    },
    {
     "name": "stdout",
     "output_type": "stream",
     "text": [
      "Iteration = 65, loop time = 40.305341, time elapsed = 2789.038831\n"
     ]
    },
    {
     "name": "stderr",
     "output_type": "stream",
     "text": [
      "Average Loss = -512.63: 100%|██████████████████████████████████████████████████████| 2000/2000 [00:26<00:00, 77.24it/s]\n"
     ]
    },
    {
     "name": "stdout",
     "output_type": "stream",
     "text": [
      "Iteration = 66, loop time = 40.980137, time elapsed = 2830.019969\n"
     ]
    },
    {
     "name": "stderr",
     "output_type": "stream",
     "text": [
      "Average Loss = -514.04: 100%|██████████████████████████████████████████████████████| 2000/2000 [00:25<00:00, 78.95it/s]\n"
     ]
    },
    {
     "name": "stdout",
     "output_type": "stream",
     "text": [
      "Iteration = 67, loop time = 40.242810, time elapsed = 2870.263781\n"
     ]
    },
    {
     "name": "stderr",
     "output_type": "stream",
     "text": [
      "Average Loss = -511.91: 100%|██████████████████████████████████████████████████████| 2000/2000 [00:25<00:00, 78.85it/s]\n"
     ]
    },
    {
     "name": "stdout",
     "output_type": "stream",
     "text": [
      "Iteration = 68, loop time = 40.211921, time elapsed = 2910.476703\n"
     ]
    },
    {
     "name": "stderr",
     "output_type": "stream",
     "text": [
      "Average Loss = -512.48: 100%|██████████████████████████████████████████████████████| 2000/2000 [00:27<00:00, 73.34it/s]\n"
     ]
    },
    {
     "name": "stdout",
     "output_type": "stream",
     "text": [
      "Iteration = 69, loop time = 42.311239, time elapsed = 2952.788943\n"
     ]
    },
    {
     "name": "stderr",
     "output_type": "stream",
     "text": [
      "Average Loss = -516.76: 100%|██████████████████████████████████████████████████████| 2000/2000 [00:25<00:00, 80.40it/s]\n"
     ]
    },
    {
     "name": "stdout",
     "output_type": "stream",
     "text": [
      "Iteration = 70, loop time = 40.375664, time elapsed = 2993.165608\n"
     ]
    },
    {
     "name": "stderr",
     "output_type": "stream",
     "text": [
      "Average Loss = -513.21: 100%|██████████████████████████████████████████████████████| 2000/2000 [00:25<00:00, 79.13it/s]\n"
     ]
    },
    {
     "name": "stdout",
     "output_type": "stream",
     "text": [
      "Iteration = 71, loop time = 40.709671, time elapsed = 3033.876281\n"
     ]
    },
    {
     "name": "stderr",
     "output_type": "stream",
     "text": [
      "Average Loss = -516.19: 100%|██████████████████████████████████████████████████████| 2000/2000 [00:25<00:00, 79.24it/s]\n"
     ]
    },
    {
     "name": "stdout",
     "output_type": "stream",
     "text": [
      "Iteration = 72, loop time = 39.644860, time elapsed = 3073.522141\n"
     ]
    },
    {
     "name": "stderr",
     "output_type": "stream",
     "text": [
      "Average Loss = -512.75: 100%|██████████████████████████████████████████████████████| 2000/2000 [00:25<00:00, 72.92it/s]\n"
     ]
    },
    {
     "name": "stdout",
     "output_type": "stream",
     "text": [
      "Iteration = 73, loop time = 39.472509, time elapsed = 3112.995651\n"
     ]
    },
    {
     "name": "stderr",
     "output_type": "stream",
     "text": [
      "Average Loss = -513.37: 100%|██████████████████████████████████████████████████████| 2000/2000 [00:25<00:00, 80.72it/s]\n"
     ]
    },
    {
     "name": "stdout",
     "output_type": "stream",
     "text": [
      "Iteration = 74, loop time = 40.772827, time elapsed = 3153.769479\n"
     ]
    },
    {
     "name": "stderr",
     "output_type": "stream",
     "text": [
      "Average Loss = -513.71: 100%|██████████████████████████████████████████████████████| 2000/2000 [00:25<00:00, 79.48it/s]\n"
     ]
    },
    {
     "name": "stdout",
     "output_type": "stream",
     "text": [
      "Iteration = 75, loop time = 40.387136, time elapsed = 3194.157615\n"
     ]
    },
    {
     "name": "stderr",
     "output_type": "stream",
     "text": [
      "Average Loss = -511.74: 100%|██████████████████████████████████████████████████████| 2000/2000 [00:25<00:00, 78.57it/s]\n"
     ]
    },
    {
     "name": "stdout",
     "output_type": "stream",
     "text": [
      "Iteration = 76, loop time = 40.243516, time elapsed = 3234.402133\n"
     ]
    },
    {
     "name": "stderr",
     "output_type": "stream",
     "text": [
      "Average Loss = -512.92: 100%|██████████████████████████████████████████████████████| 2000/2000 [00:25<00:00, 78.43it/s]\n"
     ]
    },
    {
     "name": "stdout",
     "output_type": "stream",
     "text": [
      "Iteration = 77, loop time = 39.844225, time elapsed = 3274.247358\n"
     ]
    },
    {
     "name": "stderr",
     "output_type": "stream",
     "text": [
      "Average Loss = -518.27: 100%|██████████████████████████████████████████████████████| 2000/2000 [00:25<00:00, 77.35it/s]\n"
     ]
    },
    {
     "name": "stdout",
     "output_type": "stream",
     "text": [
      "Iteration = 78, loop time = 40.381127, time elapsed = 3314.629486\n"
     ]
    },
    {
     "name": "stderr",
     "output_type": "stream",
     "text": [
      "Average Loss = -512.55: 100%|██████████████████████████████████████████████████████| 2000/2000 [00:25<00:00, 77.30it/s]\n"
     ]
    },
    {
     "name": "stdout",
     "output_type": "stream",
     "text": [
      "Iteration = 79, loop time = 41.142133, time elapsed = 3355.771619\n"
     ]
    },
    {
     "name": "stderr",
     "output_type": "stream",
     "text": [
      "Average Loss = -512.69: 100%|██████████████████████████████████████████████████████| 2000/2000 [00:25<00:00, 78.92it/s]\n"
     ]
    },
    {
     "name": "stdout",
     "output_type": "stream",
     "text": [
      "Iteration = 80, loop time = 40.588930, time elapsed = 3396.361550\n"
     ]
    },
    {
     "name": "stderr",
     "output_type": "stream",
     "text": [
      "Average Loss = -514.64: 100%|██████████████████████████████████████████████████████| 2000/2000 [00:25<00:00, 81.04it/s]\n"
     ]
    },
    {
     "name": "stdout",
     "output_type": "stream",
     "text": [
      "Iteration = 81, loop time = 40.056879, time elapsed = 3436.419430\n"
     ]
    },
    {
     "name": "stderr",
     "output_type": "stream",
     "text": [
      "Average Loss = -516.49: 100%|██████████████████████████████████████████████████████| 2000/2000 [00:25<00:00, 78.50it/s]\n"
     ]
    },
    {
     "name": "stdout",
     "output_type": "stream",
     "text": [
      "Iteration = 82, loop time = 40.121287, time elapsed = 3476.541718\n"
     ]
    },
    {
     "name": "stderr",
     "output_type": "stream",
     "text": [
      "Average Loss = -514: 100%|█████████████████████████████████████████████████████████| 2000/2000 [00:27<00:00, 76.90it/s]\n"
     ]
    },
    {
     "name": "stdout",
     "output_type": "stream",
     "text": [
      "Iteration = 83, loop time = 41.721221, time elapsed = 3518.263940\n"
     ]
    },
    {
     "name": "stderr",
     "output_type": "stream",
     "text": [
      "Average Loss = -513.38: 100%|██████████████████████████████████████████████████████| 2000/2000 [00:25<00:00, 78.54it/s]\n"
     ]
    },
    {
     "name": "stdout",
     "output_type": "stream",
     "text": [
      "Iteration = 84, loop time = 39.745445, time elapsed = 3558.010386\n"
     ]
    },
    {
     "name": "stderr",
     "output_type": "stream",
     "text": [
      "Average Loss = -513.91: 100%|██████████████████████████████████████████████████████| 2000/2000 [00:25<00:00, 78.79it/s]\n"
     ]
    },
    {
     "name": "stdout",
     "output_type": "stream",
     "text": [
      "Iteration = 85, loop time = 40.643769, time elapsed = 3598.655156\n"
     ]
    },
    {
     "name": "stderr",
     "output_type": "stream",
     "text": [
      "Average Loss = -513.15: 100%|██████████████████████████████████████████████████████| 2000/2000 [00:25<00:00, 78.96it/s]\n"
     ]
    },
    {
     "name": "stdout",
     "output_type": "stream",
     "text": [
      "Iteration = 86, loop time = 39.615327, time elapsed = 3638.271485\n"
     ]
    },
    {
     "name": "stderr",
     "output_type": "stream",
     "text": [
      "Average Loss = -513.32: 100%|██████████████████████████████████████████████████████| 2000/2000 [00:25<00:00, 81.61it/s]\n"
     ]
    },
    {
     "name": "stdout",
     "output_type": "stream",
     "text": [
      "Iteration = 87, loop time = 40.683838, time elapsed = 3678.956323\n"
     ]
    },
    {
     "name": "stderr",
     "output_type": "stream",
     "text": [
      "Average Loss = -513.41: 100%|██████████████████████████████████████████████████████| 2000/2000 [00:25<00:00, 77.98it/s]\n"
     ]
    },
    {
     "name": "stdout",
     "output_type": "stream",
     "text": [
      "Iteration = 88, loop time = 40.387952, time elapsed = 3719.346278\n"
     ]
    },
    {
     "name": "stderr",
     "output_type": "stream",
     "text": [
      "Average Loss = -514.13: 100%|██████████████████████████████████████████████████████| 2000/2000 [00:25<00:00, 78.49it/s]\n"
     ]
    },
    {
     "name": "stdout",
     "output_type": "stream",
     "text": [
      "Iteration = 89, loop time = 39.981820, time elapsed = 3759.329099\n"
     ]
    },
    {
     "name": "stderr",
     "output_type": "stream",
     "text": [
      "Average Loss = -513.34: 100%|██████████████████████████████████████████████████████| 2000/2000 [00:25<00:00, 78.07it/s]\n"
     ]
    },
    {
     "name": "stdout",
     "output_type": "stream",
     "text": [
      "Iteration = 90, loop time = 40.639506, time elapsed = 3799.969606\n"
     ]
    },
    {
     "name": "stderr",
     "output_type": "stream",
     "text": [
      "Average Loss = -513.62: 100%|██████████████████████████████████████████████████████| 2000/2000 [00:25<00:00, 78.81it/s]\n"
     ]
    },
    {
     "name": "stdout",
     "output_type": "stream",
     "text": [
      "Iteration = 91, loop time = 39.690091, time elapsed = 3839.660698\n"
     ]
    },
    {
     "name": "stderr",
     "output_type": "stream",
     "text": [
      "Average Loss = -512.2: 100%|███████████████████████████████████████████████████████| 2000/2000 [00:26<00:00, 74.57it/s]\n"
     ]
    },
    {
     "name": "stdout",
     "output_type": "stream",
     "text": [
      "Iteration = 92, loop time = 41.659098, time elapsed = 3881.320798\n"
     ]
    },
    {
     "name": "stderr",
     "output_type": "stream",
     "text": [
      "Average Loss = -515.16: 100%|██████████████████████████████████████████████████████| 2000/2000 [00:25<00:00, 78.69it/s]\n"
     ]
    },
    {
     "name": "stdout",
     "output_type": "stream",
     "text": [
      "Iteration = 93, loop time = 40.075022, time elapsed = 3921.396820\n"
     ]
    },
    {
     "name": "stderr",
     "output_type": "stream",
     "text": [
      "Average Loss = -513.13: 100%|██████████████████████████████████████████████████████| 2000/2000 [00:26<00:00, 76.91it/s]\n"
     ]
    },
    {
     "name": "stdout",
     "output_type": "stream",
     "text": [
      "Iteration = 94, loop time = 41.422541, time elapsed = 3962.820363\n"
     ]
    },
    {
     "name": "stderr",
     "output_type": "stream",
     "text": [
      "Average Loss = -513.27: 100%|██████████████████████████████████████████████████████| 2000/2000 [00:26<00:00, 76.55it/s]\n"
     ]
    },
    {
     "name": "stdout",
     "output_type": "stream",
     "text": [
      "Iteration = 95, loop time = 41.343057, time elapsed = 4004.164422\n"
     ]
    },
    {
     "name": "stderr",
     "output_type": "stream",
     "text": [
      "Average Loss = -512.02: 100%|██████████████████████████████████████████████████████| 2000/2000 [00:25<00:00, 78.91it/s]\n"
     ]
    },
    {
     "name": "stdout",
     "output_type": "stream",
     "text": [
      "Iteration = 96, loop time = 39.968650, time elapsed = 4044.134073\n"
     ]
    },
    {
     "name": "stderr",
     "output_type": "stream",
     "text": [
      "Average Loss = -515.51: 100%|██████████████████████████████████████████████████████| 2000/2000 [00:25<00:00, 78.38it/s]\n"
     ]
    },
    {
     "name": "stdout",
     "output_type": "stream",
     "text": [
      "Iteration = 97, loop time = 40.014387, time elapsed = 4084.150462\n"
     ]
    },
    {
     "name": "stderr",
     "output_type": "stream",
     "text": [
      "Average Loss = -513.18: 100%|██████████████████████████████████████████████████████| 2000/2000 [00:25<00:00, 79.19it/s]\n"
     ]
    },
    {
     "name": "stdout",
     "output_type": "stream",
     "text": [
      "Iteration = 98, loop time = 40.848697, time elapsed = 4125.000159\n"
     ]
    },
    {
     "name": "stderr",
     "output_type": "stream",
     "text": [
      "Average Loss = -512.9: 100%|███████████████████████████████████████████████████████| 2000/2000 [00:25<00:00, 78.50it/s]\n"
     ]
    },
    {
     "name": "stdout",
     "output_type": "stream",
     "text": [
      "Iteration = 99, loop time = 40.439389, time elapsed = 4165.440549\n",
      "Total time taken: 4165.442552\n"
     ]
    }
   ],
   "source": [
    "start = time.time()\n",
    "for i in range(M):\n",
    "    start_loop = time.time()\n",
    "    \n",
    "    # sample from prior    \n",
    "    btemp = np.random.randn(1, D)\n",
    "    mtemp = np.dot(x.values, np.transpose(btemp))\n",
    "    stemp = np.random.gamma(.5, .5, 1)\n",
    "    ytemp = mtemp + stemp\n",
    "    \n",
    "    datatemp = dict(N=N, D=D, x=x, y=y)\n",
    "    fittemp = regression_model.sampling(data=datatemp, iter=20000, thin=20, chains=10)\n",
    "    stan_log_density_temp = make_stan_log_density(fittemp)\n",
    "    \n",
    "    chivi_objective_and_grad_temp = black_box_chivi(2, mf_gaussian_var_family, stan_log_density_temp, 200)\n",
    "    \n",
    "    init_var_param = klvi_temp_var_param.copy()\n",
    "    # run chivi\n",
    "    chivi_temp_var_param, _, _, _ = \\\n",
    "        adagrad_optimize(n_iters, chivi_objective_and_grad_temp, init_var_param, learning_rate=5e-4)\n",
    "    \n",
    "    # extract beta mean and std\n",
    "    b_mean_temp = chivi_temp_var_param[:D]\n",
    "    b_std_temp = np.exp(chivi_temp_var_param[D+1:][0:D])\n",
    "    \n",
    "    # generate 1000 sample from the variational family\n",
    "    nn = 1000\n",
    "    sample_temp = mf_gaussian_var_family.sample(chivi_temp_var_param, nn)\n",
    "    \n",
    "    # compute log sigma of the samples\n",
    "    logs_sample_temp = []\n",
    "    for j in range(nn):\n",
    "        logs_sample_temp.append(sample_temp[j][-1])\n",
    "    logs_sample_temp = np.array(logs_sample_temp)\n",
    "    logs_sample_temp = np.log(logs_sample_temp)\n",
    "    \n",
    "    # get the cdf values\n",
    "    chivi_probs[0:D, i] = norm.cdf(btemp, b_mean_temp[0:D], b_std_temp[0:D])\n",
    "    chivi_probs[D, i] = norm.cdf(np.log(stemp), np.mean(logs_sample_temp), np.std(logs_sample_temp))\n",
    "    \n",
    "    end_loop = time.time()\n",
    "    print(\"Iteration = %i, loop time = %f, time elapsed = %f\" % (i, end_loop-start_loop, end_loop-start))\n",
    "    \n",
    "end = time.time()\n",
    "print(\"Total time taken: %f\" % (end-start))"
   ]
  },
  {
   "cell_type": "code",
   "execution_count": 41,
   "metadata": {},
   "outputs": [
    {
     "data": {
      "image/png": "[encoded data removed]",
      "text/plain": [
       "<Figure size 432x288 with 1 Axes>"
      ]
     },
     "metadata": {
      "needs_background": "light"
     },
     "output_type": "display_data"
    }
   ],
   "source": [
    "plt.hist(chivi_probs[1,:], bins=10, density=True, range=(0,1))\n",
    "plt.show()"
   ]
  },
  {
   "cell_type": "code",
   "execution_count": 42,
   "metadata": {},
   "outputs": [
    {
     "data": {
      "image/png": "[encoded data removed]",
      "text/plain": [
       "<Figure size 432x288 with 1 Axes>"
      ]
     },
     "metadata": {
      "needs_background": "light"
     },
     "output_type": "display_data"
    }
   ],
   "source": [
    "plt.hist(chivi_probs[10,:], bins=10, density=True, range=(0,1))\n",
    "plt.show()"
   ]
  },
  {
   "cell_type": "code",
   "execution_count": 43,
   "metadata": {},
   "outputs": [
    {
     "data": {
      "image/png": "[encoded data removed]",
      "text/plain": [
       "<Figure size 432x288 with 1 Axes>"
      ]
     },
     "metadata": {
      "needs_background": "light"
     },
     "output_type": "display_data"
    }
   ],
   "source": [
    "plt.hist(chivi_probs[D,:], bins=10, density=True, range=(0,1))\n",
    "plt.show()"
   ]
  },
  {
   "cell_type": "code",
   "execution_count": 44,
   "metadata": {},
   "outputs": [],
   "source": [
    "np.savetxt(\"chivi_probs.csv\", chivi_probs, delimiter=\",\")"
   ]
  },
  {
   "cell_type": "markdown",
   "metadata": {},
   "source": [
    "# Misc: testing other algorithms"
   ]
  },
  {
   "cell_type": "markdown",
   "metadata": {},
   "source": [
    "## KLVI Non-mean field full-rank "
   ]
  },
  {
   "cell_type": "code",
   "execution_count": 45,
   "metadata": {},
   "outputs": [
    {
     "name": "stderr",
     "output_type": "stream",
     "text": [
      "Average Loss = 529.37: 100%|██████████████████████████████████████████████████████| 2000/2000 [00:12<00:00, 157.89it/s]\n"
     ]
    }
   ],
   "source": [
    "t_var_family = t_variational_family(D+1, 100)\n",
    "full_klvi_objective_and_grad = black_box_klvi(t_var_family, stan_log_density, 100)\n",
    "\n",
    "init_var_param = np.zeros(t_var_family.var_param_dim)\n",
    "\n",
    "full_klvi_var_param, full_klvi_param_history, full_klvi_history, _ = \\\n",
    "    adagrad_optimize(n_iters, full_klvi_objective_and_grad, init_var_param, \n",
    "                     learning_rate=.1, learning_rate_end=.001)"
   ]
  },
  {
   "cell_type": "code",
   "execution_count": 46,
   "metadata": {},
   "outputs": [
    {
     "data": {
      "image/png": "[encoded data removed]",
      "text/plain": [
       "<Figure size 432x288 with 1 Axes>"
      ]
     },
     "metadata": {
      "needs_background": "light"
     },
     "output_type": "display_data"
    }
   ],
   "source": [
    "plot_dist_to_opt_param(full_klvi_param_history, full_klvi_var_param)"
   ]
  },
  {
   "cell_type": "code",
   "execution_count": 47,
   "metadata": {},
   "outputs": [],
   "source": [
    "full_klvi_samples, full_klvi_slw, full_klvi_khat = \\\n",
    "    psis_correction(stan_log_density, t_var_family, full_klvi_var_param, mc_samples)"
   ]
  },
  {
   "cell_type": "code",
   "execution_count": 48,
   "metadata": {},
   "outputs": [
    {
     "name": "stdout",
     "output_type": "stream",
     "text": [
      "0.10758885550987357\n"
     ]
    }
   ],
   "source": [
    "print(full_klvi_khat)"
   ]
  },
  {
   "cell_type": "code",
   "execution_count": 49,
   "metadata": {
    "scrolled": false
   },
   "outputs": [
    {
     "data": {
      "text/plain": [
       "array([-11.18323412, -11.31687864, -11.46977969, ..., -11.53162536,\n",
       "       -11.62182747, -11.61838622])"
      ]
     },
     "execution_count": 49,
     "metadata": {},
     "output_type": "execute_result"
    }
   ],
   "source": [
    "full_klvi_slw"
   ]
  },
  {
   "cell_type": "markdown",
   "metadata": {},
   "source": [
    "## KLVI Mean field with t distribution (df=40)"
   ]
  },
  {
   "cell_type": "code",
   "execution_count": 51,
   "metadata": {},
   "outputs": [],
   "source": [
    "# mf_t_var_family = mean_field_t_variational_family(D+1, 40)\n",
    "# klvi_objective_and_grad = black_box_klvi(mf_t_var_family, stan_log_density, 100)\n",
    "\n",
    "# klvi_t_var_param, klvi_t_param_history, klvi_t_history, _ = \\\n",
    "#     adagrad_optimize(n_iters, klvi_objective_and_grad, init_var_param, learning_rate=.01)"
   ]
  },
  {
   "cell_type": "code",
   "execution_count": null,
   "metadata": {},
   "outputs": [],
   "source": [
    "#plot_dist_to_opt_param(klvi_t_param_history, klvi_t_var_param)"
   ]
  },
  {
   "cell_type": "code",
   "execution_count": null,
   "metadata": {},
   "outputs": [],
   "source": [
    "#check_approx_accuracy(mf_t_var_family, klvi_t_var_param, true_mean, true_cov, verbose=True);"
   ]
  },
  {
   "cell_type": "code",
   "execution_count": null,
   "metadata": {},
   "outputs": [],
   "source": [
    "#klvi_t_samples, klvi_t_slw, klvi_t_khat = \\\n",
    "#    psis_correction(stan_log_density, mf_t_var_family, klvi_t_var_param, mc_samples)"
   ]
  },
  {
   "cell_type": "code",
   "execution_count": null,
   "metadata": {},
   "outputs": [],
   "source": [
    "#print(klvi_t_khat)"
   ]
  },
  {
   "cell_type": "code",
   "execution_count": null,
   "metadata": {},
   "outputs": [],
   "source": [
    "#klvi_t_slw"
   ]
  },
  {
   "cell_type": "markdown",
   "metadata": {},
   "source": [
    "## CHIVI Mean field with t distribution (df=40)"
   ]
  },
  {
   "cell_type": "code",
   "execution_count": null,
   "metadata": {},
   "outputs": [],
   "source": [
    "mf_t_var_family = mean_field_t_variational_family(D+1, 40)\n",
    "chivi_objective_and_grad = black_box_chivi(2, mf_t_var_family, stan_log_density, 400)\n",
    "\n",
    "init_var_param = klvi_var_param.copy()\n",
    "init_var_param[2:] += 3\n",
    "\n",
    "chivi_t_var_param, chivi_t_param_history, chivi_t_history, _ = \\\n",
    "    adagrad_optimize(n_iters, chivi_objective_and_grad, init_var_param, learning_rate=.01)"
   ]
  },
  {
   "cell_type": "code",
   "execution_count": null,
   "metadata": {},
   "outputs": [],
   "source": [
    "plot_dist_to_opt_param(chivi_t_param_history, chivi_t_var_param)"
   ]
  },
  {
   "cell_type": "code",
   "execution_count": null,
   "metadata": {},
   "outputs": [],
   "source": [
    "chivi_t_samples, chivi_t_slw, chivi_t_khat = \\\n",
    "    psis_correction(stan_log_density, mf_t_var_family, chivi_t_var_param, mc_samples)"
   ]
  },
  {
   "cell_type": "code",
   "execution_count": null,
   "metadata": {},
   "outputs": [],
   "source": [
    "print(chivi_t_khat)"
   ]
  },
  {
   "cell_type": "code",
   "execution_count": null,
   "metadata": {},
   "outputs": [],
   "source": [
    "chivi_t_slw"
   ]
  },
  {
   "cell_type": "markdown",
   "metadata": {},
   "source": [
    "### CHIVI full rank"
   ]
  },
  {
   "cell_type": "code",
   "execution_count": 46,
   "metadata": {},
   "outputs": [],
   "source": [
    "# t_var_family = t_variational_family(D+1, 100)\n",
    "# full_chivi_objective_and_grad = black_box_chivi(2, t_var_family, stan_log_density, 400)\n",
    "\n",
    "# init_var_param = full_klvi_var_param.copy()\n",
    "# init_var_param[2:] += 3\n",
    "\n",
    "# full_chivi_var_param, full_chivi_param_history, full_chivi_history, _ = \\\n",
    "#     adagrad_optimize(n_iters, full_chivi_objective_and_grad, init_var_param, \n",
    "#                      learning_rate=.1, learning_rate_end=.001)"
   ]
  },
  {
   "cell_type": "code",
   "execution_count": 47,
   "metadata": {},
   "outputs": [],
   "source": [
    "#plot_dist_to_opt_param(full_chivi_param_history, full_chivi_var_param)"
   ]
  },
  {
   "cell_type": "code",
   "execution_count": 48,
   "metadata": {},
   "outputs": [],
   "source": [
    "#full_chivi_samples, full_chivi_slw, full_chivi_khat = \\\n",
    "#    psis_correction(stan_log_density, t_var_family, full_chivi_var_param, mc_samples)"
   ]
  },
  {
   "cell_type": "code",
   "execution_count": 49,
   "metadata": {},
   "outputs": [],
   "source": [
    "#print(full_chivi_khat)"
   ]
  },
  {
   "cell_type": "code",
   "execution_count": null,
   "metadata": {},
   "outputs": [],
   "source": [
    "#full_chivi_slw"
   ]
  }
 ],
 "metadata": {
  "kernelspec": {
   "display_name": "Python 3",
   "language": "python",
   "name": "python3"
  },
  "language_info": {
   "codemirror_mode": {
    "name": "ipython",
    "version": 3
   },
   "file_extension": ".py",
   "mimetype": "text/x-python",
   "name": "python",
   "nbconvert_exporter": "python",
   "pygments_lexer": "ipython3",
   "version": "3.7.3"
  }
 },
 "nbformat": 4,
 "nbformat_minor": 2
}
