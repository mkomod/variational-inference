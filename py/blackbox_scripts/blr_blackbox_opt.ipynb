{
 "cells": [
  {
   "cell_type": "markdown",
   "metadata": {},
   "source": [
    "Code is based on https://github.com/jhuggins/viabel"
   ]
  },
  {
   "cell_type": "code",
   "execution_count": 1,
   "metadata": {},
   "outputs": [
    {
     "name": "stderr",
     "output_type": "stream",
     "text": [
      "C:\\ProgramData\\Anaconda3\\lib\\site-packages\\statsmodels\\tools\\_testing.py:19: FutureWarning: pandas.util.testing is deprecated. Use the functions in the public API at pandas.testing instead.\n",
      "  import pandas.util.testing as tm\n"
     ]
    }
   ],
   "source": [
    "import pickle\n",
    "import pystan\n",
    "import autograd.numpy as np\n",
    "\n",
    "from viabel.objectives import (black_box_klvi,\n",
    "                               black_box_chivi)\n",
    "\n",
    "from viabel.family import (mean_field_gaussian_variational_family,\n",
    "                           mean_field_t_variational_family,\n",
    "                           t_variational_family)\n",
    "\n",
    "from viabel.models import make_stan_log_density\n",
    "from viabel.optimization import adagrad_optimize\n",
    "from experiments import (plot_dist_to_opt_param,\n",
    "                         check_approx_accuracy,\n",
    "                         psis_correction)\n",
    "\n",
    "import pandas as pd"
   ]
  },
  {
   "cell_type": "markdown",
   "metadata": {},
   "source": [
    "Define the model"
   ]
  },
  {
   "cell_type": "code",
   "execution_count": 2,
   "metadata": {},
   "outputs": [],
   "source": [
    "test_model = \"\"\"data {\n",
    "  int<lower=0> N;   // number of observations\n",
    "  int <lower=0> D;  // number of predictors\n",
    "  matrix[N, D] x;   // predictor matrix\n",
    "  vector[N] y;      // outcome vector\n",
    "}\n",
    "\n",
    "parameters {\n",
    "  vector[D] beta;        // coefficients for predictors\n",
    "  real <lower=0> sigma;  // variance\n",
    "}\n",
    "\n",
    "model {\n",
    "   beta ~ normal(0,1);\n",
    "   sigma ~ gamma(0.5,0.5);\n",
    "   y ~ normal(x * beta, sigma);\n",
    "}\"\"\""
   ]
  },
  {
   "cell_type": "markdown",
   "metadata": {},
   "source": [
    "Generate of open existing a pkl file of the model"
   ]
  },
  {
   "cell_type": "code",
   "execution_count": 3,
   "metadata": {},
   "outputs": [],
   "source": [
    "compiled_model_file = 'blr_reg_model.pkl'\n",
    "\n",
    "try:\n",
    "    with open(compiled_model_file, 'rb') as f:\n",
    "        regression_model = pickle.load(f)\n",
    "except:\n",
    "    regression_model = pystan.StanModel(model_code=test_model,\n",
    "                                        model_name='regression_model')\n",
    "    with open('blr_reg_model.pkl', 'wb') as f:\n",
    "        pickle.dump(regression_model, f)"
   ]
  },
  {
   "cell_type": "markdown",
   "metadata": {},
   "source": [
    "Get data"
   ]
  },
  {
   "cell_type": "code",
   "execution_count": 4,
   "metadata": {},
   "outputs": [],
   "source": [
    "# SYNTHETIC\n",
    "# np.random.seed(1234)\n",
    "\n",
    "# N = 1000\n",
    "# D = 10\n",
    "# beta_gen = np.random.randn(D, 1)\n",
    "# sigma_gen = np.random.gamma(1, 1, 1)\n",
    "\n",
    "# x = np.random.randn(N, D)\n",
    "# y_raw = x.dot(beta_gen) + np.random.randn(N, 1)*np.sqrt(sigma_gen)\n",
    "# y = y_raw - np.mean(y_raw)\n",
    "# # convert from Nx1 matrix to Nx1 vector\n",
    "# y = y.flatten()"
   ]
  },
  {
   "cell_type": "code",
   "execution_count": 5,
   "metadata": {},
   "outputs": [],
   "source": [
    "#print(beta_gen)"
   ]
  },
  {
   "cell_type": "code",
   "execution_count": 6,
   "metadata": {},
   "outputs": [],
   "source": [
    "#print(sigma_gen)"
   ]
  },
  {
   "cell_type": "markdown",
   "metadata": {},
   "source": [
    "Import the dataset"
   ]
  },
  {
   "cell_type": "code",
   "execution_count": 7,
   "metadata": {},
   "outputs": [
    {
     "data": {
      "text/html": [
       "<div>\n",
       "<style scoped>\n",
       "    .dataframe tbody tr th:only-of-type {\n",
       "        vertical-align: middle;\n",
       "    }\n",
       "\n",
       "    .dataframe tbody tr th {\n",
       "        vertical-align: top;\n",
       "    }\n",
       "\n",
       "    .dataframe thead th {\n",
       "        text-align: right;\n",
       "    }\n",
       "</style>\n",
       "<table border=\"1\" class=\"dataframe\">\n",
       "  <thead>\n",
       "    <tr style=\"text-align: right;\">\n",
       "      <th></th>\n",
       "      <th>Bodyfat</th>\n",
       "      <th>Age</th>\n",
       "      <th>Weight</th>\n",
       "      <th>Height</th>\n",
       "      <th>Neck</th>\n",
       "      <th>Chest</th>\n",
       "      <th>Abdomen</th>\n",
       "      <th>Hip</th>\n",
       "      <th>Thigh</th>\n",
       "      <th>Knee</th>\n",
       "      <th>Ankle</th>\n",
       "      <th>Biceps</th>\n",
       "      <th>Forearm</th>\n",
       "      <th>Wrist</th>\n",
       "    </tr>\n",
       "  </thead>\n",
       "  <tbody>\n",
       "    <tr>\n",
       "      <th>0</th>\n",
       "      <td>-6.850794</td>\n",
       "      <td>-21.884921</td>\n",
       "      <td>-24.674405</td>\n",
       "      <td>-2.39881</td>\n",
       "      <td>-1.792063</td>\n",
       "      <td>-7.724206</td>\n",
       "      <td>-7.355952</td>\n",
       "      <td>-5.404762</td>\n",
       "      <td>-0.405952</td>\n",
       "      <td>-1.290476</td>\n",
       "      <td>-1.202381</td>\n",
       "      <td>-0.273413</td>\n",
       "      <td>-1.263889</td>\n",
       "      <td>-1.129762</td>\n",
       "    </tr>\n",
       "    <tr>\n",
       "      <th>1</th>\n",
       "      <td>-13.050794</td>\n",
       "      <td>-22.884921</td>\n",
       "      <td>-5.674405</td>\n",
       "      <td>2.10119</td>\n",
       "      <td>0.507937</td>\n",
       "      <td>-7.224206</td>\n",
       "      <td>-9.555952</td>\n",
       "      <td>-1.204762</td>\n",
       "      <td>-0.705952</td>\n",
       "      <td>-1.290476</td>\n",
       "      <td>0.297619</td>\n",
       "      <td>-1.773413</td>\n",
       "      <td>0.236111</td>\n",
       "      <td>-0.029762</td>\n",
       "    </tr>\n",
       "    <tr>\n",
       "      <th>2</th>\n",
       "      <td>6.149206</td>\n",
       "      <td>-22.884921</td>\n",
       "      <td>-24.924405</td>\n",
       "      <td>-3.89881</td>\n",
       "      <td>-3.992063</td>\n",
       "      <td>-5.024206</td>\n",
       "      <td>-4.655952</td>\n",
       "      <td>-0.704762</td>\n",
       "      <td>0.194048</td>\n",
       "      <td>0.309524</td>\n",
       "      <td>0.897619</td>\n",
       "      <td>-3.473413</td>\n",
       "      <td>-3.463889</td>\n",
       "      <td>-1.629762</td>\n",
       "    </tr>\n",
       "  </tbody>\n",
       "</table>\n",
       "</div>"
      ],
      "text/plain": [
       "     Bodyfat        Age     Weight   Height      Neck     Chest   Abdomen  \\\n",
       "0  -6.850794 -21.884921 -24.674405 -2.39881 -1.792063 -7.724206 -7.355952   \n",
       "1 -13.050794 -22.884921  -5.674405  2.10119  0.507937 -7.224206 -9.555952   \n",
       "2   6.149206 -22.884921 -24.924405 -3.89881 -3.992063 -5.024206 -4.655952   \n",
       "\n",
       "        Hip     Thigh      Knee     Ankle    Biceps   Forearm     Wrist  \n",
       "0 -5.404762 -0.405952 -1.290476 -1.202381 -0.273413 -1.263889 -1.129762  \n",
       "1 -1.204762 -0.705952 -1.290476  0.297619 -1.773413  0.236111 -0.029762  \n",
       "2 -0.704762  0.194048  0.309524  0.897619 -3.473413 -3.463889 -1.629762  "
      ]
     },
     "execution_count": 7,
     "metadata": {},
     "output_type": "execute_result"
    }
   ],
   "source": [
    "data = pd.read_csv(\"bodyfat.csv\").drop(\"Density\", axis=1)\n",
    "data = data - data.mean()\n",
    "data.head(3)"
   ]
  },
  {
   "cell_type": "code",
   "execution_count": 8,
   "metadata": {},
   "outputs": [],
   "source": [
    "y = data[\"Bodyfat\"].values\n",
    "x = data.drop(\"Bodyfat\", axis=1)\n",
    "\n",
    "N = x.shape[0]\n",
    "D = x.shape[1]"
   ]
  },
  {
   "cell_type": "markdown",
   "metadata": {},
   "source": [
    "First, generate ground-truth posterior samples using Stan's dynamic HMC implementation:"
   ]
  },
  {
   "cell_type": "code",
   "execution_count": 9,
   "metadata": {},
   "outputs": [],
   "source": [
    "data = dict(N=N, D=D, x=x, y=y)\n",
    "fit = regression_model.sampling(data=data, iter=50000, thin=50, chains=10)"
   ]
  },
  {
   "cell_type": "code",
   "execution_count": 10,
   "metadata": {},
   "outputs": [
    {
     "name": "stdout",
     "output_type": "stream",
     "text": [
      "true beta mean = [ 0.05452795 -0.09413561 -0.07661085 -0.48340438 -0.01934081  0.95485237\n",
      " -0.20189439  0.23813675  0.00951246  0.12780855  0.17502102  0.41102119\n",
      " -1.26681957]\n",
      "true beta cov = [[ 9.89041391e-04  3.57685119e-04  2.93973698e-04 -9.18251947e-04\n",
      "  -7.29365622e-05 -1.28114706e-03  3.42715185e-04  1.61907218e-03\n",
      "  -1.89373717e-03  5.81102273e-04 -3.54964039e-04  8.08287985e-04\n",
      "  -4.28585078e-03]\n",
      " [ 3.57685119e-04  2.75381255e-03 -2.25794201e-03 -3.49896979e-03\n",
      "  -2.16088266e-03 -9.15920314e-04 -4.01499438e-03 -5.35905179e-04\n",
      "  -3.18014456e-03 -1.89385504e-03 -1.50824983e-03 -9.93433882e-05\n",
      "  -3.50544398e-03]\n",
      " [ 2.93973698e-04 -2.25794201e-03  8.63911574e-03  1.17349700e-04\n",
      "   1.92765798e-03  1.08049774e-03  3.40205369e-03  2.46133891e-03\n",
      "  -1.58143025e-03  1.12620589e-03  7.59084492e-04  5.51301729e-04\n",
      "  -3.98076161e-03]\n",
      " [-9.18251947e-04 -3.49896979e-03  1.17349700e-04  4.98074501e-02\n",
      "  -7.06990435e-04 -3.09234780e-04  5.81133450e-03 -3.62276145e-03\n",
      "   7.48732497e-03  3.27901487e-03 -2.61504651e-03 -5.73237313e-03\n",
      "  -2.47269241e-02]\n",
      " [-7.29365622e-05 -2.16088266e-03  1.92765798e-03 -7.06990435e-04\n",
      "   9.73016547e-03 -3.86135797e-03  2.58222481e-03  2.08337894e-03\n",
      "   2.17613636e-03  4.48875643e-04 -1.22586820e-03 -2.33895970e-03\n",
      "   9.92788215e-04]\n",
      " [-1.28114706e-03 -9.15920314e-04  1.08049774e-03 -3.09234780e-04\n",
      "  -3.86135797e-03  7.31268125e-03 -3.09368837e-03 -1.48674453e-03\n",
      "   1.51041507e-03  1.75578886e-03  1.54073696e-03  8.83139185e-04\n",
      "   5.51175397e-03]\n",
      " [ 3.42715185e-04 -4.01499438e-03  3.40205369e-03  5.81133450e-03\n",
      "   2.58222481e-03 -3.09368837e-03  2.05213283e-02 -6.32859012e-03\n",
      "  -1.86271074e-03  1.59709270e-03  1.65825452e-03  2.63146859e-03\n",
      "  -2.06987886e-03]\n",
      " [ 1.61907218e-03 -5.35905179e-04  2.46133891e-03 -3.62276145e-03\n",
      "   2.08337894e-03 -1.48674453e-03 -6.32859012e-03  1.98361123e-02\n",
      "  -8.23730863e-03 -7.64737413e-05 -6.09851752e-03  6.67291582e-05\n",
      "   4.13448752e-03]\n",
      " [-1.89373717e-03 -3.18014456e-03 -1.58143025e-03  7.48732497e-03\n",
      "   2.17613636e-03  1.51041507e-03 -1.86271074e-03 -8.23730863e-03\n",
      "   5.42670376e-02 -9.35063977e-03  2.44883894e-03 -4.68082836e-03\n",
      "  -3.72083030e-03]\n",
      " [ 5.81102273e-04 -1.89385504e-03  1.12620589e-03  3.27901487e-03\n",
      "   4.48875643e-04  1.75578886e-03  1.59709270e-03 -7.64737413e-05\n",
      "  -9.35063977e-03  4.58928394e-02  1.08193749e-03  5.87310209e-04\n",
      "  -1.97945448e-02]\n",
      " [-3.54964039e-04 -1.50824983e-03  7.59084492e-04 -2.61504651e-03\n",
      "  -1.22586820e-03  1.54073696e-03  1.65825452e-03 -6.09851752e-03\n",
      "   2.44883894e-03  1.08193749e-03  2.77833252e-02 -9.64035094e-03\n",
      "  -2.08912374e-03]\n",
      " [ 8.08287985e-04 -9.93433882e-05  5.51301729e-04 -5.73237313e-03\n",
      "  -2.33895970e-03  8.83139185e-04  2.63146859e-03  6.67291582e-05\n",
      "  -4.68082836e-03  5.87310209e-04 -9.64035094e-03  3.67357872e-02\n",
      "  -1.37320380e-02]\n",
      " [-4.28585078e-03 -3.50544398e-03 -3.98076161e-03 -2.47269241e-02\n",
      "   9.92788215e-04  5.51175397e-03 -2.06987886e-03  4.13448752e-03\n",
      "  -3.72083030e-03 -1.97945448e-02 -2.08912374e-03 -1.37320380e-02\n",
      "   2.10356013e-01]]\n"
     ]
    }
   ],
   "source": [
    "true_beta_mean = np.mean(fit['beta'], axis=0)\n",
    "true_beta_cov = np.cov(fit['beta'].T)\n",
    "print('true beta mean =', true_beta_mean)\n",
    "print('true beta cov =', true_beta_cov)"
   ]
  },
  {
   "cell_type": "code",
   "execution_count": 11,
   "metadata": {},
   "outputs": [
    {
     "name": "stdout",
     "output_type": "stream",
     "text": [
      "true sigma mean = 4.28996509602803\n",
      "true sigma cov = 0.0386637083449394\n"
     ]
    }
   ],
   "source": [
    "true_sigma_mean = np.mean(fit['sigma'], axis=0)\n",
    "true_sigma_cov = np.cov(fit['sigma'].T)\n",
    "print('true sigma mean =', true_sigma_mean)\n",
    "print('true sigma cov =', true_sigma_cov)"
   ]
  },
  {
   "cell_type": "code",
   "execution_count": 12,
   "metadata": {},
   "outputs": [],
   "source": [
    "vec1 = fit['beta']\n",
    "vec2 = np.array(fit['sigma'])\n",
    "vec = []\n",
    "for i in range(len(vec1)):\n",
    "    temp = list(np.append(vec1[i], vec2[i]))\n",
    "    vec.append(temp)\n",
    "vec = np.array(vec)"
   ]
  },
  {
   "cell_type": "code",
   "execution_count": 13,
   "metadata": {},
   "outputs": [],
   "source": [
    "true_mean = np.mean(vec, axis=0)\n",
    "true_cov = np.cov(vec.T)"
   ]
  },
  {
   "cell_type": "code",
   "execution_count": 14,
   "metadata": {},
   "outputs": [
    {
     "name": "stdout",
     "output_type": "stream",
     "text": [
      "true mean = [ 0.05452795 -0.09413561 -0.07661085 -0.48340438 -0.01934081  0.95485237\n",
      " -0.20189439  0.23813675  0.00951246  0.12780855  0.17502102  0.41102119\n",
      " -1.26681957  4.2899651 ]\n",
      "true cov = [[ 9.89041391e-04  3.57685119e-04  2.93973698e-04 -9.18251947e-04\n",
      "  -7.29365622e-05 -1.28114706e-03  3.42715185e-04  1.61907218e-03\n",
      "  -1.89373717e-03  5.81102273e-04 -3.54964039e-04  8.08287985e-04\n",
      "  -4.28585078e-03 -6.64471209e-05]\n",
      " [ 3.57685119e-04  2.75381255e-03 -2.25794201e-03 -3.49896979e-03\n",
      "  -2.16088266e-03 -9.15920314e-04 -4.01499438e-03 -5.35905179e-04\n",
      "  -3.18014456e-03 -1.89385504e-03 -1.50824983e-03 -9.93433882e-05\n",
      "  -3.50544398e-03 -1.16702582e-04]\n",
      " [ 2.93973698e-04 -2.25794201e-03  8.63911574e-03  1.17349700e-04\n",
      "   1.92765798e-03  1.08049774e-03  3.40205369e-03  2.46133891e-03\n",
      "  -1.58143025e-03  1.12620589e-03  7.59084492e-04  5.51301729e-04\n",
      "  -3.98076161e-03 -4.24323763e-04]\n",
      " [-9.18251947e-04 -3.49896979e-03  1.17349700e-04  4.98074501e-02\n",
      "  -7.06990435e-04 -3.09234780e-04  5.81133450e-03 -3.62276145e-03\n",
      "   7.48732497e-03  3.27901487e-03 -2.61504651e-03 -5.73237313e-03\n",
      "  -2.47269241e-02 -3.91885671e-04]\n",
      " [-7.29365622e-05 -2.16088266e-03  1.92765798e-03 -7.06990435e-04\n",
      "   9.73016547e-03 -3.86135797e-03  2.58222481e-03  2.08337894e-03\n",
      "   2.17613636e-03  4.48875643e-04 -1.22586820e-03 -2.33895970e-03\n",
      "   9.92788215e-04 -6.31705029e-05]\n",
      " [-1.28114706e-03 -9.15920314e-04  1.08049774e-03 -3.09234780e-04\n",
      "  -3.86135797e-03  7.31268125e-03 -3.09368837e-03 -1.48674453e-03\n",
      "   1.51041507e-03  1.75578886e-03  1.54073696e-03  8.83139185e-04\n",
      "   5.51175397e-03 -9.94112589e-05]\n",
      " [ 3.42715185e-04 -4.01499438e-03  3.40205369e-03  5.81133450e-03\n",
      "   2.58222481e-03 -3.09368837e-03  2.05213283e-02 -6.32859012e-03\n",
      "  -1.86271074e-03  1.59709270e-03  1.65825452e-03  2.63146859e-03\n",
      "  -2.06987886e-03  2.73791662e-04]\n",
      " [ 1.61907218e-03 -5.35905179e-04  2.46133891e-03 -3.62276145e-03\n",
      "   2.08337894e-03 -1.48674453e-03 -6.32859012e-03  1.98361123e-02\n",
      "  -8.23730863e-03 -7.64737413e-05 -6.09851752e-03  6.67291582e-05\n",
      "   4.13448752e-03 -1.52066140e-04]\n",
      " [-1.89373717e-03 -3.18014456e-03 -1.58143025e-03  7.48732497e-03\n",
      "   2.17613636e-03  1.51041507e-03 -1.86271074e-03 -8.23730863e-03\n",
      "   5.42670376e-02 -9.35063977e-03  2.44883894e-03 -4.68082836e-03\n",
      "  -3.72083030e-03  4.06226194e-04]\n",
      " [ 5.81102273e-04 -1.89385504e-03  1.12620589e-03  3.27901487e-03\n",
      "   4.48875643e-04  1.75578886e-03  1.59709270e-03 -7.64737413e-05\n",
      "  -9.35063977e-03  4.58928394e-02  1.08193749e-03  5.87310209e-04\n",
      "  -1.97945448e-02 -6.71674276e-04]\n",
      " [-3.54964039e-04 -1.50824983e-03  7.59084492e-04 -2.61504651e-03\n",
      "  -1.22586820e-03  1.54073696e-03  1.65825452e-03 -6.09851752e-03\n",
      "   2.44883894e-03  1.08193749e-03  2.77833252e-02 -9.64035094e-03\n",
      "  -2.08912374e-03  6.12688603e-04]\n",
      " [ 8.08287985e-04 -9.93433882e-05  5.51301729e-04 -5.73237313e-03\n",
      "  -2.33895970e-03  8.83139185e-04  2.63146859e-03  6.67291582e-05\n",
      "  -4.68082836e-03  5.87310209e-04 -9.64035094e-03  3.67357872e-02\n",
      "  -1.37320380e-02 -9.43750864e-05]\n",
      " [-4.28585078e-03 -3.50544398e-03 -3.98076161e-03 -2.47269241e-02\n",
      "   9.92788215e-04  5.51175397e-03 -2.06987886e-03  4.13448752e-03\n",
      "  -3.72083030e-03 -1.97945448e-02 -2.08912374e-03 -1.37320380e-02\n",
      "   2.10356013e-01  4.92781259e-03]\n",
      " [-6.64471209e-05 -1.16702582e-04 -4.24323763e-04 -3.91885671e-04\n",
      "  -6.31705029e-05 -9.94112589e-05  2.73791662e-04 -1.52066140e-04\n",
      "   4.06226194e-04 -6.71674276e-04  6.12688603e-04 -9.43750864e-05\n",
      "   4.92781259e-03  3.86637083e-02]]\n"
     ]
    }
   ],
   "source": [
    "print('true mean =', true_mean)\n",
    "print('true cov =', true_cov)"
   ]
  },
  {
   "cell_type": "code",
   "execution_count": 15,
   "metadata": {},
   "outputs": [
    {
     "data": {
      "text/plain": [
       "Inference for Stan model: regression_model_b1ab85b6e8abedc0878d3fa66ea1be75.\n",
       "10 chains, each with iter=50000; warmup=25000; thin=50; \n",
       "post-warmup draws per chain=500, total post-warmup draws=5000.\n",
       "\n",
       "           mean se_mean     sd    2.5%    25%    50%    75%  97.5%  n_eff   Rhat\n",
       "beta[1]    0.05  4.5e-4   0.03 -7.8e-3   0.03   0.05   0.08   0.12   4900    1.0\n",
       "beta[2]   -0.09  7.7e-4   0.05    -0.2  -0.13  -0.09  -0.06 8.7e-3   4699    1.0\n",
       "beta[3]   -0.08  1.4e-3   0.09   -0.26  -0.14  -0.08  -0.01   0.11   4389    1.0\n",
       "beta[4]   -0.48  3.2e-3   0.22   -0.92  -0.63  -0.49  -0.33  -0.04   4853    1.0\n",
       "beta[5]   -0.02  1.5e-3    0.1   -0.22  -0.08  -0.02   0.05   0.17   4613    1.0\n",
       "beta[6]    0.95  1.3e-3   0.09    0.79    0.9   0.96   1.01   1.12   4472    1.0\n",
       "beta[7]    -0.2  2.1e-3   0.14   -0.49   -0.3   -0.2   -0.1   0.08   4808    1.0\n",
       "beta[8]    0.24  2.1e-3   0.14   -0.04   0.14   0.24   0.33   0.51   4704    1.0\n",
       "beta[9]  9.5e-3  3.5e-3   0.23   -0.45  -0.15   0.01   0.17   0.46   4539    1.0\n",
       "beta[10]   0.13  3.2e-3   0.21   -0.29  -0.02   0.13   0.27   0.55   4601    1.0\n",
       "beta[11]   0.18  2.3e-3   0.17   -0.16   0.07   0.18   0.29    0.5   5144    1.0\n",
       "beta[12]   0.41  2.7e-3   0.19    0.03   0.28   0.41   0.54   0.79   5008    1.0\n",
       "beta[13]  -1.27  6.6e-3   0.46   -2.16  -1.57  -1.26  -0.95  -0.38   4875    1.0\n",
       "sigma      4.29  2.8e-3    0.2    3.93   4.16   4.28   4.42    4.7   4819    1.0\n",
       "lp__     -496.9    0.04    2.7  -503.0 -498.5 -496.6 -495.0 -492.6   4776    1.0\n",
       "\n",
       "Samples were drawn using NUTS at Fri Oct 30 18:09:20 2020.\n",
       "For each parameter, n_eff is a crude measure of effective sample size,\n",
       "and Rhat is the potential scale reduction factor on split chains (at \n",
       "convergence, Rhat=1)."
      ]
     },
     "execution_count": 15,
     "metadata": {},
     "output_type": "execute_result"
    }
   ],
   "source": [
    "fit"
   ]
  },
  {
   "cell_type": "markdown",
   "metadata": {},
   "source": [
    "# KLVI"
   ]
  },
  {
   "cell_type": "markdown",
   "metadata": {},
   "source": [
    "## Mean field with Gaussian"
   ]
  },
  {
   "cell_type": "code",
   "execution_count": 16,
   "metadata": {},
   "outputs": [
    {
     "name": "stderr",
     "output_type": "stream",
     "text": [
      "Average Loss = 516.89: 100%|██████████████████████████████████████████████████████| 4000/4000 [00:18<00:00, 216.07it/s]\n"
     ]
    }
   ],
   "source": [
    "mf_gaussian_var_family = mean_field_gaussian_variational_family(D+1)\n",
    "\n",
    "stan_log_density = make_stan_log_density(fit)\n",
    "klvi_objective_and_grad = black_box_klvi(mf_gaussian_var_family, stan_log_density, 100)\n",
    "\n",
    "init_mean = np.zeros(D+1)\n",
    "init_log_std = np.ones(D+1)\n",
    "init_var_param = np.concatenate([init_mean, init_log_std])\n",
    "n_iters = 4000\n",
    "\n",
    "klvi_var_param, klvi_param_history, klvi_history, _ = \\\n",
    "    adagrad_optimize(n_iters, klvi_objective_and_grad, init_var_param, learning_rate=.01)"
   ]
  },
  {
   "cell_type": "code",
   "execution_count": 17,
   "metadata": {},
   "outputs": [
    {
     "data": {
      "image/png": "[encoded data removed]",
      "text/plain": [
       "<Figure size 432x288 with 1 Axes>"
      ]
     },
     "metadata": {
      "needs_background": "light"
     },
     "output_type": "display_data"
    }
   ],
   "source": [
    "plot_dist_to_opt_param(klvi_param_history, klvi_var_param)"
   ]
  },
  {
   "cell_type": "code",
   "execution_count": 18,
   "metadata": {},
   "outputs": [
    {
     "name": "stdout",
     "output_type": "stream",
     "text": [
      "mean   = [ 0.05479496 -0.09455725 -0.07659937 -0.48606879 -0.01804813  0.95497114\n",
      " -0.19969208  0.23707727  0.00912263  0.13256854  0.17524109  0.41084667\n",
      " -1.27140658  1.45740761]\n",
      "stdevs = [0.02142814 0.00919941 0.07391125 0.11054225 0.03221199 0.02509421\n",
      " 0.03762789 0.05127644 0.11096117 0.15660123 0.08889333 0.13315179\n",
      " 0.276259   0.04430507]\n",
      "\n",
      "mean error             = 2.83\n",
      "stdev error            = 0.356\n",
      "||cov error||_2^{1/2}  = 0.381\n",
      "||true cov||_2^{1/2}   = 0.467\n"
     ]
    }
   ],
   "source": [
    "check_approx_accuracy(mf_gaussian_var_family, klvi_var_param, true_mean, true_cov, verbose=True);"
   ]
  },
  {
   "cell_type": "code",
   "execution_count": 19,
   "metadata": {},
   "outputs": [],
   "source": [
    "mc_samples = 1000000"
   ]
  },
  {
   "cell_type": "markdown",
   "metadata": {},
   "source": [
    "samples, smoothed log weights, khat"
   ]
  },
  {
   "cell_type": "code",
   "execution_count": 20,
   "metadata": {},
   "outputs": [
    {
     "name": "stderr",
     "output_type": "stream",
     "text": [
      "C:\\ProgramData\\Anaconda3\\lib\\site-packages\\numpy\\core\\fromnumeric.py:86: RuntimeWarning: overflow encountered in reduce\n",
      "  return ufunc.reduce(obj, axis, dtype, out, **passkwargs)\n"
     ]
    }
   ],
   "source": [
    "klvi_samples, klvi_slw, klvi_khat = psis_correction(stan_log_density, mf_gaussian_var_family, klvi_var_param, mc_samples)"
   ]
  },
  {
   "cell_type": "code",
   "execution_count": 21,
   "metadata": {},
   "outputs": [
    {
     "name": "stdout",
     "output_type": "stream",
     "text": [
      "1.0946851052257078\n"
     ]
    }
   ],
   "source": [
    "print(klvi_khat)"
   ]
  },
  {
   "cell_type": "code",
   "execution_count": 22,
   "metadata": {},
   "outputs": [
    {
     "data": {
      "text/plain": [
       "array([-17.14970291, -19.29554535, -18.55722353, ..., -20.71726387,\n",
       "       -16.28525681, -17.45610398])"
      ]
     },
     "execution_count": 22,
     "metadata": {},
     "output_type": "execute_result"
    }
   ],
   "source": [
    "klvi_slw"
   ]
  },
  {
   "cell_type": "markdown",
   "metadata": {},
   "source": [
    "## Mean field with t distribution (df=40)"
   ]
  },
  {
   "cell_type": "code",
   "execution_count": 23,
   "metadata": {},
   "outputs": [
    {
     "name": "stderr",
     "output_type": "stream",
     "text": [
      "Average Loss = 537.05: 100%|██████████████████████████████████████████████████████| 4000/4000 [00:17<00:00, 228.23it/s]\n"
     ]
    }
   ],
   "source": [
    "mf_t_var_family = mean_field_t_variational_family(D+1, 40)\n",
    "klvi_objective_and_grad = black_box_klvi(mf_t_var_family, stan_log_density, 100)\n",
    "\n",
    "klvi_t_var_param, klvi_t_param_history, klvi_t_history, _ = \\\n",
    "    adagrad_optimize(n_iters, klvi_objective_and_grad, init_var_param, learning_rate=.01)"
   ]
  },
  {
   "cell_type": "code",
   "execution_count": 24,
   "metadata": {},
   "outputs": [
    {
     "data": {
      "image/png": "[encoded data removed]",
      "text/plain": [
       "<Figure size 432x288 with 1 Axes>"
      ]
     },
     "metadata": {
      "needs_background": "light"
     },
     "output_type": "display_data"
    }
   ],
   "source": [
    "plot_dist_to_opt_param(klvi_t_param_history, klvi_t_var_param)"
   ]
  },
  {
   "cell_type": "code",
   "execution_count": 25,
   "metadata": {},
   "outputs": [
    {
     "name": "stdout",
     "output_type": "stream",
     "text": [
      "mean   = [ 0.05482369 -0.0945363  -0.07677745 -0.48609211 -0.01803252  0.95498498\n",
      " -0.19950477  0.23739842  0.00907599  0.13223101  0.17480737  0.41011523\n",
      " -1.27250798  1.45740975]\n",
      "stdevs = [0.02153003 0.00925324 0.07406221 0.11035422 0.03265708 0.02517545\n",
      " 0.03813403 0.05168736 0.11153688 0.15768927 0.08982339 0.13342655\n",
      " 0.27882378 0.04414523]\n",
      "\n",
      "mean error             = 2.83\n",
      "stdev error            = 0.353\n",
      "||cov error||_2^{1/2}  = 0.38\n",
      "||true cov||_2^{1/2}   = 0.467\n"
     ]
    }
   ],
   "source": [
    "check_approx_accuracy(mf_t_var_family, klvi_t_var_param, true_mean, true_cov, verbose=True);"
   ]
  },
  {
   "cell_type": "code",
   "execution_count": 26,
   "metadata": {},
   "outputs": [],
   "source": [
    "klvi_t_samples, klvi_t_slw, klvi_t_khat = \\\n",
    "    psis_correction(stan_log_density, mf_t_var_family, klvi_t_var_param, mc_samples)"
   ]
  },
  {
   "cell_type": "code",
   "execution_count": 27,
   "metadata": {},
   "outputs": [
    {
     "name": "stdout",
     "output_type": "stream",
     "text": [
      "1.0927024205868423\n"
     ]
    }
   ],
   "source": [
    "print(klvi_t_khat)"
   ]
  },
  {
   "cell_type": "code",
   "execution_count": 28,
   "metadata": {},
   "outputs": [
    {
     "data": {
      "text/plain": [
       "array([-26.29609848, -20.19557557, -38.79349235, ..., -23.0372889 ,\n",
       "       -16.56285024, -17.97763012])"
      ]
     },
     "execution_count": 28,
     "metadata": {},
     "output_type": "execute_result"
    }
   ],
   "source": [
    "klvi_t_slw"
   ]
  },
  {
   "cell_type": "markdown",
   "metadata": {},
   "source": [
    "# CHIVI"
   ]
  },
  {
   "cell_type": "markdown",
   "metadata": {},
   "source": [
    "## Mean field with Gaussian"
   ]
  },
  {
   "cell_type": "code",
   "execution_count": 29,
   "metadata": {},
   "outputs": [
    {
     "name": "stderr",
     "output_type": "stream",
     "text": [
      "Average Loss = -3,376.9: 100%|█████████████████████████████████████████████████████| 4000/4000 [01:42<00:00, 39.20it/s]\n"
     ]
    }
   ],
   "source": [
    "mf_gaussian_var_family = mean_field_gaussian_variational_family(D+1)\n",
    "chivi_objective_and_grad = black_box_chivi(2, mf_gaussian_var_family, stan_log_density, 400)\n",
    "\n",
    "# why did they do this?\n",
    "init_var_param = klvi_var_param.copy()\n",
    "init_var_param[2:] += 3\n",
    "\n",
    "#init_mean = np.zeros(D+1)\n",
    "#init_log_std = np.ones(D+1)\n",
    "#init_var_param = np.concatenate([init_mean, init_log_std])\n",
    "# n_iters = 5000\n",
    "\n",
    "chivi_var_param, chivi_param_history, chivi_history, _ = \\\n",
    "    adagrad_optimize(n_iters, chivi_objective_and_grad, init_var_param, learning_rate=.01)"
   ]
  },
  {
   "cell_type": "code",
   "execution_count": 30,
   "metadata": {},
   "outputs": [
    {
     "data": {
      "image/png": "[encoded data removed]",
      "text/plain": [
       "<Figure size 432x288 with 1 Axes>"
      ]
     },
     "metadata": {
      "needs_background": "light"
     },
     "output_type": "display_data"
    }
   ],
   "source": [
    "plot_dist_to_opt_param(chivi_param_history, chivi_var_param)"
   ]
  },
  {
   "cell_type": "code",
   "execution_count": 31,
   "metadata": {},
   "outputs": [
    {
     "name": "stdout",
     "output_type": "stream",
     "text": [
      "mean   = [ 0.78683661  9.33911034  5.73709609  5.91184536  9.96880963 11.81321819\n",
      "  9.33997831  8.91552046  6.73366843  5.61465864  7.36846506  6.6457997\n",
      "  1.86823157  4.84547912]\n",
      "stdevs = [2.81716593e-01 5.27662022e-02 7.42630665e-01 6.05011544e-01\n",
      " 1.60616093e-01 1.26347109e-01 1.92613168e-01 2.55602599e-01\n",
      " 5.35815984e-01 1.22995154e+00 4.13801002e-01 7.68532533e-01\n",
      " 9.77322117e+02 6.74683447e+00]\n",
      "\n",
      "mean error             = 26.9\n",
      "stdev error            = 977\n",
      "||cov error||_2^{1/2}  = 977\n",
      "||true cov||_2^{1/2}   = 0.467\n"
     ]
    }
   ],
   "source": [
    "check_approx_accuracy(mf_gaussian_var_family, chivi_var_param, true_mean, true_cov, verbose=True);"
   ]
  },
  {
   "cell_type": "code",
   "execution_count": 32,
   "metadata": {},
   "outputs": [
    {
     "name": "stderr",
     "output_type": "stream",
     "text": [
      "C:\\Users\\Ben\\Desktop\\blackbox_scripts\\psis.py:350: RuntimeWarning: overflow encountered in expm1\n",
      "  np.expm1(x, out=x)\n"
     ]
    }
   ],
   "source": [
    "chivi_samples, chivi_slw, chivi_khat = psis_correction(stan_log_density, mf_gaussian_var_family, chivi_var_param, mc_samples)"
   ]
  },
  {
   "cell_type": "code",
   "execution_count": 33,
   "metadata": {},
   "outputs": [
    {
     "name": "stdout",
     "output_type": "stream",
     "text": [
      "192.1167007499279\n"
     ]
    }
   ],
   "source": [
    "print(chivi_khat)"
   ]
  },
  {
   "cell_type": "code",
   "execution_count": 34,
   "metadata": {},
   "outputs": [
    {
     "data": {
      "text/plain": [
       "array([-2.79940017e+05, -4.26494788e+04, -7.04692620e+11, ...,\n",
       "       -1.11879821e+07, -1.93093238e+04, -7.03173024e+05])"
      ]
     },
     "execution_count": 34,
     "metadata": {},
     "output_type": "execute_result"
    }
   ],
   "source": [
    "chivi_slw"
   ]
  },
  {
   "cell_type": "markdown",
   "metadata": {},
   "source": [
    "## Mean field with t distribution (df=40)"
   ]
  },
  {
   "cell_type": "code",
   "execution_count": 35,
   "metadata": {},
   "outputs": [
    {
     "name": "stderr",
     "output_type": "stream",
     "text": [
      "Average Loss = -2,906: 100%|███████████████████████████████████████████████████████| 4000/4000 [01:32<00:00, 43.23it/s]\n"
     ]
    }
   ],
   "source": [
    "mf_t_var_family = mean_field_t_variational_family(D+1, 40)\n",
    "chivi_objective_and_grad = black_box_chivi(2, mf_t_var_family, stan_log_density, 400)\n",
    "\n",
    "init_var_param = klvi_var_param.copy()\n",
    "init_var_param[2:] += 3\n",
    "\n",
    "chivi_t_var_param, chivi_t_param_history, chivi_t_history, _ = \\\n",
    "    adagrad_optimize(n_iters, chivi_objective_and_grad, init_var_param, learning_rate=.01)"
   ]
  },
  {
   "cell_type": "code",
   "execution_count": 36,
   "metadata": {},
   "outputs": [
    {
     "data": {
      "image/png": "[encoded data removed]",
      "text/plain": [
       "<Figure size 432x288 with 1 Axes>"
      ]
     },
     "metadata": {
      "needs_background": "light"
     },
     "output_type": "display_data"
    }
   ],
   "source": [
    "plot_dist_to_opt_param(chivi_t_param_history, chivi_t_var_param)"
   ]
  },
  {
   "cell_type": "code",
   "execution_count": 37,
   "metadata": {},
   "outputs": [],
   "source": [
    "chivi_t_samples, chivi_t_slw, chivi_t_khat = \\\n",
    "    psis_correction(stan_log_density, mf_t_var_family, chivi_t_var_param, mc_samples)"
   ]
  },
  {
   "cell_type": "code",
   "execution_count": 38,
   "metadata": {},
   "outputs": [
    {
     "name": "stdout",
     "output_type": "stream",
     "text": [
      "99.79494821243442\n"
     ]
    }
   ],
   "source": [
    "print(chivi_t_khat)"
   ]
  },
  {
   "cell_type": "code",
   "execution_count": 39,
   "metadata": {},
   "outputs": [
    {
     "data": {
      "text/plain": [
       "array([ -379857.31410657, -1272680.47121664,  -792546.54894496, ...,\n",
       "        -842041.01849013,  -191079.59704286,   -47655.12552351])"
      ]
     },
     "execution_count": 39,
     "metadata": {},
     "output_type": "execute_result"
    }
   ],
   "source": [
    "chivi_t_slw"
   ]
  },
  {
   "cell_type": "markdown",
   "metadata": {},
   "source": [
    "# Non-mean field full-rank "
   ]
  },
  {
   "cell_type": "code",
   "execution_count": 40,
   "metadata": {},
   "outputs": [
    {
     "name": "stderr",
     "output_type": "stream",
     "text": [
      "Average Loss = 529.36: 100%|██████████████████████████████████████████████████████| 4000/4000 [00:24<00:00, 161.06it/s]\n"
     ]
    }
   ],
   "source": [
    "t_var_family = t_variational_family(D+1, 100)\n",
    "full_klvi_objective_and_grad = black_box_klvi(t_var_family, stan_log_density, 100)\n",
    "\n",
    "init_var_param = np.zeros(t_var_family.var_param_dim)\n",
    "\n",
    "full_klvi_var_param, full_klvi_param_history, full_klvi_history, _ = \\\n",
    "    adagrad_optimize(n_iters, full_klvi_objective_and_grad, init_var_param, \n",
    "                     learning_rate=.1, learning_rate_end=.001)"
   ]
  },
  {
   "cell_type": "code",
   "execution_count": 41,
   "metadata": {},
   "outputs": [
    {
     "data": {
      "image/png": "[encoded data removed]",
      "text/plain": [
       "<Figure size 432x288 with 1 Axes>"
      ]
     },
     "metadata": {
      "needs_background": "light"
     },
     "output_type": "display_data"
    }
   ],
   "source": [
    "plot_dist_to_opt_param(full_klvi_param_history, full_klvi_var_param)"
   ]
  },
  {
   "cell_type": "code",
   "execution_count": 42,
   "metadata": {},
   "outputs": [],
   "source": [
    "full_klvi_samples, full_klvi_slw, full_klvi_khat = \\\n",
    "    psis_correction(stan_log_density, t_var_family, full_klvi_var_param, mc_samples)"
   ]
  },
  {
   "cell_type": "code",
   "execution_count": 43,
   "metadata": {},
   "outputs": [
    {
     "name": "stdout",
     "output_type": "stream",
     "text": [
      "0.11584480118829898\n"
     ]
    }
   ],
   "source": [
    "print(full_klvi_khat)"
   ]
  },
  {
   "cell_type": "code",
   "execution_count": 44,
   "metadata": {},
   "outputs": [
    {
     "data": {
      "text/plain": [
       "array([-13.76246915, -13.84182864, -13.86476834, ..., -13.73238751,\n",
       "       -13.77397031, -14.23821483])"
      ]
     },
     "execution_count": 44,
     "metadata": {},
     "output_type": "execute_result"
    }
   ],
   "source": [
    "full_klvi_slw"
   ]
  },
  {
   "cell_type": "markdown",
   "metadata": {},
   "source": [
    "### CHIVI full rank"
   ]
  },
  {
   "cell_type": "code",
   "execution_count": 46,
   "metadata": {},
   "outputs": [],
   "source": [
    "# t_var_family = t_variational_family(D+1, 100)\n",
    "# full_chivi_objective_and_grad = black_box_chivi(2, t_var_family, stan_log_density, 400)\n",
    "\n",
    "# init_var_param = full_klvi_var_param.copy()\n",
    "# init_var_param[2:] += 3\n",
    "\n",
    "# full_chivi_var_param, full_chivi_param_history, full_chivi_history, _ = \\\n",
    "#     adagrad_optimize(n_iters, full_chivi_objective_and_grad, init_var_param, \n",
    "#                      learning_rate=.1, learning_rate_end=.001)"
   ]
  },
  {
   "cell_type": "code",
   "execution_count": 47,
   "metadata": {},
   "outputs": [],
   "source": [
    "#plot_dist_to_opt_param(full_chivi_param_history, full_chivi_var_param)"
   ]
  },
  {
   "cell_type": "code",
   "execution_count": 48,
   "metadata": {},
   "outputs": [],
   "source": [
    "#full_chivi_samples, full_chivi_slw, full_chivi_khat = \\\n",
    "#    psis_correction(stan_log_density, t_var_family, full_chivi_var_param, mc_samples)"
   ]
  },
  {
   "cell_type": "code",
   "execution_count": 49,
   "metadata": {},
   "outputs": [],
   "source": [
    "#print(full_chivi_khat)"
   ]
  },
  {
   "cell_type": "code",
   "execution_count": null,
   "metadata": {},
   "outputs": [],
   "source": [
    "#full_chivi_slw"
   ]
  }
 ],
 "metadata": {
  "kernelspec": {
   "display_name": "Python 3",
   "language": "python",
   "name": "python3"
  },
  "language_info": {
   "codemirror_mode": {
    "name": "ipython",
    "version": 3
   },
   "file_extension": ".py",
   "mimetype": "text/x-python",
   "name": "python",
   "nbconvert_exporter": "python",
   "pygments_lexer": "ipython3",
   "version": "3.7.3"
  }
 },
 "nbformat": 4,
 "nbformat_minor": 2
}
