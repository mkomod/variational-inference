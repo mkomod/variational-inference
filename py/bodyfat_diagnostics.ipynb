{
 "cells": [
  {
   "cell_type": "code",
   "execution_count": 1,
   "metadata": {},
   "outputs": [],
   "source": [
    "%load_ext autoreload\n",
    "%autoreload 2"
   ]
  },
  {
   "cell_type": "code",
   "execution_count": 11,
   "metadata": {},
   "outputs": [],
   "source": [
    "from functools import partial\n",
    "import time\n",
    "\n",
    "import numpy as np\n",
    "import pandas as pd\n",
    "import matplotlib.pyplot as plt\n",
    "import seaborn as sns\n",
    "\n",
    "import torch\n",
    "import torch.distributions as dist\n",
    "import pyro\n",
    "import pyro.distributions as pyro_dist\n",
    "from pyro.infer.autoguide import AutoDiagonalNormal, AutoMultivariateNormal, init_to_mean, AutoNormal\n",
    "from pyro.infer import SVI, Trace_ELBO\n",
    "\n",
    "import bayesreg_pyro as br\n",
    "import vi_diagnostics as vid"
   ]
  },
  {
   "cell_type": "code",
   "execution_count": 12,
   "metadata": {},
   "outputs": [],
   "source": [
    "data = pd.read_csv(\"bodyfat.csv\").drop(\"Density\", axis=1)\n",
    "data = data - data.mean()\n",
    "\n",
    "y_data = torch.Tensor(data[\"Bodyfat\"].values)\n",
    "x_data = torch.Tensor(data.drop(\"Bodyfat\", axis=1).values)\n",
    "in_features = x_data.shape[1]"
   ]
  },
  {
   "cell_type": "code",
   "execution_count": 15,
   "metadata": {},
   "outputs": [
    {
     "name": "stdout",
     "output_type": "stream",
     "text": [
      "SVI time: 19.9405779838562 sec\n"
     ]
    }
   ],
   "source": [
    "model = br.BayesianRegression(in_features, 1)\n",
    "guide = AutoDiagonalNormal(model) # Stochastic Mean field\n",
    "adam = pyro.optim.Adam({\"lr\": 0.01})\n",
    "svi = SVI(model, guide, adam, loss=Trace_ELBO())\n",
    "\n",
    "torch.manual_seed(12)\n",
    "pyro.clear_param_store()\n",
    "tic=time.time()\n",
    "elbos, samples = br.run_vi(x_data, y_data, svi, model, guide)\n",
    "toc=time.time()\n",
    "print(f\"SVI time: {toc-tic} sec\")"
   ]
  },
  {
   "cell_type": "code",
   "execution_count": null,
   "metadata": {},
   "outputs": [],
   "source": [
    "# I think we can use much less samples as optimiser is already in a \"good region\"?\n",
    "inf_engine = partial(\n",
    "    br.run_vi, vi_engine=svi, model=model, guide=guide, num_iterations=5000, return_elbo=False\n",
    ")\n",
    "torch.manual_seed(1212)\n",
    "tic = time.time()\n",
    "prob = vid.diagnose_vi_VSBC(x_data, model, guide, inf_engine, replications=150)\n",
    "toc = time.time()\n"
   ]
  },
  {
   "cell_type": "code",
   "execution_count": 47,
   "metadata": {},
   "outputs": [
    {
     "name": "stdout",
     "output_type": "stream",
     "text": [
      "2 replications took 11.39851188659668sec\n"
     ]
    }
   ],
   "source": [
    "print(f\"2 replications took {toc-tic}sec\")"
   ]
  },
  {
   "cell_type": "code",
   "execution_count": 49,
   "metadata": {},
   "outputs": [
    {
     "data": {
      "text/plain": [
       "array([[0.0000000e+00, 0.0000000e+00, 1.0000000e+00, 0.0000000e+00,\n",
       "        1.0000000e+00, 9.9999970e-01, 0.0000000e+00, 0.0000000e+00,\n",
       "        1.0000000e+00, 9.9965870e-01, 1.9035935e-03, 0.0000000e+00,\n",
       "        3.6424398e-04, 1.1244416e-04, 2.8929168e-01]], dtype=float32)"
      ]
     },
     "execution_count": 49,
     "metadata": {},
     "output_type": "execute_result"
    }
   ],
   "source": [
    "prob"
   ]
  },
  {
   "cell_type": "code",
   "execution_count": null,
   "metadata": {},
   "outputs": [],
   "source": []
  }
 ],
 "metadata": {
  "kernelspec": {
   "display_name": "Python 3",
   "language": "python",
   "name": "python3"
  },
  "language_info": {
   "codemirror_mode": {
    "name": "ipython",
    "version": 3
   },
   "file_extension": ".py",
   "mimetype": "text/x-python",
   "name": "python",
   "nbconvert_exporter": "python",
   "pygments_lexer": "ipython3",
   "version": "3.7.8"
  }
 },
 "nbformat": 4,
 "nbformat_minor": 4
}
