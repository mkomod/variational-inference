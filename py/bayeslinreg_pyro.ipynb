{
 "cells": [
  {
   "cell_type": "markdown",
   "metadata": {},
   "source": [
    "##### DI: experimental code, might have bugs\n",
    "\n",
    "- replicates the experiments in https://arxiv.org/abs/1802.02538"
   ]
  },
  {
   "cell_type": "code",
   "execution_count": 1,
   "metadata": {},
   "outputs": [],
   "source": [
    "from functools import partial\n",
    "import time\n",
    "\n",
    "import numpy as np\n",
    "import pandas as pd\n",
    "import matplotlib.pyplot as plt\n",
    "import seaborn as sns\n",
    "\n",
    "import torch\n",
    "import torch.distributions as dist\n",
    "import pyro\n",
    "import pyro.distributions as pyro_dist\n",
    "from pyro.nn import PyroSample\n",
    "from pyro.nn import PyroModule"
   ]
  },
  {
   "cell_type": "code",
   "execution_count": 2,
   "metadata": {},
   "outputs": [],
   "source": [
    "# Bayesian linear regression: y~N(Xbeta, sigma^2)\n",
    "n = 10000 # number of samples\n",
    "d = 100   # number of features\n",
    "m = 250  # number of replications\n",
    "\n",
    "torch.manual_seed(20201028)\n",
    "betas=dist.Normal(0, 1).sample(torch.Size([d])) # \"true betas?\" these are actually not needed.\n",
    "x=dist.Normal(0, 1).sample(torch.Size([n, d])) \n",
    "\n",
    "torch.manual_seed(20201028)\n",
    "# priors?\n",
    "b0 = dist.Normal(0, 1).sample(torch.Size([d, m]))      # 1000 replications for the VSBC diagnostic\n",
    "sigma0 = dist.Gamma(0.5, 0.5).sample(torch.Size([m]))  # 1000 replications for the VSBC diagnostic\n",
    "y_mean = torch.matmul(x, b0) # \"syntethic data\"\n",
    "prob = torch.zeros(m, d+1)"
   ]
  },
  {
   "cell_type": "code",
   "execution_count": 3,
   "metadata": {},
   "outputs": [
    {
     "name": "stdout",
     "output_type": "stream",
     "text": [
      "torch.Size([10000, 250])\n",
      "torch.Size([10000, 100])\n"
     ]
    }
   ],
   "source": [
    "# y shape is [n_samples x n_datasets]\n",
    "print(y_mean.shape)\n",
    "# x shape is [n_samples, n_features] and applies to all datasets\n",
    "print(x.shape)"
   ]
  },
  {
   "cell_type": "code",
   "execution_count": 4,
   "metadata": {},
   "outputs": [],
   "source": [
    "from pyro.infer.autoguide import AutoDiagonalNormal\n",
    "from pyro.infer import SVI, Trace_ELBO, Predictive\n",
    "\n",
    "\n",
    "class BayesianRegression(PyroModule):\n",
    "    def __init__(self, in_features, out_features):\n",
    "        super().__init__()\n",
    "        self.linear = PyroModule[torch.nn.Linear](in_features, out_features, bias=False)\n",
    "        self.linear.weight = PyroSample(pyro_dist.Normal(0., 1.).expand([out_features, in_features]).to_event(2))\n",
    "        \n",
    "        \n",
    "    def forward(self, x, y=None):\n",
    "        sigma = pyro.sample(\"sigma\",  pyro_dist.Gamma(0.5, 0.5))\n",
    "        mean = self.linear(x).squeeze(-1)\n",
    "        with pyro.plate(\"data\", x.shape[0]):\n",
    "            obs = pyro.sample(\"obs\", pyro_dist.Normal(mean, sigma), obs=y)\n",
    "        return mean\n",
    "    \n",
    "\n",
    "model = BayesianRegression(d, 1)\n",
    "guide = AutoDiagonalNormal(model) # Stochastic Mean field\n",
    "adam = pyro.optim.Adam({\"lr\": 0.03})\n",
    "svi = SVI(model, guide, adam, loss=Trace_ELBO())\n",
    "\n",
    "def run_vi(x_data, y_data, svi, model, guide, num_iterations=int(1e4), num_post_samples=int(1e4)):    \n",
    "    pyro.clear_param_store()\n",
    "    \n",
    "    for j in range(num_iterations):\n",
    "        # calculate the loss and take a gradient step\n",
    "        loss = svi.step(x_data, y_data)\n",
    "    guide.requires_grad_(False)\n",
    "    predictive = Predictive(\n",
    "        model, guide=guide, num_samples=num_post_samples, return_sites=(\"linear.weight\", \"sigma\",)\n",
    "    )\n",
    "    \n",
    "    samples = predictive(x_data)\n",
    "    return samples"
   ]
  },
  {
   "cell_type": "code",
   "execution_count": null,
   "metadata": {},
   "outputs": [],
   "source": [
    "##################################################################\n",
    "## Load the p-values directly, the below takes a while to compute \n",
    "##################################################################"
   ]
  },
  {
   "cell_type": "code",
   "execution_count": 5,
   "metadata": {},
   "outputs": [
    {
     "name": "stdout",
     "output_type": "stream",
     "text": [
      "0/250... Last run lasted: 35.82115697860718 sec\n",
      "10/250... Last run lasted: 31.583512783050537 sec\n",
      "20/250... Last run lasted: 31.45512294769287 sec\n",
      "30/250... Last run lasted: 33.86094331741333 sec\n",
      "40/250... Last run lasted: 31.590176105499268 sec\n",
      "50/250... Last run lasted: 31.693382263183594 sec\n",
      "60/250... Last run lasted: 32.963562965393066 sec\n",
      "70/250... Last run lasted: 33.84242296218872 sec\n",
      "80/250... Last run lasted: 37.159234046936035 sec\n",
      "90/250... Last run lasted: 39.029316902160645 sec\n",
      "100/250... Last run lasted: 37.443867206573486 sec\n",
      "110/250... Last run lasted: 37.00340676307678 sec\n",
      "120/250... Last run lasted: 38.388418674468994 sec\n",
      "130/250... Last run lasted: 36.74188804626465 sec\n",
      "140/250... Last run lasted: 36.21094012260437 sec\n",
      "150/250... Last run lasted: 38.0653817653656 sec\n",
      "160/250... Last run lasted: 37.13709592819214 sec\n",
      "170/250... Last run lasted: 39.21133995056152 sec\n",
      "180/250... Last run lasted: 39.268141746520996 sec\n",
      "190/250... Last run lasted: 37.20742678642273 sec\n",
      "200/250... Last run lasted: 35.68769097328186 sec\n",
      "210/250... Last run lasted: 35.61198019981384 sec\n",
      "220/250... Last run lasted: 40.51602792739868 sec\n",
      "230/250... Last run lasted: 37.06008505821228 sec\n",
      "240/250... Last run lasted: 38.2952561378479 sec\n"
     ]
    }
   ],
   "source": [
    "if False:\n",
    "    for i in range(m):\n",
    "        tic = time.time()\n",
    "        y_sim = y_mean[:, i] + dist.Normal(0, sigma0[i]).sample(torch.Size([n]))\n",
    "        # do VI\n",
    "        samples = run_vi(x, y_sim, svi, model, guide)\n",
    "\n",
    "        b_sim = samples[\"linear.weight\"]\n",
    "        b_mean = b_sim.mean(axis=0).reshape(-1, )\n",
    "        b_sd = b_sim.std(axis=0).reshape(-1, )\n",
    "        sigma_sim_log = torch.log(samples[\"sigma\"])\n",
    "\n",
    "        prob[i]=torch.cat((\n",
    "            dist.Normal(b_mean, b_sd).cdf(b0[:, i]),\n",
    "            dist.Normal(sigma_sim_log.mean(), sigma_sim_log.std()).cdf(torch.log(sigma0[i])).reshape(1, )\n",
    "        ))\n",
    "        toc = time.time()\n",
    "        if i % 10 == 0:\n",
    "            print(f\"{i}/{m}... Last run lasted: {toc-tic} sec\")\n",
    "    \n",
    "    probnp = prob.numpy()\n",
    "    pd.DataFrame(probnp).to_csv(\"prob_fig1.csv\")\n",
    "            \n",
    "else:\n",
    "    probnp = pd.read_csv(\"results/prob_fig1.csv\", index_col=0).values\n"
   ]
  },
  {
   "cell_type": "code",
   "execution_count": 7,
   "metadata": {},
   "outputs": [
    {
     "data": {
      "image/png": "[encoded data removed]",
      "text/plain": [
       "<Figure size 432x288 with 1 Axes>"
      ]
     },
     "metadata": {
      "needs_background": "light"
     },
     "output_type": "display_data"
    }
   ],
   "source": [
    "plt.hist(probnp[:, -1])\n",
    "plt.title(\"Sigma\")\n",
    "plt.show()"
   ]
  },
  {
   "cell_type": "code",
   "execution_count": 8,
   "metadata": {},
   "outputs": [
    {
     "data": {
      "image/png": "[encoded data removed]",
      "text/plain": [
       "<Figure size 432x288 with 1 Axes>"
      ]
     },
     "metadata": {
      "needs_background": "light"
     },
     "output_type": "display_data"
    }
   ],
   "source": [
    "plt.hist(probnp[:, 10])\n",
    "plt.title(\"A beta\")\n",
    "plt.show()"
   ]
  },
  {
   "cell_type": "code",
   "execution_count": null,
   "metadata": {},
   "outputs": [],
   "source": []
  },
  {
   "cell_type": "code",
   "execution_count": null,
   "metadata": {},
   "outputs": [],
   "source": []
  },
  {
   "cell_type": "code",
   "execution_count": null,
   "metadata": {},
   "outputs": [],
   "source": []
  },
  {
   "cell_type": "code",
   "execution_count": null,
   "metadata": {},
   "outputs": [],
   "source": []
  }
 ],
 "metadata": {
  "kernelspec": {
   "display_name": "Python 3",
   "language": "python",
   "name": "python3"
  },
  "language_info": {
   "codemirror_mode": {
    "name": "ipython",
    "version": 3
   },
   "file_extension": ".py",
   "mimetype": "text/x-python",
   "name": "python",
   "nbconvert_exporter": "python",
   "pygments_lexer": "ipython3",
   "version": "3.7.8"
  }
 },
 "nbformat": 4,
 "nbformat_minor": 4
}
