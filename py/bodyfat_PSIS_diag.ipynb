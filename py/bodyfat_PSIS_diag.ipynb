{
 "cells": [
  {
   "cell_type": "code",
   "execution_count": 1,
   "metadata": {},
   "outputs": [],
   "source": [
    "%load_ext autoreload\n",
    "%autoreload 2"
   ]
  },
  {
   "cell_type": "code",
   "execution_count": 7,
   "metadata": {},
   "outputs": [],
   "source": [
    "from functools import partial\n",
    "import time\n",
    "\n",
    "import numpy as np\n",
    "import pandas as pd\n",
    "import matplotlib.pyplot as plt\n",
    "import seaborn as sns\n",
    "\n",
    "import torch\n",
    "import torch.distributions as dist\n",
    "import pyro\n",
    "import pyro.distributions as pyro_dist\n",
    "from pyro.infer.autoguide import AutoDiagonalNormal, AutoMultivariateNormal, init_to_mean, AutoNormal\n",
    "from pyro.infer import SVI, Trace_ELBO\n",
    "\n",
    "import bayesreg_pyro as br\n",
    "import vi_diagnostics as vid\n",
    "\n",
    "import sys\n",
    "# append path to PSIS, cloned from https://github.com/avehtari/PSIS\n",
    "sys.path.append(\"/Users/zizi/code/SML_VI\")\n",
    "from PSIS.py import psis"
   ]
  },
  {
   "cell_type": "code",
   "execution_count": 3,
   "metadata": {},
   "outputs": [],
   "source": [
    "data = pd.read_csv(\"bodyfat.csv\").drop(\"Density\", axis=1)\n",
    "data = data - data.mean()\n",
    "\n",
    "y_data = torch.Tensor(data[\"Bodyfat\"].values)\n",
    "x_data = torch.Tensor(data.drop(\"Bodyfat\", axis=1).values)\n",
    "in_features = x_data.shape[1]"
   ]
  },
  {
   "cell_type": "code",
   "execution_count": 4,
   "metadata": {},
   "outputs": [
    {
     "name": "stdout",
     "output_type": "stream",
     "text": [
      "SVI time: 21.97310996055603 sec\n"
     ]
    }
   ],
   "source": [
    "model = br.BayesianRegression(in_features, 1)\n",
    "guide = AutoDiagonalNormal(model) # Stochastic Mean field\n",
    "adam = pyro.optim.Adam({\"lr\": 0.01})\n",
    "svi = SVI(model, guide, adam, loss=Trace_ELBO())\n",
    "\n",
    "torch.manual_seed(12)\n",
    "pyro.clear_param_store()\n",
    "tic=time.time()\n",
    "elbos, samples = br.run_vi(x_data, y_data, svi, model, guide)\n",
    "toc=time.time()\n",
    "print(f\"SVI time: {toc-tic} sec\")"
   ]
  },
  {
   "cell_type": "code",
   "execution_count": 20,
   "metadata": {},
   "outputs": [
    {
     "name": "stdout",
     "output_type": "stream",
     "text": [
      "0.808535623550415\n"
     ]
    }
   ],
   "source": [
    "imp_lw = vid.sample_and_calculate_log_impweight(x_data, y_data, model, guide, 200)\n",
    "lw, kappa = psis.psislw(imp_lw)\n",
    "print(kappa)"
   ]
  },
  {
   "cell_type": "code",
   "execution_count": 21,
   "metadata": {},
   "outputs": [
    {
     "name": "stdout",
     "output_type": "stream",
     "text": [
      "Non-MFVI time: 23.327373027801514 sec\n"
     ]
    }
   ],
   "source": [
    "torch.manual_seed(12)\n",
    "pyro.clear_param_store()\n",
    "\n",
    "guide_mvt = AutoMultivariateNormal(model, init_loc_fn=init_to_mean)\n",
    "svi_mvt = SVI(model, guide_mvt, pyro.optim.Adam({\"lr\": 0.01}), loss=Trace_ELBO())\n",
    "\n",
    "tic = time.time()\n",
    "elbos_mvt, samples_mvt = br.run_vi(x_data, y_data, svi_mvt, model, guide_mvt)\n",
    "toc=time.time()\n",
    "print(f\"Non-MFVI time: {toc-tic} sec\")"
   ]
  },
  {
   "cell_type": "code",
   "execution_count": 29,
   "metadata": {},
   "outputs": [
    {
     "name": "stdout",
     "output_type": "stream",
     "text": [
      "0.2802536725997925\n"
     ]
    }
   ],
   "source": [
    "imp_lw = vid.sample_and_calculate_log_impweight(x_data, y_data, model, guide_mvt, 200)\n",
    "lw, kappa = psis.psislw(imp_lw)\n",
    "print(kappa)"
   ]
  },
  {
   "cell_type": "code",
   "execution_count": null,
   "metadata": {},
   "outputs": [],
   "source": []
  }
 ],
 "metadata": {
  "kernelspec": {
   "display_name": "Python 3",
   "language": "python",
   "name": "python3"
  },
  "language_info": {
   "codemirror_mode": {
    "name": "ipython",
    "version": 3
   },
   "file_extension": ".py",
   "mimetype": "text/x-python",
   "name": "python",
   "nbconvert_exporter": "python",
   "pygments_lexer": "ipython3",
   "version": "3.7.8"
  }
 },
 "nbformat": 4,
 "nbformat_minor": 4
}
